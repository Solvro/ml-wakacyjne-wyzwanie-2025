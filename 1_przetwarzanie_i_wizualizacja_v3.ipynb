{
 "cells": [
  {
   "cell_type": "markdown",
   "id": "1078d9e1-da43-4628-b938-484e3fa373d4",
   "metadata": {},
   "source": [
    "<h1>Import bibliotek</h1>"
   ]
  },
  {
   "cell_type": "code",
   "execution_count": 215,
   "id": "f93702d8-b035-49c8-8838-8172cea36201",
   "metadata": {},
   "outputs": [],
   "source": [
    "import matplotlib.pyplot as plt\n",
    "import pandas as pd\n",
    "import numpy as np\n",
    "import seaborn as sns\n",
    "from pathlib import Path\n",
    "from sklearn.preprocessing import LabelEncoder"
   ]
  },
  {
   "cell_type": "markdown",
   "id": "922a44ab-187f-43ca-af32-ccd97ea3ac81",
   "metadata": {},
   "source": [
    "<h1>Wczytanie zbioru danych</h1>"
   ]
  },
  {
   "cell_type": "code",
   "execution_count": 216,
   "id": "e17ce876-9913-4502-8726-ca330373cf42",
   "metadata": {},
   "outputs": [
    {
     "data": {
      "text/html": [
       "<div>\n",
       "<style scoped>\n",
       "    .dataframe tbody tr th:only-of-type {\n",
       "        vertical-align: middle;\n",
       "    }\n",
       "\n",
       "    .dataframe tbody tr th {\n",
       "        vertical-align: top;\n",
       "    }\n",
       "\n",
       "    .dataframe thead th {\n",
       "        text-align: right;\n",
       "    }\n",
       "</style>\n",
       "<table border=\"1\" class=\"dataframe\">\n",
       "  <thead>\n",
       "    <tr style=\"text-align: right;\">\n",
       "      <th></th>\n",
       "      <th>Survived</th>\n",
       "      <th>Pclass</th>\n",
       "      <th>Name</th>\n",
       "      <th>Age</th>\n",
       "      <th>SibSp</th>\n",
       "      <th>Parch</th>\n",
       "      <th>Ticket</th>\n",
       "      <th>Fare</th>\n",
       "      <th>Cabin</th>\n",
       "      <th>Embarked</th>\n",
       "      <th>Sex</th>\n",
       "    </tr>\n",
       "    <tr>\n",
       "      <th>PassengerId</th>\n",
       "      <th></th>\n",
       "      <th></th>\n",
       "      <th></th>\n",
       "      <th></th>\n",
       "      <th></th>\n",
       "      <th></th>\n",
       "      <th></th>\n",
       "      <th></th>\n",
       "      <th></th>\n",
       "      <th></th>\n",
       "      <th></th>\n",
       "    </tr>\n",
       "  </thead>\n",
       "  <tbody>\n",
       "    <tr>\n",
       "      <th>1</th>\n",
       "      <td>0</td>\n",
       "      <td>3</td>\n",
       "      <td>Braund, Mr. Owen Harris</td>\n",
       "      <td>22.0</td>\n",
       "      <td>1</td>\n",
       "      <td>0</td>\n",
       "      <td>A/5 21171</td>\n",
       "      <td>7.2500</td>\n",
       "      <td>NaN</td>\n",
       "      <td>S</td>\n",
       "      <td>male</td>\n",
       "    </tr>\n",
       "    <tr>\n",
       "      <th>2</th>\n",
       "      <td>1</td>\n",
       "      <td>1</td>\n",
       "      <td>Cumings, Mrs. John Bradley (Florence Briggs Th...</td>\n",
       "      <td>38.0</td>\n",
       "      <td>1</td>\n",
       "      <td>0</td>\n",
       "      <td>PC 17599</td>\n",
       "      <td>71.2833</td>\n",
       "      <td>C85</td>\n",
       "      <td>C</td>\n",
       "      <td>female</td>\n",
       "    </tr>\n",
       "    <tr>\n",
       "      <th>3</th>\n",
       "      <td>1</td>\n",
       "      <td>3</td>\n",
       "      <td>Heikkinen, Miss. Laina</td>\n",
       "      <td>26.0</td>\n",
       "      <td>0</td>\n",
       "      <td>0</td>\n",
       "      <td>STON/O2. 3101282</td>\n",
       "      <td>7.9250</td>\n",
       "      <td>NaN</td>\n",
       "      <td>S</td>\n",
       "      <td>female</td>\n",
       "    </tr>\n",
       "    <tr>\n",
       "      <th>4</th>\n",
       "      <td>1</td>\n",
       "      <td>1</td>\n",
       "      <td>Futrelle, Mrs. Jacques Heath (Lily May Peel)</td>\n",
       "      <td>35.0</td>\n",
       "      <td>1</td>\n",
       "      <td>0</td>\n",
       "      <td>113803</td>\n",
       "      <td>53.1000</td>\n",
       "      <td>C123</td>\n",
       "      <td>S</td>\n",
       "      <td>female</td>\n",
       "    </tr>\n",
       "    <tr>\n",
       "      <th>5</th>\n",
       "      <td>0</td>\n",
       "      <td>3</td>\n",
       "      <td>Allen, Mr. William Henry</td>\n",
       "      <td>35.0</td>\n",
       "      <td>0</td>\n",
       "      <td>0</td>\n",
       "      <td>373450</td>\n",
       "      <td>8.0500</td>\n",
       "      <td>NaN</td>\n",
       "      <td>S</td>\n",
       "      <td>male</td>\n",
       "    </tr>\n",
       "  </tbody>\n",
       "</table>\n",
       "</div>"
      ],
      "text/plain": [
       "             Survived  Pclass  \\\n",
       "PassengerId                     \n",
       "1                   0       3   \n",
       "2                   1       1   \n",
       "3                   1       3   \n",
       "4                   1       1   \n",
       "5                   0       3   \n",
       "\n",
       "                                                          Name   Age  SibSp  \\\n",
       "PassengerId                                                                   \n",
       "1                                      Braund, Mr. Owen Harris  22.0      1   \n",
       "2            Cumings, Mrs. John Bradley (Florence Briggs Th...  38.0      1   \n",
       "3                                       Heikkinen, Miss. Laina  26.0      0   \n",
       "4                 Futrelle, Mrs. Jacques Heath (Lily May Peel)  35.0      1   \n",
       "5                                     Allen, Mr. William Henry  35.0      0   \n",
       "\n",
       "             Parch            Ticket     Fare Cabin Embarked     Sex  \n",
       "PassengerId                                                           \n",
       "1                0         A/5 21171   7.2500   NaN        S    male  \n",
       "2                0          PC 17599  71.2833   C85        C  female  \n",
       "3                0  STON/O2. 3101282   7.9250   NaN        S  female  \n",
       "4                0            113803  53.1000  C123        S  female  \n",
       "5                0            373450   8.0500   NaN        S    male  "
      ]
     },
     "execution_count": 216,
     "metadata": {},
     "output_type": "execute_result"
    }
   ],
   "source": [
    "titanic = pd.read_csv(\"titanic.csv\", index_col='PassengerId')\n",
    "titanic.head()"
   ]
  },
  {
   "cell_type": "markdown",
   "id": "75145ed5-10a9-4849-8983-7ed2fb1b2f30",
   "metadata": {},
   "source": [
    "<h1>Oczyszczanie zbioru</h1>"
   ]
  },
  {
   "cell_type": "code",
   "execution_count": 217,
   "id": "23f985a9-5de1-409c-8c2d-55f80d0be613",
   "metadata": {},
   "outputs": [
    {
     "name": "stdout",
     "output_type": "stream",
     "text": [
      "<class 'pandas.core.frame.DataFrame'>\n",
      "Index: 891 entries, 1 to 891\n",
      "Data columns (total 11 columns):\n",
      " #   Column    Non-Null Count  Dtype  \n",
      "---  ------    --------------  -----  \n",
      " 0   Survived  891 non-null    int64  \n",
      " 1   Pclass    891 non-null    int64  \n",
      " 2   Name      891 non-null    object \n",
      " 3   Age       714 non-null    float64\n",
      " 4   SibSp     891 non-null    int64  \n",
      " 5   Parch     891 non-null    int64  \n",
      " 6   Ticket    891 non-null    object \n",
      " 7   Fare      891 non-null    float64\n",
      " 8   Cabin     204 non-null    object \n",
      " 9   Embarked  889 non-null    object \n",
      " 10  Sex       891 non-null    object \n",
      "dtypes: float64(2), int64(4), object(5)\n",
      "memory usage: 83.5+ KB\n"
     ]
    }
   ],
   "source": [
    "titanic.info()"
   ]
  },
  {
   "cell_type": "markdown",
   "id": "383ee1a2-ff59-43b1-b5cb-b7ebee348cd3",
   "metadata": {},
   "source": [
    "Kolumna, która zostanie usunięta to 'Ticket', ponieważ nie jest istotna w kontekście zadania."
   ]
  },
  {
   "cell_type": "code",
   "execution_count": 218,
   "id": "5a32c6eb-65bd-4b1a-88bf-a592bdc5d42d",
   "metadata": {},
   "outputs": [
    {
     "data": {
      "text/html": [
       "<div>\n",
       "<style scoped>\n",
       "    .dataframe tbody tr th:only-of-type {\n",
       "        vertical-align: middle;\n",
       "    }\n",
       "\n",
       "    .dataframe tbody tr th {\n",
       "        vertical-align: top;\n",
       "    }\n",
       "\n",
       "    .dataframe thead th {\n",
       "        text-align: right;\n",
       "    }\n",
       "</style>\n",
       "<table border=\"1\" class=\"dataframe\">\n",
       "  <thead>\n",
       "    <tr style=\"text-align: right;\">\n",
       "      <th></th>\n",
       "      <th>Survived</th>\n",
       "      <th>Pclass</th>\n",
       "      <th>Name</th>\n",
       "      <th>Age</th>\n",
       "      <th>SibSp</th>\n",
       "      <th>Parch</th>\n",
       "      <th>Fare</th>\n",
       "      <th>Cabin</th>\n",
       "      <th>Embarked</th>\n",
       "      <th>Sex</th>\n",
       "    </tr>\n",
       "    <tr>\n",
       "      <th>PassengerId</th>\n",
       "      <th></th>\n",
       "      <th></th>\n",
       "      <th></th>\n",
       "      <th></th>\n",
       "      <th></th>\n",
       "      <th></th>\n",
       "      <th></th>\n",
       "      <th></th>\n",
       "      <th></th>\n",
       "      <th></th>\n",
       "    </tr>\n",
       "  </thead>\n",
       "  <tbody>\n",
       "    <tr>\n",
       "      <th>1</th>\n",
       "      <td>0</td>\n",
       "      <td>3</td>\n",
       "      <td>Braund, Mr. Owen Harris</td>\n",
       "      <td>22.0</td>\n",
       "      <td>1</td>\n",
       "      <td>0</td>\n",
       "      <td>7.2500</td>\n",
       "      <td>NaN</td>\n",
       "      <td>S</td>\n",
       "      <td>male</td>\n",
       "    </tr>\n",
       "    <tr>\n",
       "      <th>2</th>\n",
       "      <td>1</td>\n",
       "      <td>1</td>\n",
       "      <td>Cumings, Mrs. John Bradley (Florence Briggs Th...</td>\n",
       "      <td>38.0</td>\n",
       "      <td>1</td>\n",
       "      <td>0</td>\n",
       "      <td>71.2833</td>\n",
       "      <td>C85</td>\n",
       "      <td>C</td>\n",
       "      <td>female</td>\n",
       "    </tr>\n",
       "    <tr>\n",
       "      <th>3</th>\n",
       "      <td>1</td>\n",
       "      <td>3</td>\n",
       "      <td>Heikkinen, Miss. Laina</td>\n",
       "      <td>26.0</td>\n",
       "      <td>0</td>\n",
       "      <td>0</td>\n",
       "      <td>7.9250</td>\n",
       "      <td>NaN</td>\n",
       "      <td>S</td>\n",
       "      <td>female</td>\n",
       "    </tr>\n",
       "    <tr>\n",
       "      <th>4</th>\n",
       "      <td>1</td>\n",
       "      <td>1</td>\n",
       "      <td>Futrelle, Mrs. Jacques Heath (Lily May Peel)</td>\n",
       "      <td>35.0</td>\n",
       "      <td>1</td>\n",
       "      <td>0</td>\n",
       "      <td>53.1000</td>\n",
       "      <td>C123</td>\n",
       "      <td>S</td>\n",
       "      <td>female</td>\n",
       "    </tr>\n",
       "    <tr>\n",
       "      <th>5</th>\n",
       "      <td>0</td>\n",
       "      <td>3</td>\n",
       "      <td>Allen, Mr. William Henry</td>\n",
       "      <td>35.0</td>\n",
       "      <td>0</td>\n",
       "      <td>0</td>\n",
       "      <td>8.0500</td>\n",
       "      <td>NaN</td>\n",
       "      <td>S</td>\n",
       "      <td>male</td>\n",
       "    </tr>\n",
       "  </tbody>\n",
       "</table>\n",
       "</div>"
      ],
      "text/plain": [
       "             Survived  Pclass  \\\n",
       "PassengerId                     \n",
       "1                   0       3   \n",
       "2                   1       1   \n",
       "3                   1       3   \n",
       "4                   1       1   \n",
       "5                   0       3   \n",
       "\n",
       "                                                          Name   Age  SibSp  \\\n",
       "PassengerId                                                                   \n",
       "1                                      Braund, Mr. Owen Harris  22.0      1   \n",
       "2            Cumings, Mrs. John Bradley (Florence Briggs Th...  38.0      1   \n",
       "3                                       Heikkinen, Miss. Laina  26.0      0   \n",
       "4                 Futrelle, Mrs. Jacques Heath (Lily May Peel)  35.0      1   \n",
       "5                                     Allen, Mr. William Henry  35.0      0   \n",
       "\n",
       "             Parch     Fare Cabin Embarked     Sex  \n",
       "PassengerId                                         \n",
       "1                0   7.2500   NaN        S    male  \n",
       "2                0  71.2833   C85        C  female  \n",
       "3                0   7.9250   NaN        S  female  \n",
       "4                0  53.1000  C123        S  female  \n",
       "5                0   8.0500   NaN        S    male  "
      ]
     },
     "execution_count": 218,
     "metadata": {},
     "output_type": "execute_result"
    }
   ],
   "source": [
    "titanic = titanic.drop(['Ticket'], axis=1)\n",
    "titanic.head()"
   ]
  },
  {
   "cell_type": "markdown",
   "id": "429acf01-2231-4b16-ada8-929a471362e4",
   "metadata": {},
   "source": [
    "Usunięcię wierszy z brakami spowoduje przez kolumnę 'Cabin' utratę bardzo dużej ilości danych, a w przypadku próby wypełnienia jej uzyskamy właściwie kolumnę syntetycznych danych co nie będzie nam przydatne. Utworzymy dodatkową klasę na wartości NaN, pozostałe wartości zmienimy na same litery oznaczające pokłady. Najpierw jeszcze sprawdzimy jakie wartości przyjmują oznaczenia pokładów, żeby oznaczenie nowej klasy się z nimi nie pokryło."
   ]
  },
  {
   "cell_type": "code",
   "execution_count": 219,
   "id": "f3f21b86-2008-4809-9c09-0b82545d7b8e",
   "metadata": {},
   "outputs": [
    {
     "data": {
      "text/plain": [
       "array(['C', 'E', 'G', 'D', 'A', 'B', 'F', 'T'], dtype=object)"
      ]
     },
     "execution_count": 219,
     "metadata": {},
     "output_type": "execute_result"
    }
   ],
   "source": [
    "cabs = titanic['Cabin'].notna()\n",
    "notna = titanic.loc[cabs, 'Cabin']\n",
    "notna = notna.apply(lambda x: x[0])\n",
    "notna.unique()"
   ]
  },
  {
   "cell_type": "markdown",
   "id": "13362268-e676-464d-8e38-2dab638af9a8",
   "metadata": {},
   "source": [
    "Możemy użyć 'N' jako oznaczenie nowej klasy."
   ]
  },
  {
   "cell_type": "code",
   "execution_count": 220,
   "id": "4114f492-123b-4f15-a485-7d2ef6d63ca3",
   "metadata": {},
   "outputs": [
    {
     "data": {
      "text/html": [
       "<div>\n",
       "<style scoped>\n",
       "    .dataframe tbody tr th:only-of-type {\n",
       "        vertical-align: middle;\n",
       "    }\n",
       "\n",
       "    .dataframe tbody tr th {\n",
       "        vertical-align: top;\n",
       "    }\n",
       "\n",
       "    .dataframe thead th {\n",
       "        text-align: right;\n",
       "    }\n",
       "</style>\n",
       "<table border=\"1\" class=\"dataframe\">\n",
       "  <thead>\n",
       "    <tr style=\"text-align: right;\">\n",
       "      <th></th>\n",
       "      <th>Survived</th>\n",
       "      <th>Pclass</th>\n",
       "      <th>Name</th>\n",
       "      <th>Age</th>\n",
       "      <th>SibSp</th>\n",
       "      <th>Parch</th>\n",
       "      <th>Fare</th>\n",
       "      <th>Cabin</th>\n",
       "      <th>Embarked</th>\n",
       "      <th>Sex</th>\n",
       "    </tr>\n",
       "    <tr>\n",
       "      <th>PassengerId</th>\n",
       "      <th></th>\n",
       "      <th></th>\n",
       "      <th></th>\n",
       "      <th></th>\n",
       "      <th></th>\n",
       "      <th></th>\n",
       "      <th></th>\n",
       "      <th></th>\n",
       "      <th></th>\n",
       "      <th></th>\n",
       "    </tr>\n",
       "  </thead>\n",
       "  <tbody>\n",
       "    <tr>\n",
       "      <th>1</th>\n",
       "      <td>0</td>\n",
       "      <td>3</td>\n",
       "      <td>Braund, Mr. Owen Harris</td>\n",
       "      <td>22.0</td>\n",
       "      <td>1</td>\n",
       "      <td>0</td>\n",
       "      <td>7.2500</td>\n",
       "      <td>N</td>\n",
       "      <td>S</td>\n",
       "      <td>male</td>\n",
       "    </tr>\n",
       "    <tr>\n",
       "      <th>2</th>\n",
       "      <td>1</td>\n",
       "      <td>1</td>\n",
       "      <td>Cumings, Mrs. John Bradley (Florence Briggs Th...</td>\n",
       "      <td>38.0</td>\n",
       "      <td>1</td>\n",
       "      <td>0</td>\n",
       "      <td>71.2833</td>\n",
       "      <td>C</td>\n",
       "      <td>C</td>\n",
       "      <td>female</td>\n",
       "    </tr>\n",
       "    <tr>\n",
       "      <th>3</th>\n",
       "      <td>1</td>\n",
       "      <td>3</td>\n",
       "      <td>Heikkinen, Miss. Laina</td>\n",
       "      <td>26.0</td>\n",
       "      <td>0</td>\n",
       "      <td>0</td>\n",
       "      <td>7.9250</td>\n",
       "      <td>N</td>\n",
       "      <td>S</td>\n",
       "      <td>female</td>\n",
       "    </tr>\n",
       "    <tr>\n",
       "      <th>4</th>\n",
       "      <td>1</td>\n",
       "      <td>1</td>\n",
       "      <td>Futrelle, Mrs. Jacques Heath (Lily May Peel)</td>\n",
       "      <td>35.0</td>\n",
       "      <td>1</td>\n",
       "      <td>0</td>\n",
       "      <td>53.1000</td>\n",
       "      <td>C</td>\n",
       "      <td>S</td>\n",
       "      <td>female</td>\n",
       "    </tr>\n",
       "    <tr>\n",
       "      <th>5</th>\n",
       "      <td>0</td>\n",
       "      <td>3</td>\n",
       "      <td>Allen, Mr. William Henry</td>\n",
       "      <td>35.0</td>\n",
       "      <td>0</td>\n",
       "      <td>0</td>\n",
       "      <td>8.0500</td>\n",
       "      <td>N</td>\n",
       "      <td>S</td>\n",
       "      <td>male</td>\n",
       "    </tr>\n",
       "  </tbody>\n",
       "</table>\n",
       "</div>"
      ],
      "text/plain": [
       "             Survived  Pclass  \\\n",
       "PassengerId                     \n",
       "1                   0       3   \n",
       "2                   1       1   \n",
       "3                   1       3   \n",
       "4                   1       1   \n",
       "5                   0       3   \n",
       "\n",
       "                                                          Name   Age  SibSp  \\\n",
       "PassengerId                                                                   \n",
       "1                                      Braund, Mr. Owen Harris  22.0      1   \n",
       "2            Cumings, Mrs. John Bradley (Florence Briggs Th...  38.0      1   \n",
       "3                                       Heikkinen, Miss. Laina  26.0      0   \n",
       "4                 Futrelle, Mrs. Jacques Heath (Lily May Peel)  35.0      1   \n",
       "5                                     Allen, Mr. William Henry  35.0      0   \n",
       "\n",
       "             Parch     Fare Cabin Embarked     Sex  \n",
       "PassengerId                                         \n",
       "1                0   7.2500     N        S    male  \n",
       "2                0  71.2833     C        C  female  \n",
       "3                0   7.9250     N        S  female  \n",
       "4                0  53.1000     C        S  female  \n",
       "5                0   8.0500     N        S    male  "
      ]
     },
     "execution_count": 220,
     "metadata": {},
     "output_type": "execute_result"
    }
   ],
   "source": [
    "titanic.fillna({'Cabin':\"N\"}, inplace = True)\n",
    "titanic['Cabin'] = titanic['Cabin'].apply(lambda x: x[0])\n",
    "titanic.head()"
   ]
  },
  {
   "cell_type": "markdown",
   "id": "103980f2-6dc4-4e03-8d15-f5fbd5ff942a",
   "metadata": {},
   "source": [
    "Kolumna 'Embarked' zawiera tylko 2 brakujące wartości więc najlepiej będzie je wypełnić wartością występującą najczęściej."
   ]
  },
  {
   "cell_type": "code",
   "execution_count": 221,
   "id": "e1805c65-5fcb-458d-b524-f7f3852215a8",
   "metadata": {},
   "outputs": [],
   "source": [
    "x = titanic['Embarked'].mode()[0]\n",
    "dict = {'Embarked':x}\n",
    "titanic.fillna(dict, inplace = True)"
   ]
  },
  {
   "cell_type": "markdown",
   "id": "25e938f4-4e04-464a-8816-2ec0f922d4ab",
   "metadata": {},
   "source": [
    "Kolumna 'Age' zostanie uzupełniona za pomocą losowania wartości zgodnie z jej rozkładem. Sprawdzimy, jednak jeszcze czy rozkład nie różni się w zależności od innych cech: płci i klasy."
   ]
  },
  {
   "cell_type": "code",
   "execution_count": 222,
   "id": "d43552c0-0b73-41ce-aa00-ec04a42fec9d",
   "metadata": {},
   "outputs": [
    {
     "data": {
      "image/png": "[encoded data removed]",
      "text/plain": [
       "<Figure size 640x480 with 1 Axes>"
      ]
     },
     "metadata": {},
     "output_type": "display_data"
    },
    {
     "data": {
      "image/png": "[encoded data removed]",
      "text/plain": [
       "<Figure size 640x480 with 1 Axes>"
      ]
     },
     "metadata": {},
     "output_type": "display_data"
    },
    {
     "data": {
      "image/png": "[encoded data removed]",
      "text/plain": [
       "<Figure size 640x480 with 1 Axes>"
      ]
     },
     "metadata": {},
     "output_type": "display_data"
    },
    {
     "data": {
      "image/png": "[encoded data removed]",
      "text/plain": [
       "<Figure size 640x480 with 1 Axes>"
      ]
     },
     "metadata": {},
     "output_type": "display_data"
    },
    {
     "data": {
      "image/png": "[encoded data removed]",
      "text/plain": [
       "<Figure size 640x480 with 1 Axes>"
      ]
     },
     "metadata": {},
     "output_type": "display_data"
    },
    {
     "data": {
      "image/png": "[encoded data removed]",
      "text/plain": [
       "<Figure size 640x480 with 1 Axes>"
      ]
     },
     "metadata": {},
     "output_type": "display_data"
    }
   ],
   "source": [
    "for pclass, group in titanic.groupby('Pclass'):\n",
    "    for sex, sgroup in group.groupby('Sex'):\n",
    "        plt.hist(sgroup['Age'])\n",
    "        plt.title(f\"Sex: {sex}, Pclass: {pclass}\")\n",
    "        plt.xlabel('Age')\n",
    "        plt.show()"
   ]
  },
  {
   "cell_type": "markdown",
   "id": "bd5729b6-651f-47fe-bb3a-b2136ca22236",
   "metadata": {},
   "source": [
    "Ciekawe jest to, że widać większe różnice w wykresach dla tej samej płci niż tej samej klasy, więc oba te czynniki weźmiemy pod uwagę w uzupełnianiu braków.\n",
    "<br>Ciekawe jest to, że słupek w okolicy 10 na każdym wykresie jest dość niski - może to świadczyć o największych brakach warości dla właśnie tej grupy wiekowej."
   ]
  },
  {
   "cell_type": "code",
   "execution_count": 223,
   "id": "c3a627e8-0732-4c5a-a6db-a8254d180ddb",
   "metadata": {},
   "outputs": [],
   "source": [
    "for pclass, group in titanic.groupby('Pclass'):\n",
    "    for sex, sgroup in group.groupby('Sex'):\n",
    "        distribution = sgroup['Age'].value_counts(normalize=True)\n",
    "        values = distribution.index\n",
    "        probs = distribution.values\n",
    "        age_NaN = sgroup.Age.isna()\n",
    "        idx = sgroup.index[age_NaN]\n",
    "        titanic.loc[idx, 'Age'] = np.random.choice(values, size=age_NaN.sum(), p=probs)"
   ]
  },
  {
   "cell_type": "code",
   "execution_count": 224,
   "id": "3f2a492e-eecc-41bf-bf27-1fa3f502b9f7",
   "metadata": {},
   "outputs": [
    {
     "name": "stdout",
     "output_type": "stream",
     "text": [
      "<class 'pandas.core.frame.DataFrame'>\n",
      "Index: 891 entries, 1 to 891\n",
      "Data columns (total 10 columns):\n",
      " #   Column    Non-Null Count  Dtype  \n",
      "---  ------    --------------  -----  \n",
      " 0   Survived  891 non-null    int64  \n",
      " 1   Pclass    891 non-null    int64  \n",
      " 2   Name      891 non-null    object \n",
      " 3   Age       891 non-null    float64\n",
      " 4   SibSp     891 non-null    int64  \n",
      " 5   Parch     891 non-null    int64  \n",
      " 6   Fare      891 non-null    float64\n",
      " 7   Cabin     891 non-null    object \n",
      " 8   Embarked  891 non-null    object \n",
      " 9   Sex       891 non-null    object \n",
      "dtypes: float64(2), int64(4), object(4)\n",
      "memory usage: 108.9+ KB\n"
     ]
    }
   ],
   "source": [
    "titanic.info()"
   ]
  },
  {
   "cell_type": "markdown",
   "id": "b3fe43b5-e7e0-46c8-ab91-d50e7a2e5e05",
   "metadata": {},
   "source": [
    "Jak widać nie ma już żadnych brakujących wartości."
   ]
  },
  {
   "cell_type": "markdown",
   "id": "02465be3-278d-4d90-9fb2-9ccb86740835",
   "metadata": {},
   "source": [
    "Została nam jeszcze kolumna zawierająca imiona pasażerów, da się z niej wyciągnąć tytuły osób, które może mają wpływ na przeżywalność - bo same imiona na pewno nie mają."
   ]
  },
  {
   "cell_type": "code",
   "execution_count": 225,
   "id": "60e3a96a-d68e-4c8e-a644-dcc0ccb9e2f3",
   "metadata": {},
   "outputs": [
    {
     "data": {
      "text/html": [
       "<div>\n",
       "<style scoped>\n",
       "    .dataframe tbody tr th:only-of-type {\n",
       "        vertical-align: middle;\n",
       "    }\n",
       "\n",
       "    .dataframe tbody tr th {\n",
       "        vertical-align: top;\n",
       "    }\n",
       "\n",
       "    .dataframe thead th {\n",
       "        text-align: right;\n",
       "    }\n",
       "</style>\n",
       "<table border=\"1\" class=\"dataframe\">\n",
       "  <thead>\n",
       "    <tr style=\"text-align: right;\">\n",
       "      <th></th>\n",
       "      <th>Survived</th>\n",
       "      <th>Pclass</th>\n",
       "      <th>Name</th>\n",
       "      <th>Age</th>\n",
       "      <th>SibSp</th>\n",
       "      <th>Parch</th>\n",
       "      <th>Fare</th>\n",
       "      <th>Cabin</th>\n",
       "      <th>Embarked</th>\n",
       "      <th>Sex</th>\n",
       "    </tr>\n",
       "    <tr>\n",
       "      <th>PassengerId</th>\n",
       "      <th></th>\n",
       "      <th></th>\n",
       "      <th></th>\n",
       "      <th></th>\n",
       "      <th></th>\n",
       "      <th></th>\n",
       "      <th></th>\n",
       "      <th></th>\n",
       "      <th></th>\n",
       "      <th></th>\n",
       "    </tr>\n",
       "  </thead>\n",
       "  <tbody>\n",
       "    <tr>\n",
       "      <th>1</th>\n",
       "      <td>0</td>\n",
       "      <td>3</td>\n",
       "      <td>Mr. Owen Harris</td>\n",
       "      <td>22.0</td>\n",
       "      <td>1</td>\n",
       "      <td>0</td>\n",
       "      <td>7.2500</td>\n",
       "      <td>N</td>\n",
       "      <td>S</td>\n",
       "      <td>male</td>\n",
       "    </tr>\n",
       "    <tr>\n",
       "      <th>2</th>\n",
       "      <td>1</td>\n",
       "      <td>1</td>\n",
       "      <td>Mrs. John Bradley (Florence Briggs Thayer)</td>\n",
       "      <td>38.0</td>\n",
       "      <td>1</td>\n",
       "      <td>0</td>\n",
       "      <td>71.2833</td>\n",
       "      <td>C</td>\n",
       "      <td>C</td>\n",
       "      <td>female</td>\n",
       "    </tr>\n",
       "    <tr>\n",
       "      <th>3</th>\n",
       "      <td>1</td>\n",
       "      <td>3</td>\n",
       "      <td>Miss. Laina</td>\n",
       "      <td>26.0</td>\n",
       "      <td>0</td>\n",
       "      <td>0</td>\n",
       "      <td>7.9250</td>\n",
       "      <td>N</td>\n",
       "      <td>S</td>\n",
       "      <td>female</td>\n",
       "    </tr>\n",
       "    <tr>\n",
       "      <th>4</th>\n",
       "      <td>1</td>\n",
       "      <td>1</td>\n",
       "      <td>Mrs. Jacques Heath (Lily May Peel)</td>\n",
       "      <td>35.0</td>\n",
       "      <td>1</td>\n",
       "      <td>0</td>\n",
       "      <td>53.1000</td>\n",
       "      <td>C</td>\n",
       "      <td>S</td>\n",
       "      <td>female</td>\n",
       "    </tr>\n",
       "    <tr>\n",
       "      <th>5</th>\n",
       "      <td>0</td>\n",
       "      <td>3</td>\n",
       "      <td>Mr. William Henry</td>\n",
       "      <td>35.0</td>\n",
       "      <td>0</td>\n",
       "      <td>0</td>\n",
       "      <td>8.0500</td>\n",
       "      <td>N</td>\n",
       "      <td>S</td>\n",
       "      <td>male</td>\n",
       "    </tr>\n",
       "  </tbody>\n",
       "</table>\n",
       "</div>"
      ],
      "text/plain": [
       "             Survived  Pclass                                         Name  \\\n",
       "PassengerId                                                                  \n",
       "1                   0       3                              Mr. Owen Harris   \n",
       "2                   1       1   Mrs. John Bradley (Florence Briggs Thayer)   \n",
       "3                   1       3                                  Miss. Laina   \n",
       "4                   1       1           Mrs. Jacques Heath (Lily May Peel)   \n",
       "5                   0       3                            Mr. William Henry   \n",
       "\n",
       "              Age  SibSp  Parch     Fare Cabin Embarked     Sex  \n",
       "PassengerId                                                      \n",
       "1            22.0      1      0   7.2500     N        S    male  \n",
       "2            38.0      1      0  71.2833     C        C  female  \n",
       "3            26.0      0      0   7.9250     N        S  female  \n",
       "4            35.0      1      0  53.1000     C        S  female  \n",
       "5            35.0      0      0   8.0500     N        S    male  "
      ]
     },
     "execution_count": 225,
     "metadata": {},
     "output_type": "execute_result"
    }
   ],
   "source": [
    "titanic['Name'] = titanic['Name'].apply(lambda x: x.split(\",\")[1])\n",
    "titanic.head()"
   ]
  },
  {
   "cell_type": "code",
   "execution_count": 226,
   "id": "180d74b0-de60-4d30-84d6-42bf74acd5cd",
   "metadata": {},
   "outputs": [
    {
     "data": {
      "text/html": [
       "<div>\n",
       "<style scoped>\n",
       "    .dataframe tbody tr th:only-of-type {\n",
       "        vertical-align: middle;\n",
       "    }\n",
       "\n",
       "    .dataframe tbody tr th {\n",
       "        vertical-align: top;\n",
       "    }\n",
       "\n",
       "    .dataframe thead th {\n",
       "        text-align: right;\n",
       "    }\n",
       "</style>\n",
       "<table border=\"1\" class=\"dataframe\">\n",
       "  <thead>\n",
       "    <tr style=\"text-align: right;\">\n",
       "      <th></th>\n",
       "      <th>Survived</th>\n",
       "      <th>Pclass</th>\n",
       "      <th>Name</th>\n",
       "      <th>Age</th>\n",
       "      <th>SibSp</th>\n",
       "      <th>Parch</th>\n",
       "      <th>Fare</th>\n",
       "      <th>Cabin</th>\n",
       "      <th>Embarked</th>\n",
       "      <th>Sex</th>\n",
       "    </tr>\n",
       "    <tr>\n",
       "      <th>PassengerId</th>\n",
       "      <th></th>\n",
       "      <th></th>\n",
       "      <th></th>\n",
       "      <th></th>\n",
       "      <th></th>\n",
       "      <th></th>\n",
       "      <th></th>\n",
       "      <th></th>\n",
       "      <th></th>\n",
       "      <th></th>\n",
       "    </tr>\n",
       "  </thead>\n",
       "  <tbody>\n",
       "    <tr>\n",
       "      <th>1</th>\n",
       "      <td>0</td>\n",
       "      <td>3</td>\n",
       "      <td>Mr.</td>\n",
       "      <td>22.0</td>\n",
       "      <td>1</td>\n",
       "      <td>0</td>\n",
       "      <td>7.2500</td>\n",
       "      <td>N</td>\n",
       "      <td>S</td>\n",
       "      <td>male</td>\n",
       "    </tr>\n",
       "    <tr>\n",
       "      <th>2</th>\n",
       "      <td>1</td>\n",
       "      <td>1</td>\n",
       "      <td>Mrs.</td>\n",
       "      <td>38.0</td>\n",
       "      <td>1</td>\n",
       "      <td>0</td>\n",
       "      <td>71.2833</td>\n",
       "      <td>C</td>\n",
       "      <td>C</td>\n",
       "      <td>female</td>\n",
       "    </tr>\n",
       "    <tr>\n",
       "      <th>3</th>\n",
       "      <td>1</td>\n",
       "      <td>3</td>\n",
       "      <td>Miss.</td>\n",
       "      <td>26.0</td>\n",
       "      <td>0</td>\n",
       "      <td>0</td>\n",
       "      <td>7.9250</td>\n",
       "      <td>N</td>\n",
       "      <td>S</td>\n",
       "      <td>female</td>\n",
       "    </tr>\n",
       "    <tr>\n",
       "      <th>4</th>\n",
       "      <td>1</td>\n",
       "      <td>1</td>\n",
       "      <td>Mrs.</td>\n",
       "      <td>35.0</td>\n",
       "      <td>1</td>\n",
       "      <td>0</td>\n",
       "      <td>53.1000</td>\n",
       "      <td>C</td>\n",
       "      <td>S</td>\n",
       "      <td>female</td>\n",
       "    </tr>\n",
       "    <tr>\n",
       "      <th>5</th>\n",
       "      <td>0</td>\n",
       "      <td>3</td>\n",
       "      <td>Mr.</td>\n",
       "      <td>35.0</td>\n",
       "      <td>0</td>\n",
       "      <td>0</td>\n",
       "      <td>8.0500</td>\n",
       "      <td>N</td>\n",
       "      <td>S</td>\n",
       "      <td>male</td>\n",
       "    </tr>\n",
       "  </tbody>\n",
       "</table>\n",
       "</div>"
      ],
      "text/plain": [
       "             Survived  Pclass   Name   Age  SibSp  Parch     Fare Cabin  \\\n",
       "PassengerId                                                               \n",
       "1                   0       3    Mr.  22.0      1      0   7.2500     N   \n",
       "2                   1       1   Mrs.  38.0      1      0  71.2833     C   \n",
       "3                   1       3  Miss.  26.0      0      0   7.9250     N   \n",
       "4                   1       1   Mrs.  35.0      1      0  53.1000     C   \n",
       "5                   0       3    Mr.  35.0      0      0   8.0500     N   \n",
       "\n",
       "            Embarked     Sex  \n",
       "PassengerId                   \n",
       "1                  S    male  \n",
       "2                  C  female  \n",
       "3                  S  female  \n",
       "4                  S  female  \n",
       "5                  S    male  "
      ]
     },
     "execution_count": 226,
     "metadata": {},
     "output_type": "execute_result"
    }
   ],
   "source": [
    "titanic['Name'] = titanic['Name'].apply(lambda x: x.split(\" \")[1])\n",
    "titanic.head()"
   ]
  },
  {
   "cell_type": "code",
   "execution_count": 227,
   "id": "06bb3615-04a4-420a-80a6-6608f8919aa0",
   "metadata": {},
   "outputs": [
    {
     "data": {
      "text/plain": [
       "Name\n",
       "Mr          517\n",
       "Miss        182\n",
       "Mrs         125\n",
       "Master       40\n",
       "Dr            7\n",
       "Rev           6\n",
       "Col           2\n",
       "Mlle          2\n",
       "Major         2\n",
       "Ms            1\n",
       "Mme           1\n",
       "Don           1\n",
       "Lady          1\n",
       "Sir           1\n",
       "Capt          1\n",
       "th            1\n",
       "Jonkheer      1\n",
       "Name: count, dtype: int64"
      ]
     },
     "execution_count": 227,
     "metadata": {},
     "output_type": "execute_result"
    }
   ],
   "source": [
    "titanic['Name'] = titanic['Name'].apply(lambda x: x[:-1])\n",
    "titanic['Name'].value_counts()"
   ]
  },
  {
   "cell_type": "markdown",
   "id": "2ab4af26-13b0-4ec8-91ae-aa5fda82cedd",
   "metadata": {},
   "source": [
    "Wiele tytułów występuje tylko w pojedynczych przypadkach - zamienimy je na łączoną wartość \"other\". Progiem będzie 30 wystąpień."
   ]
  },
  {
   "cell_type": "code",
   "execution_count": 228,
   "id": "0b368ff9-e48e-41f5-a902-bae529cc9a2c",
   "metadata": {},
   "outputs": [
    {
     "data": {
      "text/html": [
       "<div>\n",
       "<style scoped>\n",
       "    .dataframe tbody tr th:only-of-type {\n",
       "        vertical-align: middle;\n",
       "    }\n",
       "\n",
       "    .dataframe tbody tr th {\n",
       "        vertical-align: top;\n",
       "    }\n",
       "\n",
       "    .dataframe thead th {\n",
       "        text-align: right;\n",
       "    }\n",
       "</style>\n",
       "<table border=\"1\" class=\"dataframe\">\n",
       "  <thead>\n",
       "    <tr style=\"text-align: right;\">\n",
       "      <th></th>\n",
       "      <th>Survived</th>\n",
       "      <th>Pclass</th>\n",
       "      <th>Name</th>\n",
       "      <th>Age</th>\n",
       "      <th>SibSp</th>\n",
       "      <th>Parch</th>\n",
       "      <th>Fare</th>\n",
       "      <th>Cabin</th>\n",
       "      <th>Embarked</th>\n",
       "      <th>Sex</th>\n",
       "    </tr>\n",
       "    <tr>\n",
       "      <th>PassengerId</th>\n",
       "      <th></th>\n",
       "      <th></th>\n",
       "      <th></th>\n",
       "      <th></th>\n",
       "      <th></th>\n",
       "      <th></th>\n",
       "      <th></th>\n",
       "      <th></th>\n",
       "      <th></th>\n",
       "      <th></th>\n",
       "    </tr>\n",
       "  </thead>\n",
       "  <tbody>\n",
       "    <tr>\n",
       "      <th>1</th>\n",
       "      <td>0</td>\n",
       "      <td>3</td>\n",
       "      <td>Mr</td>\n",
       "      <td>22.0</td>\n",
       "      <td>1</td>\n",
       "      <td>0</td>\n",
       "      <td>7.2500</td>\n",
       "      <td>N</td>\n",
       "      <td>S</td>\n",
       "      <td>male</td>\n",
       "    </tr>\n",
       "    <tr>\n",
       "      <th>2</th>\n",
       "      <td>1</td>\n",
       "      <td>1</td>\n",
       "      <td>Mrs</td>\n",
       "      <td>38.0</td>\n",
       "      <td>1</td>\n",
       "      <td>0</td>\n",
       "      <td>71.2833</td>\n",
       "      <td>C</td>\n",
       "      <td>C</td>\n",
       "      <td>female</td>\n",
       "    </tr>\n",
       "    <tr>\n",
       "      <th>3</th>\n",
       "      <td>1</td>\n",
       "      <td>3</td>\n",
       "      <td>Miss</td>\n",
       "      <td>26.0</td>\n",
       "      <td>0</td>\n",
       "      <td>0</td>\n",
       "      <td>7.9250</td>\n",
       "      <td>N</td>\n",
       "      <td>S</td>\n",
       "      <td>female</td>\n",
       "    </tr>\n",
       "    <tr>\n",
       "      <th>4</th>\n",
       "      <td>1</td>\n",
       "      <td>1</td>\n",
       "      <td>Mrs</td>\n",
       "      <td>35.0</td>\n",
       "      <td>1</td>\n",
       "      <td>0</td>\n",
       "      <td>53.1000</td>\n",
       "      <td>C</td>\n",
       "      <td>S</td>\n",
       "      <td>female</td>\n",
       "    </tr>\n",
       "    <tr>\n",
       "      <th>5</th>\n",
       "      <td>0</td>\n",
       "      <td>3</td>\n",
       "      <td>Mr</td>\n",
       "      <td>35.0</td>\n",
       "      <td>0</td>\n",
       "      <td>0</td>\n",
       "      <td>8.0500</td>\n",
       "      <td>N</td>\n",
       "      <td>S</td>\n",
       "      <td>male</td>\n",
       "    </tr>\n",
       "  </tbody>\n",
       "</table>\n",
       "</div>"
      ],
      "text/plain": [
       "             Survived  Pclass  Name   Age  SibSp  Parch     Fare Cabin  \\\n",
       "PassengerId                                                              \n",
       "1                   0       3    Mr  22.0      1      0   7.2500     N   \n",
       "2                   1       1   Mrs  38.0      1      0  71.2833     C   \n",
       "3                   1       3  Miss  26.0      0      0   7.9250     N   \n",
       "4                   1       1   Mrs  35.0      1      0  53.1000     C   \n",
       "5                   0       3    Mr  35.0      0      0   8.0500     N   \n",
       "\n",
       "            Embarked     Sex  \n",
       "PassengerId                   \n",
       "1                  S    male  \n",
       "2                  C  female  \n",
       "3                  S  female  \n",
       "4                  S  female  \n",
       "5                  S    male  "
      ]
     },
     "execution_count": 228,
     "metadata": {},
     "output_type": "execute_result"
    }
   ],
   "source": [
    "titanic['Name'] = titanic['Name'].apply(lambda x: x if titanic['Name'].value_counts().get(x, 0)>30 else 'Other')\n",
    "titanic.head()"
   ]
  },
  {
   "cell_type": "code",
   "execution_count": 229,
   "id": "06437511-5d0b-4814-8c00-80760051bfec",
   "metadata": {},
   "outputs": [
    {
     "data": {
      "text/plain": [
       "Name\n",
       "Mr        517\n",
       "Miss      182\n",
       "Mrs       125\n",
       "Master     40\n",
       "Other      27\n",
       "Name: count, dtype: int64"
      ]
     },
     "execution_count": 229,
     "metadata": {},
     "output_type": "execute_result"
    }
   ],
   "source": [
    "titanic['Name'].value_counts()"
   ]
  },
  {
   "cell_type": "markdown",
   "id": "82d9e38e-34c2-4ca0-b175-b88080d043ec",
   "metadata": {},
   "source": [
    "Yippe"
   ]
  },
  {
   "cell_type": "markdown",
   "id": "936e1a7d-c4d6-4cd9-8e21-1b3192ff1ebe",
   "metadata": {},
   "source": [
    "<h1>Wstawienie dodatkowych kolumn</h1>"
   ]
  },
  {
   "cell_type": "markdown",
   "id": "f98d0465-2dfa-488d-9a2b-621b21a3abe8",
   "metadata": {},
   "source": [
    "Informacją, która może okazać się przydatna jest liczba wszystkich członków rodziny (rodzeństwa, małżonków, rodziców i dzieci) na pokładzie razem."
   ]
  },
  {
   "cell_type": "code",
   "execution_count": 230,
   "id": "29fe353f-36f5-4601-9c3f-7e18f42aa86c",
   "metadata": {},
   "outputs": [
    {
     "data": {
      "text/html": [
       "<div>\n",
       "<style scoped>\n",
       "    .dataframe tbody tr th:only-of-type {\n",
       "        vertical-align: middle;\n",
       "    }\n",
       "\n",
       "    .dataframe tbody tr th {\n",
       "        vertical-align: top;\n",
       "    }\n",
       "\n",
       "    .dataframe thead th {\n",
       "        text-align: right;\n",
       "    }\n",
       "</style>\n",
       "<table border=\"1\" class=\"dataframe\">\n",
       "  <thead>\n",
       "    <tr style=\"text-align: right;\">\n",
       "      <th></th>\n",
       "      <th>Survived</th>\n",
       "      <th>Pclass</th>\n",
       "      <th>Name</th>\n",
       "      <th>Age</th>\n",
       "      <th>SibSp</th>\n",
       "      <th>Parch</th>\n",
       "      <th>Fare</th>\n",
       "      <th>Cabin</th>\n",
       "      <th>Embarked</th>\n",
       "      <th>Sex</th>\n",
       "      <th>FamilyMembers</th>\n",
       "    </tr>\n",
       "    <tr>\n",
       "      <th>PassengerId</th>\n",
       "      <th></th>\n",
       "      <th></th>\n",
       "      <th></th>\n",
       "      <th></th>\n",
       "      <th></th>\n",
       "      <th></th>\n",
       "      <th></th>\n",
       "      <th></th>\n",
       "      <th></th>\n",
       "      <th></th>\n",
       "      <th></th>\n",
       "    </tr>\n",
       "  </thead>\n",
       "  <tbody>\n",
       "    <tr>\n",
       "      <th>1</th>\n",
       "      <td>0</td>\n",
       "      <td>3</td>\n",
       "      <td>Mr</td>\n",
       "      <td>22.0</td>\n",
       "      <td>1</td>\n",
       "      <td>0</td>\n",
       "      <td>7.2500</td>\n",
       "      <td>N</td>\n",
       "      <td>S</td>\n",
       "      <td>male</td>\n",
       "      <td>1</td>\n",
       "    </tr>\n",
       "    <tr>\n",
       "      <th>2</th>\n",
       "      <td>1</td>\n",
       "      <td>1</td>\n",
       "      <td>Mrs</td>\n",
       "      <td>38.0</td>\n",
       "      <td>1</td>\n",
       "      <td>0</td>\n",
       "      <td>71.2833</td>\n",
       "      <td>C</td>\n",
       "      <td>C</td>\n",
       "      <td>female</td>\n",
       "      <td>1</td>\n",
       "    </tr>\n",
       "    <tr>\n",
       "      <th>3</th>\n",
       "      <td>1</td>\n",
       "      <td>3</td>\n",
       "      <td>Miss</td>\n",
       "      <td>26.0</td>\n",
       "      <td>0</td>\n",
       "      <td>0</td>\n",
       "      <td>7.9250</td>\n",
       "      <td>N</td>\n",
       "      <td>S</td>\n",
       "      <td>female</td>\n",
       "      <td>0</td>\n",
       "    </tr>\n",
       "    <tr>\n",
       "      <th>4</th>\n",
       "      <td>1</td>\n",
       "      <td>1</td>\n",
       "      <td>Mrs</td>\n",
       "      <td>35.0</td>\n",
       "      <td>1</td>\n",
       "      <td>0</td>\n",
       "      <td>53.1000</td>\n",
       "      <td>C</td>\n",
       "      <td>S</td>\n",
       "      <td>female</td>\n",
       "      <td>1</td>\n",
       "    </tr>\n",
       "    <tr>\n",
       "      <th>5</th>\n",
       "      <td>0</td>\n",
       "      <td>3</td>\n",
       "      <td>Mr</td>\n",
       "      <td>35.0</td>\n",
       "      <td>0</td>\n",
       "      <td>0</td>\n",
       "      <td>8.0500</td>\n",
       "      <td>N</td>\n",
       "      <td>S</td>\n",
       "      <td>male</td>\n",
       "      <td>0</td>\n",
       "    </tr>\n",
       "  </tbody>\n",
       "</table>\n",
       "</div>"
      ],
      "text/plain": [
       "             Survived  Pclass  Name   Age  SibSp  Parch     Fare Cabin  \\\n",
       "PassengerId                                                              \n",
       "1                   0       3    Mr  22.0      1      0   7.2500     N   \n",
       "2                   1       1   Mrs  38.0      1      0  71.2833     C   \n",
       "3                   1       3  Miss  26.0      0      0   7.9250     N   \n",
       "4                   1       1   Mrs  35.0      1      0  53.1000     C   \n",
       "5                   0       3    Mr  35.0      0      0   8.0500     N   \n",
       "\n",
       "            Embarked     Sex  FamilyMembers  \n",
       "PassengerId                                  \n",
       "1                  S    male              1  \n",
       "2                  C  female              1  \n",
       "3                  S  female              0  \n",
       "4                  S  female              1  \n",
       "5                  S    male              0  "
      ]
     },
     "execution_count": 230,
     "metadata": {},
     "output_type": "execute_result"
    }
   ],
   "source": [
    "titanic['FamilyMembers'] = titanic['SibSp'] + titanic['Parch']\n",
    "titanic.head()"
   ]
  },
  {
   "cell_type": "markdown",
   "id": "084de974-1578-4664-87c0-20b9f59c5786",
   "metadata": {},
   "source": [
    "Następną ukrytą cechą, którą da się zdobyć ze zbioru jest podział na dzieci i dorosłych (od razu z kodowaniem). "
   ]
  },
  {
   "cell_type": "code",
   "execution_count": 231,
   "id": "0f8497cb-114e-435a-8987-11a303fa3e01",
   "metadata": {},
   "outputs": [
    {
     "data": {
      "text/html": [
       "<div>\n",
       "<style scoped>\n",
       "    .dataframe tbody tr th:only-of-type {\n",
       "        vertical-align: middle;\n",
       "    }\n",
       "\n",
       "    .dataframe tbody tr th {\n",
       "        vertical-align: top;\n",
       "    }\n",
       "\n",
       "    .dataframe thead th {\n",
       "        text-align: right;\n",
       "    }\n",
       "</style>\n",
       "<table border=\"1\" class=\"dataframe\">\n",
       "  <thead>\n",
       "    <tr style=\"text-align: right;\">\n",
       "      <th></th>\n",
       "      <th>Survived</th>\n",
       "      <th>Pclass</th>\n",
       "      <th>Name</th>\n",
       "      <th>Age</th>\n",
       "      <th>SibSp</th>\n",
       "      <th>Parch</th>\n",
       "      <th>Fare</th>\n",
       "      <th>Cabin</th>\n",
       "      <th>Embarked</th>\n",
       "      <th>Sex</th>\n",
       "      <th>FamilyMembers</th>\n",
       "      <th>IsChild</th>\n",
       "    </tr>\n",
       "    <tr>\n",
       "      <th>PassengerId</th>\n",
       "      <th></th>\n",
       "      <th></th>\n",
       "      <th></th>\n",
       "      <th></th>\n",
       "      <th></th>\n",
       "      <th></th>\n",
       "      <th></th>\n",
       "      <th></th>\n",
       "      <th></th>\n",
       "      <th></th>\n",
       "      <th></th>\n",
       "      <th></th>\n",
       "    </tr>\n",
       "  </thead>\n",
       "  <tbody>\n",
       "    <tr>\n",
       "      <th>1</th>\n",
       "      <td>0</td>\n",
       "      <td>3</td>\n",
       "      <td>Mr</td>\n",
       "      <td>22.0</td>\n",
       "      <td>1</td>\n",
       "      <td>0</td>\n",
       "      <td>7.2500</td>\n",
       "      <td>N</td>\n",
       "      <td>S</td>\n",
       "      <td>male</td>\n",
       "      <td>1</td>\n",
       "      <td>0</td>\n",
       "    </tr>\n",
       "    <tr>\n",
       "      <th>2</th>\n",
       "      <td>1</td>\n",
       "      <td>1</td>\n",
       "      <td>Mrs</td>\n",
       "      <td>38.0</td>\n",
       "      <td>1</td>\n",
       "      <td>0</td>\n",
       "      <td>71.2833</td>\n",
       "      <td>C</td>\n",
       "      <td>C</td>\n",
       "      <td>female</td>\n",
       "      <td>1</td>\n",
       "      <td>0</td>\n",
       "    </tr>\n",
       "    <tr>\n",
       "      <th>3</th>\n",
       "      <td>1</td>\n",
       "      <td>3</td>\n",
       "      <td>Miss</td>\n",
       "      <td>26.0</td>\n",
       "      <td>0</td>\n",
       "      <td>0</td>\n",
       "      <td>7.9250</td>\n",
       "      <td>N</td>\n",
       "      <td>S</td>\n",
       "      <td>female</td>\n",
       "      <td>0</td>\n",
       "      <td>0</td>\n",
       "    </tr>\n",
       "    <tr>\n",
       "      <th>4</th>\n",
       "      <td>1</td>\n",
       "      <td>1</td>\n",
       "      <td>Mrs</td>\n",
       "      <td>35.0</td>\n",
       "      <td>1</td>\n",
       "      <td>0</td>\n",
       "      <td>53.1000</td>\n",
       "      <td>C</td>\n",
       "      <td>S</td>\n",
       "      <td>female</td>\n",
       "      <td>1</td>\n",
       "      <td>0</td>\n",
       "    </tr>\n",
       "    <tr>\n",
       "      <th>5</th>\n",
       "      <td>0</td>\n",
       "      <td>3</td>\n",
       "      <td>Mr</td>\n",
       "      <td>35.0</td>\n",
       "      <td>0</td>\n",
       "      <td>0</td>\n",
       "      <td>8.0500</td>\n",
       "      <td>N</td>\n",
       "      <td>S</td>\n",
       "      <td>male</td>\n",
       "      <td>0</td>\n",
       "      <td>0</td>\n",
       "    </tr>\n",
       "    <tr>\n",
       "      <th>6</th>\n",
       "      <td>0</td>\n",
       "      <td>3</td>\n",
       "      <td>Mr</td>\n",
       "      <td>19.0</td>\n",
       "      <td>0</td>\n",
       "      <td>0</td>\n",
       "      <td>8.4583</td>\n",
       "      <td>N</td>\n",
       "      <td>Q</td>\n",
       "      <td>male</td>\n",
       "      <td>0</td>\n",
       "      <td>0</td>\n",
       "    </tr>\n",
       "    <tr>\n",
       "      <th>7</th>\n",
       "      <td>0</td>\n",
       "      <td>1</td>\n",
       "      <td>Mr</td>\n",
       "      <td>54.0</td>\n",
       "      <td>0</td>\n",
       "      <td>0</td>\n",
       "      <td>51.8625</td>\n",
       "      <td>E</td>\n",
       "      <td>S</td>\n",
       "      <td>male</td>\n",
       "      <td>0</td>\n",
       "      <td>0</td>\n",
       "    </tr>\n",
       "    <tr>\n",
       "      <th>8</th>\n",
       "      <td>0</td>\n",
       "      <td>3</td>\n",
       "      <td>Master</td>\n",
       "      <td>2.0</td>\n",
       "      <td>3</td>\n",
       "      <td>1</td>\n",
       "      <td>21.0750</td>\n",
       "      <td>N</td>\n",
       "      <td>S</td>\n",
       "      <td>male</td>\n",
       "      <td>4</td>\n",
       "      <td>1</td>\n",
       "    </tr>\n",
       "    <tr>\n",
       "      <th>9</th>\n",
       "      <td>1</td>\n",
       "      <td>3</td>\n",
       "      <td>Mrs</td>\n",
       "      <td>27.0</td>\n",
       "      <td>0</td>\n",
       "      <td>2</td>\n",
       "      <td>11.1333</td>\n",
       "      <td>N</td>\n",
       "      <td>S</td>\n",
       "      <td>female</td>\n",
       "      <td>2</td>\n",
       "      <td>0</td>\n",
       "    </tr>\n",
       "    <tr>\n",
       "      <th>10</th>\n",
       "      <td>1</td>\n",
       "      <td>2</td>\n",
       "      <td>Mrs</td>\n",
       "      <td>14.0</td>\n",
       "      <td>1</td>\n",
       "      <td>0</td>\n",
       "      <td>30.0708</td>\n",
       "      <td>N</td>\n",
       "      <td>C</td>\n",
       "      <td>female</td>\n",
       "      <td>1</td>\n",
       "      <td>1</td>\n",
       "    </tr>\n",
       "    <tr>\n",
       "      <th>11</th>\n",
       "      <td>1</td>\n",
       "      <td>3</td>\n",
       "      <td>Miss</td>\n",
       "      <td>4.0</td>\n",
       "      <td>1</td>\n",
       "      <td>1</td>\n",
       "      <td>16.7000</td>\n",
       "      <td>G</td>\n",
       "      <td>S</td>\n",
       "      <td>female</td>\n",
       "      <td>2</td>\n",
       "      <td>1</td>\n",
       "    </tr>\n",
       "    <tr>\n",
       "      <th>12</th>\n",
       "      <td>1</td>\n",
       "      <td>1</td>\n",
       "      <td>Miss</td>\n",
       "      <td>58.0</td>\n",
       "      <td>0</td>\n",
       "      <td>0</td>\n",
       "      <td>26.5500</td>\n",
       "      <td>C</td>\n",
       "      <td>S</td>\n",
       "      <td>female</td>\n",
       "      <td>0</td>\n",
       "      <td>0</td>\n",
       "    </tr>\n",
       "    <tr>\n",
       "      <th>13</th>\n",
       "      <td>0</td>\n",
       "      <td>3</td>\n",
       "      <td>Mr</td>\n",
       "      <td>20.0</td>\n",
       "      <td>0</td>\n",
       "      <td>0</td>\n",
       "      <td>8.0500</td>\n",
       "      <td>N</td>\n",
       "      <td>S</td>\n",
       "      <td>male</td>\n",
       "      <td>0</td>\n",
       "      <td>0</td>\n",
       "    </tr>\n",
       "    <tr>\n",
       "      <th>14</th>\n",
       "      <td>0</td>\n",
       "      <td>3</td>\n",
       "      <td>Mr</td>\n",
       "      <td>39.0</td>\n",
       "      <td>1</td>\n",
       "      <td>5</td>\n",
       "      <td>31.2750</td>\n",
       "      <td>N</td>\n",
       "      <td>S</td>\n",
       "      <td>male</td>\n",
       "      <td>6</td>\n",
       "      <td>0</td>\n",
       "    </tr>\n",
       "    <tr>\n",
       "      <th>15</th>\n",
       "      <td>0</td>\n",
       "      <td>3</td>\n",
       "      <td>Miss</td>\n",
       "      <td>14.0</td>\n",
       "      <td>0</td>\n",
       "      <td>0</td>\n",
       "      <td>7.8542</td>\n",
       "      <td>N</td>\n",
       "      <td>S</td>\n",
       "      <td>female</td>\n",
       "      <td>0</td>\n",
       "      <td>1</td>\n",
       "    </tr>\n",
       "  </tbody>\n",
       "</table>\n",
       "</div>"
      ],
      "text/plain": [
       "             Survived  Pclass    Name   Age  SibSp  Parch     Fare Cabin  \\\n",
       "PassengerId                                                                \n",
       "1                   0       3      Mr  22.0      1      0   7.2500     N   \n",
       "2                   1       1     Mrs  38.0      1      0  71.2833     C   \n",
       "3                   1       3    Miss  26.0      0      0   7.9250     N   \n",
       "4                   1       1     Mrs  35.0      1      0  53.1000     C   \n",
       "5                   0       3      Mr  35.0      0      0   8.0500     N   \n",
       "6                   0       3      Mr  19.0      0      0   8.4583     N   \n",
       "7                   0       1      Mr  54.0      0      0  51.8625     E   \n",
       "8                   0       3  Master   2.0      3      1  21.0750     N   \n",
       "9                   1       3     Mrs  27.0      0      2  11.1333     N   \n",
       "10                  1       2     Mrs  14.0      1      0  30.0708     N   \n",
       "11                  1       3    Miss   4.0      1      1  16.7000     G   \n",
       "12                  1       1    Miss  58.0      0      0  26.5500     C   \n",
       "13                  0       3      Mr  20.0      0      0   8.0500     N   \n",
       "14                  0       3      Mr  39.0      1      5  31.2750     N   \n",
       "15                  0       3    Miss  14.0      0      0   7.8542     N   \n",
       "\n",
       "            Embarked     Sex  FamilyMembers  IsChild  \n",
       "PassengerId                                           \n",
       "1                  S    male              1        0  \n",
       "2                  C  female              1        0  \n",
       "3                  S  female              0        0  \n",
       "4                  S  female              1        0  \n",
       "5                  S    male              0        0  \n",
       "6                  Q    male              0        0  \n",
       "7                  S    male              0        0  \n",
       "8                  S    male              4        1  \n",
       "9                  S  female              2        0  \n",
       "10                 C  female              1        1  \n",
       "11                 S  female              2        1  \n",
       "12                 S  female              0        0  \n",
       "13                 S    male              0        0  \n",
       "14                 S    male              6        0  \n",
       "15                 S  female              0        1  "
      ]
     },
     "execution_count": 231,
     "metadata": {},
     "output_type": "execute_result"
    }
   ],
   "source": [
    "titanic['IsChild'] = np.where(titanic['Age'] >= 18, 0, 1)\n",
    "titanic.head(15)"
   ]
  },
  {
   "cell_type": "markdown",
   "id": "045f7d79-ecf0-450e-ac64-bde339188d5d",
   "metadata": {},
   "source": [
    "<h1>Kodowanie zmiennych kategorialnych</h1>"
   ]
  },
  {
   "cell_type": "markdown",
   "id": "a8c0f864-4763-4c5b-9394-50738c22b3af",
   "metadata": {},
   "source": [
    "Zmienne kategorialne w naszym zbiorze zawierają kolumny 'Cabin', 'Name', 'Sex', 'Embarked' i 'Pclass'."
   ]
  },
  {
   "cell_type": "code",
   "execution_count": 233,
   "id": "8aadac1c-fc20-4bd1-9735-2e27137b6db8",
   "metadata": {},
   "outputs": [
    {
     "name": "stdout",
     "output_type": "stream",
     "text": [
      "['N' 'C' 'E' 'G' 'D' 'A' 'B' 'F' 'T']\n",
      "['Mr' 'Mrs' 'Miss' 'Master' 'Other']\n",
      "['male' 'female']\n",
      "['S' 'C' 'Q']\n",
      "[3 1 2]\n"
     ]
    }
   ],
   "source": [
    "print(titanic.Cabin.unique())\n",
    "print(titanic.Name.unique())\n",
    "print(titanic.Sex.unique())\n",
    "print(titanic.Embarked.unique())\n",
    "print(titanic.Pclass.unique())"
   ]
  },
  {
   "cell_type": "markdown",
   "id": "7922aa60-4bb1-461f-ae7e-62850c40a1b9",
   "metadata": {},
   "source": [
    "Dzięki powyższemu kodowi widać, że kolumny nie zawierają żadnych nieprawidłowych wartości, które mogłyby mieć negatywny wpływ na kodowanie.\n",
    "<br>Kolumna 'Pclass' już zawiera kategorie w formacie liczbowym, więc nie trzeba jej zmieniać."
   ]
  },
  {
   "cell_type": "code",
   "execution_count": 234,
   "id": "369347b7-0345-4f42-ac07-121e9296a573",
   "metadata": {},
   "outputs": [
    {
     "data": {
      "text/plain": [
       "Cabin\n",
       "7    687\n",
       "2     59\n",
       "1     47\n",
       "3     33\n",
       "4     32\n",
       "0     15\n",
       "5     13\n",
       "6      4\n",
       "8      1\n",
       "Name: count, dtype: int64"
      ]
     },
     "execution_count": 234,
     "metadata": {},
     "output_type": "execute_result"
    }
   ],
   "source": [
    "titanic['Cabin'] = LabelEncoder().fit_transform(titanic.Cabin)\n",
    "titanic['Cabin'].value_counts()"
   ]
  },
  {
   "cell_type": "code",
   "execution_count": 235,
   "id": "f3cac7fd-5efa-4653-9eb0-92cdf6730d82",
   "metadata": {},
   "outputs": [
    {
     "data": {
      "text/plain": [
       "Name\n",
       "2    517\n",
       "1    182\n",
       "3    125\n",
       "0     40\n",
       "4     27\n",
       "Name: count, dtype: int64"
      ]
     },
     "execution_count": 235,
     "metadata": {},
     "output_type": "execute_result"
    }
   ],
   "source": [
    "titanic['Name'] = LabelEncoder().fit_transform(titanic.Name)\n",
    "titanic['Name'].value_counts()"
   ]
  },
  {
   "cell_type": "code",
   "execution_count": 236,
   "id": "99ff4803-82e7-440f-a92b-600234afe311",
   "metadata": {},
   "outputs": [
    {
     "data": {
      "text/html": [
       "<div>\n",
       "<style scoped>\n",
       "    .dataframe tbody tr th:only-of-type {\n",
       "        vertical-align: middle;\n",
       "    }\n",
       "\n",
       "    .dataframe tbody tr th {\n",
       "        vertical-align: top;\n",
       "    }\n",
       "\n",
       "    .dataframe thead th {\n",
       "        text-align: right;\n",
       "    }\n",
       "</style>\n",
       "<table border=\"1\" class=\"dataframe\">\n",
       "  <thead>\n",
       "    <tr style=\"text-align: right;\">\n",
       "      <th></th>\n",
       "      <th>Survived</th>\n",
       "      <th>Pclass</th>\n",
       "      <th>Name</th>\n",
       "      <th>Age</th>\n",
       "      <th>SibSp</th>\n",
       "      <th>Parch</th>\n",
       "      <th>Fare</th>\n",
       "      <th>Cabin</th>\n",
       "      <th>Embarked</th>\n",
       "      <th>Sex</th>\n",
       "      <th>FamilyMembers</th>\n",
       "      <th>IsChild</th>\n",
       "    </tr>\n",
       "    <tr>\n",
       "      <th>PassengerId</th>\n",
       "      <th></th>\n",
       "      <th></th>\n",
       "      <th></th>\n",
       "      <th></th>\n",
       "      <th></th>\n",
       "      <th></th>\n",
       "      <th></th>\n",
       "      <th></th>\n",
       "      <th></th>\n",
       "      <th></th>\n",
       "      <th></th>\n",
       "      <th></th>\n",
       "    </tr>\n",
       "  </thead>\n",
       "  <tbody>\n",
       "    <tr>\n",
       "      <th>1</th>\n",
       "      <td>0</td>\n",
       "      <td>3</td>\n",
       "      <td>2</td>\n",
       "      <td>22.0</td>\n",
       "      <td>1</td>\n",
       "      <td>0</td>\n",
       "      <td>7.2500</td>\n",
       "      <td>7</td>\n",
       "      <td>S</td>\n",
       "      <td>0</td>\n",
       "      <td>1</td>\n",
       "      <td>0</td>\n",
       "    </tr>\n",
       "    <tr>\n",
       "      <th>2</th>\n",
       "      <td>1</td>\n",
       "      <td>1</td>\n",
       "      <td>3</td>\n",
       "      <td>38.0</td>\n",
       "      <td>1</td>\n",
       "      <td>0</td>\n",
       "      <td>71.2833</td>\n",
       "      <td>2</td>\n",
       "      <td>C</td>\n",
       "      <td>1</td>\n",
       "      <td>1</td>\n",
       "      <td>0</td>\n",
       "    </tr>\n",
       "    <tr>\n",
       "      <th>3</th>\n",
       "      <td>1</td>\n",
       "      <td>3</td>\n",
       "      <td>1</td>\n",
       "      <td>26.0</td>\n",
       "      <td>0</td>\n",
       "      <td>0</td>\n",
       "      <td>7.9250</td>\n",
       "      <td>7</td>\n",
       "      <td>S</td>\n",
       "      <td>1</td>\n",
       "      <td>0</td>\n",
       "      <td>0</td>\n",
       "    </tr>\n",
       "    <tr>\n",
       "      <th>4</th>\n",
       "      <td>1</td>\n",
       "      <td>1</td>\n",
       "      <td>3</td>\n",
       "      <td>35.0</td>\n",
       "      <td>1</td>\n",
       "      <td>0</td>\n",
       "      <td>53.1000</td>\n",
       "      <td>2</td>\n",
       "      <td>S</td>\n",
       "      <td>1</td>\n",
       "      <td>1</td>\n",
       "      <td>0</td>\n",
       "    </tr>\n",
       "    <tr>\n",
       "      <th>5</th>\n",
       "      <td>0</td>\n",
       "      <td>3</td>\n",
       "      <td>2</td>\n",
       "      <td>35.0</td>\n",
       "      <td>0</td>\n",
       "      <td>0</td>\n",
       "      <td>8.0500</td>\n",
       "      <td>7</td>\n",
       "      <td>S</td>\n",
       "      <td>0</td>\n",
       "      <td>0</td>\n",
       "      <td>0</td>\n",
       "    </tr>\n",
       "  </tbody>\n",
       "</table>\n",
       "</div>"
      ],
      "text/plain": [
       "             Survived  Pclass  Name   Age  SibSp  Parch     Fare  Cabin  \\\n",
       "PassengerId                                                               \n",
       "1                   0       3     2  22.0      1      0   7.2500      7   \n",
       "2                   1       1     3  38.0      1      0  71.2833      2   \n",
       "3                   1       3     1  26.0      0      0   7.9250      7   \n",
       "4                   1       1     3  35.0      1      0  53.1000      2   \n",
       "5                   0       3     2  35.0      0      0   8.0500      7   \n",
       "\n",
       "            Embarked  Sex  FamilyMembers  IsChild  \n",
       "PassengerId                                        \n",
       "1                  S    0              1        0  \n",
       "2                  C    1              1        0  \n",
       "3                  S    1              0        0  \n",
       "4                  S    1              1        0  \n",
       "5                  S    0              0        0  "
      ]
     },
     "execution_count": 236,
     "metadata": {},
     "output_type": "execute_result"
    }
   ],
   "source": [
    "titanic['Sex'] = titanic.Sex.map({'female': 1, 'male': 0})\n",
    "titanic.head()"
   ]
  },
  {
   "cell_type": "code",
   "execution_count": 237,
   "id": "c012a366-8be3-43b6-9487-0799b02642fe",
   "metadata": {},
   "outputs": [
    {
     "data": {
      "text/html": [
       "<div>\n",
       "<style scoped>\n",
       "    .dataframe tbody tr th:only-of-type {\n",
       "        vertical-align: middle;\n",
       "    }\n",
       "\n",
       "    .dataframe tbody tr th {\n",
       "        vertical-align: top;\n",
       "    }\n",
       "\n",
       "    .dataframe thead th {\n",
       "        text-align: right;\n",
       "    }\n",
       "</style>\n",
       "<table border=\"1\" class=\"dataframe\">\n",
       "  <thead>\n",
       "    <tr style=\"text-align: right;\">\n",
       "      <th></th>\n",
       "      <th>Survived</th>\n",
       "      <th>Pclass</th>\n",
       "      <th>Name</th>\n",
       "      <th>Age</th>\n",
       "      <th>SibSp</th>\n",
       "      <th>Parch</th>\n",
       "      <th>Fare</th>\n",
       "      <th>Cabin</th>\n",
       "      <th>Embarked</th>\n",
       "      <th>Sex</th>\n",
       "      <th>FamilyMembers</th>\n",
       "      <th>IsChild</th>\n",
       "    </tr>\n",
       "    <tr>\n",
       "      <th>PassengerId</th>\n",
       "      <th></th>\n",
       "      <th></th>\n",
       "      <th></th>\n",
       "      <th></th>\n",
       "      <th></th>\n",
       "      <th></th>\n",
       "      <th></th>\n",
       "      <th></th>\n",
       "      <th></th>\n",
       "      <th></th>\n",
       "      <th></th>\n",
       "      <th></th>\n",
       "    </tr>\n",
       "  </thead>\n",
       "  <tbody>\n",
       "    <tr>\n",
       "      <th>1</th>\n",
       "      <td>0</td>\n",
       "      <td>3</td>\n",
       "      <td>2</td>\n",
       "      <td>22.0</td>\n",
       "      <td>1</td>\n",
       "      <td>0</td>\n",
       "      <td>7.2500</td>\n",
       "      <td>7</td>\n",
       "      <td>2</td>\n",
       "      <td>0</td>\n",
       "      <td>1</td>\n",
       "      <td>0</td>\n",
       "    </tr>\n",
       "    <tr>\n",
       "      <th>2</th>\n",
       "      <td>1</td>\n",
       "      <td>1</td>\n",
       "      <td>3</td>\n",
       "      <td>38.0</td>\n",
       "      <td>1</td>\n",
       "      <td>0</td>\n",
       "      <td>71.2833</td>\n",
       "      <td>2</td>\n",
       "      <td>1</td>\n",
       "      <td>1</td>\n",
       "      <td>1</td>\n",
       "      <td>0</td>\n",
       "    </tr>\n",
       "    <tr>\n",
       "      <th>3</th>\n",
       "      <td>1</td>\n",
       "      <td>3</td>\n",
       "      <td>1</td>\n",
       "      <td>26.0</td>\n",
       "      <td>0</td>\n",
       "      <td>0</td>\n",
       "      <td>7.9250</td>\n",
       "      <td>7</td>\n",
       "      <td>2</td>\n",
       "      <td>1</td>\n",
       "      <td>0</td>\n",
       "      <td>0</td>\n",
       "    </tr>\n",
       "    <tr>\n",
       "      <th>4</th>\n",
       "      <td>1</td>\n",
       "      <td>1</td>\n",
       "      <td>3</td>\n",
       "      <td>35.0</td>\n",
       "      <td>1</td>\n",
       "      <td>0</td>\n",
       "      <td>53.1000</td>\n",
       "      <td>2</td>\n",
       "      <td>2</td>\n",
       "      <td>1</td>\n",
       "      <td>1</td>\n",
       "      <td>0</td>\n",
       "    </tr>\n",
       "    <tr>\n",
       "      <th>5</th>\n",
       "      <td>0</td>\n",
       "      <td>3</td>\n",
       "      <td>2</td>\n",
       "      <td>35.0</td>\n",
       "      <td>0</td>\n",
       "      <td>0</td>\n",
       "      <td>8.0500</td>\n",
       "      <td>7</td>\n",
       "      <td>2</td>\n",
       "      <td>0</td>\n",
       "      <td>0</td>\n",
       "      <td>0</td>\n",
       "    </tr>\n",
       "  </tbody>\n",
       "</table>\n",
       "</div>"
      ],
      "text/plain": [
       "             Survived  Pclass  Name   Age  SibSp  Parch     Fare  Cabin  \\\n",
       "PassengerId                                                               \n",
       "1                   0       3     2  22.0      1      0   7.2500      7   \n",
       "2                   1       1     3  38.0      1      0  71.2833      2   \n",
       "3                   1       3     1  26.0      0      0   7.9250      7   \n",
       "4                   1       1     3  35.0      1      0  53.1000      2   \n",
       "5                   0       3     2  35.0      0      0   8.0500      7   \n",
       "\n",
       "             Embarked  Sex  FamilyMembers  IsChild  \n",
       "PassengerId                                         \n",
       "1                   2    0              1        0  \n",
       "2                   1    1              1        0  \n",
       "3                   2    1              0        0  \n",
       "4                   2    1              1        0  \n",
       "5                   2    0              0        0  "
      ]
     },
     "execution_count": 237,
     "metadata": {},
     "output_type": "execute_result"
    }
   ],
   "source": [
    "titanic['Embarked'] = titanic.Embarked.map({'S': 2, 'C': 1, 'Q': 0})\n",
    "titanic.head()"
   ]
  },
  {
   "cell_type": "markdown",
   "id": "feb90c3b-f28f-48ad-84a1-496e26b1084d",
   "metadata": {},
   "source": [
    "<h1>Badanie występowania wartości skrajnych</h1>"
   ]
  },
  {
   "cell_type": "markdown",
   "id": "6b7f5231-42b4-462f-ae16-5c7d664b8780",
   "metadata": {},
   "source": [
    "Kolumny zawierające dane kategorialne zostały zbadane pod względem wartości skrajnych podczas rozwiązywania poprzedniego zagadnienia dlatego teraz zajmiemy się wartościami numerycznymi.\n",
    "<br>Kolumnami dodanymi wcześniej też nie ma potrzeby się zajmować, więc analizie poddane zostaną kolumny: 'Age', 'SibSp', 'Parch', 'Fare'."
   ]
  },
  {
   "cell_type": "code",
   "execution_count": 238,
   "id": "3a6be506-65d4-4119-afdc-2ff8ebedf713",
   "metadata": {},
   "outputs": [
    {
     "data": {
      "image/png": "[encoded data removed]",
      "text/plain": [
       "<Figure size 640x480 with 1 Axes>"
      ]
     },
     "metadata": {},
     "output_type": "display_data"
    }
   ],
   "source": [
    "plt.hist(titanic['Parch'])\n",
    "plt.title(\"Parents + Children\")\n",
    "plt.xlabel(\"Value\")\n",
    "plt.ylabel(\"Frequency\")\n",
    "plt.show()"
   ]
  },
  {
   "cell_type": "code",
   "execution_count": 239,
   "id": "8a368e69-fe19-48ca-a1a1-30d71c158f8e",
   "metadata": {},
   "outputs": [
    {
     "data": {
      "image/png": "[encoded data removed]",
      "text/plain": [
       "<Figure size 640x480 with 1 Axes>"
      ]
     },
     "metadata": {},
     "output_type": "display_data"
    }
   ],
   "source": [
    "plt.hist(titanic['SibSp'])\n",
    "plt.title(\"Siblings + Spouses\")\n",
    "plt.xlabel(\"Value\")\n",
    "plt.ylabel(\"Frequency\")\n",
    "plt.show()"
   ]
  },
  {
   "cell_type": "code",
   "execution_count": 240,
   "id": "36a38f57-2a38-4e28-9351-737e9a56c74d",
   "metadata": {},
   "outputs": [
    {
     "data": {
      "image/png": "[encoded data removed]",
      "text/plain": [
       "<Figure size 640x480 with 1 Axes>"
      ]
     },
     "metadata": {},
     "output_type": "display_data"
    }
   ],
   "source": [
    "plt.hist(titanic['Age'])\n",
    "plt.title(\"Age\")\n",
    "plt.xlabel(\"Value\")\n",
    "plt.ylabel(\"Frequency\")\n",
    "plt.show()"
   ]
  },
  {
   "cell_type": "markdown",
   "id": "85476da5-fbc6-49f8-aa0e-2c5911c3385f",
   "metadata": {},
   "source": [
    "Bazując na wykresach wartości, które zostały podane w kolumnach 'SibSp', 'Parch' i 'Age' wyglądają wiarygodnie i nie wymagają specjalnego przetwarzania."
   ]
  },
  {
   "cell_type": "code",
   "execution_count": 241,
   "id": "771f7963-ac12-40aa-93d9-f6ce5b8bbfac",
   "metadata": {},
   "outputs": [
    {
     "data": {
      "image/png": "[encoded data removed]",
      "text/plain": [
       "<Figure size 500x500 with 1 Axes>"
      ]
     },
     "metadata": {},
     "output_type": "display_data"
    }
   ],
   "source": [
    "plt.figure(figsize=(5, 5))\n",
    "sns.boxplot(data=titanic['Fare'], color='lightgreen')\n",
    "plt.title(\"Fare\")\n",
    "plt.ylabel(\"Value\")\n",
    "plt.tight_layout()\n",
    "plt.show()"
   ]
  },
  {
   "cell_type": "markdown",
   "id": "bf4bbfa8-d9df-4b11-878c-2e88c1ff2ed2",
   "metadata": {},
   "source": [
    "Na powyższym wykresie widać grupę odstających cen za bilety oraz pojedynczą najwyższą cenę znacząco odstającą od reszty.\n",
    "<br>Bilety w odstającej grupie mogły zostać zakupione przez najbardziej zamożną część podróżujących - z tego powodu jest ich na tyle mało, że kwalifikują się jako wartości odstające.\n",
    "<br>Pojedyncza wartość może mieć takie samo wytłumaczenie jak opisane powyżej lub może być to błąd."
   ]
  },
  {
   "cell_type": "markdown",
   "id": "c19753fc-7232-43c0-8a32-4cc6ba5408e4",
   "metadata": {},
   "source": [
    "<h1>Wizualizacje cech</h1>"
   ]
  },
  {
   "cell_type": "code",
   "execution_count": 242,
   "id": "49083f14-2077-46e2-9d6f-28b47bb3b041",
   "metadata": {},
   "outputs": [
    {
     "data": {
      "text/plain": [
       "['Survived',\n",
       " 'Pclass',\n",
       " 'Name',\n",
       " 'Age',\n",
       " 'SibSp',\n",
       " 'Parch',\n",
       " 'Fare',\n",
       " 'Cabin',\n",
       " 'Embarked',\n",
       " 'Sex',\n",
       " 'FamilyMembers',\n",
       " 'IsChild']"
      ]
     },
     "execution_count": 242,
     "metadata": {},
     "output_type": "execute_result"
    }
   ],
   "source": [
    "titanic.columns.tolist()"
   ]
  },
  {
   "cell_type": "code",
   "execution_count": 243,
   "id": "4501df13-35c9-44ea-a76d-4ef4249e72e0",
   "metadata": {},
   "outputs": [
    {
     "data": {
      "image/png": "[encoded data removed]",
      "text/plain": [
       "<Figure size 1000x800 with 2 Axes>"
      ]
     },
     "metadata": {},
     "output_type": "display_data"
    }
   ],
   "source": [
    "corr = titanic.corr()\n",
    "plt.figure(figsize=(10, 8))\n",
    "sns.heatmap(corr, annot=True, fmt=\".2f\", cmap='coolwarm')\n",
    "plt.title('Correlation Matrix')\n",
    "plt.tight_layout()\n",
    "plt.show()"
   ]
  },
  {
   "cell_type": "markdown",
   "id": "d36a16f7-bfcd-4ce7-ba36-28e6e043730f",
   "metadata": {},
   "source": [
    "Wysoka korelacja Cabin z Survived może wynikać z tego, że większość wartości to sztucznie wstawiona klasa 'N'."
   ]
  },
  {
   "cell_type": "code",
   "execution_count": 245,
   "id": "b4c62d5e-e204-4be6-944a-d5bf45ee0dd1",
   "metadata": {},
   "outputs": [
    {
     "data": {
      "text/plain": [
       "<Axes: xlabel='Survived', ylabel='Cabin'>"
      ]
     },
     "execution_count": 245,
     "metadata": {},
     "output_type": "execute_result"
    },
    {
     "data": {
      "image/png": "[encoded data removed]",
      "text/plain": [
       "<Figure size 640x480 with 2 Axes>"
      ]
     },
     "metadata": {},
     "output_type": "display_data"
    }
   ],
   "source": [
    "sns.heatmap(titanic.groupby(\"Cabin\")[\"Survived\"].value_counts(normalize=True).unstack(),annot=True, \n",
    "            fmt=\".2f\", cmap=\"coolwarm\")"
   ]
  },
  {
   "cell_type": "markdown",
   "id": "46241311-b8c4-48d6-992b-a2ce7b7e63ab",
   "metadata": {},
   "source": [
    "7 klasa to klasa sztuczna i widać w niej dużo śmierci, ponieważ większość osób miało klasę 7 i większość osób umarła."
   ]
  },
  {
   "cell_type": "markdown",
   "id": "3fa71ad2-ee5e-4ef4-88bd-4123ab7892bc",
   "metadata": {},
   "source": [
    "Na heatmapie poza przekątną widać silną korelację między FamilyMembers, a SibSp i Parch co jest spowodowane tym, że kolumna ta powstała na podstawie tamtych dwóch. Podobny powód zapewnia wysoką negatywną korelację IsChild i Age."
   ]
  },
  {
   "cell_type": "code",
   "execution_count": 246,
   "id": "90287271-ddcd-44bf-9761-f470571934e1",
   "metadata": {},
   "outputs": [
    {
     "name": "stdout",
     "output_type": "stream",
     "text": [
      "Percentage of Survival in class 1:\n",
      "62.96 %\n",
      "\n",
      "Percentage of Survival in class 2:\n",
      "47.28 %\n",
      "\n",
      "Percentage of Survival in class 3:\n",
      "24.24 %\n",
      "\n"
     ]
    }
   ],
   "source": [
    "for pclass, group in titanic.groupby('Pclass'):\n",
    "    print(f\"Percentage of Survival in class {pclass}:\")\n",
    "    sur = group[group['Survived'] == 1]\n",
    "    print(round(((len(sur)/len(group))*100),2), \"%\\n\")"
   ]
  },
  {
   "cell_type": "markdown",
   "id": "3f7ccdde-1d36-456a-910e-f284fa51e67d",
   "metadata": {},
   "source": [
    "Widać, że największe szanse na przeżycie miały osoby z klasy 1."
   ]
  },
  {
   "cell_type": "code",
   "execution_count": 247,
   "id": "f63f36c3-9f2a-44a1-8b89-5a1b92ce7dc6",
   "metadata": {},
   "outputs": [
    {
     "name": "stdout",
     "output_type": "stream",
     "text": [
      "Percentage of Survival for men:\n",
      "18.89 %\n",
      "\n",
      "Percentage of Survival for women:\n",
      "74.2 %\n",
      "\n"
     ]
    }
   ],
   "source": [
    "for sex, group in titanic.groupby('Sex'):\n",
    "    enc = \"women\" if sex == 1 else \"men\"\n",
    "    print(f\"Percentage of Survival for {enc}:\")\n",
    "    sur = group[group['Survived'] == 1]\n",
    "    print(round(((len(sur)/len(group))*100),2), \"%\\n\")"
   ]
  },
  {
   "cell_type": "markdown",
   "id": "9603c636-aa31-4b40-93cd-4f7aeb4d667c",
   "metadata": {},
   "source": [
    "Jest bardzo duża różnica w przeżywalności kobiet i mężczyzn."
   ]
  },
  {
   "cell_type": "code",
   "execution_count": 248,
   "id": "aa84a7ae-d9fb-4504-bb77-1c105de9c790",
   "metadata": {},
   "outputs": [
    {
     "name": "stdout",
     "output_type": "stream",
     "text": [
      "Mean and median of Fare for people who did not survive:\n",
      "Mean: 22.12\n",
      "Median: 10.5 \n",
      "\n",
      "Mean and median of Fare for people who survived:\n",
      "Mean: 48.4\n",
      "Median: 26.0 \n",
      "\n"
     ]
    }
   ],
   "source": [
    "for sur, group in titanic.groupby('Survived'):\n",
    "    enc = \"survived\" if sur == 1 else \"did not survive\"\n",
    "    print(f\"Mean and median of Fare for people who {enc}:\")\n",
    "    print(\"Mean:\", round(group['Fare'].mean(),2))\n",
    "    print(\"Median:\", round(group['Fare'].median(),2), \"\\n\")"
   ]
  },
  {
   "cell_type": "markdown",
   "id": "1989571f-aea9-4a6e-ac41-5f331a4fc457",
   "metadata": {},
   "source": [
    "Osoby, które zapłaciły więcej miały większe szanse na przeżycie."
   ]
  },
  {
   "cell_type": "code",
   "execution_count": 249,
   "id": "42cc9b9f-4668-4983-ad93-511d0dadef77",
   "metadata": {},
   "outputs": [
    {
     "name": "stdout",
     "output_type": "stream",
     "text": [
      "Percentage of Survival for children (age < 2):\n",
      "73.68 %\n",
      "\n",
      "Percentage of Survival for children (age < 10):\n",
      "56.1 %\n",
      "\n",
      "Percentage of Survival for adults (20 < age < 40):\n",
      "37.69 %\n",
      "\n",
      "Percentage of Survival for adults (50 < age):\n",
      "34.25 %\n",
      "\n"
     ]
    }
   ],
   "source": [
    "print(f\"Percentage of Survival for children (age < 2):\")\n",
    "age = titanic[titanic['Age'] < 2]\n",
    "sur = age[age['Survived'] == 1]\n",
    "print(round(((len(sur)/len(age))*100),2), \"%\\n\")\n",
    "print(f\"Percentage of Survival for children (age < 10):\")\n",
    "age = titanic[titanic['Age'] < 10]\n",
    "sur = age[age['Survived'] == 1]\n",
    "print(round(((len(sur)/len(age))*100),2), \"%\\n\")\n",
    "print(f\"Percentage of Survival for adults (20 < age < 40):\")\n",
    "age = titanic[titanic['Age'] < 40]\n",
    "age = age[age['Age'] > 20]\n",
    "sur = age[age['Survived'] == 1]\n",
    "print(round(((len(sur)/len(age))*100),2), \"%\\n\")\n",
    "print(f\"Percentage of Survival for adults (50 < age):\")\n",
    "age = titanic[titanic['Age'] > 50]\n",
    "sur = age[age['Survived'] == 1]\n",
    "print(round(((len(sur)/len(age))*100),2), \"%\\n\")"
   ]
  },
  {
   "cell_type": "markdown",
   "id": "abff2347-f08f-4cb7-af3f-6209a67646b8",
   "metadata": {},
   "source": [
    "Widać, że młodsi mieli większe szanse na przeżycie."
   ]
  },
  {
   "cell_type": "code",
   "execution_count": 250,
   "id": "e3cd0a17-0c6d-4029-b3af-27db36687469",
   "metadata": {},
   "outputs": [
    {
     "data": {
      "image/png": "[encoded data removed]",
      "text/plain": [
       "<Figure size 640x480 with 1 Axes>"
      ]
     },
     "metadata": {},
     "output_type": "display_data"
    },
    {
     "data": {
      "image/png": "[encoded data removed]",
      "text/plain": [
       "<Figure size 640x480 with 1 Axes>"
      ]
     },
     "metadata": {},
     "output_type": "display_data"
    },
    {
     "data": {
      "image/png": "[encoded data removed]",
      "text/plain": [
       "<Figure size 640x480 with 1 Axes>"
      ]
     },
     "metadata": {},
     "output_type": "display_data"
    }
   ],
   "source": [
    "for port, group in titanic.groupby('Embarked'):\n",
    "    enc = {1:'Cherbourg', 0:'Queenstown', 2:'Southampton'}\n",
    "    plt.hist(group['FamilyMembers'])\n",
    "    plt.title(f\"Port {enc.get(port)}\")\n",
    "    plt.xlabel(\"Embarked\")\n",
    "    plt.ylabel(\"FamilyMembers\")\n",
    "    plt.show()"
   ]
  },
  {
   "cell_type": "markdown",
   "id": "deb52b9d-706a-4513-b267-5a016da0cef1",
   "metadata": {},
   "source": [
    "Najwięcej i największe rodziny wsiadały w porcie Southampton, a najmniej i najmniejsze w Queenstown - możliwe, że istniały różnice między strukturą społeczeństw tych miast."
   ]
  },
  {
   "cell_type": "code",
   "execution_count": 251,
   "id": "760cdc9b-afd8-44fb-afa4-6dc33f0fcff1",
   "metadata": {},
   "outputs": [
    {
     "data": {
      "image/png": "[encoded data removed]",
      "text/plain": [
       "<Figure size 640x480 with 1 Axes>"
      ]
     },
     "metadata": {},
     "output_type": "display_data"
    }
   ],
   "source": [
    "plt.scatter(titanic['Age'], titanic['Fare'])\n",
    "plt.xlabel(\"Age\")\n",
    "plt.ylabel(\"Fare\")\n",
    "plt.show()"
   ]
  },
  {
   "cell_type": "markdown",
   "id": "f0320ae0-b695-43e7-b311-f50024a45beb",
   "metadata": {},
   "source": [
    "Nie ma zależności między wysokością opłaty za bilet a wiekiem pasażera."
   ]
  },
  {
   "cell_type": "code",
   "execution_count": 252,
   "id": "36d8ae0a-aa6b-4510-ada5-6572943f366b",
   "metadata": {},
   "outputs": [
    {
     "data": {
      "image/png": "[encoded data removed]",
      "text/plain": [
       "<Figure size 640x480 with 1 Axes>"
      ]
     },
     "metadata": {},
     "output_type": "display_data"
    }
   ],
   "source": [
    "plt.hist(titanic['SibSp'])\n",
    "plt.title(\"Siblings + Spouses\")\n",
    "plt.xlabel(\"Value\")\n",
    "plt.ylabel(\"Frequency\")\n",
    "plt.show()"
   ]
  },
  {
   "cell_type": "code",
   "execution_count": 253,
   "id": "13ed86a4-c8e1-4f1e-8de5-527f970fb26d",
   "metadata": {},
   "outputs": [
    {
     "data": {
      "image/png": "[encoded data removed]",
      "text/plain": [
       "<Figure size 640x480 with 1 Axes>"
      ]
     },
     "metadata": {},
     "output_type": "display_data"
    }
   ],
   "source": [
    "plt.hist(titanic['Parch'])\n",
    "plt.title(\"Parents + Children\")\n",
    "plt.xlabel(\"Value\")\n",
    "plt.ylabel(\"Frequency\")\n",
    "plt.show()"
   ]
  },
  {
   "cell_type": "markdown",
   "id": "bb07f071-b2ba-46f4-b9b6-c953a45470c4",
   "metadata": {},
   "source": [
    "Widać, że większość podróżowała bez rodzeństwa, małżonków, rodziców ani dzieci."
   ]
  },
  {
   "cell_type": "code",
   "execution_count": 254,
   "id": "bd993050-9ed2-4f2e-a1f4-4ca03abd9c91",
   "metadata": {},
   "outputs": [
    {
     "data": {
      "image/png": "[encoded data removed]",
      "text/plain": [
       "<Figure size 640x480 with 1 Axes>"
      ]
     },
     "metadata": {},
     "output_type": "display_data"
    }
   ],
   "source": [
    "counts = titanic.groupby(['IsChild', 'Sex']).size().unstack(fill_value=0)\n",
    "counts.index = counts.index.map({0: 'Adult', 1: 'Child'})\n",
    "counts.columns = counts.columns.map({0: 'Male', 1: 'Female'})\n",
    "counts.plot(kind='bar')\n",
    "plt.ylabel('Frequency')\n",
    "plt.title('Adults and children depending on gender')\n",
    "plt.xticks(rotation=0)\n",
    "plt.legend(title='Sex')\n",
    "plt.show()"
   ]
  },
  {
   "cell_type": "markdown",
   "id": "704d84d3-c66f-4621-898b-e8f07a7f0b3d",
   "metadata": {},
   "source": [
    "W obu grupach wiekowych dominuje płeć męska oraz widać znaczącą przewagę liczby dorosłych nad liczbą dzieci na pokładzie."
   ]
  },
  {
   "cell_type": "code",
   "execution_count": 255,
   "id": "80c994d5-e130-4782-a36c-5cfb80539352",
   "metadata": {},
   "outputs": [
    {
     "data": {
      "image/png": "[encoded data removed]",
      "text/plain": [
       "<Figure size 640x480 with 1 Axes>"
      ]
     },
     "metadata": {},
     "output_type": "display_data"
    }
   ],
   "source": [
    "child = titanic[titanic['IsChild'] == 1].groupby('Pclass').size()\n",
    "child.plot(kind='bar')\n",
    "plt.title('Number of children in classes')\n",
    "plt.xlabel('Pclass')\n",
    "plt.ylabel('Children')\n",
    "plt.xticks(rotation=0)\n",
    "plt.show()"
   ]
  },
  {
   "cell_type": "markdown",
   "id": "ef5cc2d5-7c81-486f-b760-0342467a18d3",
   "metadata": {},
   "source": [
    "Jak widać najwięcej dzieci było w klasie trzeciej."
   ]
  },
  {
   "cell_type": "markdown",
   "id": "ba687463-e088-44d7-bb19-3978aacf622b",
   "metadata": {},
   "source": [
    "<h1>Zapisanie przetworzonego zbioru</h1>"
   ]
  },
  {
   "cell_type": "code",
   "execution_count": 257,
   "id": "c5e518e9-51ec-4bfc-9d52-f5fbb5989488",
   "metadata": {},
   "outputs": [],
   "source": [
    "titanic.to_csv('titanic_przetworzony.csv')"
   ]
  }
 ],
 "metadata": {
  "kernelspec": {
   "display_name": "Python 3 (ipykernel)",
   "language": "python",
   "name": "python3"
  },
  "language_info": {
   "codemirror_mode": {
    "name": "ipython",
    "version": 3
   },
   "file_extension": ".py",
   "mimetype": "text/x-python",
   "name": "python",
   "nbconvert_exporter": "python",
   "pygments_lexer": "ipython3",
   "version": "3.10.11"
  }
 },
 "nbformat": 4,
 "nbformat_minor": 5
}

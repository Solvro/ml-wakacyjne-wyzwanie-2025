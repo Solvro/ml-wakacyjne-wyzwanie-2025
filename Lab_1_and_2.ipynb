{
 "cells": [
  {
   "metadata": {},
   "cell_type": "markdown",
   "source": "# Lab 1 - Preparing the Data",
   "id": "a9c4c5cb57eee0d0"
  },
  {
   "metadata": {},
   "cell_type": "markdown",
   "source": "## Imports and loading the data",
   "id": "76bc63ebcfa5418d"
  },
  {
   "metadata": {
    "ExecuteTime": {
     "end_time": "2025-09-01T15:53:03.681753Z",
     "start_time": "2025-09-01T15:53:03.676387Z"
    }
   },
   "cell_type": "code",
   "source": [
    "import numpy as np\n",
    "import seaborn as sns\n",
    "import pandas as pd\n",
    "import matplotlib.pyplot as plt\n",
    "\n",
    "titanic_df = pd.read_csv('titanic.csv', index_col='PassengerId')"
   ],
   "id": "3924f877a642d8b4",
   "outputs": [],
   "execution_count": 23
  },
  {
   "metadata": {},
   "cell_type": "markdown",
   "source": "Column 'Ticket' with ticket number is irrelevant to the task and can be omitted. Column name can be dropped as well, since it doesn't affect the survival chance. The function DatFrame.convert_dtypes() applies the right type to columns.",
   "id": "79be0c1527aedaf"
  },
  {
   "metadata": {
    "ExecuteTime": {
     "end_time": "2025-09-01T15:53:03.698410Z",
     "start_time": "2025-09-01T15:53:03.693269Z"
    }
   },
   "cell_type": "code",
   "source": [
    "titanic_df.drop(columns=['Name', 'Ticket'], inplace=True)\n",
    "titanic_df = titanic_df.convert_dtypes()\n",
    "titanic_df.info()"
   ],
   "id": "4c34889e0a182081",
   "outputs": [
    {
     "name": "stdout",
     "output_type": "stream",
     "text": [
      "<class 'pandas.core.frame.DataFrame'>\n",
      "Index: 891 entries, 1 to 891\n",
      "Data columns (total 9 columns):\n",
      " #   Column    Non-Null Count  Dtype  \n",
      "---  ------    --------------  -----  \n",
      " 0   Survived  891 non-null    Int64  \n",
      " 1   Pclass    891 non-null    Int64  \n",
      " 2   Sex       891 non-null    string \n",
      " 3   Age       714 non-null    Float64\n",
      " 4   SibSp     891 non-null    Int64  \n",
      " 5   Parch     891 non-null    Int64  \n",
      " 6   Fare      793 non-null    Float64\n",
      " 7   Cabin     204 non-null    string \n",
      " 8   Embarked  889 non-null    string \n",
      "dtypes: Float64(2), Int64(4), string(3)\n",
      "memory usage: 74.8 KB\n"
     ]
    }
   ],
   "execution_count": 24
  },
  {
   "metadata": {},
   "cell_type": "markdown",
   "source": "## Cleaning the Na values",
   "id": "5466c64af209533d"
  },
  {
   "metadata": {},
   "cell_type": "markdown",
   "source": "There are between 0-3 Na values in each row. There are no empty rows that can be deleted. The missing values are of categories: Age, Fare, Cabin and Embarked. The least Nas are in 'Embarked'- only 2, which is 0.22%. The most Na values are in 'Cabin'- 687, which makes 77.1%. Nans in 'Age' make 19.87% and in 'Fare' 11%.",
   "id": "c74447fdd1b549bd"
  },
  {
   "metadata": {
    "ExecuteTime": {
     "end_time": "2025-09-01T15:53:03.711767Z",
     "start_time": "2025-09-01T15:53:03.707855Z"
    }
   },
   "cell_type": "code",
   "source": [
    "titanic_df.isna().sum(axis=1).unique()\n",
    "nan_values_count = titanic_df.isna().sum()\n",
    "nan_values_count"
   ],
   "id": "541eb1ba64da7b85",
   "outputs": [
    {
     "data": {
      "text/plain": [
       "Survived      0\n",
       "Pclass        0\n",
       "Sex           0\n",
       "Age         177\n",
       "SibSp         0\n",
       "Parch         0\n",
       "Fare         98\n",
       "Cabin       687\n",
       "Embarked      2\n",
       "dtype: int64"
      ]
     },
     "execution_count": 25,
     "metadata": {},
     "output_type": "execute_result"
    }
   ],
   "execution_count": 25
  },
  {
   "metadata": {
    "ExecuteTime": {
     "end_time": "2025-09-01T15:53:03.729657Z",
     "start_time": "2025-09-01T15:53:03.726994Z"
    }
   },
   "cell_type": "code",
   "source": [
    "def count_percentage(a, b):\n",
    " return round((a/b)*100,2)\n",
    "\n",
    "(count_percentage(nan_values_count['Embarked'], titanic_df.shape[0]),\n",
    " count_percentage(nan_values_count['Cabin'], titanic_df.shape[0]),\n",
    " count_percentage(nan_values_count['Age'], titanic_df.shape[0]),\n",
    " count_percentage(nan_values_count['Fare'], titanic_df.shape[0]))\n"
   ],
   "id": "13df0109542b70d",
   "outputs": [
    {
     "data": {
      "text/plain": [
       "(np.float64(0.22), np.float64(77.1), np.float64(19.87), np.float64(11.0))"
      ]
     },
     "execution_count": 26,
     "metadata": {},
     "output_type": "execute_result"
    }
   ],
   "execution_count": 26
  },
  {
   "metadata": {
    "ExecuteTime": {
     "end_time": "2025-09-01T15:53:03.752479Z",
     "start_time": "2025-09-01T15:53:03.750346Z"
    }
   },
   "cell_type": "code",
   "source": [
    "def plot_histogram(df, column, xlabel, interval):\n",
    "    mean = np.mean(df[column])\n",
    "    median = np.median(df[column])\n",
    "    mode = df[column].mode()[0]\n",
    "\n",
    "    plt.figure()\n",
    "    plt.hist(df[column], bins=interval)\n",
    "    plt.axvline(mean, color='r', label='mean')\n",
    "    plt.axvline(median, color='b', label='median')\n",
    "    plt.axvline(mode, color='g', label='mode')\n",
    "    plt.xlabel(xlabel)\n",
    "    plt.legend()\n",
    "    plt.show()"
   ],
   "id": "f9cd66dc7615b40a",
   "outputs": [],
   "execution_count": 27
  },
  {
   "metadata": {},
   "cell_type": "markdown",
   "source": [
    "### 'Embarked'\n",
    "The Nas in categorical column 'Embarked' will be replaced with mode, because S is dominating and only 2 values need replacing.\n"
   ],
   "id": "31237ed4702ecaff"
  },
  {
   "metadata": {
    "ExecuteTime": {
     "end_time": "2025-09-01T15:53:03.788730Z",
     "start_time": "2025-09-01T15:53:03.786292Z"
    }
   },
   "cell_type": "code",
   "source": [
    "titanic_df['Embarked'].value_counts()\n",
    "titanic_df['Embarked'] = titanic_df['Embarked'].fillna(value='S')"
   ],
   "id": "75a2e048eb9f93b1",
   "outputs": [],
   "execution_count": 28
  },
  {
   "metadata": {},
   "cell_type": "markdown",
   "source": [
    "### 'Cabin'\n",
    "The Nas in categorical column 'Cabin' will be replaced with a new category 'Unknown' since no value is dominating. Visualization would be useless because differences between every category are small, but value 'Unknown' is peaking high up - histogram would be just one peak."
   ],
   "id": "bc74b19f87700082"
  },
  {
   "metadata": {
    "ExecuteTime": {
     "end_time": "2025-09-01T15:53:03.804428Z",
     "start_time": "2025-09-01T15:53:03.801719Z"
    }
   },
   "cell_type": "code",
   "source": [
    "titanic_df['Cabin'].value_counts()\n",
    "titanic_df['Cabin'].isna().value_counts()\n",
    "titanic_df['Cabin'] = titanic_df['Cabin'].fillna(value='Unknown')\n"
   ],
   "id": "a3f19ee81f6c7fa5",
   "outputs": [],
   "execution_count": 29
  },
  {
   "metadata": {},
   "cell_type": "markdown",
   "source": [
    "### 'Age'\n",
    "The numerical column 'Age' is of type float, but there are only 25 values with fractional part. Values like '0.42' or '0.67' make no sense. It should be of type integer, but I don't want to disrupt the data. The data distribution is asymmetrical, right sided, but similar to normal. After replacing Nans with median there is a significant peak in one bin, so another approach is taken. The missing data is replaced according to the existing distribution."
   ],
   "id": "8581cf44e872fc24"
  },
  {
   "metadata": {
    "ExecuteTime": {
     "end_time": "2025-09-01T15:53:03.819843Z",
     "start_time": "2025-09-01T15:53:03.817138Z"
    }
   },
   "cell_type": "code",
   "source": [
    "is_nan_series = titanic_df['Age'].isna()\n",
    "is_integer_series = titanic_df['Age'].apply(float.is_integer)\n",
    "is_nan_or_integer_series = is_nan_series | is_integer_series\n",
    "is_nan_or_integer_series.value_counts()"
   ],
   "id": "bcd3cafd2e1d8b1b",
   "outputs": [
    {
     "data": {
      "text/plain": [
       "Age\n",
       "True     866\n",
       "False     25\n",
       "Name: count, dtype: int64"
      ]
     },
     "execution_count": 30,
     "metadata": {},
     "output_type": "execute_result"
    }
   ],
   "execution_count": 30
  },
  {
   "metadata": {
    "ExecuteTime": {
     "end_time": "2025-09-01T15:53:03.923280Z",
     "start_time": "2025-09-01T15:53:03.833709Z"
    }
   },
   "cell_type": "code",
   "source": "plot_histogram(titanic_df, 'Age', 'Years of age', 10)",
   "id": "9d9c2f4121a10a45",
   "outputs": [
    {
     "data": {
      "text/plain": [
       "<Figure size 640x480 with 1 Axes>"
      ],
      "image/png": "[encoded data removed]"
     },
     "metadata": {},
     "output_type": "display_data"
    }
   ],
   "execution_count": 31
  },
  {
   "metadata": {
    "ExecuteTime": {
     "end_time": "2025-09-01T15:53:03.938079Z",
     "start_time": "2025-09-01T15:53:03.936321Z"
    }
   },
   "cell_type": "code",
   "source": [
    "def get_column_distribution(df, column):\n",
    "    return df[column].value_counts(normalize=True)"
   ],
   "id": "bd7bb94122d38354",
   "outputs": [],
   "execution_count": 32
  },
  {
   "metadata": {
    "ExecuteTime": {
     "end_time": "2025-09-01T15:53:04.000779Z",
     "start_time": "2025-09-01T15:53:03.942592Z"
    }
   },
   "cell_type": "code",
   "source": [
    "age_count_prob = get_column_distribution(titanic_df, 'Age')\n",
    "age_values = age_count_prob.index\n",
    "age_prob = age_count_prob.values\n",
    "is_age_na_mask = titanic_df.Age.isna()\n",
    "titanic_df.loc[is_age_na_mask, 'Age'] = np.random.choice(age_values,size=is_age_na_mask.sum(), p=age_prob)\n",
    "plot_histogram(titanic_df, 'Age', 'Years of age', 10)"
   ],
   "id": "eec1b80ce16414ce",
   "outputs": [
    {
     "data": {
      "text/plain": [
       "<Figure size 640x480 with 1 Axes>"
      ],
      "image/png": "[encoded data removed]"
     },
     "metadata": {},
     "output_type": "display_data"
    }
   ],
   "execution_count": 33
  },
  {
   "metadata": {},
   "cell_type": "markdown",
   "source": [
    "### 'Fare'\n",
    "Numerical column 'Fare' of type float should be rounded to 2 decimal places, since it's a price. The data distribution is strongly asymmetrical so Na values will be replaced with median."
   ],
   "id": "f3bd517218460870"
  },
  {
   "metadata": {
    "ExecuteTime": {
     "end_time": "2025-09-01T15:53:04.010526Z",
     "start_time": "2025-09-01T15:53:04.008178Z"
    }
   },
   "cell_type": "code",
   "source": "titanic_df['Fare'] = titanic_df['Fare'].apply(lambda x: round(x,2))",
   "id": "2ed1f81c542f78d4",
   "outputs": [],
   "execution_count": 34
  },
  {
   "metadata": {
    "ExecuteTime": {
     "end_time": "2025-09-01T15:53:04.066234Z",
     "start_time": "2025-09-01T15:53:04.016515Z"
    }
   },
   "cell_type": "code",
   "source": "plot_histogram(titanic_df, 'Fare', 'Price', 10)",
   "id": "531d94d505b3f9a5",
   "outputs": [
    {
     "data": {
      "text/plain": [
       "<Figure size 640x480 with 1 Axes>"
      ],
      "image/png": "[encoded data removed]"
     },
     "metadata": {},
     "output_type": "display_data"
    }
   ],
   "execution_count": 35
  },
  {
   "metadata": {},
   "cell_type": "markdown",
   "source": "After clearing the Na values data distribution is really similar.",
   "id": "5da1f22b7481acc5"
  },
  {
   "metadata": {
    "ExecuteTime": {
     "end_time": "2025-09-01T15:53:04.121798Z",
     "start_time": "2025-09-01T15:53:04.072848Z"
    }
   },
   "cell_type": "code",
   "source": [
    "fare_median = titanic_df['Fare'].median()\n",
    "titanic_df['Fare'] = titanic_df['Fare'].fillna(fare_median)\n",
    "plot_histogram(titanic_df, 'Fare', 'Price', 10)"
   ],
   "id": "4bbc328750dbb84e",
   "outputs": [
    {
     "data": {
      "text/plain": [
       "<Figure size 640x480 with 1 Axes>"
      ],
      "image/png": "[encoded data removed]"
     },
     "metadata": {},
     "output_type": "display_data"
    }
   ],
   "execution_count": 36
  },
  {
   "metadata": {},
   "cell_type": "markdown",
   "source": "## Data Enrichment",
   "id": "21f474cf15309919"
  },
  {
   "metadata": {},
   "cell_type": "markdown",
   "source": [
    "### Cabin Column\n",
    "As I checked on the internet Titanic had decks from A to G, and 'T' was the only passenger cabin on boat deck known to have been occupied. The first letter of cabin determined the deck. I could create a new category 'Deck' which could give useful input if it correlates to survival, but this would also create a lot of 'Unknown' values, so I decided it's best not to add it to the final DataFrame."
   ],
   "id": "50892a30d7dca9d2"
  },
  {
   "metadata": {
    "ExecuteTime": {
     "end_time": "2025-09-01T15:53:04.134088Z",
     "start_time": "2025-09-01T15:53:04.127852Z"
    }
   },
   "cell_type": "code",
   "source": [
    "def cabin_to_deck(x):\n",
    "    if x == \"Unknown\":\n",
    "        return x\n",
    "    elif 'A' in x:\n",
    "        return 'A'\n",
    "    elif 'B' in x:\n",
    "        return 'B'\n",
    "    elif 'C' in x:\n",
    "        return 'C'\n",
    "    elif 'D' in x:\n",
    "        return \"D\"\n",
    "    elif 'E' in x:\n",
    "        return \"E\"\n",
    "    elif 'F' in x:\n",
    "        return \"F\"\n",
    "    elif 'G' in x:\n",
    "        return 'G'\n",
    "    elif 'T' in x:\n",
    "        return 'T'\n",
    "\n",
    "deck_column = pd.Series(data=titanic_df['Cabin'].apply(cabin_to_deck), index=titanic_df.index, name='Deck')\n",
    "pd.concat([titanic_df, deck_column], axis=1)"
   ],
   "id": "abfb636015f2d5fb",
   "outputs": [
    {
     "data": {
      "text/plain": [
       "             Survived  Pclass     Sex   Age  SibSp  Parch   Fare    Cabin  \\\n",
       "PassengerId                                                                 \n",
       "1                   0       3    male  22.0      1      0   7.25  Unknown   \n",
       "2                   1       1  female  38.0      1      0  71.28      C85   \n",
       "3                   1       3  female  26.0      0      0   7.92  Unknown   \n",
       "4                   1       1  female  35.0      1      0  53.10     C123   \n",
       "5                   0       3    male  35.0      0      0   8.05  Unknown   \n",
       "...               ...     ...     ...   ...    ...    ...    ...      ...   \n",
       "887                 0       2    male  27.0      0      0  13.00  Unknown   \n",
       "888                 1       1  female  19.0      0      0  30.00      B42   \n",
       "889                 0       3  female  17.0      1      2  23.45  Unknown   \n",
       "890                 1       1    male  26.0      0      0  30.00     C148   \n",
       "891                 0       3    male  32.0      0      0   7.75  Unknown   \n",
       "\n",
       "            Embarked     Deck  \n",
       "PassengerId                    \n",
       "1                  S  Unknown  \n",
       "2                  C        C  \n",
       "3                  S  Unknown  \n",
       "4                  S        C  \n",
       "5                  S  Unknown  \n",
       "...              ...      ...  \n",
       "887                S  Unknown  \n",
       "888                S        B  \n",
       "889                S  Unknown  \n",
       "890                C        C  \n",
       "891                Q  Unknown  \n",
       "\n",
       "[891 rows x 10 columns]"
      ],
      "text/html": [
       "<div>\n",
       "<style scoped>\n",
       "    .dataframe tbody tr th:only-of-type {\n",
       "        vertical-align: middle;\n",
       "    }\n",
       "\n",
       "    .dataframe tbody tr th {\n",
       "        vertical-align: top;\n",
       "    }\n",
       "\n",
       "    .dataframe thead th {\n",
       "        text-align: right;\n",
       "    }\n",
       "</style>\n",
       "<table border=\"1\" class=\"dataframe\">\n",
       "  <thead>\n",
       "    <tr style=\"text-align: right;\">\n",
       "      <th></th>\n",
       "      <th>Survived</th>\n",
       "      <th>Pclass</th>\n",
       "      <th>Sex</th>\n",
       "      <th>Age</th>\n",
       "      <th>SibSp</th>\n",
       "      <th>Parch</th>\n",
       "      <th>Fare</th>\n",
       "      <th>Cabin</th>\n",
       "      <th>Embarked</th>\n",
       "      <th>Deck</th>\n",
       "    </tr>\n",
       "    <tr>\n",
       "      <th>PassengerId</th>\n",
       "      <th></th>\n",
       "      <th></th>\n",
       "      <th></th>\n",
       "      <th></th>\n",
       "      <th></th>\n",
       "      <th></th>\n",
       "      <th></th>\n",
       "      <th></th>\n",
       "      <th></th>\n",
       "      <th></th>\n",
       "    </tr>\n",
       "  </thead>\n",
       "  <tbody>\n",
       "    <tr>\n",
       "      <th>1</th>\n",
       "      <td>0</td>\n",
       "      <td>3</td>\n",
       "      <td>male</td>\n",
       "      <td>22.0</td>\n",
       "      <td>1</td>\n",
       "      <td>0</td>\n",
       "      <td>7.25</td>\n",
       "      <td>Unknown</td>\n",
       "      <td>S</td>\n",
       "      <td>Unknown</td>\n",
       "    </tr>\n",
       "    <tr>\n",
       "      <th>2</th>\n",
       "      <td>1</td>\n",
       "      <td>1</td>\n",
       "      <td>female</td>\n",
       "      <td>38.0</td>\n",
       "      <td>1</td>\n",
       "      <td>0</td>\n",
       "      <td>71.28</td>\n",
       "      <td>C85</td>\n",
       "      <td>C</td>\n",
       "      <td>C</td>\n",
       "    </tr>\n",
       "    <tr>\n",
       "      <th>3</th>\n",
       "      <td>1</td>\n",
       "      <td>3</td>\n",
       "      <td>female</td>\n",
       "      <td>26.0</td>\n",
       "      <td>0</td>\n",
       "      <td>0</td>\n",
       "      <td>7.92</td>\n",
       "      <td>Unknown</td>\n",
       "      <td>S</td>\n",
       "      <td>Unknown</td>\n",
       "    </tr>\n",
       "    <tr>\n",
       "      <th>4</th>\n",
       "      <td>1</td>\n",
       "      <td>1</td>\n",
       "      <td>female</td>\n",
       "      <td>35.0</td>\n",
       "      <td>1</td>\n",
       "      <td>0</td>\n",
       "      <td>53.10</td>\n",
       "      <td>C123</td>\n",
       "      <td>S</td>\n",
       "      <td>C</td>\n",
       "    </tr>\n",
       "    <tr>\n",
       "      <th>5</th>\n",
       "      <td>0</td>\n",
       "      <td>3</td>\n",
       "      <td>male</td>\n",
       "      <td>35.0</td>\n",
       "      <td>0</td>\n",
       "      <td>0</td>\n",
       "      <td>8.05</td>\n",
       "      <td>Unknown</td>\n",
       "      <td>S</td>\n",
       "      <td>Unknown</td>\n",
       "    </tr>\n",
       "    <tr>\n",
       "      <th>...</th>\n",
       "      <td>...</td>\n",
       "      <td>...</td>\n",
       "      <td>...</td>\n",
       "      <td>...</td>\n",
       "      <td>...</td>\n",
       "      <td>...</td>\n",
       "      <td>...</td>\n",
       "      <td>...</td>\n",
       "      <td>...</td>\n",
       "      <td>...</td>\n",
       "    </tr>\n",
       "    <tr>\n",
       "      <th>887</th>\n",
       "      <td>0</td>\n",
       "      <td>2</td>\n",
       "      <td>male</td>\n",
       "      <td>27.0</td>\n",
       "      <td>0</td>\n",
       "      <td>0</td>\n",
       "      <td>13.00</td>\n",
       "      <td>Unknown</td>\n",
       "      <td>S</td>\n",
       "      <td>Unknown</td>\n",
       "    </tr>\n",
       "    <tr>\n",
       "      <th>888</th>\n",
       "      <td>1</td>\n",
       "      <td>1</td>\n",
       "      <td>female</td>\n",
       "      <td>19.0</td>\n",
       "      <td>0</td>\n",
       "      <td>0</td>\n",
       "      <td>30.00</td>\n",
       "      <td>B42</td>\n",
       "      <td>S</td>\n",
       "      <td>B</td>\n",
       "    </tr>\n",
       "    <tr>\n",
       "      <th>889</th>\n",
       "      <td>0</td>\n",
       "      <td>3</td>\n",
       "      <td>female</td>\n",
       "      <td>17.0</td>\n",
       "      <td>1</td>\n",
       "      <td>2</td>\n",
       "      <td>23.45</td>\n",
       "      <td>Unknown</td>\n",
       "      <td>S</td>\n",
       "      <td>Unknown</td>\n",
       "    </tr>\n",
       "    <tr>\n",
       "      <th>890</th>\n",
       "      <td>1</td>\n",
       "      <td>1</td>\n",
       "      <td>male</td>\n",
       "      <td>26.0</td>\n",
       "      <td>0</td>\n",
       "      <td>0</td>\n",
       "      <td>30.00</td>\n",
       "      <td>C148</td>\n",
       "      <td>C</td>\n",
       "      <td>C</td>\n",
       "    </tr>\n",
       "    <tr>\n",
       "      <th>891</th>\n",
       "      <td>0</td>\n",
       "      <td>3</td>\n",
       "      <td>male</td>\n",
       "      <td>32.0</td>\n",
       "      <td>0</td>\n",
       "      <td>0</td>\n",
       "      <td>7.75</td>\n",
       "      <td>Unknown</td>\n",
       "      <td>Q</td>\n",
       "      <td>Unknown</td>\n",
       "    </tr>\n",
       "  </tbody>\n",
       "</table>\n",
       "<p>891 rows × 10 columns</p>\n",
       "</div>"
      ]
     },
     "execution_count": 37,
     "metadata": {},
     "output_type": "execute_result"
    }
   ],
   "execution_count": 37
  },
  {
   "metadata": {},
   "cell_type": "markdown",
   "source": [
    "### Adult Column\n",
    "Column stating if the passenger is an adult or not (under 18) is added using encoding: 0 -> no, 1 -> yes."
   ],
   "id": "ad2192fb600040c9"
  },
  {
   "metadata": {
    "ExecuteTime": {
     "end_time": "2025-09-01T15:53:04.154777Z",
     "start_time": "2025-09-01T15:53:04.152542Z"
    }
   },
   "cell_type": "code",
   "source": [
    "adult = pd.Series(data=titanic_df['Age'].copy(), index=titanic_df.index, name='Adult')\n",
    "adult = adult.apply(lambda x: 1 if x >=18 else 0)\n",
    "titanic_df = pd.concat([titanic_df, adult], axis=1)"
   ],
   "id": "c10aa5c7b1ae3bf7",
   "outputs": [],
   "execution_count": 38
  },
  {
   "metadata": {},
   "cell_type": "markdown",
   "source": [
    "### Total Family Column\n",
    "Adding values from columns 'SibSp' and 'Parch' results in total amount of family the passenger has onboard."
   ],
   "id": "31de1e0b84342dd5"
  },
  {
   "metadata": {
    "ExecuteTime": {
     "end_time": "2025-09-01T15:53:04.175630Z",
     "start_time": "2025-09-01T15:53:04.173003Z"
    }
   },
   "cell_type": "code",
   "source": [
    "total_family_series = titanic_df['SibSp'] + titanic_df['Parch']\n",
    "total_family_series.name = 'TotalFamily'\n",
    "titanic_df = pd.concat([titanic_df, total_family_series], axis=1)"
   ],
   "id": "ecbf139198fb1f87",
   "outputs": [],
   "execution_count": 39
  },
  {
   "metadata": {},
   "cell_type": "markdown",
   "source": "After enriching data with two columns dataframe looks like this",
   "id": "869eda7ac467e2e0"
  },
  {
   "metadata": {
    "ExecuteTime": {
     "end_time": "2025-09-01T15:53:04.210647Z",
     "start_time": "2025-09-01T15:53:04.205800Z"
    }
   },
   "cell_type": "code",
   "source": "titanic_df",
   "id": "5d47dd7073f170d1",
   "outputs": [
    {
     "data": {
      "text/plain": [
       "             Survived  Pclass     Sex   Age  SibSp  Parch   Fare    Cabin  \\\n",
       "PassengerId                                                                 \n",
       "1                   0       3    male  22.0      1      0   7.25  Unknown   \n",
       "2                   1       1  female  38.0      1      0  71.28      C85   \n",
       "3                   1       3  female  26.0      0      0   7.92  Unknown   \n",
       "4                   1       1  female  35.0      1      0  53.10     C123   \n",
       "5                   0       3    male  35.0      0      0   8.05  Unknown   \n",
       "...               ...     ...     ...   ...    ...    ...    ...      ...   \n",
       "887                 0       2    male  27.0      0      0  13.00  Unknown   \n",
       "888                 1       1  female  19.0      0      0  30.00      B42   \n",
       "889                 0       3  female  17.0      1      2  23.45  Unknown   \n",
       "890                 1       1    male  26.0      0      0  30.00     C148   \n",
       "891                 0       3    male  32.0      0      0   7.75  Unknown   \n",
       "\n",
       "            Embarked  Adult  TotalFamily  \n",
       "PassengerId                               \n",
       "1                  S      1            1  \n",
       "2                  C      1            1  \n",
       "3                  S      1            0  \n",
       "4                  S      1            1  \n",
       "5                  S      1            0  \n",
       "...              ...    ...          ...  \n",
       "887                S      1            0  \n",
       "888                S      1            0  \n",
       "889                S      0            3  \n",
       "890                C      1            0  \n",
       "891                Q      1            0  \n",
       "\n",
       "[891 rows x 11 columns]"
      ],
      "text/html": [
       "<div>\n",
       "<style scoped>\n",
       "    .dataframe tbody tr th:only-of-type {\n",
       "        vertical-align: middle;\n",
       "    }\n",
       "\n",
       "    .dataframe tbody tr th {\n",
       "        vertical-align: top;\n",
       "    }\n",
       "\n",
       "    .dataframe thead th {\n",
       "        text-align: right;\n",
       "    }\n",
       "</style>\n",
       "<table border=\"1\" class=\"dataframe\">\n",
       "  <thead>\n",
       "    <tr style=\"text-align: right;\">\n",
       "      <th></th>\n",
       "      <th>Survived</th>\n",
       "      <th>Pclass</th>\n",
       "      <th>Sex</th>\n",
       "      <th>Age</th>\n",
       "      <th>SibSp</th>\n",
       "      <th>Parch</th>\n",
       "      <th>Fare</th>\n",
       "      <th>Cabin</th>\n",
       "      <th>Embarked</th>\n",
       "      <th>Adult</th>\n",
       "      <th>TotalFamily</th>\n",
       "    </tr>\n",
       "    <tr>\n",
       "      <th>PassengerId</th>\n",
       "      <th></th>\n",
       "      <th></th>\n",
       "      <th></th>\n",
       "      <th></th>\n",
       "      <th></th>\n",
       "      <th></th>\n",
       "      <th></th>\n",
       "      <th></th>\n",
       "      <th></th>\n",
       "      <th></th>\n",
       "      <th></th>\n",
       "    </tr>\n",
       "  </thead>\n",
       "  <tbody>\n",
       "    <tr>\n",
       "      <th>1</th>\n",
       "      <td>0</td>\n",
       "      <td>3</td>\n",
       "      <td>male</td>\n",
       "      <td>22.0</td>\n",
       "      <td>1</td>\n",
       "      <td>0</td>\n",
       "      <td>7.25</td>\n",
       "      <td>Unknown</td>\n",
       "      <td>S</td>\n",
       "      <td>1</td>\n",
       "      <td>1</td>\n",
       "    </tr>\n",
       "    <tr>\n",
       "      <th>2</th>\n",
       "      <td>1</td>\n",
       "      <td>1</td>\n",
       "      <td>female</td>\n",
       "      <td>38.0</td>\n",
       "      <td>1</td>\n",
       "      <td>0</td>\n",
       "      <td>71.28</td>\n",
       "      <td>C85</td>\n",
       "      <td>C</td>\n",
       "      <td>1</td>\n",
       "      <td>1</td>\n",
       "    </tr>\n",
       "    <tr>\n",
       "      <th>3</th>\n",
       "      <td>1</td>\n",
       "      <td>3</td>\n",
       "      <td>female</td>\n",
       "      <td>26.0</td>\n",
       "      <td>0</td>\n",
       "      <td>0</td>\n",
       "      <td>7.92</td>\n",
       "      <td>Unknown</td>\n",
       "      <td>S</td>\n",
       "      <td>1</td>\n",
       "      <td>0</td>\n",
       "    </tr>\n",
       "    <tr>\n",
       "      <th>4</th>\n",
       "      <td>1</td>\n",
       "      <td>1</td>\n",
       "      <td>female</td>\n",
       "      <td>35.0</td>\n",
       "      <td>1</td>\n",
       "      <td>0</td>\n",
       "      <td>53.10</td>\n",
       "      <td>C123</td>\n",
       "      <td>S</td>\n",
       "      <td>1</td>\n",
       "      <td>1</td>\n",
       "    </tr>\n",
       "    <tr>\n",
       "      <th>5</th>\n",
       "      <td>0</td>\n",
       "      <td>3</td>\n",
       "      <td>male</td>\n",
       "      <td>35.0</td>\n",
       "      <td>0</td>\n",
       "      <td>0</td>\n",
       "      <td>8.05</td>\n",
       "      <td>Unknown</td>\n",
       "      <td>S</td>\n",
       "      <td>1</td>\n",
       "      <td>0</td>\n",
       "    </tr>\n",
       "    <tr>\n",
       "      <th>...</th>\n",
       "      <td>...</td>\n",
       "      <td>...</td>\n",
       "      <td>...</td>\n",
       "      <td>...</td>\n",
       "      <td>...</td>\n",
       "      <td>...</td>\n",
       "      <td>...</td>\n",
       "      <td>...</td>\n",
       "      <td>...</td>\n",
       "      <td>...</td>\n",
       "      <td>...</td>\n",
       "    </tr>\n",
       "    <tr>\n",
       "      <th>887</th>\n",
       "      <td>0</td>\n",
       "      <td>2</td>\n",
       "      <td>male</td>\n",
       "      <td>27.0</td>\n",
       "      <td>0</td>\n",
       "      <td>0</td>\n",
       "      <td>13.00</td>\n",
       "      <td>Unknown</td>\n",
       "      <td>S</td>\n",
       "      <td>1</td>\n",
       "      <td>0</td>\n",
       "    </tr>\n",
       "    <tr>\n",
       "      <th>888</th>\n",
       "      <td>1</td>\n",
       "      <td>1</td>\n",
       "      <td>female</td>\n",
       "      <td>19.0</td>\n",
       "      <td>0</td>\n",
       "      <td>0</td>\n",
       "      <td>30.00</td>\n",
       "      <td>B42</td>\n",
       "      <td>S</td>\n",
       "      <td>1</td>\n",
       "      <td>0</td>\n",
       "    </tr>\n",
       "    <tr>\n",
       "      <th>889</th>\n",
       "      <td>0</td>\n",
       "      <td>3</td>\n",
       "      <td>female</td>\n",
       "      <td>17.0</td>\n",
       "      <td>1</td>\n",
       "      <td>2</td>\n",
       "      <td>23.45</td>\n",
       "      <td>Unknown</td>\n",
       "      <td>S</td>\n",
       "      <td>0</td>\n",
       "      <td>3</td>\n",
       "    </tr>\n",
       "    <tr>\n",
       "      <th>890</th>\n",
       "      <td>1</td>\n",
       "      <td>1</td>\n",
       "      <td>male</td>\n",
       "      <td>26.0</td>\n",
       "      <td>0</td>\n",
       "      <td>0</td>\n",
       "      <td>30.00</td>\n",
       "      <td>C148</td>\n",
       "      <td>C</td>\n",
       "      <td>1</td>\n",
       "      <td>0</td>\n",
       "    </tr>\n",
       "    <tr>\n",
       "      <th>891</th>\n",
       "      <td>0</td>\n",
       "      <td>3</td>\n",
       "      <td>male</td>\n",
       "      <td>32.0</td>\n",
       "      <td>0</td>\n",
       "      <td>0</td>\n",
       "      <td>7.75</td>\n",
       "      <td>Unknown</td>\n",
       "      <td>Q</td>\n",
       "      <td>1</td>\n",
       "      <td>0</td>\n",
       "    </tr>\n",
       "  </tbody>\n",
       "</table>\n",
       "<p>891 rows × 11 columns</p>\n",
       "</div>"
      ]
     },
     "execution_count": 40,
     "metadata": {},
     "output_type": "execute_result"
    }
   ],
   "execution_count": 40
  },
  {
   "metadata": {},
   "cell_type": "markdown",
   "source": [
    "## Heatmap\n",
    "I decided it's best to visualize the heatmap here, before one hot encoding. It will have a smaller size. There is a positive correlation between survival and fare - the pricier the ticket the higher chance of survival. It corresponds to the negative correlation between survival and class - the lower the class (1st being the best and the most expensive) the higher survival rate. Anything else seems to have little to practically no effect on whether passenger made it alive. Strong correlatrion between 'Adult' and 'Age' - obviously. If passenger had family onboard it correlated to the higher price of a ticket."
   ],
   "id": "4a5a8990beebe22c"
  },
  {
   "metadata": {
    "ExecuteTime": {
     "end_time": "2025-09-01T15:53:04.346734Z",
     "start_time": "2025-09-01T15:53:04.237789Z"
    }
   },
   "cell_type": "code",
   "source": [
    "corr_matrix = titanic_df.corr(numeric_only=True)\n",
    "plt.figure()\n",
    "sns.heatmap(corr_matrix, annot=True, cmap='coolwarm')\n",
    "plt.title('Correlation HeatMap')\n",
    "plt.tight_layout()\n",
    "plt.show()"
   ],
   "id": "e0e5bc6faae3e8a2",
   "outputs": [
    {
     "data": {
      "text/plain": [
       "<Figure size 640x480 with 2 Axes>"
      ],
      "image/png": "[encoded data removed]"
     },
     "metadata": {},
     "output_type": "display_data"
    }
   ],
   "execution_count": 41
  },
  {
   "metadata": {},
   "cell_type": "markdown",
   "source": [
    "## Encoding categorical columns\n",
    "## 'Sex' Column\n",
    "Sex column encoding: 0 -> male, 1 -> female"
   ],
   "id": "4ce92010d083be95"
  },
  {
   "metadata": {
    "ExecuteTime": {
     "end_time": "2025-09-01T15:53:04.363414Z",
     "start_time": "2025-09-01T15:53:04.361287Z"
    }
   },
   "cell_type": "code",
   "source": "titanic_df['Sex'] = titanic_df['Sex'].apply(lambda x: 0 if x == 'male' else 1)",
   "id": "6dc89c32c74ea6b",
   "outputs": [],
   "execution_count": 42
  },
  {
   "metadata": {},
   "cell_type": "markdown",
   "source": [
    "### 'Cabin' Column\n",
    "I have no idea which encoding should I use on 'Cabin'. It's a room number so it has no order and serves just as ID. There are 148 unique values (including 'Unknown') so with one hot encoding I would add 148 dimensions, it seems to be wrong. I will replace the 'Cabin' column with 'Deck' column, it will add fewer than 10 dimensions after one hot encoding (I need to do this because task is to encode every categorical value). There is just no other way, at least to my knowledge. There are 9 unique values now (including 'Unknown') and the loss of the number of the rooms seems insignificant. Maybe richer people had bigger apartments, but their numbers could differ from deck to deck and I don't see how this could be important for survival"
   ],
   "id": "e683f7dac5e5ea47"
  },
  {
   "metadata": {
    "ExecuteTime": {
     "end_time": "2025-09-01T15:53:04.377309Z",
     "start_time": "2025-09-01T15:53:04.374610Z"
    }
   },
   "cell_type": "code",
   "source": [
    "len(titanic_df['Cabin'].unique())\n",
    "titanic_df['Cabin'] = deck_column\n",
    "titanic_df.rename(columns={'Cabin': 'Deck'}, inplace=True)\n",
    "len(titanic_df['Deck'].unique())"
   ],
   "id": "f01133977a74c248",
   "outputs": [
    {
     "data": {
      "text/plain": [
       "9"
      ]
     },
     "execution_count": 43,
     "metadata": {},
     "output_type": "execute_result"
    }
   ],
   "execution_count": 43
  },
  {
   "metadata": {
    "ExecuteTime": {
     "end_time": "2025-09-01T15:53:04.411216Z",
     "start_time": "2025-09-01T15:53:04.402177Z"
    }
   },
   "cell_type": "code",
   "source": [
    "titanic_df = pd.get_dummies(data=titanic_df, prefix='Deck', columns=['Deck'], dtype=np.int32)\n",
    "titanic_df"
   ],
   "id": "69c0f7f0cbebb80e",
   "outputs": [
    {
     "data": {
      "text/plain": [
       "             Survived  Pclass  Sex   Age  SibSp  Parch   Fare Embarked  Adult  \\\n",
       "PassengerId                                                                     \n",
       "1                   0       3    0  22.0      1      0   7.25        S      1   \n",
       "2                   1       1    1  38.0      1      0  71.28        C      1   \n",
       "3                   1       3    1  26.0      0      0   7.92        S      1   \n",
       "4                   1       1    1  35.0      1      0  53.10        S      1   \n",
       "5                   0       3    0  35.0      0      0   8.05        S      1   \n",
       "...               ...     ...  ...   ...    ...    ...    ...      ...    ...   \n",
       "887                 0       2    0  27.0      0      0  13.00        S      1   \n",
       "888                 1       1    1  19.0      0      0  30.00        S      1   \n",
       "889                 0       3    1  17.0      1      2  23.45        S      0   \n",
       "890                 1       1    0  26.0      0      0  30.00        C      1   \n",
       "891                 0       3    0  32.0      0      0   7.75        Q      1   \n",
       "\n",
       "             TotalFamily  Deck_A  Deck_B  Deck_C  Deck_D  Deck_E  Deck_F  \\\n",
       "PassengerId                                                                \n",
       "1                      1       0       0       0       0       0       0   \n",
       "2                      1       0       0       1       0       0       0   \n",
       "3                      0       0       0       0       0       0       0   \n",
       "4                      1       0       0       1       0       0       0   \n",
       "5                      0       0       0       0       0       0       0   \n",
       "...                  ...     ...     ...     ...     ...     ...     ...   \n",
       "887                    0       0       0       0       0       0       0   \n",
       "888                    0       0       1       0       0       0       0   \n",
       "889                    3       0       0       0       0       0       0   \n",
       "890                    0       0       0       1       0       0       0   \n",
       "891                    0       0       0       0       0       0       0   \n",
       "\n",
       "             Deck_G  Deck_T  Deck_Unknown  \n",
       "PassengerId                                \n",
       "1                 0       0             1  \n",
       "2                 0       0             0  \n",
       "3                 0       0             1  \n",
       "4                 0       0             0  \n",
       "5                 0       0             1  \n",
       "...             ...     ...           ...  \n",
       "887               0       0             1  \n",
       "888               0       0             0  \n",
       "889               0       0             1  \n",
       "890               0       0             0  \n",
       "891               0       0             1  \n",
       "\n",
       "[891 rows x 19 columns]"
      ],
      "text/html": [
       "<div>\n",
       "<style scoped>\n",
       "    .dataframe tbody tr th:only-of-type {\n",
       "        vertical-align: middle;\n",
       "    }\n",
       "\n",
       "    .dataframe tbody tr th {\n",
       "        vertical-align: top;\n",
       "    }\n",
       "\n",
       "    .dataframe thead th {\n",
       "        text-align: right;\n",
       "    }\n",
       "</style>\n",
       "<table border=\"1\" class=\"dataframe\">\n",
       "  <thead>\n",
       "    <tr style=\"text-align: right;\">\n",
       "      <th></th>\n",
       "      <th>Survived</th>\n",
       "      <th>Pclass</th>\n",
       "      <th>Sex</th>\n",
       "      <th>Age</th>\n",
       "      <th>SibSp</th>\n",
       "      <th>Parch</th>\n",
       "      <th>Fare</th>\n",
       "      <th>Embarked</th>\n",
       "      <th>Adult</th>\n",
       "      <th>TotalFamily</th>\n",
       "      <th>Deck_A</th>\n",
       "      <th>Deck_B</th>\n",
       "      <th>Deck_C</th>\n",
       "      <th>Deck_D</th>\n",
       "      <th>Deck_E</th>\n",
       "      <th>Deck_F</th>\n",
       "      <th>Deck_G</th>\n",
       "      <th>Deck_T</th>\n",
       "      <th>Deck_Unknown</th>\n",
       "    </tr>\n",
       "    <tr>\n",
       "      <th>PassengerId</th>\n",
       "      <th></th>\n",
       "      <th></th>\n",
       "      <th></th>\n",
       "      <th></th>\n",
       "      <th></th>\n",
       "      <th></th>\n",
       "      <th></th>\n",
       "      <th></th>\n",
       "      <th></th>\n",
       "      <th></th>\n",
       "      <th></th>\n",
       "      <th></th>\n",
       "      <th></th>\n",
       "      <th></th>\n",
       "      <th></th>\n",
       "      <th></th>\n",
       "      <th></th>\n",
       "      <th></th>\n",
       "      <th></th>\n",
       "    </tr>\n",
       "  </thead>\n",
       "  <tbody>\n",
       "    <tr>\n",
       "      <th>1</th>\n",
       "      <td>0</td>\n",
       "      <td>3</td>\n",
       "      <td>0</td>\n",
       "      <td>22.0</td>\n",
       "      <td>1</td>\n",
       "      <td>0</td>\n",
       "      <td>7.25</td>\n",
       "      <td>S</td>\n",
       "      <td>1</td>\n",
       "      <td>1</td>\n",
       "      <td>0</td>\n",
       "      <td>0</td>\n",
       "      <td>0</td>\n",
       "      <td>0</td>\n",
       "      <td>0</td>\n",
       "      <td>0</td>\n",
       "      <td>0</td>\n",
       "      <td>0</td>\n",
       "      <td>1</td>\n",
       "    </tr>\n",
       "    <tr>\n",
       "      <th>2</th>\n",
       "      <td>1</td>\n",
       "      <td>1</td>\n",
       "      <td>1</td>\n",
       "      <td>38.0</td>\n",
       "      <td>1</td>\n",
       "      <td>0</td>\n",
       "      <td>71.28</td>\n",
       "      <td>C</td>\n",
       "      <td>1</td>\n",
       "      <td>1</td>\n",
       "      <td>0</td>\n",
       "      <td>0</td>\n",
       "      <td>1</td>\n",
       "      <td>0</td>\n",
       "      <td>0</td>\n",
       "      <td>0</td>\n",
       "      <td>0</td>\n",
       "      <td>0</td>\n",
       "      <td>0</td>\n",
       "    </tr>\n",
       "    <tr>\n",
       "      <th>3</th>\n",
       "      <td>1</td>\n",
       "      <td>3</td>\n",
       "      <td>1</td>\n",
       "      <td>26.0</td>\n",
       "      <td>0</td>\n",
       "      <td>0</td>\n",
       "      <td>7.92</td>\n",
       "      <td>S</td>\n",
       "      <td>1</td>\n",
       "      <td>0</td>\n",
       "      <td>0</td>\n",
       "      <td>0</td>\n",
       "      <td>0</td>\n",
       "      <td>0</td>\n",
       "      <td>0</td>\n",
       "      <td>0</td>\n",
       "      <td>0</td>\n",
       "      <td>0</td>\n",
       "      <td>1</td>\n",
       "    </tr>\n",
       "    <tr>\n",
       "      <th>4</th>\n",
       "      <td>1</td>\n",
       "      <td>1</td>\n",
       "      <td>1</td>\n",
       "      <td>35.0</td>\n",
       "      <td>1</td>\n",
       "      <td>0</td>\n",
       "      <td>53.10</td>\n",
       "      <td>S</td>\n",
       "      <td>1</td>\n",
       "      <td>1</td>\n",
       "      <td>0</td>\n",
       "      <td>0</td>\n",
       "      <td>1</td>\n",
       "      <td>0</td>\n",
       "      <td>0</td>\n",
       "      <td>0</td>\n",
       "      <td>0</td>\n",
       "      <td>0</td>\n",
       "      <td>0</td>\n",
       "    </tr>\n",
       "    <tr>\n",
       "      <th>5</th>\n",
       "      <td>0</td>\n",
       "      <td>3</td>\n",
       "      <td>0</td>\n",
       "      <td>35.0</td>\n",
       "      <td>0</td>\n",
       "      <td>0</td>\n",
       "      <td>8.05</td>\n",
       "      <td>S</td>\n",
       "      <td>1</td>\n",
       "      <td>0</td>\n",
       "      <td>0</td>\n",
       "      <td>0</td>\n",
       "      <td>0</td>\n",
       "      <td>0</td>\n",
       "      <td>0</td>\n",
       "      <td>0</td>\n",
       "      <td>0</td>\n",
       "      <td>0</td>\n",
       "      <td>1</td>\n",
       "    </tr>\n",
       "    <tr>\n",
       "      <th>...</th>\n",
       "      <td>...</td>\n",
       "      <td>...</td>\n",
       "      <td>...</td>\n",
       "      <td>...</td>\n",
       "      <td>...</td>\n",
       "      <td>...</td>\n",
       "      <td>...</td>\n",
       "      <td>...</td>\n",
       "      <td>...</td>\n",
       "      <td>...</td>\n",
       "      <td>...</td>\n",
       "      <td>...</td>\n",
       "      <td>...</td>\n",
       "      <td>...</td>\n",
       "      <td>...</td>\n",
       "      <td>...</td>\n",
       "      <td>...</td>\n",
       "      <td>...</td>\n",
       "      <td>...</td>\n",
       "    </tr>\n",
       "    <tr>\n",
       "      <th>887</th>\n",
       "      <td>0</td>\n",
       "      <td>2</td>\n",
       "      <td>0</td>\n",
       "      <td>27.0</td>\n",
       "      <td>0</td>\n",
       "      <td>0</td>\n",
       "      <td>13.00</td>\n",
       "      <td>S</td>\n",
       "      <td>1</td>\n",
       "      <td>0</td>\n",
       "      <td>0</td>\n",
       "      <td>0</td>\n",
       "      <td>0</td>\n",
       "      <td>0</td>\n",
       "      <td>0</td>\n",
       "      <td>0</td>\n",
       "      <td>0</td>\n",
       "      <td>0</td>\n",
       "      <td>1</td>\n",
       "    </tr>\n",
       "    <tr>\n",
       "      <th>888</th>\n",
       "      <td>1</td>\n",
       "      <td>1</td>\n",
       "      <td>1</td>\n",
       "      <td>19.0</td>\n",
       "      <td>0</td>\n",
       "      <td>0</td>\n",
       "      <td>30.00</td>\n",
       "      <td>S</td>\n",
       "      <td>1</td>\n",
       "      <td>0</td>\n",
       "      <td>0</td>\n",
       "      <td>1</td>\n",
       "      <td>0</td>\n",
       "      <td>0</td>\n",
       "      <td>0</td>\n",
       "      <td>0</td>\n",
       "      <td>0</td>\n",
       "      <td>0</td>\n",
       "      <td>0</td>\n",
       "    </tr>\n",
       "    <tr>\n",
       "      <th>889</th>\n",
       "      <td>0</td>\n",
       "      <td>3</td>\n",
       "      <td>1</td>\n",
       "      <td>17.0</td>\n",
       "      <td>1</td>\n",
       "      <td>2</td>\n",
       "      <td>23.45</td>\n",
       "      <td>S</td>\n",
       "      <td>0</td>\n",
       "      <td>3</td>\n",
       "      <td>0</td>\n",
       "      <td>0</td>\n",
       "      <td>0</td>\n",
       "      <td>0</td>\n",
       "      <td>0</td>\n",
       "      <td>0</td>\n",
       "      <td>0</td>\n",
       "      <td>0</td>\n",
       "      <td>1</td>\n",
       "    </tr>\n",
       "    <tr>\n",
       "      <th>890</th>\n",
       "      <td>1</td>\n",
       "      <td>1</td>\n",
       "      <td>0</td>\n",
       "      <td>26.0</td>\n",
       "      <td>0</td>\n",
       "      <td>0</td>\n",
       "      <td>30.00</td>\n",
       "      <td>C</td>\n",
       "      <td>1</td>\n",
       "      <td>0</td>\n",
       "      <td>0</td>\n",
       "      <td>0</td>\n",
       "      <td>1</td>\n",
       "      <td>0</td>\n",
       "      <td>0</td>\n",
       "      <td>0</td>\n",
       "      <td>0</td>\n",
       "      <td>0</td>\n",
       "      <td>0</td>\n",
       "    </tr>\n",
       "    <tr>\n",
       "      <th>891</th>\n",
       "      <td>0</td>\n",
       "      <td>3</td>\n",
       "      <td>0</td>\n",
       "      <td>32.0</td>\n",
       "      <td>0</td>\n",
       "      <td>0</td>\n",
       "      <td>7.75</td>\n",
       "      <td>Q</td>\n",
       "      <td>1</td>\n",
       "      <td>0</td>\n",
       "      <td>0</td>\n",
       "      <td>0</td>\n",
       "      <td>0</td>\n",
       "      <td>0</td>\n",
       "      <td>0</td>\n",
       "      <td>0</td>\n",
       "      <td>0</td>\n",
       "      <td>0</td>\n",
       "      <td>1</td>\n",
       "    </tr>\n",
       "  </tbody>\n",
       "</table>\n",
       "<p>891 rows × 19 columns</p>\n",
       "</div>"
      ]
     },
     "execution_count": 44,
     "metadata": {},
     "output_type": "execute_result"
    }
   ],
   "execution_count": 44
  },
  {
   "metadata": {},
   "cell_type": "markdown",
   "source": [
    "### 'Embarked' Column\n",
    "This column will be also one hot encoded because there is no order in the categories (no port is less than/more than others) and other encodings could mislead the model."
   ],
   "id": "aa5497ac2634825"
  },
  {
   "metadata": {
    "ExecuteTime": {
     "end_time": "2025-09-01T15:53:04.440477Z",
     "start_time": "2025-09-01T15:53:04.432632Z"
    }
   },
   "cell_type": "code",
   "source": [
    "titanic_df = pd.get_dummies(data=titanic_df, prefix='Embarked', columns=['Embarked'], dtype=np.int32)\n",
    "titanic_df"
   ],
   "id": "e09091b92b49152a",
   "outputs": [
    {
     "data": {
      "text/plain": [
       "             Survived  Pclass  Sex   Age  SibSp  Parch   Fare  Adult  \\\n",
       "PassengerId                                                            \n",
       "1                   0       3    0  22.0      1      0   7.25      1   \n",
       "2                   1       1    1  38.0      1      0  71.28      1   \n",
       "3                   1       3    1  26.0      0      0   7.92      1   \n",
       "4                   1       1    1  35.0      1      0  53.10      1   \n",
       "5                   0       3    0  35.0      0      0   8.05      1   \n",
       "...               ...     ...  ...   ...    ...    ...    ...    ...   \n",
       "887                 0       2    0  27.0      0      0  13.00      1   \n",
       "888                 1       1    1  19.0      0      0  30.00      1   \n",
       "889                 0       3    1  17.0      1      2  23.45      0   \n",
       "890                 1       1    0  26.0      0      0  30.00      1   \n",
       "891                 0       3    0  32.0      0      0   7.75      1   \n",
       "\n",
       "             TotalFamily  Deck_A  ...  Deck_C  Deck_D  Deck_E  Deck_F  Deck_G  \\\n",
       "PassengerId                       ...                                           \n",
       "1                      1       0  ...       0       0       0       0       0   \n",
       "2                      1       0  ...       1       0       0       0       0   \n",
       "3                      0       0  ...       0       0       0       0       0   \n",
       "4                      1       0  ...       1       0       0       0       0   \n",
       "5                      0       0  ...       0       0       0       0       0   \n",
       "...                  ...     ...  ...     ...     ...     ...     ...     ...   \n",
       "887                    0       0  ...       0       0       0       0       0   \n",
       "888                    0       0  ...       0       0       0       0       0   \n",
       "889                    3       0  ...       0       0       0       0       0   \n",
       "890                    0       0  ...       1       0       0       0       0   \n",
       "891                    0       0  ...       0       0       0       0       0   \n",
       "\n",
       "             Deck_T  Deck_Unknown  Embarked_C  Embarked_Q  Embarked_S  \n",
       "PassengerId                                                            \n",
       "1                 0             1           0           0           1  \n",
       "2                 0             0           1           0           0  \n",
       "3                 0             1           0           0           1  \n",
       "4                 0             0           0           0           1  \n",
       "5                 0             1           0           0           1  \n",
       "...             ...           ...         ...         ...         ...  \n",
       "887               0             1           0           0           1  \n",
       "888               0             0           0           0           1  \n",
       "889               0             1           0           0           1  \n",
       "890               0             0           1           0           0  \n",
       "891               0             1           0           1           0  \n",
       "\n",
       "[891 rows x 21 columns]"
      ],
      "text/html": [
       "<div>\n",
       "<style scoped>\n",
       "    .dataframe tbody tr th:only-of-type {\n",
       "        vertical-align: middle;\n",
       "    }\n",
       "\n",
       "    .dataframe tbody tr th {\n",
       "        vertical-align: top;\n",
       "    }\n",
       "\n",
       "    .dataframe thead th {\n",
       "        text-align: right;\n",
       "    }\n",
       "</style>\n",
       "<table border=\"1\" class=\"dataframe\">\n",
       "  <thead>\n",
       "    <tr style=\"text-align: right;\">\n",
       "      <th></th>\n",
       "      <th>Survived</th>\n",
       "      <th>Pclass</th>\n",
       "      <th>Sex</th>\n",
       "      <th>Age</th>\n",
       "      <th>SibSp</th>\n",
       "      <th>Parch</th>\n",
       "      <th>Fare</th>\n",
       "      <th>Adult</th>\n",
       "      <th>TotalFamily</th>\n",
       "      <th>Deck_A</th>\n",
       "      <th>...</th>\n",
       "      <th>Deck_C</th>\n",
       "      <th>Deck_D</th>\n",
       "      <th>Deck_E</th>\n",
       "      <th>Deck_F</th>\n",
       "      <th>Deck_G</th>\n",
       "      <th>Deck_T</th>\n",
       "      <th>Deck_Unknown</th>\n",
       "      <th>Embarked_C</th>\n",
       "      <th>Embarked_Q</th>\n",
       "      <th>Embarked_S</th>\n",
       "    </tr>\n",
       "    <tr>\n",
       "      <th>PassengerId</th>\n",
       "      <th></th>\n",
       "      <th></th>\n",
       "      <th></th>\n",
       "      <th></th>\n",
       "      <th></th>\n",
       "      <th></th>\n",
       "      <th></th>\n",
       "      <th></th>\n",
       "      <th></th>\n",
       "      <th></th>\n",
       "      <th></th>\n",
       "      <th></th>\n",
       "      <th></th>\n",
       "      <th></th>\n",
       "      <th></th>\n",
       "      <th></th>\n",
       "      <th></th>\n",
       "      <th></th>\n",
       "      <th></th>\n",
       "      <th></th>\n",
       "      <th></th>\n",
       "    </tr>\n",
       "  </thead>\n",
       "  <tbody>\n",
       "    <tr>\n",
       "      <th>1</th>\n",
       "      <td>0</td>\n",
       "      <td>3</td>\n",
       "      <td>0</td>\n",
       "      <td>22.0</td>\n",
       "      <td>1</td>\n",
       "      <td>0</td>\n",
       "      <td>7.25</td>\n",
       "      <td>1</td>\n",
       "      <td>1</td>\n",
       "      <td>0</td>\n",
       "      <td>...</td>\n",
       "      <td>0</td>\n",
       "      <td>0</td>\n",
       "      <td>0</td>\n",
       "      <td>0</td>\n",
       "      <td>0</td>\n",
       "      <td>0</td>\n",
       "      <td>1</td>\n",
       "      <td>0</td>\n",
       "      <td>0</td>\n",
       "      <td>1</td>\n",
       "    </tr>\n",
       "    <tr>\n",
       "      <th>2</th>\n",
       "      <td>1</td>\n",
       "      <td>1</td>\n",
       "      <td>1</td>\n",
       "      <td>38.0</td>\n",
       "      <td>1</td>\n",
       "      <td>0</td>\n",
       "      <td>71.28</td>\n",
       "      <td>1</td>\n",
       "      <td>1</td>\n",
       "      <td>0</td>\n",
       "      <td>...</td>\n",
       "      <td>1</td>\n",
       "      <td>0</td>\n",
       "      <td>0</td>\n",
       "      <td>0</td>\n",
       "      <td>0</td>\n",
       "      <td>0</td>\n",
       "      <td>0</td>\n",
       "      <td>1</td>\n",
       "      <td>0</td>\n",
       "      <td>0</td>\n",
       "    </tr>\n",
       "    <tr>\n",
       "      <th>3</th>\n",
       "      <td>1</td>\n",
       "      <td>3</td>\n",
       "      <td>1</td>\n",
       "      <td>26.0</td>\n",
       "      <td>0</td>\n",
       "      <td>0</td>\n",
       "      <td>7.92</td>\n",
       "      <td>1</td>\n",
       "      <td>0</td>\n",
       "      <td>0</td>\n",
       "      <td>...</td>\n",
       "      <td>0</td>\n",
       "      <td>0</td>\n",
       "      <td>0</td>\n",
       "      <td>0</td>\n",
       "      <td>0</td>\n",
       "      <td>0</td>\n",
       "      <td>1</td>\n",
       "      <td>0</td>\n",
       "      <td>0</td>\n",
       "      <td>1</td>\n",
       "    </tr>\n",
       "    <tr>\n",
       "      <th>4</th>\n",
       "      <td>1</td>\n",
       "      <td>1</td>\n",
       "      <td>1</td>\n",
       "      <td>35.0</td>\n",
       "      <td>1</td>\n",
       "      <td>0</td>\n",
       "      <td>53.10</td>\n",
       "      <td>1</td>\n",
       "      <td>1</td>\n",
       "      <td>0</td>\n",
       "      <td>...</td>\n",
       "      <td>1</td>\n",
       "      <td>0</td>\n",
       "      <td>0</td>\n",
       "      <td>0</td>\n",
       "      <td>0</td>\n",
       "      <td>0</td>\n",
       "      <td>0</td>\n",
       "      <td>0</td>\n",
       "      <td>0</td>\n",
       "      <td>1</td>\n",
       "    </tr>\n",
       "    <tr>\n",
       "      <th>5</th>\n",
       "      <td>0</td>\n",
       "      <td>3</td>\n",
       "      <td>0</td>\n",
       "      <td>35.0</td>\n",
       "      <td>0</td>\n",
       "      <td>0</td>\n",
       "      <td>8.05</td>\n",
       "      <td>1</td>\n",
       "      <td>0</td>\n",
       "      <td>0</td>\n",
       "      <td>...</td>\n",
       "      <td>0</td>\n",
       "      <td>0</td>\n",
       "      <td>0</td>\n",
       "      <td>0</td>\n",
       "      <td>0</td>\n",
       "      <td>0</td>\n",
       "      <td>1</td>\n",
       "      <td>0</td>\n",
       "      <td>0</td>\n",
       "      <td>1</td>\n",
       "    </tr>\n",
       "    <tr>\n",
       "      <th>...</th>\n",
       "      <td>...</td>\n",
       "      <td>...</td>\n",
       "      <td>...</td>\n",
       "      <td>...</td>\n",
       "      <td>...</td>\n",
       "      <td>...</td>\n",
       "      <td>...</td>\n",
       "      <td>...</td>\n",
       "      <td>...</td>\n",
       "      <td>...</td>\n",
       "      <td>...</td>\n",
       "      <td>...</td>\n",
       "      <td>...</td>\n",
       "      <td>...</td>\n",
       "      <td>...</td>\n",
       "      <td>...</td>\n",
       "      <td>...</td>\n",
       "      <td>...</td>\n",
       "      <td>...</td>\n",
       "      <td>...</td>\n",
       "      <td>...</td>\n",
       "    </tr>\n",
       "    <tr>\n",
       "      <th>887</th>\n",
       "      <td>0</td>\n",
       "      <td>2</td>\n",
       "      <td>0</td>\n",
       "      <td>27.0</td>\n",
       "      <td>0</td>\n",
       "      <td>0</td>\n",
       "      <td>13.00</td>\n",
       "      <td>1</td>\n",
       "      <td>0</td>\n",
       "      <td>0</td>\n",
       "      <td>...</td>\n",
       "      <td>0</td>\n",
       "      <td>0</td>\n",
       "      <td>0</td>\n",
       "      <td>0</td>\n",
       "      <td>0</td>\n",
       "      <td>0</td>\n",
       "      <td>1</td>\n",
       "      <td>0</td>\n",
       "      <td>0</td>\n",
       "      <td>1</td>\n",
       "    </tr>\n",
       "    <tr>\n",
       "      <th>888</th>\n",
       "      <td>1</td>\n",
       "      <td>1</td>\n",
       "      <td>1</td>\n",
       "      <td>19.0</td>\n",
       "      <td>0</td>\n",
       "      <td>0</td>\n",
       "      <td>30.00</td>\n",
       "      <td>1</td>\n",
       "      <td>0</td>\n",
       "      <td>0</td>\n",
       "      <td>...</td>\n",
       "      <td>0</td>\n",
       "      <td>0</td>\n",
       "      <td>0</td>\n",
       "      <td>0</td>\n",
       "      <td>0</td>\n",
       "      <td>0</td>\n",
       "      <td>0</td>\n",
       "      <td>0</td>\n",
       "      <td>0</td>\n",
       "      <td>1</td>\n",
       "    </tr>\n",
       "    <tr>\n",
       "      <th>889</th>\n",
       "      <td>0</td>\n",
       "      <td>3</td>\n",
       "      <td>1</td>\n",
       "      <td>17.0</td>\n",
       "      <td>1</td>\n",
       "      <td>2</td>\n",
       "      <td>23.45</td>\n",
       "      <td>0</td>\n",
       "      <td>3</td>\n",
       "      <td>0</td>\n",
       "      <td>...</td>\n",
       "      <td>0</td>\n",
       "      <td>0</td>\n",
       "      <td>0</td>\n",
       "      <td>0</td>\n",
       "      <td>0</td>\n",
       "      <td>0</td>\n",
       "      <td>1</td>\n",
       "      <td>0</td>\n",
       "      <td>0</td>\n",
       "      <td>1</td>\n",
       "    </tr>\n",
       "    <tr>\n",
       "      <th>890</th>\n",
       "      <td>1</td>\n",
       "      <td>1</td>\n",
       "      <td>0</td>\n",
       "      <td>26.0</td>\n",
       "      <td>0</td>\n",
       "      <td>0</td>\n",
       "      <td>30.00</td>\n",
       "      <td>1</td>\n",
       "      <td>0</td>\n",
       "      <td>0</td>\n",
       "      <td>...</td>\n",
       "      <td>1</td>\n",
       "      <td>0</td>\n",
       "      <td>0</td>\n",
       "      <td>0</td>\n",
       "      <td>0</td>\n",
       "      <td>0</td>\n",
       "      <td>0</td>\n",
       "      <td>1</td>\n",
       "      <td>0</td>\n",
       "      <td>0</td>\n",
       "    </tr>\n",
       "    <tr>\n",
       "      <th>891</th>\n",
       "      <td>0</td>\n",
       "      <td>3</td>\n",
       "      <td>0</td>\n",
       "      <td>32.0</td>\n",
       "      <td>0</td>\n",
       "      <td>0</td>\n",
       "      <td>7.75</td>\n",
       "      <td>1</td>\n",
       "      <td>0</td>\n",
       "      <td>0</td>\n",
       "      <td>...</td>\n",
       "      <td>0</td>\n",
       "      <td>0</td>\n",
       "      <td>0</td>\n",
       "      <td>0</td>\n",
       "      <td>0</td>\n",
       "      <td>0</td>\n",
       "      <td>1</td>\n",
       "      <td>0</td>\n",
       "      <td>1</td>\n",
       "      <td>0</td>\n",
       "    </tr>\n",
       "  </tbody>\n",
       "</table>\n",
       "<p>891 rows × 21 columns</p>\n",
       "</div>"
      ]
     },
     "execution_count": 45,
     "metadata": {},
     "output_type": "execute_result"
    }
   ],
   "execution_count": 45
  },
  {
   "metadata": {},
   "cell_type": "markdown",
   "source": "Now our data is free of Nans and encoded for the model. We can come to conclusions and visualise the data.",
   "id": "b210139e99ee5abe"
  },
  {
   "metadata": {},
   "cell_type": "markdown",
   "source": [
    "### Outliers\n",
    "For detecting outliers I will use boxplot. For 'Age' the only outliers are above age circa 65."
   ],
   "id": "1b81001c62cc1cb6"
  },
  {
   "metadata": {
    "ExecuteTime": {
     "end_time": "2025-09-01T15:53:04.498903Z",
     "start_time": "2025-09-01T15:53:04.456055Z"
    }
   },
   "cell_type": "code",
   "source": [
    "def plot_boxplot(df, column, ylabel, title):\n",
    "    plt.figure(figsize=(3,4))\n",
    "    sns.boxplot(data=df[column])\n",
    "    plt.ylabel(ylabel)\n",
    "    plt.title(title)\n",
    "    plt.show()\n",
    "\n",
    "plot_boxplot(titanic_df, 'Age', 'age', 'Age distribution')"
   ],
   "id": "a8dfb55bd25b32d4",
   "outputs": [
    {
     "data": {
      "text/plain": [
       "<Figure size 300x400 with 1 Axes>"
      ],
      "image/png": "[encoded data removed]"
     },
     "metadata": {},
     "output_type": "display_data"
    }
   ],
   "execution_count": 46
  },
  {
   "metadata": {},
   "cell_type": "markdown",
   "source": "Other column that we can detect outliers for is 'Fare'. It looks like one person paid twice as much as the other person who paid second most. This can be an error which we can investigate further.",
   "id": "3e24a9a28609a050"
  },
  {
   "metadata": {
    "ExecuteTime": {
     "end_time": "2025-09-01T15:53:04.608988Z",
     "start_time": "2025-09-01T15:53:04.539984Z"
    }
   },
   "cell_type": "code",
   "source": "plot_boxplot(titanic_df, 'Fare', 'Price', 'Fare distribution')",
   "id": "de392b4c52cc3012",
   "outputs": [
    {
     "data": {
      "text/plain": [
       "<Figure size 300x400 with 1 Axes>"
      ],
      "image/png": "[encoded data removed]"
     },
     "metadata": {},
     "output_type": "display_data"
    }
   ],
   "execution_count": 47
  },
  {
   "metadata": {},
   "cell_type": "markdown",
   "source": "The person who paid this price is a woman in her 30s, in 1st class with no family. The 1st class is appropriate to the high price, but other passengers didn't pay as much. I found on the internet that the most expensive suites on titanic were on decks B and C but sadly there's no 'Deck' data for her.",
   "id": "52c7085129bbbb17"
  },
  {
   "metadata": {
    "ExecuteTime": {
     "end_time": "2025-09-01T15:53:04.628813Z",
     "start_time": "2025-09-01T15:53:04.625924Z"
    }
   },
   "cell_type": "code",
   "source": "titanic_df.loc[titanic_df['Fare'].idxmax()]",
   "id": "92108a2f35e6310f",
   "outputs": [
    {
     "data": {
      "text/plain": [
       "Survived           1.0\n",
       "Pclass             1.0\n",
       "Sex                1.0\n",
       "Age               35.0\n",
       "SibSp              0.0\n",
       "Parch              0.0\n",
       "Fare            512.33\n",
       "Adult              1.0\n",
       "TotalFamily        0.0\n",
       "Deck_A             0.0\n",
       "Deck_B             0.0\n",
       "Deck_C             0.0\n",
       "Deck_D             0.0\n",
       "Deck_E             0.0\n",
       "Deck_F             0.0\n",
       "Deck_G             0.0\n",
       "Deck_T             0.0\n",
       "Deck_Unknown       1.0\n",
       "Embarked_C         1.0\n",
       "Embarked_Q         0.0\n",
       "Embarked_S         0.0\n",
       "Name: 259, dtype: Float64"
      ]
     },
     "execution_count": 48,
     "metadata": {},
     "output_type": "execute_result"
    }
   ],
   "execution_count": 48
  },
  {
   "metadata": {},
   "cell_type": "markdown",
   "source": [
    "## More Data Visualisation\n",
    "### How many people survived based on their Pclass?"
   ],
   "id": "9abefea651d8bbd1"
  },
  {
   "metadata": {},
   "cell_type": "markdown",
   "source": "As we can see, the most deaths are in the poorest class and there is significant difference in the number of survival and deaths. In class 1 and 2 numbers are split closer to 50:50. The only class where more people survived than died is the first class. I also made the split percentage bar chart to see clearer the ratios of deaths and lives in all the classes. As we see the lower the class, the likeliness of survival drops - rich people had priority.",
   "id": "96f0f1a953cef5c0"
  },
  {
   "metadata": {
    "ExecuteTime": {
     "end_time": "2025-09-01T15:53:04.728945Z",
     "start_time": "2025-09-01T15:53:04.654056Z"
    }
   },
   "cell_type": "code",
   "source": [
    "pclass_survived_count = titanic_df.groupby(['Survived', 'Pclass']).size()\n",
    "cats = np.sort(titanic_df['Pclass'].unique()) # MultiIndexes\n",
    "\n",
    "def pclass_survival_percentage(series, pclass):\n",
    "    survived_percentage = series.loc[(1, pclass)] / (series.loc[(0, pclass)] + series.loc[(1, pclass)]) * 100\n",
    "    return survived_percentage\n",
    "\n",
    "barWidth = 0.25\n",
    "plt.figure(figsize=(10,4))\n",
    "plt.subplot(1,2,1)\n",
    "bar1 = np.arange(len(cats))\n",
    "bar2 = [x + barWidth for x in bar1]\n",
    "plt.bar(bar1, pclass_survived_count.loc[:(0,3)], width=barWidth, color = 'tomato')\n",
    "plt.bar(bar2, pclass_survived_count.loc[(1,1):], width=barWidth, color = 'palegreen')\n",
    "plt.xlabel('Pclass')\n",
    "plt.xticks((bar1+bar2)/2, cats)\n",
    "plt.ylabel('Number of People')\n",
    "plt.legend(['Died', 'Survived'])\n",
    "\n",
    "plt.subplot(1,2,2)\n",
    "x =['1', '2', '3']\n",
    "y1 = []\n",
    "for i in range(1, 4):\n",
    "    y1.append(pclass_survival_percentage(pclass_survived_count, i))\n",
    "y2 = [100 - x for x in y1]\n",
    "plt.bar(x, y1, color = 'palegreen')\n",
    "plt.bar(x, y2, bottom = y1, color = 'tomato')\n",
    "plt.xlabel('Pclass')\n",
    "plt.ylabel('Percentage')\n",
    "plt.legend(['Survived', 'Died'])\n",
    "plt.show()"
   ],
   "id": "75e2fcf0891fc0fc",
   "outputs": [
    {
     "data": {
      "text/plain": [
       "<Figure size 1000x400 with 2 Axes>"
      ],
      "image/png": "[encoded data removed]"
     },
     "metadata": {},
     "output_type": "display_data"
    }
   ],
   "execution_count": 49
  },
  {
   "metadata": {},
   "cell_type": "markdown",
   "source": "We can also check Survival based on Sex and being a child (less than 18). As we can see women had much higher probability to live, while men to die. I wonder if being a woman, child and in 1st class guaranteed survival. I also divided children in 3 age subcategories: toddler, child and teenager. I think each group has different survival skills - toddlers have non and easily drown, children would be sent first to rescue boats and for example male teenagers could be considered adults and sent to rescue boats last.",
   "id": "1377694cac9a83a3"
  },
  {
   "metadata": {
    "ExecuteTime": {
     "end_time": "2025-09-01T15:53:04.786114Z",
     "start_time": "2025-09-01T15:53:04.744912Z"
    }
   },
   "cell_type": "code",
   "source": [
    "sex_survived_count = titanic_df.groupby(['Survived', 'Sex']).size()\n",
    "cats = np.sort(titanic_df['Sex'].unique())\n",
    "\n",
    "plt.figure(figsize=(4,4))\n",
    "bar1 = np.arange(len(cats))\n",
    "bar2 = [x + barWidth for x in bar1]\n",
    "plt.bar(bar1, sex_survived_count.loc[:(0,1)], width=barWidth, color = 'tomato')\n",
    "plt.bar(bar2, sex_survived_count.loc[(1,1):], width=barWidth, color = 'palegreen')\n",
    "plt.xlabel('Sex')\n",
    "plt.xticks((bar1+bar2)/2, ['Male', 'Female'])\n",
    "plt.ylabel('Number of People')\n",
    "plt.legend(['Died', 'Survived'])\n"
   ],
   "id": "244bb64624a4215",
   "outputs": [
    {
     "data": {
      "text/plain": [
       "<matplotlib.legend.Legend at 0x1080ae900>"
      ]
     },
     "execution_count": 50,
     "metadata": {},
     "output_type": "execute_result"
    },
    {
     "data": {
      "text/plain": [
       "<Figure size 400x400 with 1 Axes>"
      ],
      "image/png": "[encoded data removed]"
     },
     "metadata": {},
     "output_type": "display_data"
    }
   ],
   "execution_count": 50
  },
  {
   "metadata": {
    "ExecuteTime": {
     "end_time": "2025-09-01T15:53:04.804461Z",
     "start_time": "2025-09-01T15:53:04.800007Z"
    }
   },
   "cell_type": "code",
   "source": [
    "mask = titanic_df['Adult'] == 0\n",
    "child_df = titanic_df.loc[mask]\n",
    "def age_to_subgroup(x):\n",
    "    if x <3:\n",
    "        return 'Infant'\n",
    "    elif x <14:\n",
    "        return 'Child'\n",
    "    else:\n",
    "        return 'Teenager'\n",
    "\n",
    "age_subgroup = pd.Series(data=child_df['Age'].apply(age_to_subgroup), index=child_df.index, name='AgeSubgroup')\n",
    "child_df = pd.concat([child_df, age_subgroup], axis=1)"
   ],
   "id": "6677d90866eba350",
   "outputs": [],
   "execution_count": 51
  },
  {
   "metadata": {},
   "cell_type": "markdown",
   "source": "As i suspected, children were the biggest subgroup that survived. Teenagers were the group that has the most deaths.",
   "id": "6770620230c800bd"
  },
  {
   "metadata": {
    "ExecuteTime": {
     "end_time": "2025-09-01T15:53:04.970142Z",
     "start_time": "2025-09-01T15:53:04.814625Z"
    }
   },
   "cell_type": "code",
   "source": "g = sns.catplot(data = child_df, x = 'AgeSubgroup', col='Survived', hue = 'Survived', kind = \"count\", palette = ['tomato', 'palegreen'], height=4, aspect=.6,)",
   "id": "11a50dd5fbf83e47",
   "outputs": [
    {
     "data": {
      "text/plain": [
       "<Figure size 545.361x400 with 2 Axes>"
      ],
      "image/png": "[encoded data removed]"
     },
     "metadata": {},
     "output_type": "display_data"
    }
   ],
   "execution_count": 52
  },
  {
   "metadata": {},
   "cell_type": "markdown",
   "source": "We can see that most of  passengers were there alone, without family.",
   "id": "5062aaca398fa7e9"
  },
  {
   "metadata": {
    "ExecuteTime": {
     "end_time": "2025-09-01T15:53:05.029437Z",
     "start_time": "2025-09-01T15:53:04.979126Z"
    }
   },
   "cell_type": "code",
   "source": [
    "d = np.diff(np.unique(titanic_df['TotalFamily'])).min()\n",
    "left_of_first_bin = titanic_df['TotalFamily'].min() - float(d)/2\n",
    "right_of_last_bin = titanic_df['TotalFamily'].max() + float(d)/2\n",
    "plt.hist(titanic_df['TotalFamily'],np.arange(left_of_first_bin, right_of_last_bin + d, d), color='blue')"
   ],
   "id": "9a76d9f0b51a1dd8",
   "outputs": [
    {
     "data": {
      "text/plain": [
       "(array([537., 161., 102.,  29.,  15.,  22.,  12.,   6.,   0.,   0.,   7.]),\n",
       " array([-0.5,  0.5,  1.5,  2.5,  3.5,  4.5,  5.5,  6.5,  7.5,  8.5,  9.5,\n",
       "        10.5]),\n",
       " <BarContainer object of 11 artists>)"
      ]
     },
     "execution_count": 53,
     "metadata": {},
     "output_type": "execute_result"
    },
    {
     "data": {
      "text/plain": [
       "<Figure size 640x480 with 1 Axes>"
      ],
      "image/png": "[encoded data removed]"
     },
     "metadata": {},
     "output_type": "display_data"
    }
   ],
   "execution_count": 53
  },
  {
   "metadata": {},
   "cell_type": "markdown",
   "source": "# Lab 2",
   "id": "4464271ca34cb7fa"
  }
 ],
 "metadata": {
  "kernelspec": {
   "name": "python3",
   "language": "python",
   "display_name": "Python 3 (ipykernel)"
  }
 },
 "nbformat": 4,
 "nbformat_minor": 5
}

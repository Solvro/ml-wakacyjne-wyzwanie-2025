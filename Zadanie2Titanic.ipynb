{
  "nbformat": 4,
  "nbformat_minor": 0,
  "metadata": {
    "colab": {
      "provenance": []
    },
    "kernelspec": {
      "name": "python3",
      "display_name": "Python 3"
    },
    "language_info": {
      "name": "python"
    }
  },
  "cells": [
    {
      "cell_type": "markdown",
      "source": [
        "Przygotowanie bibliotek, połączenie z dyskiem i plikiem csv:"
      ],
      "metadata": {
        "id": "_mv2smzVpDe2"
      }
    },
    {
      "cell_type": "code",
      "source": [
        "from google.colab import drive\n",
        "drive.mount('/content/drive')\n",
        "import pandas as pd\n",
        "import numpy as np\n",
        "from pathlib import Path\n",
        "import seaborn as sns\n",
        "import matplotlib.pyplot as plt\n",
        "base_path = Path('/content/drive/MyDrive/Colab Notebooks/titanic.csv')\n",
        "titanic_data = pd.read_csv(base_path)"
      ],
      "metadata": {
        "colab": {
          "base_uri": "https://localhost:8080/"
        },
        "id": "oMJOpZJo96I9",
        "outputId": "ec8193bc-736e-4580-c9c7-9e6d40ad48cc"
      },
      "execution_count": 1,
      "outputs": [
        {
          "output_type": "stream",
          "name": "stdout",
          "text": [
            "Mounted at /content/drive\n"
          ]
        }
      ]
    },
    {
      "cell_type": "markdown",
      "source": [
        "Jeszcze na szybko przekształce dane jednak:\n",
        "*   Płeć: 1 - male, 0 - female\n",
        "*   Port: 1 - C, 2 - Q, 3 - S"
      ],
      "metadata": {
        "id": "HI1kaI2GtJ37"
      }
    },
    {
      "cell_type": "code",
      "source": [
        "titanic_data[\"Sex\"] = titanic_data[\"Sex\"].map({\"male\": 1, \"female\": 0})\n",
        "titanic_data[\"Embarked\"] = titanic_data[\"Embarked\"].map({\"C\": 1, \"Q\": 2, \"S\": 3})\n",
        "titanic_data.to_csv(\"titanic.csv\", index=False)"
      ],
      "metadata": {
        "id": "Iby-sprVtZh3"
      },
      "execution_count": 2,
      "outputs": []
    },
    {
      "cell_type": "markdown",
      "source": [
        "Przypomnijmy niektóre moje wnioski:\n",
        "\n",
        "*   Więcej kobiet przeżywało\n",
        "*   Ludzie z lepszych klas częściej przeżywali\n",
        "*   Starsi ludzie częściej kupowali lepszą klasę\n",
        "*   Najdroższe bilety były w porcie C kobiet a najtańsze dla portu Q\n",
        "*    Częściej przeżywali pasażerowie, którzy nie byli sami\n",
        "\n",
        "A także kolumny, które są istotne w analizie danych:"
      ],
      "metadata": {
        "id": "im8Kb_T07eED"
      }
    },
    {
      "cell_type": "code",
      "source": [
        "print(titanic_data.head())\n",
        "titanic_data.dtypes.reset_index().rename(columns={\"index\": \"Kolumna\", 0: \"Typ\"})"
      ],
      "metadata": {
        "colab": {
          "base_uri": "https://localhost:8080/",
          "height": 404
        },
        "id": "xjqa1DnE9jnu",
        "outputId": "6f89fb76-abd8-460f-8ea0-cbab11295faf"
      },
      "execution_count": 3,
      "outputs": [
        {
          "output_type": "stream",
          "name": "stdout",
          "text": [
            "   PassengerId  Survived  Pclass  Sex  Age   Fare  Embarked  WithSomeone\n",
            "0            1         0       3    1   22   7.25         3            1\n",
            "1            2         1       1    0   38  71.28         1            1\n",
            "2            3         1       3    0   26   7.92         3            0\n",
            "3            4         1       1    0   35  53.10         3            1\n",
            "4            5         0       3    1   35   8.05         3            0\n"
          ]
        },
        {
          "output_type": "execute_result",
          "data": {
            "text/plain": [
              "       Kolumna      Typ\n",
              "0  PassengerId    int64\n",
              "1     Survived    int64\n",
              "2       Pclass    int64\n",
              "3          Sex    int64\n",
              "4          Age    int64\n",
              "5         Fare  float64\n",
              "6     Embarked    int64\n",
              "7  WithSomeone    int64"
            ],
            "text/html": [
              "\n",
              "  <div id=\"df-a6a49a21-6d7d-42a3-a737-5b6f716e3c36\" class=\"colab-df-container\">\n",
              "    <div>\n",
              "<style scoped>\n",
              "    .dataframe tbody tr th:only-of-type {\n",
              "        vertical-align: middle;\n",
              "    }\n",
              "\n",
              "    .dataframe tbody tr th {\n",
              "        vertical-align: top;\n",
              "    }\n",
              "\n",
              "    .dataframe thead th {\n",
              "        text-align: right;\n",
              "    }\n",
              "</style>\n",
              "<table border=\"1\" class=\"dataframe\">\n",
              "  <thead>\n",
              "    <tr style=\"text-align: right;\">\n",
              "      <th></th>\n",
              "      <th>Kolumna</th>\n",
              "      <th>Typ</th>\n",
              "    </tr>\n",
              "  </thead>\n",
              "  <tbody>\n",
              "    <tr>\n",
              "      <th>0</th>\n",
              "      <td>PassengerId</td>\n",
              "      <td>int64</td>\n",
              "    </tr>\n",
              "    <tr>\n",
              "      <th>1</th>\n",
              "      <td>Survived</td>\n",
              "      <td>int64</td>\n",
              "    </tr>\n",
              "    <tr>\n",
              "      <th>2</th>\n",
              "      <td>Pclass</td>\n",
              "      <td>int64</td>\n",
              "    </tr>\n",
              "    <tr>\n",
              "      <th>3</th>\n",
              "      <td>Sex</td>\n",
              "      <td>int64</td>\n",
              "    </tr>\n",
              "    <tr>\n",
              "      <th>4</th>\n",
              "      <td>Age</td>\n",
              "      <td>int64</td>\n",
              "    </tr>\n",
              "    <tr>\n",
              "      <th>5</th>\n",
              "      <td>Fare</td>\n",
              "      <td>float64</td>\n",
              "    </tr>\n",
              "    <tr>\n",
              "      <th>6</th>\n",
              "      <td>Embarked</td>\n",
              "      <td>int64</td>\n",
              "    </tr>\n",
              "    <tr>\n",
              "      <th>7</th>\n",
              "      <td>WithSomeone</td>\n",
              "      <td>int64</td>\n",
              "    </tr>\n",
              "  </tbody>\n",
              "</table>\n",
              "</div>\n",
              "    <div class=\"colab-df-buttons\">\n",
              "\n",
              "  <div class=\"colab-df-container\">\n",
              "    <button class=\"colab-df-convert\" onclick=\"convertToInteractive('df-a6a49a21-6d7d-42a3-a737-5b6f716e3c36')\"\n",
              "            title=\"Convert this dataframe to an interactive table.\"\n",
              "            style=\"display:none;\">\n",
              "\n",
              "  <svg xmlns=\"http://www.w3.org/2000/svg\" height=\"24px\" viewBox=\"0 -960 960 960\">\n",
              "    <path d=\"M120-120v-720h720v720H120Zm60-500h600v-160H180v160Zm220 220h160v-160H400v160Zm0 220h160v-160H400v160ZM180-400h160v-160H180v160Zm440 0h160v-160H620v160ZM180-180h160v-160H180v160Zm440 0h160v-160H620v160Z\"/>\n",
              "  </svg>\n",
              "    </button>\n",
              "\n",
              "  <style>\n",
              "    .colab-df-container {\n",
              "      display:flex;\n",
              "      gap: 12px;\n",
              "    }\n",
              "\n",
              "    .colab-df-convert {\n",
              "      background-color: #E8F0FE;\n",
              "      border: none;\n",
              "      border-radius: 50%;\n",
              "      cursor: pointer;\n",
              "      display: none;\n",
              "      fill: #1967D2;\n",
              "      height: 32px;\n",
              "      padding: 0 0 0 0;\n",
              "      width: 32px;\n",
              "    }\n",
              "\n",
              "    .colab-df-convert:hover {\n",
              "      background-color: #E2EBFA;\n",
              "      box-shadow: 0px 1px 2px rgba(60, 64, 67, 0.3), 0px 1px 3px 1px rgba(60, 64, 67, 0.15);\n",
              "      fill: #174EA6;\n",
              "    }\n",
              "\n",
              "    .colab-df-buttons div {\n",
              "      margin-bottom: 4px;\n",
              "    }\n",
              "\n",
              "    [theme=dark] .colab-df-convert {\n",
              "      background-color: #3B4455;\n",
              "      fill: #D2E3FC;\n",
              "    }\n",
              "\n",
              "    [theme=dark] .colab-df-convert:hover {\n",
              "      background-color: #434B5C;\n",
              "      box-shadow: 0px 1px 3px 1px rgba(0, 0, 0, 0.15);\n",
              "      filter: drop-shadow(0px 1px 2px rgba(0, 0, 0, 0.3));\n",
              "      fill: #FFFFFF;\n",
              "    }\n",
              "  </style>\n",
              "\n",
              "    <script>\n",
              "      const buttonEl =\n",
              "        document.querySelector('#df-a6a49a21-6d7d-42a3-a737-5b6f716e3c36 button.colab-df-convert');\n",
              "      buttonEl.style.display =\n",
              "        google.colab.kernel.accessAllowed ? 'block' : 'none';\n",
              "\n",
              "      async function convertToInteractive(key) {\n",
              "        const element = document.querySelector('#df-a6a49a21-6d7d-42a3-a737-5b6f716e3c36');\n",
              "        const dataTable =\n",
              "          await google.colab.kernel.invokeFunction('convertToInteractive',\n",
              "                                                    [key], {});\n",
              "        if (!dataTable) return;\n",
              "\n",
              "        const docLinkHtml = 'Like what you see? Visit the ' +\n",
              "          '<a target=\"_blank\" href=https://colab.research.google.com/notebooks/data_table.ipynb>data table notebook</a>'\n",
              "          + ' to learn more about interactive tables.';\n",
              "        element.innerHTML = '';\n",
              "        dataTable['output_type'] = 'display_data';\n",
              "        await google.colab.output.renderOutput(dataTable, element);\n",
              "        const docLink = document.createElement('div');\n",
              "        docLink.innerHTML = docLinkHtml;\n",
              "        element.appendChild(docLink);\n",
              "      }\n",
              "    </script>\n",
              "  </div>\n",
              "\n",
              "\n",
              "    <div id=\"df-dd8ffdd0-97a6-4f77-86fc-ca8b9f48c5eb\">\n",
              "      <button class=\"colab-df-quickchart\" onclick=\"quickchart('df-dd8ffdd0-97a6-4f77-86fc-ca8b9f48c5eb')\"\n",
              "                title=\"Suggest charts\"\n",
              "                style=\"display:none;\">\n",
              "\n",
              "<svg xmlns=\"http://www.w3.org/2000/svg\" height=\"24px\"viewBox=\"0 0 24 24\"\n",
              "     width=\"24px\">\n",
              "    <g>\n",
              "        <path d=\"M19 3H5c-1.1 0-2 .9-2 2v14c0 1.1.9 2 2 2h14c1.1 0 2-.9 2-2V5c0-1.1-.9-2-2-2zM9 17H7v-7h2v7zm4 0h-2V7h2v10zm4 0h-2v-4h2v4z\"/>\n",
              "    </g>\n",
              "</svg>\n",
              "      </button>\n",
              "\n",
              "<style>\n",
              "  .colab-df-quickchart {\n",
              "      --bg-color: #E8F0FE;\n",
              "      --fill-color: #1967D2;\n",
              "      --hover-bg-color: #E2EBFA;\n",
              "      --hover-fill-color: #174EA6;\n",
              "      --disabled-fill-color: #AAA;\n",
              "      --disabled-bg-color: #DDD;\n",
              "  }\n",
              "\n",
              "  [theme=dark] .colab-df-quickchart {\n",
              "      --bg-color: #3B4455;\n",
              "      --fill-color: #D2E3FC;\n",
              "      --hover-bg-color: #434B5C;\n",
              "      --hover-fill-color: #FFFFFF;\n",
              "      --disabled-bg-color: #3B4455;\n",
              "      --disabled-fill-color: #666;\n",
              "  }\n",
              "\n",
              "  .colab-df-quickchart {\n",
              "    background-color: var(--bg-color);\n",
              "    border: none;\n",
              "    border-radius: 50%;\n",
              "    cursor: pointer;\n",
              "    display: none;\n",
              "    fill: var(--fill-color);\n",
              "    height: 32px;\n",
              "    padding: 0;\n",
              "    width: 32px;\n",
              "  }\n",
              "\n",
              "  .colab-df-quickchart:hover {\n",
              "    background-color: var(--hover-bg-color);\n",
              "    box-shadow: 0 1px 2px rgba(60, 64, 67, 0.3), 0 1px 3px 1px rgba(60, 64, 67, 0.15);\n",
              "    fill: var(--button-hover-fill-color);\n",
              "  }\n",
              "\n",
              "  .colab-df-quickchart-complete:disabled,\n",
              "  .colab-df-quickchart-complete:disabled:hover {\n",
              "    background-color: var(--disabled-bg-color);\n",
              "    fill: var(--disabled-fill-color);\n",
              "    box-shadow: none;\n",
              "  }\n",
              "\n",
              "  .colab-df-spinner {\n",
              "    border: 2px solid var(--fill-color);\n",
              "    border-color: transparent;\n",
              "    border-bottom-color: var(--fill-color);\n",
              "    animation:\n",
              "      spin 1s steps(1) infinite;\n",
              "  }\n",
              "\n",
              "  @keyframes spin {\n",
              "    0% {\n",
              "      border-color: transparent;\n",
              "      border-bottom-color: var(--fill-color);\n",
              "      border-left-color: var(--fill-color);\n",
              "    }\n",
              "    20% {\n",
              "      border-color: transparent;\n",
              "      border-left-color: var(--fill-color);\n",
              "      border-top-color: var(--fill-color);\n",
              "    }\n",
              "    30% {\n",
              "      border-color: transparent;\n",
              "      border-left-color: var(--fill-color);\n",
              "      border-top-color: var(--fill-color);\n",
              "      border-right-color: var(--fill-color);\n",
              "    }\n",
              "    40% {\n",
              "      border-color: transparent;\n",
              "      border-right-color: var(--fill-color);\n",
              "      border-top-color: var(--fill-color);\n",
              "    }\n",
              "    60% {\n",
              "      border-color: transparent;\n",
              "      border-right-color: var(--fill-color);\n",
              "    }\n",
              "    80% {\n",
              "      border-color: transparent;\n",
              "      border-right-color: var(--fill-color);\n",
              "      border-bottom-color: var(--fill-color);\n",
              "    }\n",
              "    90% {\n",
              "      border-color: transparent;\n",
              "      border-bottom-color: var(--fill-color);\n",
              "    }\n",
              "  }\n",
              "</style>\n",
              "\n",
              "      <script>\n",
              "        async function quickchart(key) {\n",
              "          const quickchartButtonEl =\n",
              "            document.querySelector('#' + key + ' button');\n",
              "          quickchartButtonEl.disabled = true;  // To prevent multiple clicks.\n",
              "          quickchartButtonEl.classList.add('colab-df-spinner');\n",
              "          try {\n",
              "            const charts = await google.colab.kernel.invokeFunction(\n",
              "                'suggestCharts', [key], {});\n",
              "          } catch (error) {\n",
              "            console.error('Error during call to suggestCharts:', error);\n",
              "          }\n",
              "          quickchartButtonEl.classList.remove('colab-df-spinner');\n",
              "          quickchartButtonEl.classList.add('colab-df-quickchart-complete');\n",
              "        }\n",
              "        (() => {\n",
              "          let quickchartButtonEl =\n",
              "            document.querySelector('#df-dd8ffdd0-97a6-4f77-86fc-ca8b9f48c5eb button');\n",
              "          quickchartButtonEl.style.display =\n",
              "            google.colab.kernel.accessAllowed ? 'block' : 'none';\n",
              "        })();\n",
              "      </script>\n",
              "    </div>\n",
              "\n",
              "    </div>\n",
              "  </div>\n"
            ],
            "application/vnd.google.colaboratory.intrinsic+json": {
              "type": "dataframe",
              "summary": "{\n  \"name\": \"titanic_data\",\n  \"rows\": 8,\n  \"fields\": [\n    {\n      \"column\": \"Kolumna\",\n      \"properties\": {\n        \"dtype\": \"string\",\n        \"num_unique_values\": 8,\n        \"samples\": [\n          \"Survived\",\n          \"Fare\",\n          \"PassengerId\"\n        ],\n        \"semantic_type\": \"\",\n        \"description\": \"\"\n      }\n    },\n    {\n      \"column\": \"Typ\",\n      \"properties\": {\n        \"dtype\": \"category\",\n        \"num_unique_values\": 2,\n        \"samples\": [\n          \"float64\",\n          \"int64\"\n        ],\n        \"semantic_type\": \"\",\n        \"description\": \"\"\n      }\n    }\n  ]\n}"
            }
          },
          "metadata": {},
          "execution_count": 3
        }
      ]
    },
    {
      "cell_type": "markdown",
      "source": [
        "Podział na dane treningowe i testowe będzie w stosunku 80/20"
      ],
      "metadata": {
        "id": "8XeDSHcNF6bz"
      }
    },
    {
      "cell_type": "code",
      "source": [
        "from sklearn.model_selection import train_test_split\n",
        "\n",
        "X = titanic_data.drop('Survived', axis=1)\n",
        "y = titanic_data['Survived']\n",
        "\n",
        "X_train, X_test, y_train, y_test = train_test_split(X, y, test_size=0.2, random_state=42, stratify=y)"
      ],
      "metadata": {
        "id": "nNTveBJCHXzy"
      },
      "execution_count": 4,
      "outputs": []
    },
    {
      "cell_type": "markdown",
      "source": [
        "Dla porównania model DummyClassifier z metryką \"prior\" - zgadywanie klasy proporcjonalnie do ich częstości występowania:"
      ],
      "metadata": {
        "id": "DHVb5iMQpKZr"
      }
    },
    {
      "cell_type": "code",
      "source": [
        "from sklearn.dummy import DummyClassifier\n",
        "from sklearn.metrics import accuracy_score\n",
        "\n",
        "dummy = DummyClassifier(strategy='prior')\n",
        "dummy.fit(X_train, y_train)\n",
        "y_predicted = dummy.predict(X_test)\n",
        "accuracy = accuracy_score(y_test, y_predicted)\n",
        "\n",
        "print(\"Accuracy of Dummy Classifier:\", round(accuracy*100,2), \"%\")"
      ],
      "metadata": {
        "colab": {
          "base_uri": "https://localhost:8080/"
        },
        "id": "nMwDl0wZpmpe",
        "outputId": "b632124e-7630-4c87-d0e9-320452dc7c31"
      },
      "execution_count": 5,
      "outputs": [
        {
          "output_type": "stream",
          "name": "stdout",
          "text": [
            "Accuracy of Dummy Classifier: 61.45 %\n"
          ]
        }
      ]
    },
    {
      "cell_type": "markdown",
      "source": [
        "A teraz model drzewa decyzyjnego:"
      ],
      "metadata": {
        "id": "IuQql06brbwR"
      }
    },
    {
      "cell_type": "code",
      "source": [
        "from sklearn.tree import DecisionTreeClassifier\n",
        "\n",
        "tree_model = DecisionTreeClassifier(max_depth=3, random_state=42)\n",
        "tree_model.fit(X_train, y_train)\n",
        "\n",
        "y_predicted_train = tree_model.predict(X_train)\n",
        "y_predicted_test = tree_model.predict(X_test)\n",
        "\n",
        "print(\"Accuracy of Decision Tree Classifier - training:\", round(accuracy_score(y_train, y_predicted_train)*100, 2), \"%\")\n",
        "print(\"Accuracy of Decision Tree Classifier - test:\", round(accuracy_score(y_test, y_predicted_test)*100, 2), \"%\")\n"
      ],
      "metadata": {
        "colab": {
          "base_uri": "https://localhost:8080/"
        },
        "id": "JqzxVFQPrio3",
        "outputId": "cce68bbb-ef21-4261-86a5-64cebb4ac980"
      },
      "execution_count": 6,
      "outputs": [
        {
          "output_type": "stream",
          "name": "stdout",
          "text": [
            "Accuracy of Decision Tree Classifier - training: 83.29 %\n",
            "Accuracy of Decision Tree Classifier - test: 78.21 %\n"
          ]
        }
      ]
    },
    {
      "cell_type": "markdown",
      "source": [
        "Wniosek jest taki, że model drzewa decyzyjnego w porónaniu do \"głupiego modelu\" jest lepszym rozwiązaniem i widać to po dokładności działania wyrażonej w procentach."
      ],
      "metadata": {
        "id": "t-Sl1W9Bw5Wq"
      }
    },
    {
      "cell_type": "markdown",
      "source": [
        "Ocena tego modelu przez zewnętrzne metryki:"
      ],
      "metadata": {
        "id": "o8BQf72hwiry"
      }
    },
    {
      "cell_type": "code",
      "source": [
        "from sklearn.metrics import classification_report\n",
        "\n",
        "print(classification_report(y_test, y_predicted_test))"
      ],
      "metadata": {
        "colab": {
          "base_uri": "https://localhost:8080/"
        },
        "id": "J89UX4wtwa2s",
        "outputId": "fc6fcb75-d94e-4572-c3d3-6bf49b0d8ab5"
      },
      "execution_count": 7,
      "outputs": [
        {
          "output_type": "stream",
          "name": "stdout",
          "text": [
            "              precision    recall  f1-score   support\n",
            "\n",
            "           0       0.77      0.93      0.84       110\n",
            "           1       0.83      0.55      0.66        69\n",
            "\n",
            "    accuracy                           0.78       179\n",
            "   macro avg       0.80      0.74      0.75       179\n",
            "weighted avg       0.79      0.78      0.77       179\n",
            "\n"
          ]
        }
      ]
    },
    {
      "cell_type": "markdown",
      "source": [
        "Dla przypomnienia: 0 - nie przeżył\n",
        "\n",
        "Wnioski:\n",
        "*   Precyzja rzeczywista dobrze wypadła (77% i 83%)\n",
        "*   Natomiast w przypadku przewidywań modelu świetnie poradziło sobie drzewo z przewidywaniem zgonów (93%), ale znacznie gorzej z wykrywaniem przeżyć (55%)\n",
        "*   Porónanie precyzji i pokrycia jest dla wykrywania zgonów całkiem dobre (84%)\n",
        "*   Ostatecznie podel zgał 78% przypadków poprawnie, co jest przyzwoitym wynikiem\n"
      ],
      "metadata": {
        "id": "Wwhihj3iyd8e"
      }
    },
    {
      "cell_type": "markdown",
      "source": [
        "Teraz spróbuję wykorzystać model KNN z metryką podobieństwa kosinusowego oraz euklidesowego:"
      ],
      "metadata": {
        "id": "kNa0BDEQ0vbW"
      }
    },
    {
      "cell_type": "code",
      "source": [
        "from sklearn.neighbors import KNeighborsClassifier\n",
        "\n",
        "knn_cos_model = KNeighborsClassifier(n_neighbors=5, metric='cosine')\n",
        "knn_dist_model = KNeighborsClassifier(n_neighbors=5, metric='euclidean')\n",
        "knn_cos_model.fit(X_train, y_train)\n",
        "knn_dist_model.fit(X_train, y_train)\n",
        "y_knnCOS_predicted = knn_cos_model.predict(X_test)\n",
        "y_knnDIST_predicted = knn_dist_model.predict(X_test)\n",
        "\n",
        "print(\"Accuracy of KNN cosine Classifier:\", round(accuracy_score(y_test, y_knnCOS_predicted)*100, 2), \"%\")\n",
        "print(classification_report(y_test, y_knnCOS_predicted))\n",
        "print(\"Accuracy of KNN distance Classifier:\", round(accuracy_score(y_test, y_knnDIST_predicted)*100, 2), \"%\")\n",
        "print(classification_report(y_test, y_knnDIST_predicted))\n"
      ],
      "metadata": {
        "colab": {
          "base_uri": "https://localhost:8080/"
        },
        "id": "woqi81ob3lUC",
        "outputId": "8e3142e4-40e2-4c98-db21-03a2b40fce8f"
      },
      "execution_count": 8,
      "outputs": [
        {
          "output_type": "stream",
          "name": "stdout",
          "text": [
            "Accuracy of KNN cosine Classifier: 62.57 %\n",
            "              precision    recall  f1-score   support\n",
            "\n",
            "           0       0.68      0.75      0.71       110\n",
            "           1       0.52      0.43      0.47        69\n",
            "\n",
            "    accuracy                           0.63       179\n",
            "   macro avg       0.60      0.59      0.59       179\n",
            "weighted avg       0.62      0.63      0.62       179\n",
            "\n",
            "Accuracy of KNN distance Classifier: 62.01 %\n",
            "              precision    recall  f1-score   support\n",
            "\n",
            "           0       0.66      0.78      0.72       110\n",
            "           1       0.51      0.36      0.42        69\n",
            "\n",
            "    accuracy                           0.62       179\n",
            "   macro avg       0.59      0.57      0.57       179\n",
            "weighted avg       0.60      0.62      0.60       179\n",
            "\n"
          ]
        }
      ]
    },
    {
      "cell_type": "markdown",
      "source": [
        "Wnioski:\n",
        "Z porównania tych dwóch metryk metody KNN widać, że są bardzo podobne do siebie i lepiej wykrywają zgony niż przeżywalności (~71,5% do 44,5%), jedna jak widać istnieją lepsze metody w przypadku zadania Titanica (choćby drzewo decyzyjne)."
      ],
      "metadata": {
        "id": "69TFbcKt5WKg"
      }
    },
    {
      "cell_type": "markdown",
      "source": [
        "Jeżeli chodzi o hiperparametry to:\n",
        "\n",
        "*   W przypadku Drzewa decyzyjnego były to: maksymalna głębokość drzewa oraz minimalna liczba próbek, do podziału drzewa\n",
        "*   W przypadu KNN: liczba sąsiadów oraz metryka odległości\n",
        "\n"
      ],
      "metadata": {
        "id": "ATQW1L9d7k-N"
      }
    },
    {
      "cell_type": "markdown",
      "source": [
        "Dla drzewa decyzyjnego może zmieniać się na przykład hiperparametr minimalnej głębokości drzewa:"
      ],
      "metadata": {
        "id": "ML4F4sNG7eCi"
      }
    },
    {
      "cell_type": "code",
      "source": [
        "depths = [1,2,3,4,5,6,7]\n",
        "training_accuracy = []\n",
        "test_accuracy = []\n",
        "\n",
        "for d in depths:\n",
        "  tree_model = DecisionTreeClassifier(max_depth=d, random_state=42)\n",
        "  tree_model.fit(X_train, y_train)\n",
        "  training_accuracy.append(accuracy_score(y_train, tree_model.predict(X_train)))\n",
        "  test_accuracy.append(accuracy_score(y_test, tree_model.predict(X_test)))\n",
        "\n",
        "plt.figure(figsize=(10,6))\n",
        "plt.plot(depths, training_accuracy, label=\"Trening\", marker=\"o\")\n",
        "plt.plot(depths, test_accuracy, label=\"Test\", marker=\"o\")\n",
        "plt.xlabel(\"Maksymalna głębokość drzewa\")\n",
        "plt.ylabel(\"Dokładność\")\n",
        "plt.title(\"Wpływ głębokości drzewa na dokładność\")\n",
        "plt.legend()\n",
        "plt.grid(True)\n",
        "plt.show()"
      ],
      "metadata": {
        "colab": {
          "base_uri": "https://localhost:8080/",
          "height": 565
        },
        "id": "rzgUZKt37oBo",
        "outputId": "a207a710-0362-4d7c-ac4c-9f6bc5972122"
      },
      "execution_count": 15,
      "outputs": [
        {
          "output_type": "display_data",
          "data": {
            "text/plain": [
              "<Figure size 1000x600 with 1 Axes>"
            ],
            "image/png": "[encoded data removed]"
          },
          "metadata": {}
        }
      ]
    },
    {
      "cell_type": "markdown",
      "source": [
        "Wniosek jest taki, że im większa głębokość drzewa dla danych treningowych, to większa dokładność w predykcji, że ktoś przeżył. Możemy przewidywać, że dla dalszych głębokości osiągnie 100% - overfitting będzie wtedy. W przypadku zbyt małej głębokości widać underfitting.\n",
        "Natomiast dla danych testowych jest to tendencja ciężka do jednoznacznego opisania (niemonotoniczna), ale wydaje się jakby spadkowa. Z wykresu widać, że najlepsze dopasowanie jest dla głębokości równej 3 (~83% i ~78%)."
      ],
      "metadata": {
        "id": "C-4RxQ0D_Nsa"
      }
    }
  ]
}
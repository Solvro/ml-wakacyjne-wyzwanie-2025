{
  "nbformat": 4,
  "nbformat_minor": 0,
  "metadata": {
    "colab": {
      "provenance": [],
      "authorship_tag": "ABX9TyMeJAmQFFMYzaou47EjdP3c",
      "include_colab_link": true
    },
    "kernelspec": {
      "name": "python3",
      "display_name": "Python 3"
    },
    "language_info": {
      "name": "python"
    }
  },
  "cells": [
    {
      "cell_type": "markdown",
      "metadata": {
        "id": "view-in-github",
        "colab_type": "text"
      },
      "source": [
        "<a href=\"https://colab.research.google.com/github/Maxoo005/ml-wakacyjne-wyzwanie-2025/blob/main/4_Maksymilian_Kula.ipynb\" target=\"_parent\"><img src=\"https://colab.research.google.com/assets/colab-badge.svg\" alt=\"Open In Colab\"/></a>"
      ]
    },
    {
      "cell_type": "code",
      "execution_count": 104,
      "metadata": {
        "colab": {
          "base_uri": "https://localhost:8080/"
        },
        "id": "pkftcXYYOzU6",
        "outputId": "61db6da1-2cbb-47ae-92d0-dc94d1a0fe04"
      },
      "outputs": [
        {
          "output_type": "stream",
          "name": "stdout",
          "text": [
            "Drive already mounted at /content/drive; to attempt to forcibly remount, call drive.mount(\"/content/drive\", force_remount=True).\n"
          ]
        }
      ],
      "source": [
        "from google.colab import drive\n",
        "drive.mount('/content/drive')"
      ]
    },
    {
      "cell_type": "code",
      "source": [
        "!pip install langchain sentence-transformers faiss-cpu pypdf transformers torch langchain-community"
      ],
      "metadata": {
        "colab": {
          "base_uri": "https://localhost:8080/"
        },
        "id": "eygTtYGvPORw",
        "outputId": "8e7a5673-eed9-4d15-e968-1e5cf925f83a"
      },
      "execution_count": 105,
      "outputs": [
        {
          "output_type": "stream",
          "name": "stdout",
          "text": [
            "Requirement already satisfied: langchain in /usr/local/lib/python3.12/dist-packages (0.3.27)\n",
            "Requirement already satisfied: sentence-transformers in /usr/local/lib/python3.12/dist-packages (5.1.0)\n",
            "Requirement already satisfied: faiss-cpu in /usr/local/lib/python3.12/dist-packages (1.12.0)\n",
            "Requirement already satisfied: pypdf in /usr/local/lib/python3.12/dist-packages (6.0.0)\n",
            "Requirement already satisfied: transformers in /usr/local/lib/python3.12/dist-packages (4.55.4)\n",
            "Requirement already satisfied: torch in /usr/local/lib/python3.12/dist-packages (2.8.0+cu126)\n",
            "Requirement already satisfied: langchain-community in /usr/local/lib/python3.12/dist-packages (0.3.29)\n",
            "Requirement already satisfied: langchain-core<1.0.0,>=0.3.72 in /usr/local/lib/python3.12/dist-packages (from langchain) (0.3.75)\n",
            "Requirement already satisfied: langchain-text-splitters<1.0.0,>=0.3.9 in /usr/local/lib/python3.12/dist-packages (from langchain) (0.3.9)\n",
            "Requirement already satisfied: langsmith>=0.1.17 in /usr/local/lib/python3.12/dist-packages (from langchain) (0.4.16)\n",
            "Requirement already satisfied: pydantic<3.0.0,>=2.7.4 in /usr/local/lib/python3.12/dist-packages (from langchain) (2.11.7)\n",
            "Requirement already satisfied: SQLAlchemy<3,>=1.4 in /usr/local/lib/python3.12/dist-packages (from langchain) (2.0.43)\n",
            "Requirement already satisfied: requests<3,>=2 in /usr/local/lib/python3.12/dist-packages (from langchain) (2.32.5)\n",
            "Requirement already satisfied: PyYAML>=5.3 in /usr/local/lib/python3.12/dist-packages (from langchain) (6.0.2)\n",
            "Requirement already satisfied: tqdm in /usr/local/lib/python3.12/dist-packages (from sentence-transformers) (4.67.1)\n",
            "Requirement already satisfied: scikit-learn in /usr/local/lib/python3.12/dist-packages (from sentence-transformers) (1.6.1)\n",
            "Requirement already satisfied: scipy in /usr/local/lib/python3.12/dist-packages (from sentence-transformers) (1.16.1)\n",
            "Requirement already satisfied: huggingface-hub>=0.20.0 in /usr/local/lib/python3.12/dist-packages (from sentence-transformers) (0.34.4)\n",
            "Requirement already satisfied: Pillow in /usr/local/lib/python3.12/dist-packages (from sentence-transformers) (11.3.0)\n",
            "Requirement already satisfied: typing_extensions>=4.5.0 in /usr/local/lib/python3.12/dist-packages (from sentence-transformers) (4.15.0)\n",
            "Requirement already satisfied: numpy<3.0,>=1.25.0 in /usr/local/lib/python3.12/dist-packages (from faiss-cpu) (2.0.2)\n",
            "Requirement already satisfied: packaging in /usr/local/lib/python3.12/dist-packages (from faiss-cpu) (25.0)\n",
            "Requirement already satisfied: filelock in /usr/local/lib/python3.12/dist-packages (from transformers) (3.19.1)\n",
            "Requirement already satisfied: regex!=2019.12.17 in /usr/local/lib/python3.12/dist-packages (from transformers) (2024.11.6)\n",
            "Requirement already satisfied: tokenizers<0.22,>=0.21 in /usr/local/lib/python3.12/dist-packages (from transformers) (0.21.4)\n",
            "Requirement already satisfied: safetensors>=0.4.3 in /usr/local/lib/python3.12/dist-packages (from transformers) (0.6.2)\n",
            "Requirement already satisfied: setuptools in /usr/local/lib/python3.12/dist-packages (from torch) (75.2.0)\n",
            "Requirement already satisfied: sympy>=1.13.3 in /usr/local/lib/python3.12/dist-packages (from torch) (1.13.3)\n",
            "Requirement already satisfied: networkx in /usr/local/lib/python3.12/dist-packages (from torch) (3.5)\n",
            "Requirement already satisfied: jinja2 in /usr/local/lib/python3.12/dist-packages (from torch) (3.1.6)\n",
            "Requirement already satisfied: fsspec in /usr/local/lib/python3.12/dist-packages (from torch) (2025.3.0)\n",
            "Requirement already satisfied: nvidia-cuda-nvrtc-cu12==12.6.77 in /usr/local/lib/python3.12/dist-packages (from torch) (12.6.77)\n",
            "Requirement already satisfied: nvidia-cuda-runtime-cu12==12.6.77 in /usr/local/lib/python3.12/dist-packages (from torch) (12.6.77)\n",
            "Requirement already satisfied: nvidia-cuda-cupti-cu12==12.6.80 in /usr/local/lib/python3.12/dist-packages (from torch) (12.6.80)\n",
            "Requirement already satisfied: nvidia-cudnn-cu12==9.10.2.21 in /usr/local/lib/python3.12/dist-packages (from torch) (9.10.2.21)\n",
            "Requirement already satisfied: nvidia-cublas-cu12==12.6.4.1 in /usr/local/lib/python3.12/dist-packages (from torch) (12.6.4.1)\n",
            "Requirement already satisfied: nvidia-cufft-cu12==11.3.0.4 in /usr/local/lib/python3.12/dist-packages (from torch) (11.3.0.4)\n",
            "Requirement already satisfied: nvidia-curand-cu12==10.3.7.77 in /usr/local/lib/python3.12/dist-packages (from torch) (10.3.7.77)\n",
            "Requirement already satisfied: nvidia-cusolver-cu12==11.7.1.2 in /usr/local/lib/python3.12/dist-packages (from torch) (11.7.1.2)\n",
            "Requirement already satisfied: nvidia-cusparse-cu12==12.5.4.2 in /usr/local/lib/python3.12/dist-packages (from torch) (12.5.4.2)\n",
            "Requirement already satisfied: nvidia-cusparselt-cu12==0.7.1 in /usr/local/lib/python3.12/dist-packages (from torch) (0.7.1)\n",
            "Requirement already satisfied: nvidia-nccl-cu12==2.27.3 in /usr/local/lib/python3.12/dist-packages (from torch) (2.27.3)\n",
            "Requirement already satisfied: nvidia-nvtx-cu12==12.6.77 in /usr/local/lib/python3.12/dist-packages (from torch) (12.6.77)\n",
            "Requirement already satisfied: nvidia-nvjitlink-cu12==12.6.85 in /usr/local/lib/python3.12/dist-packages (from torch) (12.6.85)\n",
            "Requirement already satisfied: nvidia-cufile-cu12==1.11.1.6 in /usr/local/lib/python3.12/dist-packages (from torch) (1.11.1.6)\n",
            "Requirement already satisfied: triton==3.4.0 in /usr/local/lib/python3.12/dist-packages (from torch) (3.4.0)\n",
            "Requirement already satisfied: aiohttp<4.0.0,>=3.8.3 in /usr/local/lib/python3.12/dist-packages (from langchain-community) (3.12.15)\n",
            "Requirement already satisfied: tenacity!=8.4.0,<10,>=8.1.0 in /usr/local/lib/python3.12/dist-packages (from langchain-community) (8.5.0)\n",
            "Requirement already satisfied: dataclasses-json<0.7,>=0.6.7 in /usr/local/lib/python3.12/dist-packages (from langchain-community) (0.6.7)\n",
            "Requirement already satisfied: pydantic-settings<3.0.0,>=2.10.1 in /usr/local/lib/python3.12/dist-packages (from langchain-community) (2.10.1)\n",
            "Requirement already satisfied: httpx-sse<1.0.0,>=0.4.0 in /usr/local/lib/python3.12/dist-packages (from langchain-community) (0.4.1)\n",
            "Requirement already satisfied: aiohappyeyeballs>=2.5.0 in /usr/local/lib/python3.12/dist-packages (from aiohttp<4.0.0,>=3.8.3->langchain-community) (2.6.1)\n",
            "Requirement already satisfied: aiosignal>=1.4.0 in /usr/local/lib/python3.12/dist-packages (from aiohttp<4.0.0,>=3.8.3->langchain-community) (1.4.0)\n",
            "Requirement already satisfied: attrs>=17.3.0 in /usr/local/lib/python3.12/dist-packages (from aiohttp<4.0.0,>=3.8.3->langchain-community) (25.3.0)\n",
            "Requirement already satisfied: frozenlist>=1.1.1 in /usr/local/lib/python3.12/dist-packages (from aiohttp<4.0.0,>=3.8.3->langchain-community) (1.7.0)\n",
            "Requirement already satisfied: multidict<7.0,>=4.5 in /usr/local/lib/python3.12/dist-packages (from aiohttp<4.0.0,>=3.8.3->langchain-community) (6.6.4)\n",
            "Requirement already satisfied: propcache>=0.2.0 in /usr/local/lib/python3.12/dist-packages (from aiohttp<4.0.0,>=3.8.3->langchain-community) (0.3.2)\n",
            "Requirement already satisfied: yarl<2.0,>=1.17.0 in /usr/local/lib/python3.12/dist-packages (from aiohttp<4.0.0,>=3.8.3->langchain-community) (1.20.1)\n",
            "Requirement already satisfied: marshmallow<4.0.0,>=3.18.0 in /usr/local/lib/python3.12/dist-packages (from dataclasses-json<0.7,>=0.6.7->langchain-community) (3.26.1)\n",
            "Requirement already satisfied: typing-inspect<1,>=0.4.0 in /usr/local/lib/python3.12/dist-packages (from dataclasses-json<0.7,>=0.6.7->langchain-community) (0.9.0)\n",
            "Requirement already satisfied: hf-xet<2.0.0,>=1.1.3 in /usr/local/lib/python3.12/dist-packages (from huggingface-hub>=0.20.0->sentence-transformers) (1.1.8)\n",
            "Requirement already satisfied: jsonpatch<2.0,>=1.33 in /usr/local/lib/python3.12/dist-packages (from langchain-core<1.0.0,>=0.3.72->langchain) (1.33)\n",
            "Requirement already satisfied: httpx<1,>=0.23.0 in /usr/local/lib/python3.12/dist-packages (from langsmith>=0.1.17->langchain) (0.28.1)\n",
            "Requirement already satisfied: orjson>=3.9.14 in /usr/local/lib/python3.12/dist-packages (from langsmith>=0.1.17->langchain) (3.11.2)\n",
            "Requirement already satisfied: requests-toolbelt>=1.0.0 in /usr/local/lib/python3.12/dist-packages (from langsmith>=0.1.17->langchain) (1.0.0)\n",
            "Requirement already satisfied: zstandard>=0.23.0 in /usr/local/lib/python3.12/dist-packages (from langsmith>=0.1.17->langchain) (0.24.0)\n",
            "Requirement already satisfied: annotated-types>=0.6.0 in /usr/local/lib/python3.12/dist-packages (from pydantic<3.0.0,>=2.7.4->langchain) (0.7.0)\n",
            "Requirement already satisfied: pydantic-core==2.33.2 in /usr/local/lib/python3.12/dist-packages (from pydantic<3.0.0,>=2.7.4->langchain) (2.33.2)\n",
            "Requirement already satisfied: typing-inspection>=0.4.0 in /usr/local/lib/python3.12/dist-packages (from pydantic<3.0.0,>=2.7.4->langchain) (0.4.1)\n",
            "Requirement already satisfied: python-dotenv>=0.21.0 in /usr/local/lib/python3.12/dist-packages (from pydantic-settings<3.0.0,>=2.10.1->langchain-community) (1.1.1)\n",
            "Requirement already satisfied: charset_normalizer<4,>=2 in /usr/local/lib/python3.12/dist-packages (from requests<3,>=2->langchain) (3.4.3)\n",
            "Requirement already satisfied: idna<4,>=2.5 in /usr/local/lib/python3.12/dist-packages (from requests<3,>=2->langchain) (3.10)\n",
            "Requirement already satisfied: urllib3<3,>=1.21.1 in /usr/local/lib/python3.12/dist-packages (from requests<3,>=2->langchain) (2.5.0)\n",
            "Requirement already satisfied: certifi>=2017.4.17 in /usr/local/lib/python3.12/dist-packages (from requests<3,>=2->langchain) (2025.8.3)\n",
            "Requirement already satisfied: greenlet>=1 in /usr/local/lib/python3.12/dist-packages (from SQLAlchemy<3,>=1.4->langchain) (3.2.4)\n",
            "Requirement already satisfied: mpmath<1.4,>=1.1.0 in /usr/local/lib/python3.12/dist-packages (from sympy>=1.13.3->torch) (1.3.0)\n",
            "Requirement already satisfied: MarkupSafe>=2.0 in /usr/local/lib/python3.12/dist-packages (from jinja2->torch) (3.0.2)\n",
            "Requirement already satisfied: joblib>=1.2.0 in /usr/local/lib/python3.12/dist-packages (from scikit-learn->sentence-transformers) (1.5.1)\n",
            "Requirement already satisfied: threadpoolctl>=3.1.0 in /usr/local/lib/python3.12/dist-packages (from scikit-learn->sentence-transformers) (3.6.0)\n",
            "Requirement already satisfied: anyio in /usr/local/lib/python3.12/dist-packages (from httpx<1,>=0.23.0->langsmith>=0.1.17->langchain) (4.10.0)\n",
            "Requirement already satisfied: httpcore==1.* in /usr/local/lib/python3.12/dist-packages (from httpx<1,>=0.23.0->langsmith>=0.1.17->langchain) (1.0.9)\n",
            "Requirement already satisfied: h11>=0.16 in /usr/local/lib/python3.12/dist-packages (from httpcore==1.*->httpx<1,>=0.23.0->langsmith>=0.1.17->langchain) (0.16.0)\n",
            "Requirement already satisfied: jsonpointer>=1.9 in /usr/local/lib/python3.12/dist-packages (from jsonpatch<2.0,>=1.33->langchain-core<1.0.0,>=0.3.72->langchain) (3.0.0)\n",
            "Requirement already satisfied: mypy-extensions>=0.3.0 in /usr/local/lib/python3.12/dist-packages (from typing-inspect<1,>=0.4.0->dataclasses-json<0.7,>=0.6.7->langchain-community) (1.1.0)\n",
            "Requirement already satisfied: sniffio>=1.1 in /usr/local/lib/python3.12/dist-packages (from anyio->httpx<1,>=0.23.0->langsmith>=0.1.17->langchain) (1.3.1)\n"
          ]
        }
      ]
    },
    {
      "cell_type": "markdown",
      "source": [
        "IMPORTY"
      ],
      "metadata": {
        "id": "nXrusUoSwVWw"
      }
    },
    {
      "cell_type": "code",
      "source": [
        "from pathlib import Path\n",
        "from typing import List, Tuple, Optional\n",
        "import json, math\n",
        "\n",
        "from langchain_community.document_loaders import PyPDFLoader\n",
        "from langchain.text_splitter import RecursiveCharacterTextSplitter\n",
        "from langchain_community.vectorstores import FAISS\n",
        "from langchain_community.embeddings import HuggingFaceEmbeddings\n",
        "from transformers import pipeline"
      ],
      "metadata": {
        "id": "MNta9D7rP2ia"
      },
      "execution_count": 106,
      "outputs": []
    },
    {
      "cell_type": "markdown",
      "source": [
        "Ładowanie pdf / splitter"
      ],
      "metadata": {
        "id": "yHXmfH48VlpP"
      }
    },
    {
      "cell_type": "code",
      "source": [
        "pdf_files = [\n",
        "    '/content/drive/MyDrive/pfkidoml/canabis wpływ na sen.pdf',\n",
        "    '/content/drive/MyDrive/pfkidoml/czynniki wpływające na sen.pdf',\n",
        "    '/content/drive/MyDrive/pfkidoml/Ashwagandha wpływa na sen.pdf'\n",
        "]\n",
        "\n",
        "CHUNK_SIZE = 1500\n",
        "CHUNK_OVERLAP = 200\n",
        "docs_raw = []\n",
        "missing = []\n",
        "for p in pdf_files:\n",
        "    if Path(p).exists():\n",
        "        docs_raw.extend(PyPDFLoader(p).load())\n",
        "    else:\n",
        "        missing.append(p)\n",
        "\n",
        "if missing:\n",
        "    print(\"Nie znaleziono plików (sprawdź dokładnie nazwy/ścieżki):\")\n",
        "    for m in missing: print(\" -\", m)\n",
        "\n",
        "if not docs_raw:\n",
        "    raise RuntimeError(\"Brak załadowanych PDF-ów. Popraw ścieżki w pdf_files.\")\n",
        "\n",
        "splitter = RecursiveCharacterTextSplitter(chunk_size=CHUNK_SIZE, chunk_overlap=CHUNK_OVERLAP)\n",
        "documents = splitter.split_documents(docs_raw)\n",
        "print(f\"Załadowano {len(docs_raw)} rekordów, po podziale: {len(documents)} fragmentów.\")"
      ],
      "metadata": {
        "colab": {
          "base_uri": "https://localhost:8080/"
        },
        "id": "IKCtxMSAAh6m",
        "outputId": "ca2e54f6-478e-4e50-bf88-85eace906c42"
      },
      "execution_count": 107,
      "outputs": [
        {
          "output_type": "stream",
          "name": "stdout",
          "text": [
            "Załadowano 20 rekordów, po podziale: 66 fragmentów.\n"
          ]
        }
      ]
    },
    {
      "cell_type": "code",
      "source": [
        "INDEX_DIR = \"faiss_index_pl\"\n",
        "EMB_MODEL = \"sentence-transformers/paraphrase-multilingual-MiniLM-L12-v2\"\n",
        "META_PATH = Path(INDEX_DIR) / \"index_meta.json\"\n",
        "\n",
        "def get_embeddings():\n",
        "    return HuggingFaceEmbeddings(\n",
        "        model_name=EMB_MODEL,\n",
        "        encode_kwargs={\"normalize_embeddings\": True}\n",
        "    )"
      ],
      "metadata": {
        "id": "jl3lMPU42Vz1"
      },
      "execution_count": 108,
      "outputs": []
    },
    {
      "cell_type": "code",
      "source": [
        "def build_faiss(docs):\n",
        "    embeddings = get_embeddings()\n",
        "    db = FAISS.from_documents(docs, embeddings)\n",
        "    Path(INDEX_DIR).mkdir(parents=True, exist_ok=True)\n",
        "    db.save_local(INDEX_DIR)\n",
        "    with open(META_PATH, \"w\", encoding=\"utf-8\") as f:\n",
        "        json.dump({\"emb_model\": EMB_MODEL}, f, ensure_ascii=False, indent=2)\n",
        "    print(\" Zbudowano i zapisano nowy indeks FAISS.\")\n",
        "    return db"
      ],
      "metadata": {
        "id": "0-3JAEPdVwWm"
      },
      "execution_count": 109,
      "outputs": []
    },
    {
      "cell_type": "code",
      "source": [
        "def load_or_build_faiss(docs):\n",
        "    embeddings = get_embeddings()\n",
        "    if Path(INDEX_DIR).exists() and META_PATH.exists():\n",
        "        try:\n",
        "            meta = json.loads(Path(META_PATH).read_text(encoding=\"utf-8\"))\n",
        "        except Exception:\n",
        "            meta = {}\n",
        "        if meta.get(\"emb_model\") == EMB_MODEL:\n",
        "            db = FAISS.load_local(INDEX_DIR, embeddings, allow_dangerous_deserialization=True)\n",
        "            print(\"Załadowano istniejący indeks FAISS.\")\n",
        "            return db\n",
        "        else:\n",
        "            print(\"Wykryto inny model embedów w indeksie ->(przebudowa)\")\n",
        "            return build_faiss(docs)\n",
        "    else:\n",
        "        return build_faiss(docs)\n",
        "\n",
        "db = load_or_build_faiss(documents)"
      ],
      "metadata": {
        "colab": {
          "base_uri": "https://localhost:8080/"
        },
        "id": "MnuppghsV2EE",
        "outputId": "6d4fbe12-b04c-4351-8d46-ab9c10d76f45"
      },
      "execution_count": 110,
      "outputs": [
        {
          "output_type": "stream",
          "name": "stdout",
          "text": [
            "Załadowano istniejący indeks FAISS.\n"
          ]
        }
      ]
    },
    {
      "cell_type": "markdown",
      "source": [
        "model QA"
      ],
      "metadata": {
        "id": "7jJa-YDyV60U"
      }
    },
    {
      "cell_type": "code",
      "source": [
        "QA_MODEL = \"deepset/xlm-roberta-base-squad2\"\n",
        "qa_pipe = pipeline(\"question-answering\", model=QA_MODEL, tokenizer=QA_MODEL)\n",
        "print(\"Model QA gotowy.\")"
      ],
      "metadata": {
        "colab": {
          "base_uri": "https://localhost:8080/"
        },
        "id": "9yLUuRDAB0Gm",
        "outputId": "8f377c6f-733b-468b-c017-630467bfb920"
      },
      "execution_count": 111,
      "outputs": [
        {
          "output_type": "stream",
          "name": "stderr",
          "text": [
            "Device set to use cpu\n"
          ]
        },
        {
          "output_type": "stream",
          "name": "stdout",
          "text": [
            "Model QA gotowy.\n"
          ]
        }
      ]
    },
    {
      "cell_type": "markdown",
      "source": [
        "Prosty system odpowiadania na pytania na podstawie dokumentów zapisanych w bazie wektorowej. Najpierw wyszukuje fragmenty najbardziej podobne do pytania, następnie łączy je z historią rozmowy i przekazuje do modelu QA, który generuje odpowiedź. Na końcu zwraca treść odpowiedzi wraz z oceną pewności i źródłem, z którego pochodzi."
      ],
      "metadata": {
        "id": "83saP9ixYL6U"
      }
    },
    {
      "cell_type": "code",
      "source": [
        "TOP_K_DOCS = 4\n",
        "MIN_COS_SIM = 0.20\n",
        "MIN_QA_SCORE = 0.05\n",
        "CONTEXT_LIMIT = 8000\n",
        "\n",
        "def cosine_from_dist(dist: float) -> float:\n",
        "    return 1.0 - (dist*dist)/2.0\n",
        "\n",
        "def retrieve_with_scores(query: str, k: int = TOP_K_DOCS):\n",
        "    return db.similarity_search_with_score(query, k=k)\n",
        "\n",
        "def concat_context(chunks) -> str:\n",
        "    parts, used = [], 0\n",
        "    for d,_ in chunks:\n",
        "        t = d.page_content.strip()\n",
        "        if used + len(t) > CONTEXT_LIMIT:\n",
        "            break\n",
        "        parts.append(t); used += len(t)\n",
        "    return \"\\n\\n\".join(parts)\n",
        "\n",
        "def extract_source(best_doc) -> str:\n",
        "    src = best_doc.metadata.get(\"source\", \"nieznane_źródło\")\n",
        "    page = best_doc.metadata.get(\"page\")\n",
        "    name = Path(src).name if src else \"nieznane_źródło\"\n",
        "    return f\"{name}, strona {int(page)+1}\" if page is not None else name\n",
        "\n",
        "def answer_question(query: str, chat_memory: List[Tuple[str, str]]):\n",
        "    retrieved = retrieve_with_scores(query, k=TOP_K_DOCS)\n",
        "    if not retrieved:\n",
        "        return {\"answer\":\"Brak dokumentów w bazie.\",\n",
        "                \"score\":0.0,\"source\":None,\"guard\":\"no_docs\",\"cos\":0.0}\n",
        "\n",
        "    best_doc, best_dist = min(retrieved, key=lambda x: x[1])\n",
        "    best_cos = cosine_from_dist(best_dist)\n",
        "    low_sim = best_cos < MIN_COS_SIM\n",
        "\n",
        "    history_txt = \"\\n\".join([f\"Użytkownik: {q}\\nAsystent: {a}\" for q,a in chat_memory[-5:]])\n",
        "    context = \"\"\n",
        "    if history_txt:\n",
        "        context += f\"[Pamięć rozmowy]\\n{history_txt}\\n\\n\"\n",
        "    context += \"[Fragmenty z dokumentów]\\n\" + concat_context(retrieved)\n",
        "\n",
        "    out = qa_pipe({\"question\": query, \"context\": context})\n",
        "    ans = (out.get(\"answer\") or \"\").strip()\n",
        "    score = float(out.get(\"score\", 0.0))\n",
        "\n",
        "    guard = None\n",
        "    if (not ans) or score < MIN_QA_SCORE:\n",
        "        guard = \"low_confidence\" if not low_sim else \"low_similarity\"\n",
        "        ans = \"Nie znajduję pewnej odpowiedzi na podstawie dokumentów.\"\n",
        "\n",
        "    return {\"answer\": ans,\n",
        "            \"score\": score,\n",
        "            \"source\": extract_source(best_doc),\n",
        "            \"guard\": guard,\n",
        "            \"cos\": best_cos}\n"
      ],
      "metadata": {
        "id": "u3K3S4icCWHf"
      },
      "execution_count": 112,
      "outputs": []
    },
    {
      "cell_type": "code",
      "source": [
        "chat_memory: List[Tuple[str, str]] = []\n",
        "\n",
        "def ask(q: str):\n",
        "    res = answer_question(q, chat_memory)\n",
        "    if res[\"guard\"] == \"no_docs\":\n",
        "        print(\"BRAK DOKUMENTÓW\")\n",
        "    elif res[\"guard\"] == \"low_similarity\":\n",
        "        print(\"NISKA ZGODNOSC WYSZUKANYCH FRAGMENTOW Z PYTANIEM (cos≈{:.3f}).\".format(res[\"cos\"]))\n",
        "    elif res[\"guard\"] == \"low_confidence\":\n",
        "        print(\"NISKA PEWNOSC MODELU QA(score≈{:.3f}).\".format(res[\"score\"]))\n",
        "\n",
        "    print(f\"\\n Odpowiedź: {res['answer']}\")\n",
        "    if res[\"source\"]: print(f\"📎 Źródło: {res['source']}\")\n",
        "    print(f\" QA score: {res['score']:.3f} |  cos≈{res['cos']:.3f}\")\n",
        "\n",
        "    chat_memory.append((q, res[\"answer\"]))\n",
        "    return res\n",
        "\n",
        "print(\"QA + FAISS gotowe. Użyj: ask('Twoje pytanie...')\")"
      ],
      "metadata": {
        "colab": {
          "base_uri": "https://localhost:8080/"
        },
        "id": "zVfSus3tXtZF",
        "outputId": "ee55b8e9-eed1-40ee-9024-5189b961f754"
      },
      "execution_count": 113,
      "outputs": [
        {
          "output_type": "stream",
          "name": "stdout",
          "text": [
            "QA + FAISS gotowe. Użyj: ask('Twoje pytanie...')\n"
          ]
        }
      ]
    },
    {
      "cell_type": "code",
      "source": [
        "def debug_retrieve(q: str, k: int = 3):\n",
        "    hits = db.similarity_search_with_score(q, k=k)\n",
        "    for i,(doc,dist) in enumerate(hits,1):\n",
        "        cos = cosine_from_dist(dist)\n",
        "        print(f\"\\n=== HIT {i} | cos≈{cos:.3f} | {doc.metadata.get('source')} p.{doc.metadata.get('page')}\")\n",
        "        print(doc.page_content[:600].replace(\"\\n\",\" \") + \" …\")\n",
        "    return hits"
      ],
      "metadata": {
        "id": "IsCavQmwSVxY"
      },
      "execution_count": 114,
      "outputs": []
    },
    {
      "cell_type": "code",
      "source": [
        "ask(\"Jaki związek chemiczny w ashwagandzie odpowiada za efekt nasenny\")"
      ],
      "metadata": {
        "colab": {
          "base_uri": "https://localhost:8080/"
        },
        "id": "ndEyqCdLTEJr",
        "outputId": "2337f602-b9ac-4369-e09f-2bec5dfa67dd"
      },
      "execution_count": 115,
      "outputs": [
        {
          "output_type": "stream",
          "name": "stdout",
          "text": [
            "\n",
            " Odpowiedź: glikol trietylenowy.\n",
            "📎 Źródło: Ashwagandha wpływa na sen.pdf, strona 2\n",
            " QA score: 1.880 |  cos≈0.765\n"
          ]
        },
        {
          "output_type": "execute_result",
          "data": {
            "text/plain": [
              "{'answer': 'glikol trietylenowy.',\n",
              " 'score': 1.8802032285893802,\n",
              " 'source': 'Ashwagandha wpływa na sen.pdf, strona 2',\n",
              " 'guard': None,\n",
              " 'cos': np.float32(0.7646045)}"
            ]
          },
          "metadata": {},
          "execution_count": 115
        }
      ]
    },
    {
      "cell_type": "code",
      "source": [
        "ask(\"Czy ashwagandha wpływa na sen\")"
      ],
      "metadata": {
        "colab": {
          "base_uri": "https://localhost:8080/"
        },
        "id": "TvGFz9tqYbbs",
        "outputId": "e6b2f4a3-041b-458b-e9c0-2bce0e82da16"
      },
      "execution_count": 116,
      "outputs": [
        {
          "output_type": "stream",
          "name": "stdout",
          "text": [
            "\n",
            " Odpowiedź: bezsenność;\n",
            "📎 Źródło: Ashwagandha wpływa na sen.pdf, strona 2\n",
            " QA score: 0.130 |  cos≈0.947\n"
          ]
        },
        {
          "output_type": "execute_result",
          "data": {
            "text/plain": [
              "{'answer': 'bezsenność;',\n",
              " 'score': 0.1296029942750465,\n",
              " 'source': 'Ashwagandha wpływa na sen.pdf, strona 2',\n",
              " 'guard': None,\n",
              " 'cos': np.float32(0.94667697)}"
            ]
          },
          "metadata": {},
          "execution_count": 116
        }
      ]
    },
    {
      "cell_type": "code",
      "source": [
        "ask(\"Jak działa CBD w małych i dużych dawkach\")"
      ],
      "metadata": {
        "colab": {
          "base_uri": "https://localhost:8080/"
        },
        "id": "UtWUwQ6KYism",
        "outputId": "a974a644-5f56-4417-a919-30f609c7d3d4"
      },
      "execution_count": 117,
      "outputs": [
        {
          "output_type": "stream",
          "name": "stdout",
          "text": [
            "NISKA PEWNOSC MODELU QA(score≈0.010).\n",
            "\n",
            " Odpowiedź: Nie znajduję pewnej odpowiedzi na podstawie dokumentów.\n",
            "📎 Źródło: canabis wpływ na sen.pdf, strona 5\n",
            " QA score: 0.010 |  cos≈0.701\n"
          ]
        },
        {
          "output_type": "execute_result",
          "data": {
            "text/plain": [
              "{'answer': 'Nie znajduję pewnej odpowiedzi na podstawie dokumentów.',\n",
              " 'score': 0.00997854769229889,\n",
              " 'source': 'canabis wpływ na sen.pdf, strona 5',\n",
              " 'guard': 'low_confidence',\n",
              " 'cos': np.float32(0.70142066)}"
            ]
          },
          "metadata": {},
          "execution_count": 117
        }
      ]
    },
    {
      "cell_type": "code",
      "source": [
        "ask(\"Ile osób wzięło udział w badaniu\")"
      ],
      "metadata": {
        "colab": {
          "base_uri": "https://localhost:8080/"
        },
        "id": "2b5bhxsSYt1U",
        "outputId": "5b5d9a4f-d755-4af7-c330-c053660d162c"
      },
      "execution_count": 118,
      "outputs": [
        {
          "output_type": "stream",
          "name": "stdout",
          "text": [
            "\n",
            " Odpowiedź: 122 osoby\n",
            "📎 Źródło: czynniki wpływające na sen.pdf, strona 2\n",
            " QA score: 0.598 |  cos≈0.795\n"
          ]
        },
        {
          "output_type": "execute_result",
          "data": {
            "text/plain": [
              "{'answer': '122 osoby',\n",
              " 'score': 0.5977151691913605,\n",
              " 'source': 'czynniki wpływające na sen.pdf, strona 2',\n",
              " 'guard': None,\n",
              " 'cos': np.float32(0.7952308)}"
            ]
          },
          "metadata": {},
          "execution_count": 118
        }
      ]
    },
    {
      "cell_type": "markdown",
      "source": [
        "Zbudowałem asystenta który posiada:\n",
        "1. baze wektorową FAISS(z zapisem i odczytem)\n",
        "2. embeddingi z modelu paraphrase-multilingual-MiniLM-L12-v2\n",
        "3. QA z deepset/xlm-roberta-base-squad2\n",
        "4. pamięć rozmowy\n",
        "5. mechanizm anty-halucynacji\n",
        "6. mechanizm który podaje dokladne źródło nazwa pliiku + strona\n",
        "7. próbowalem pobawic sie z multispanem\n",
        "8. QA zwraca sensowne odpowiedzi, informuje o prawdopodobienstwie i pewnosci, nie wymysla odpowiedzi\n"
      ],
      "metadata": {
        "id": "yTHCrI8IdCa2"
      }
    },
    {
      "cell_type": "markdown",
      "source": [
        "Wnioski z 4 pytań testowych\n",
        "- odpowiedz na pierwsze pytanie zwróciała dokładną odpowiedź jak i wskazanie strony i pliku\n",
        "- odpowiedz na 2 pytanie, bardzo dobre dopasowanie, odpowiedz trafna\n",
        "- odpowiedz na 3 pytanie \"BRAK\" działa anty-haluna, niska pewnosc (score=0,02), sensowny retrieval(cos=0,7) sytem nie podaje odpowiedzi w prost, nie zmysla\n",
        "- odpowiedz na 4 pytanie, poradzil sobie bez problemu i wyciągnął odpowiednie liczby"
      ],
      "metadata": {
        "id": "7Mf-AIAweP4p"
      }
    },
    {
      "cell_type": "markdown",
      "source": [
        "ostatnie podsumowanie\n",
        "- Gdy cosinus podobieństwa jest wysoki (≥~0.75) i w tekście jest zwarte zdanie lub liczba, dostaję poprawną odpowiedź + cytowanie.\n",
        "\n",
        "- Gdy cos jest OK, ale QA-score niski, wchodzi „bezpieczne nie wiem” — to jest mój bezpiecznik przed halucynacją.\n",
        "\n",
        "- Pytania ekstrakcyjne (kto? co? ile? jaki związek?) działają najlepiej; pytania złożone/porównawcze („małe vs duże dawki CBD”) wymagają albo innego sformułowania, albo większego kontekstu."
      ],
      "metadata": {
        "id": "QeIXHZLbgl4_"
      }
    },
    {
      "cell_type": "code",
      "source": [],
      "metadata": {
        "id": "hGVEyvLQgnPB"
      },
      "execution_count": 118,
      "outputs": []
    }
  ]
}
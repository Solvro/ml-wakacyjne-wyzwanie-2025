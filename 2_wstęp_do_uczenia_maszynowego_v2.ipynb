{
 "cells": [
  {
   "cell_type": "markdown",
   "id": "c5b7ffde-0376-4c01-9294-b34d73fd4b89",
   "metadata": {},
   "source": [
    "<h1>Import bibliotek</h1>"
   ]
  },
  {
   "cell_type": "code",
   "execution_count": 253,
   "id": "849e14e2-e9cc-4960-974a-48e9a2979001",
   "metadata": {},
   "outputs": [],
   "source": [
    "import matplotlib.pyplot as plt\n",
    "import pandas as pd\n",
    "import numpy as np\n",
    "import seaborn as sns\n",
    "from pathlib import Path\n",
    "from sklearn.pipeline import make_pipeline\n",
    "from sklearn.model_selection import train_test_split, GridSearchCV\n",
    "from sklearn.dummy import DummyClassifier\n",
    "from sklearn.metrics import precision_score, accuracy_score, roc_auc_score, recall_score\n",
    "from sklearn.metrics import roc_curve, confusion_matrix, roc_auc_score, auc\n",
    "from sklearn.metrics import classification_report, ConfusionMatrixDisplay, confusion_matrix\n",
    "from sklearn.svm import SVC\n",
    "from sklearn.inspection import DecisionBoundaryDisplay\n",
    "from sklearn.preprocessing import StandardScaler\n",
    "from sklearn.decomposition import PCA\n",
    "from sklearn.tree import DecisionTreeClassifier, plot_tree\n",
    "from sklearn.ensemble import RandomForestClassifier\n",
    "from sklearn.preprocessing import LabelEncoder\n",
    "from sklearn.model_selection import StratifiedKFold, cross_val_score"
   ]
  },
  {
   "cell_type": "markdown",
   "id": "9dd26f2e-0ac9-4cb8-9414-ab6e5830cdf0",
   "metadata": {},
   "source": [
    "Dodam ignorowanie tych warningów bo są strasznie długie, a mówią tylko żeby zeskalować dane (co już zrobiłam) oraz że iteracji jest za mało."
   ]
  },
  {
   "cell_type": "code",
   "execution_count": 254,
   "id": "d264a2a2-6293-4288-8c79-9395053e9b97",
   "metadata": {},
   "outputs": [],
   "source": [
    "import warnings\n",
    "from sklearn.exceptions import ConvergenceWarning\n",
    "warnings.filterwarnings(\"ignore\", category=ConvergenceWarning)"
   ]
  },
  {
   "cell_type": "markdown",
   "id": "868c83ef-2958-45fc-9943-bcfc01335ed9",
   "metadata": {},
   "source": [
    "<h1>Obserwacje na podstawie pierwszego zadania</h1>"
   ]
  },
  {
   "cell_type": "markdown",
   "id": "2554c08d-d5a2-4c85-a16f-7094ef0d1f9c",
   "metadata": {},
   "source": [
    "Największe szanse na przeżycie miały (w kolejności od największego wpływu cechy):\n",
    "* kobiety - przeżyło ich ok. 74% kiedy w przypadku mężczyzn było to tylko ok. 19%\n",
    "* osoby znajdujące się w klasie 1 - tych przeżyło ok 63%, dla porównania osób z klasy 3 przeżyło ok 24%, a 2 - 47%\n",
    "* osoby, które zapłaciły, więcej za rejs miały większe szanse na przeżycie, jednak wśrób osób, które zapłaciły mniej szanse na przeżycie i śmierć były podobne\n",
    "* dzieci miały większe szanse na przeżycie, jednak szanse te bardzo szybko malały z wiekiem - dla dzieci poniżej 2 roku życia wynosiły aż 70% (pewnie dlatego, że były z matkami, które miały duże szanse na przeżycie i nie zostawiłyby swoich dzieci), dla dzieci do 10 roku życia było to już 50%, a dla dorosłych i starszych osób ok 35%\n",
    "\n",
    "Reszta cech wykazuje bardzo małą korelację z przeżywalnością."
   ]
  },
  {
   "cell_type": "markdown",
   "id": "8ae07d7e-2836-4539-951a-84db418abd98",
   "metadata": {},
   "source": [
    "<h1>Przygotowanie zbioru danych</h1>"
   ]
  },
  {
   "cell_type": "markdown",
   "id": "ad1e84a4-d086-4239-a5f5-b9d259c31413",
   "metadata": {},
   "source": [
    "Nastąpi tu przygotowanie takie jak w zadaniu 1 tylko po podziale na zbiór trenignowy i testowy, żeby nie dopuścić do wycieku danych. (Wszystkie te rzeczy opisywałam w zadaniu 1, więc teraz okroję zbędne komentarze.)"
   ]
  },
  {
   "cell_type": "markdown",
   "id": "3679b561-37eb-4acc-a891-7ce52ed50bd0",
   "metadata": {},
   "source": [
    "<h3>Wczytanie zbioru:</h3>"
   ]
  },
  {
   "cell_type": "code",
   "execution_count": 255,
   "id": "44907bc7-5484-4b89-a82c-52a840b2a93c",
   "metadata": {},
   "outputs": [
    {
     "data": {
      "text/html": [
       "<div>\n",
       "<style scoped>\n",
       "    .dataframe tbody tr th:only-of-type {\n",
       "        vertical-align: middle;\n",
       "    }\n",
       "\n",
       "    .dataframe tbody tr th {\n",
       "        vertical-align: top;\n",
       "    }\n",
       "\n",
       "    .dataframe thead th {\n",
       "        text-align: right;\n",
       "    }\n",
       "</style>\n",
       "<table border=\"1\" class=\"dataframe\">\n",
       "  <thead>\n",
       "    <tr style=\"text-align: right;\">\n",
       "      <th></th>\n",
       "      <th>Survived</th>\n",
       "      <th>Pclass</th>\n",
       "      <th>Name</th>\n",
       "      <th>Age</th>\n",
       "      <th>SibSp</th>\n",
       "      <th>Parch</th>\n",
       "      <th>Ticket</th>\n",
       "      <th>Fare</th>\n",
       "      <th>Cabin</th>\n",
       "      <th>Embarked</th>\n",
       "      <th>Sex</th>\n",
       "    </tr>\n",
       "    <tr>\n",
       "      <th>PassengerId</th>\n",
       "      <th></th>\n",
       "      <th></th>\n",
       "      <th></th>\n",
       "      <th></th>\n",
       "      <th></th>\n",
       "      <th></th>\n",
       "      <th></th>\n",
       "      <th></th>\n",
       "      <th></th>\n",
       "      <th></th>\n",
       "      <th></th>\n",
       "    </tr>\n",
       "  </thead>\n",
       "  <tbody>\n",
       "    <tr>\n",
       "      <th>1</th>\n",
       "      <td>0</td>\n",
       "      <td>3</td>\n",
       "      <td>Braund, Mr. Owen Harris</td>\n",
       "      <td>22.0</td>\n",
       "      <td>1</td>\n",
       "      <td>0</td>\n",
       "      <td>A/5 21171</td>\n",
       "      <td>7.2500</td>\n",
       "      <td>NaN</td>\n",
       "      <td>S</td>\n",
       "      <td>male</td>\n",
       "    </tr>\n",
       "    <tr>\n",
       "      <th>2</th>\n",
       "      <td>1</td>\n",
       "      <td>1</td>\n",
       "      <td>Cumings, Mrs. John Bradley (Florence Briggs Th...</td>\n",
       "      <td>38.0</td>\n",
       "      <td>1</td>\n",
       "      <td>0</td>\n",
       "      <td>PC 17599</td>\n",
       "      <td>71.2833</td>\n",
       "      <td>C85</td>\n",
       "      <td>C</td>\n",
       "      <td>female</td>\n",
       "    </tr>\n",
       "    <tr>\n",
       "      <th>3</th>\n",
       "      <td>1</td>\n",
       "      <td>3</td>\n",
       "      <td>Heikkinen, Miss. Laina</td>\n",
       "      <td>26.0</td>\n",
       "      <td>0</td>\n",
       "      <td>0</td>\n",
       "      <td>STON/O2. 3101282</td>\n",
       "      <td>7.9250</td>\n",
       "      <td>NaN</td>\n",
       "      <td>S</td>\n",
       "      <td>female</td>\n",
       "    </tr>\n",
       "    <tr>\n",
       "      <th>4</th>\n",
       "      <td>1</td>\n",
       "      <td>1</td>\n",
       "      <td>Futrelle, Mrs. Jacques Heath (Lily May Peel)</td>\n",
       "      <td>35.0</td>\n",
       "      <td>1</td>\n",
       "      <td>0</td>\n",
       "      <td>113803</td>\n",
       "      <td>53.1000</td>\n",
       "      <td>C123</td>\n",
       "      <td>S</td>\n",
       "      <td>female</td>\n",
       "    </tr>\n",
       "    <tr>\n",
       "      <th>5</th>\n",
       "      <td>0</td>\n",
       "      <td>3</td>\n",
       "      <td>Allen, Mr. William Henry</td>\n",
       "      <td>35.0</td>\n",
       "      <td>0</td>\n",
       "      <td>0</td>\n",
       "      <td>373450</td>\n",
       "      <td>8.0500</td>\n",
       "      <td>NaN</td>\n",
       "      <td>S</td>\n",
       "      <td>male</td>\n",
       "    </tr>\n",
       "  </tbody>\n",
       "</table>\n",
       "</div>"
      ],
      "text/plain": [
       "             Survived  Pclass  \\\n",
       "PassengerId                     \n",
       "1                   0       3   \n",
       "2                   1       1   \n",
       "3                   1       3   \n",
       "4                   1       1   \n",
       "5                   0       3   \n",
       "\n",
       "                                                          Name   Age  SibSp  \\\n",
       "PassengerId                                                                   \n",
       "1                                      Braund, Mr. Owen Harris  22.0      1   \n",
       "2            Cumings, Mrs. John Bradley (Florence Briggs Th...  38.0      1   \n",
       "3                                       Heikkinen, Miss. Laina  26.0      0   \n",
       "4                 Futrelle, Mrs. Jacques Heath (Lily May Peel)  35.0      1   \n",
       "5                                     Allen, Mr. William Henry  35.0      0   \n",
       "\n",
       "             Parch            Ticket     Fare Cabin Embarked     Sex  \n",
       "PassengerId                                                           \n",
       "1                0         A/5 21171   7.2500   NaN        S    male  \n",
       "2                0          PC 17599  71.2833   C85        C  female  \n",
       "3                0  STON/O2. 3101282   7.9250   NaN        S  female  \n",
       "4                0            113803  53.1000  C123        S  female  \n",
       "5                0            373450   8.0500   NaN        S    male  "
      ]
     },
     "execution_count": 255,
     "metadata": {},
     "output_type": "execute_result"
    }
   ],
   "source": [
    "titanic = pd.read_csv(\"titanic.csv\", index_col='PassengerId')\n",
    "titanic.head()"
   ]
  },
  {
   "cell_type": "markdown",
   "id": "bdd4f474-dff7-4aa3-8d98-66c86f92ad2b",
   "metadata": {},
   "source": [
    "<h3>Podział na cechy i etykiety:</h3>"
   ]
  },
  {
   "cell_type": "code",
   "execution_count": 256,
   "id": "a419e93b-fdc7-4aeb-aa1a-193c6bdca360",
   "metadata": {},
   "outputs": [],
   "source": [
    "y = titanic['Survived']\n",
    "X = titanic.drop(['Survived'], axis=1)"
   ]
  },
  {
   "cell_type": "markdown",
   "id": "4abfa654-5787-4000-b187-8c9e28076c45",
   "metadata": {},
   "source": [
    "<h3>Przetworzenie kolumny Cabin</h3>"
   ]
  },
  {
   "cell_type": "markdown",
   "id": "f9118e1e-1d8d-4dff-8182-34e6886f668a",
   "metadata": {},
   "source": [
    "Nie spowoduje wycieku, a kolumna ta wymaga zakodowanmia po przetworzeniu."
   ]
  },
  {
   "cell_type": "code",
   "execution_count": 257,
   "id": "e6816c14-bdd1-4f46-a80c-748b56f10ed0",
   "metadata": {},
   "outputs": [],
   "source": [
    "X.fillna({'Cabin':\"N\"}, inplace = True)\n",
    "X['Cabin'] = X['Cabin'].apply(lambda x: x[0])"
   ]
  },
  {
   "cell_type": "markdown",
   "id": "8a81692d-9d61-41e0-a27f-7dd31b9f6013",
   "metadata": {},
   "source": [
    "<h3>Przetworzenie kolumny Name</h3>"
   ]
  },
  {
   "cell_type": "markdown",
   "id": "e31949d1-8a93-4648-b6f9-9214210a65db",
   "metadata": {},
   "source": [
    "To co wyżej"
   ]
  },
  {
   "cell_type": "code",
   "execution_count": 258,
   "id": "e446e818-1b73-4101-a63a-ef5abad119db",
   "metadata": {},
   "outputs": [],
   "source": [
    "X['Name'] = X['Name'].apply(lambda x: x.split(\",\")[1])\n",
    "X['Name'] = X['Name'].apply(lambda x: x.split(\" \")[1])\n",
    "X['Name'] = X['Name'].apply(lambda x: x[:-1])\n",
    "X['Name'] = X['Name'].apply(lambda x: x if X['Name'].value_counts().get(x, 0)>30 else 'Other')"
   ]
  },
  {
   "cell_type": "markdown",
   "id": "4f1dbe73-36e2-4e90-87be-9464e5e9be38",
   "metadata": {},
   "source": [
    "<h3>Kodowanie zmiennych kategorycznych</h3>"
   ]
  },
  {
   "cell_type": "markdown",
   "id": "8a63f64c-ca45-4a50-8543-905546a261a5",
   "metadata": {},
   "source": [
    "Kodowanie łatwiej zrobić przed podziałem bo nie powoduje wycieku a etykiety mogłyby zostać przypisane inaczej dla zbioru testowego i treningowego."
   ]
  },
  {
   "cell_type": "code",
   "execution_count": 259,
   "id": "dd0dc063-6144-43e1-b6d6-d06d47d030cb",
   "metadata": {},
   "outputs": [],
   "source": [
    "X['Cabin'] = LabelEncoder().fit_transform(X.Cabin)\n",
    "X['Name'] = LabelEncoder().fit_transform(X.Name)\n",
    "X['Sex'] = X.Sex.map({'female': 1, 'male': 0})\n",
    "X['Embarked'] = X.Embarked.map({'S': 2, 'C': 1, 'Q': 0})"
   ]
  },
  {
   "cell_type": "markdown",
   "id": "8cee7aa0-cb75-4e7c-8869-a0882d9b1524",
   "metadata": {},
   "source": [
    "<h3>Oczyszczenie</h3>"
   ]
  },
  {
   "cell_type": "markdown",
   "id": "c4f4582a-e1c3-4980-bc85-f3b84d0d43f3",
   "metadata": {},
   "source": [
    "Usunięcie kolumn też nie spowoduje wycieku"
   ]
  },
  {
   "cell_type": "code",
   "execution_count": 260,
   "id": "20373fc6-9b36-4620-bceb-2d0da2e1020e",
   "metadata": {},
   "outputs": [],
   "source": [
    "X = X.drop(['Ticket'], axis=1)"
   ]
  },
  {
   "cell_type": "markdown",
   "id": "9d816cb5-aa22-4591-b2e8-47eff389a410",
   "metadata": {},
   "source": [
    "<h3>Wstawienie dodatkowych kolumn</h3>"
   ]
  },
  {
   "cell_type": "markdown",
   "id": "a99c1541-6f20-4bce-b0ec-92caffd261bb",
   "metadata": {},
   "source": [
    "Nowe kolumny bazują tylko na danych wierszach, więc również nie dojdzie do wycieku a użyjemy ich potem w standaryzacji."
   ]
  },
  {
   "cell_type": "code",
   "execution_count": 261,
   "id": "35e248cb-0fd5-4b0d-bfa8-bf183b5483cd",
   "metadata": {},
   "outputs": [],
   "source": [
    "X['FamilyMembers'] = X['SibSp'] + X['Parch']\n",
    "X['IsChild'] = np.where(X['Age'] >= 18, 0, 1)"
   ]
  },
  {
   "cell_type": "markdown",
   "id": "24da5373-a8b9-4c66-b499-fd4be249c050",
   "metadata": {},
   "source": [
    "<h3>Podział na zbiór testowy i treningowy:</h3>"
   ]
  },
  {
   "cell_type": "code",
   "execution_count": 262,
   "id": "b962aa41-ebae-490f-b1a9-0c6b8e0c6adf",
   "metadata": {},
   "outputs": [],
   "source": [
    "X_train, X_test, y_train, y_test = train_test_split(X, y, train_size=0.8, random_state=42)"
   ]
  },
  {
   "cell_type": "code",
   "execution_count": 263,
   "id": "9a41d187-f532-43d9-b86d-2bb35c43d2a0",
   "metadata": {},
   "outputs": [
    {
     "data": {
      "text/html": [
       "<div>\n",
       "<style scoped>\n",
       "    .dataframe tbody tr th:only-of-type {\n",
       "        vertical-align: middle;\n",
       "    }\n",
       "\n",
       "    .dataframe tbody tr th {\n",
       "        vertical-align: top;\n",
       "    }\n",
       "\n",
       "    .dataframe thead th {\n",
       "        text-align: right;\n",
       "    }\n",
       "</style>\n",
       "<table border=\"1\" class=\"dataframe\">\n",
       "  <thead>\n",
       "    <tr style=\"text-align: right;\">\n",
       "      <th></th>\n",
       "      <th>Pclass</th>\n",
       "      <th>Name</th>\n",
       "      <th>Age</th>\n",
       "      <th>SibSp</th>\n",
       "      <th>Parch</th>\n",
       "      <th>Fare</th>\n",
       "      <th>Cabin</th>\n",
       "      <th>Embarked</th>\n",
       "      <th>Sex</th>\n",
       "      <th>FamilyMembers</th>\n",
       "      <th>IsChild</th>\n",
       "    </tr>\n",
       "    <tr>\n",
       "      <th>PassengerId</th>\n",
       "      <th></th>\n",
       "      <th></th>\n",
       "      <th></th>\n",
       "      <th></th>\n",
       "      <th></th>\n",
       "      <th></th>\n",
       "      <th></th>\n",
       "      <th></th>\n",
       "      <th></th>\n",
       "      <th></th>\n",
       "      <th></th>\n",
       "    </tr>\n",
       "  </thead>\n",
       "  <tbody>\n",
       "    <tr>\n",
       "      <th>332</th>\n",
       "      <td>1</td>\n",
       "      <td>2</td>\n",
       "      <td>45.5</td>\n",
       "      <td>0</td>\n",
       "      <td>0</td>\n",
       "      <td>28.5000</td>\n",
       "      <td>2</td>\n",
       "      <td>2.0</td>\n",
       "      <td>0</td>\n",
       "      <td>0</td>\n",
       "      <td>0</td>\n",
       "    </tr>\n",
       "    <tr>\n",
       "      <th>734</th>\n",
       "      <td>2</td>\n",
       "      <td>2</td>\n",
       "      <td>23.0</td>\n",
       "      <td>0</td>\n",
       "      <td>0</td>\n",
       "      <td>13.0000</td>\n",
       "      <td>7</td>\n",
       "      <td>2.0</td>\n",
       "      <td>0</td>\n",
       "      <td>0</td>\n",
       "      <td>0</td>\n",
       "    </tr>\n",
       "    <tr>\n",
       "      <th>383</th>\n",
       "      <td>3</td>\n",
       "      <td>2</td>\n",
       "      <td>32.0</td>\n",
       "      <td>0</td>\n",
       "      <td>0</td>\n",
       "      <td>7.9250</td>\n",
       "      <td>7</td>\n",
       "      <td>2.0</td>\n",
       "      <td>0</td>\n",
       "      <td>0</td>\n",
       "      <td>0</td>\n",
       "    </tr>\n",
       "    <tr>\n",
       "      <th>705</th>\n",
       "      <td>3</td>\n",
       "      <td>2</td>\n",
       "      <td>26.0</td>\n",
       "      <td>1</td>\n",
       "      <td>0</td>\n",
       "      <td>7.8542</td>\n",
       "      <td>7</td>\n",
       "      <td>2.0</td>\n",
       "      <td>0</td>\n",
       "      <td>1</td>\n",
       "      <td>0</td>\n",
       "    </tr>\n",
       "    <tr>\n",
       "      <th>814</th>\n",
       "      <td>3</td>\n",
       "      <td>1</td>\n",
       "      <td>6.0</td>\n",
       "      <td>4</td>\n",
       "      <td>2</td>\n",
       "      <td>31.2750</td>\n",
       "      <td>7</td>\n",
       "      <td>2.0</td>\n",
       "      <td>1</td>\n",
       "      <td>6</td>\n",
       "      <td>1</td>\n",
       "    </tr>\n",
       "  </tbody>\n",
       "</table>\n",
       "</div>"
      ],
      "text/plain": [
       "             Pclass  Name   Age  SibSp  Parch     Fare  Cabin  Embarked  Sex  \\\n",
       "PassengerId                                                                    \n",
       "332               1     2  45.5      0      0  28.5000      2       2.0    0   \n",
       "734               2     2  23.0      0      0  13.0000      7       2.0    0   \n",
       "383               3     2  32.0      0      0   7.9250      7       2.0    0   \n",
       "705               3     2  26.0      1      0   7.8542      7       2.0    0   \n",
       "814               3     1   6.0      4      2  31.2750      7       2.0    1   \n",
       "\n",
       "             FamilyMembers  IsChild  \n",
       "PassengerId                          \n",
       "332                      0        0  \n",
       "734                      0        0  \n",
       "383                      0        0  \n",
       "705                      1        0  \n",
       "814                      6        1  "
      ]
     },
     "execution_count": 263,
     "metadata": {},
     "output_type": "execute_result"
    }
   ],
   "source": [
    "X_train.head()"
   ]
  },
  {
   "cell_type": "code",
   "execution_count": 264,
   "id": "6541ae20-dd30-4d4e-aaa4-f0aabfc06e0c",
   "metadata": {},
   "outputs": [
    {
     "data": {
      "text/html": [
       "<div>\n",
       "<style scoped>\n",
       "    .dataframe tbody tr th:only-of-type {\n",
       "        vertical-align: middle;\n",
       "    }\n",
       "\n",
       "    .dataframe tbody tr th {\n",
       "        vertical-align: top;\n",
       "    }\n",
       "\n",
       "    .dataframe thead th {\n",
       "        text-align: right;\n",
       "    }\n",
       "</style>\n",
       "<table border=\"1\" class=\"dataframe\">\n",
       "  <thead>\n",
       "    <tr style=\"text-align: right;\">\n",
       "      <th></th>\n",
       "      <th>Pclass</th>\n",
       "      <th>Name</th>\n",
       "      <th>Age</th>\n",
       "      <th>SibSp</th>\n",
       "      <th>Parch</th>\n",
       "      <th>Fare</th>\n",
       "      <th>Cabin</th>\n",
       "      <th>Embarked</th>\n",
       "      <th>Sex</th>\n",
       "      <th>FamilyMembers</th>\n",
       "      <th>IsChild</th>\n",
       "    </tr>\n",
       "    <tr>\n",
       "      <th>PassengerId</th>\n",
       "      <th></th>\n",
       "      <th></th>\n",
       "      <th></th>\n",
       "      <th></th>\n",
       "      <th></th>\n",
       "      <th></th>\n",
       "      <th></th>\n",
       "      <th></th>\n",
       "      <th></th>\n",
       "      <th></th>\n",
       "      <th></th>\n",
       "    </tr>\n",
       "  </thead>\n",
       "  <tbody>\n",
       "    <tr>\n",
       "      <th>710</th>\n",
       "      <td>3</td>\n",
       "      <td>0</td>\n",
       "      <td>NaN</td>\n",
       "      <td>1</td>\n",
       "      <td>1</td>\n",
       "      <td>15.2458</td>\n",
       "      <td>7</td>\n",
       "      <td>1.0</td>\n",
       "      <td>0</td>\n",
       "      <td>2</td>\n",
       "      <td>1</td>\n",
       "    </tr>\n",
       "    <tr>\n",
       "      <th>440</th>\n",
       "      <td>2</td>\n",
       "      <td>2</td>\n",
       "      <td>31.0</td>\n",
       "      <td>0</td>\n",
       "      <td>0</td>\n",
       "      <td>10.5000</td>\n",
       "      <td>7</td>\n",
       "      <td>2.0</td>\n",
       "      <td>0</td>\n",
       "      <td>0</td>\n",
       "      <td>0</td>\n",
       "    </tr>\n",
       "    <tr>\n",
       "      <th>841</th>\n",
       "      <td>3</td>\n",
       "      <td>2</td>\n",
       "      <td>20.0</td>\n",
       "      <td>0</td>\n",
       "      <td>0</td>\n",
       "      <td>7.9250</td>\n",
       "      <td>7</td>\n",
       "      <td>2.0</td>\n",
       "      <td>0</td>\n",
       "      <td>0</td>\n",
       "      <td>0</td>\n",
       "    </tr>\n",
       "    <tr>\n",
       "      <th>721</th>\n",
       "      <td>2</td>\n",
       "      <td>1</td>\n",
       "      <td>6.0</td>\n",
       "      <td>0</td>\n",
       "      <td>1</td>\n",
       "      <td>33.0000</td>\n",
       "      <td>7</td>\n",
       "      <td>2.0</td>\n",
       "      <td>1</td>\n",
       "      <td>1</td>\n",
       "      <td>1</td>\n",
       "    </tr>\n",
       "    <tr>\n",
       "      <th>40</th>\n",
       "      <td>3</td>\n",
       "      <td>1</td>\n",
       "      <td>14.0</td>\n",
       "      <td>1</td>\n",
       "      <td>0</td>\n",
       "      <td>11.2417</td>\n",
       "      <td>7</td>\n",
       "      <td>1.0</td>\n",
       "      <td>1</td>\n",
       "      <td>1</td>\n",
       "      <td>1</td>\n",
       "    </tr>\n",
       "  </tbody>\n",
       "</table>\n",
       "</div>"
      ],
      "text/plain": [
       "             Pclass  Name   Age  SibSp  Parch     Fare  Cabin  Embarked  Sex  \\\n",
       "PassengerId                                                                    \n",
       "710               3     0   NaN      1      1  15.2458      7       1.0    0   \n",
       "440               2     2  31.0      0      0  10.5000      7       2.0    0   \n",
       "841               3     2  20.0      0      0   7.9250      7       2.0    0   \n",
       "721               2     1   6.0      0      1  33.0000      7       2.0    1   \n",
       "40                3     1  14.0      1      0  11.2417      7       1.0    1   \n",
       "\n",
       "             FamilyMembers  IsChild  \n",
       "PassengerId                          \n",
       "710                      2        1  \n",
       "440                      0        0  \n",
       "841                      0        0  \n",
       "721                      1        1  \n",
       "40                       1        1  "
      ]
     },
     "execution_count": 264,
     "metadata": {},
     "output_type": "execute_result"
    }
   ],
   "source": [
    "X_test.head()"
   ]
  },
  {
   "cell_type": "code",
   "execution_count": 277,
   "id": "39866758-85d4-4ff0-b512-3ebbbd02788f",
   "metadata": {},
   "outputs": [
    {
     "data": {
      "text/plain": [
       "Survived\n",
       "0    444\n",
       "1    268\n",
       "Name: count, dtype: int64"
      ]
     },
     "execution_count": 277,
     "metadata": {},
     "output_type": "execute_result"
    }
   ],
   "source": [
    "y_train.value_counts()"
   ]
  },
  {
   "cell_type": "code",
   "execution_count": 278,
   "id": "486c12a1-e6cd-4320-84cb-5f33f2a5f6c5",
   "metadata": {},
   "outputs": [
    {
     "data": {
      "text/plain": [
       "Survived\n",
       "0    105\n",
       "1     74\n",
       "Name: count, dtype: int64"
      ]
     },
     "execution_count": 278,
     "metadata": {},
     "output_type": "execute_result"
    }
   ],
   "source": [
    "y_test.value_counts()"
   ]
  },
  {
   "cell_type": "markdown",
   "id": "2c2a27b5-4eba-4db9-95f6-45680cfc3462",
   "metadata": {},
   "source": [
    "<h3>Uzupełnienie braków:</h3>"
   ]
  },
  {
   "cell_type": "code",
   "execution_count": 265,
   "id": "51e61b3f-1d28-46f2-89c0-6163b4884876",
   "metadata": {},
   "outputs": [],
   "source": [
    "x = X_train['Embarked'].mode()[0]\n",
    "dict = {'Embarked':x}\n",
    "X_train.fillna(dict, inplace = True)\n",
    "\n",
    "x = X_test['Embarked'].mode()[0]\n",
    "dict = {'Embarked':x}\n",
    "X_test.fillna(dict, inplace = True)"
   ]
  },
  {
   "cell_type": "code",
   "execution_count": 266,
   "id": "e5c758d4-ff60-4dde-946f-8b4a9d194ab5",
   "metadata": {},
   "outputs": [],
   "source": [
    "for pclass, group in X_train.groupby('Pclass'):\n",
    "    for sex, sgroup in group.groupby('Sex'):\n",
    "        distribution = sgroup['Age'].value_counts(normalize=True)\n",
    "        values = distribution.index\n",
    "        probs = distribution.values\n",
    "        age_NaN = sgroup.Age.isna()\n",
    "        idx = sgroup.index[age_NaN]\n",
    "        X_train.loc[idx, 'Age'] = np.random.choice(values, size=age_NaN.sum(), p=probs)\n",
    "        \n",
    "for pclass, group in X_test.groupby('Pclass'):\n",
    "    for sex, sgroup in group.groupby('Sex'):\n",
    "        distribution = sgroup['Age'].value_counts(normalize=True)\n",
    "        values = distribution.index\n",
    "        probs = distribution.values\n",
    "        age_NaN = sgroup.Age.isna()\n",
    "        idx = sgroup.index[age_NaN]\n",
    "        X_test.loc[idx, 'Age'] = np.random.choice(values, size=age_NaN.sum(), p=probs)"
   ]
  },
  {
   "cell_type": "markdown",
   "id": "711cb2cc-d2fa-40df-ba7e-260814b7256b",
   "metadata": {},
   "source": [
    "<h3>Sprawdzenie</h3>"
   ]
  },
  {
   "cell_type": "code",
   "execution_count": 267,
   "id": "8e783a72-c5e7-40fd-b5be-250bf2dfb4a7",
   "metadata": {},
   "outputs": [
    {
     "name": "stdout",
     "output_type": "stream",
     "text": [
      "<class 'pandas.core.frame.DataFrame'>\n",
      "Index: 712 entries, 332 to 103\n",
      "Data columns (total 11 columns):\n",
      " #   Column         Non-Null Count  Dtype  \n",
      "---  ------         --------------  -----  \n",
      " 0   Pclass         712 non-null    int64  \n",
      " 1   Name           712 non-null    int32  \n",
      " 2   Age            712 non-null    float64\n",
      " 3   SibSp          712 non-null    int64  \n",
      " 4   Parch          712 non-null    int64  \n",
      " 5   Fare           712 non-null    float64\n",
      " 6   Cabin          712 non-null    int32  \n",
      " 7   Embarked       712 non-null    float64\n",
      " 8   Sex            712 non-null    int64  \n",
      " 9   FamilyMembers  712 non-null    int64  \n",
      " 10  IsChild        712 non-null    int32  \n",
      "dtypes: float64(3), int32(3), int64(5)\n",
      "memory usage: 74.6 KB\n",
      "<class 'pandas.core.frame.DataFrame'>\n",
      "Index: 179 entries, 710 to 11\n",
      "Data columns (total 11 columns):\n",
      " #   Column         Non-Null Count  Dtype  \n",
      "---  ------         --------------  -----  \n",
      " 0   Pclass         179 non-null    int64  \n",
      " 1   Name           179 non-null    int32  \n",
      " 2   Age            179 non-null    float64\n",
      " 3   SibSp          179 non-null    int64  \n",
      " 4   Parch          179 non-null    int64  \n",
      " 5   Fare           179 non-null    float64\n",
      " 6   Cabin          179 non-null    int32  \n",
      " 7   Embarked       179 non-null    float64\n",
      " 8   Sex            179 non-null    int64  \n",
      " 9   FamilyMembers  179 non-null    int64  \n",
      " 10  IsChild        179 non-null    int32  \n",
      "dtypes: float64(3), int32(3), int64(5)\n",
      "memory usage: 18.8 KB\n"
     ]
    }
   ],
   "source": [
    "X_train.info()\n",
    "X_test.info()"
   ]
  },
  {
   "cell_type": "markdown",
   "id": "4001fb62-569c-4a58-9b6e-87c29dbf0f1c",
   "metadata": {},
   "source": [
    "Działa."
   ]
  },
  {
   "cell_type": "markdown",
   "id": "ed92e394-8b3c-4c32-ab5c-6e954d9d58a1",
   "metadata": {},
   "source": [
    "<h1>Wyniki przy użyciu Dummy Classifier</h1>"
   ]
  },
  {
   "cell_type": "markdown",
   "id": "5fb88456-af6e-4c4f-8ec0-12bdb7c95fda",
   "metadata": {},
   "source": [
    "Sprawdzimy jak sobie radzi kilka różnych opcji DummyClassifiera."
   ]
  },
  {
   "cell_type": "code",
   "execution_count": 270,
   "id": "1ea436f0-6d70-4396-b5d9-77c322695d0b",
   "metadata": {},
   "outputs": [
    {
     "name": "stdout",
     "output_type": "stream",
     "text": [
      "              precision    recall  f1-score   support\n",
      "\n",
      "           0       0.54      0.44      0.48       105\n",
      "           1       0.37      0.47      0.42        74\n",
      "\n",
      "    accuracy                           0.45       179\n",
      "   macro avg       0.46      0.46      0.45       179\n",
      "weighted avg       0.47      0.45      0.46       179\n",
      "\n"
     ]
    },
    {
     "data": {
      "image/png": "[encoded data removed]",
      "text/plain": [
       "<Figure size 640x480 with 2 Axes>"
      ]
     },
     "metadata": {},
     "output_type": "display_data"
    },
    {
     "name": "stdout",
     "output_type": "stream",
     "text": [
      "              precision    recall  f1-score   support\n",
      "\n",
      "           0       0.57      0.64      0.60       105\n",
      "           1       0.39      0.32      0.35        74\n",
      "\n",
      "    accuracy                           0.51       179\n",
      "   macro avg       0.48      0.48      0.48       179\n",
      "weighted avg       0.50      0.51      0.50       179\n",
      "\n"
     ]
    },
    {
     "data": {
      "image/png": "[encoded data removed]",
      "text/plain": [
       "<Figure size 640x480 with 2 Axes>"
      ]
     },
     "metadata": {},
     "output_type": "display_data"
    },
    {
     "name": "stdout",
     "output_type": "stream",
     "text": [
      "              precision    recall  f1-score   support\n",
      "\n",
      "           0       0.59      1.00      0.74       105\n",
      "           1       0.00      0.00      0.00        74\n",
      "\n",
      "    accuracy                           0.59       179\n",
      "   macro avg       0.29      0.50      0.37       179\n",
      "weighted avg       0.34      0.59      0.43       179\n",
      "\n"
     ]
    },
    {
     "data": {
      "image/png": "[encoded data removed]",
      "text/plain": [
       "<Figure size 640x480 with 2 Axes>"
      ]
     },
     "metadata": {},
     "output_type": "display_data"
    }
   ],
   "source": [
    "strategy = ['uniform', 'stratified', 'most_frequent']\n",
    "#uniform - przyporządkowywanie klas z jednakowym prawdopodobieństwem\n",
    "#most_frequent - zawsze zwraca bardziej prawdopodobną klasę\n",
    "#stratified - przypisuje klasy zgodnie z prawdopodobieństwem\n",
    "\n",
    "for strat in strategy:\n",
    "    model = DummyClassifier(strategy = strat, random_state=42)\n",
    "    model.fit(X_train, y_train)\n",
    "    y_pred = model.predict(X_test)\n",
    "    print(classification_report(y_test, y_pred, zero_division=0))\n",
    "    cm = confusion_matrix(y_test, y_pred)\n",
    "    cm_display = ConfusionMatrixDisplay(confusion_matrix = cm, display_labels = [0, 1])\n",
    "    cm_display.plot()\n",
    "    plt.show()"
   ]
  },
  {
   "cell_type": "markdown",
   "id": "1c9ec591-d1d2-442e-93ee-4ee497987cb6",
   "metadata": {},
   "source": [
    "Najwyższe wyniki osiąga most_frequent za względu na duże niezbalansowanie danych."
   ]
  },
  {
   "cell_type": "markdown",
   "id": "8d3db775-5153-4473-aaac-aafd37785415",
   "metadata": {},
   "source": [
    "<h1>Pierwszy model klasyfikacji - SVM</h1>"
   ]
  },
  {
   "cell_type": "markdown",
   "id": "bbdc7724-9269-43ea-8c19-f5e4b3bed49f",
   "metadata": {},
   "source": [
    "<h3>Standaryzacja</h3>"
   ]
  },
  {
   "cell_type": "code",
   "execution_count": 271,
   "id": "16bada5e-606a-4c26-b705-9b04c2819c71",
   "metadata": {},
   "outputs": [
    {
     "name": "stdout",
     "output_type": "stream",
     "text": [
      "             Pclass  Name       Age     SibSp     Parch      Fare  Cabin  \\\n",
      "PassengerId                                                                \n",
      "332               1     2  1.103394 -0.470722 -0.479342 -0.078684      2   \n",
      "734               2     2 -0.442938 -0.470722 -0.479342 -0.377145      7   \n",
      "383               3     2  0.175595 -0.470722 -0.479342 -0.474867      7   \n",
      "705               3     2 -0.236761  0.379923 -0.479342 -0.476230      7   \n",
      "814               3     1 -1.611278  2.931860  2.048742 -0.025249      7   \n",
      "...             ...   ...       ...       ...       ...       ...    ...   \n",
      "107               3     1 -0.580390 -0.470722 -0.479342 -0.480162      7   \n",
      "271               1     2  1.103394 -0.470722 -0.479342 -0.030545      7   \n",
      "861               3     2  0.794127  1.230569 -0.479342 -0.355804      7   \n",
      "436               1     1 -1.061471  0.379923  2.048742  1.683201      1   \n",
      "103               1     2 -0.580390 -0.470722  0.784700  0.860748      3   \n",
      "\n",
      "             Embarked  Sex  FamilyMembers  IsChild  \n",
      "PassengerId                                         \n",
      "332               2.0    0      -0.554666        0  \n",
      "734               2.0    0      -0.554666        0  \n",
      "383               2.0    0      -0.554666        0  \n",
      "705               2.0    0       0.040096        0  \n",
      "814               2.0    1       3.013909        1  \n",
      "...               ...  ...            ...      ...  \n",
      "107               2.0    1      -0.554666        0  \n",
      "271               2.0    0      -0.554666        1  \n",
      "861               2.0    0       0.634859        0  \n",
      "436               2.0    1       1.229621        1  \n",
      "103               2.0    0       0.040096        0  \n",
      "\n",
      "[712 rows x 11 columns]\n",
      "             Pclass  Name       Age     SibSp     Parch      Fare  Cabin  \\\n",
      "PassengerId                                                                \n",
      "710               3     0 -0.485592  0.820363  0.707434 -0.392468      7   \n",
      "440               2     2  0.041914 -0.552020 -0.454316 -0.513112      7   \n",
      "841               3     2 -0.731761 -0.552020 -0.454316 -0.578571      7   \n",
      "721               2     1 -1.716438 -0.552020  0.707434  0.058863      7   \n",
      "40                3     1 -1.153766  0.820363 -0.454316 -0.494257      7   \n",
      "...             ...   ...       ...       ...       ...       ...    ...   \n",
      "434               3     2 -0.942763 -0.552020 -0.454316 -0.598908      7   \n",
      "774               3     2  0.956257 -0.552020 -0.454316 -0.596366      7   \n",
      "26                3     3  0.534252  0.820363  5.354434  0.017872      7   \n",
      "85                2     1 -0.942763 -0.552020 -0.454316 -0.513112      7   \n",
      "11                3     1 -1.857106  0.820363  0.707434 -0.355501      6   \n",
      "\n",
      "             Embarked  Sex  FamilyMembers  IsChild  \n",
      "PassengerId                                         \n",
      "710               1.0    0       0.930016        1  \n",
      "440               2.0    0      -0.611399        0  \n",
      "841               2.0    0      -0.611399        0  \n",
      "721               2.0    1       0.159308        1  \n",
      "40                1.0    1       0.159308        1  \n",
      "...               ...  ...            ...      ...  \n",
      "434               2.0    0      -0.611399        1  \n",
      "774               1.0    0      -0.611399        1  \n",
      "26                2.0    1       4.012845        0  \n",
      "85                2.0    1      -0.611399        1  \n",
      "11                2.0    1       0.930016        1  \n",
      "\n",
      "[179 rows x 11 columns]\n"
     ]
    }
   ],
   "source": [
    "scaler = StandardScaler()\n",
    "X_svm_train = X_train.copy()\n",
    "cols_train = X_svm_train[['Age','SibSp','Parch','Fare','FamilyMembers']]\n",
    "X_svm_train[['Age','SibSp','Parch','Fare','FamilyMembers']] = scaler.fit_transform(cols_train)\n",
    "\n",
    "X_svm_test = X_test.copy()\n",
    "cols_test = X_svm_test[['Age','SibSp','Parch','Fare','FamilyMembers']]\n",
    "X_svm_test[['Age','SibSp','Parch','Fare','FamilyMembers']] = scaler.fit_transform(cols_test)\n",
    "\n",
    "print(X_svm_train)\n",
    "print(X_svm_test)"
   ]
  },
  {
   "cell_type": "markdown",
   "id": "a9310569-65ad-4aee-9ac8-5bb00f97a54a",
   "metadata": {},
   "source": [
    "Standaryzacja cech liczbowych żeby żadna nie była ważniejsza od innych - ważne dla modeli liniowych."
   ]
  },
  {
   "cell_type": "markdown",
   "id": "3306ea8a-4d7e-4824-a057-8bfe868ee0b6",
   "metadata": {},
   "source": [
    "<h3>Zmieniane hiperparametry: kernel, max_iter</h3>"
   ]
  },
  {
   "cell_type": "markdown",
   "id": "e41311de-7492-44e0-99ab-5e641dd9e07c",
   "metadata": {},
   "source": [
    "Do wyboru zbioru walidacyjnego użyjemy StrafifiedKFold bo działa dobrze dla niezbalansowanych klas i nie jest wymagający obliczeniowo."
   ]
  },
  {
   "cell_type": "code",
   "execution_count": 279,
   "id": "2ddb4f61-164e-4bcd-a5fe-dadd0aea47f8",
   "metadata": {},
   "outputs": [
    {
     "data": {
      "image/png": "[encoded data removed]",
      "text/plain": [
       "<Figure size 1000x800 with 2 Axes>"
      ]
     },
     "metadata": {},
     "output_type": "display_data"
    }
   ],
   "source": [
    "kernel = ['linear', 'poly', 'rbf']\n",
    "C = [x for x in range(1,10)]\n",
    "scores = np.zeros((len(kernel), len(C)))\n",
    "\n",
    "for idxk, k in enumerate(kernel):\n",
    "    for idxc, c in enumerate(C):\n",
    "        model = SVC(kernel=k, C=c, random_state=42)\n",
    "        skf = StratifiedKFold(n_splits = 5)\n",
    "        scores[idxk][idxc] = cross_val_score(model, X_svm_train, y_train, cv = skf).mean()\n",
    "\n",
    "plt.figure(figsize=(10, 8))\n",
    "sns.heatmap(scores, annot=True, fmt=\".2f\", cmap='coolwarm',\n",
    "            xticklabels=C, yticklabels=kernel)\n",
    "plt.title('SVM hiperparams testing')\n",
    "plt.show()"
   ]
  },
  {
   "cell_type": "markdown",
   "id": "ec05c04c-a6e9-4b9a-b6c2-b90d54e1c056",
   "metadata": {},
   "source": [
    "<h3>SVC: kernel='rbf', C=7</h3>"
   ]
  },
  {
   "cell_type": "markdown",
   "id": "1ece04c2-e8ac-48b1-a5ec-7486d7e0ed4b",
   "metadata": {},
   "source": [
    "Najlepsze wyniki model osiąga dla kernela=rbf i max_iter>=170, więc dla tych parametrów sprawdzimy wyniki dla zbioru testowego."
   ]
  },
  {
   "cell_type": "code",
   "execution_count": 289,
   "id": "da3ca2f4-6f1d-4173-9538-a35a6bbd3720",
   "metadata": {},
   "outputs": [
    {
     "name": "stdout",
     "output_type": "stream",
     "text": [
      "              precision    recall  f1-score   support\n",
      "\n",
      "           0       0.81      0.88      0.84       105\n",
      "           1       0.80      0.72      0.76        74\n",
      "\n",
      "    accuracy                           0.81       179\n",
      "   macro avg       0.81      0.80      0.80       179\n",
      "weighted avg       0.81      0.81      0.81       179\n",
      "\n"
     ]
    },
    {
     "data": {
      "image/png": "[encoded data removed]",
      "text/plain": [
       "<Figure size 640x480 with 2 Axes>"
      ]
     },
     "metadata": {},
     "output_type": "display_data"
    }
   ],
   "source": [
    "model = SVC(kernel='rbf', C=7, random_state=42)\n",
    "model.fit(X_svm_train, y_train)\n",
    "y_pred = model.predict(X_svm_test) \n",
    "print(classification_report(y_test, y_pred, zero_division=0))\n",
    "cm = confusion_matrix(y_test, y_pred)\n",
    "cm_display = ConfusionMatrixDisplay(confusion_matrix = cm, display_labels = [0, 1])\n",
    "cm_display.plot()\n",
    "plt.show()"
   ]
  },
  {
   "cell_type": "markdown",
   "id": "5be127e3-52a9-4b54-b0cf-a23294f05754",
   "metadata": {},
   "source": [
    "Model osiąga wysokie wyniki, ale sprawdzimy jak radzi sobie jeszcze 'poly' bo modele osiągają bardzo zbliżone wyniki."
   ]
  },
  {
   "cell_type": "markdown",
   "id": "c6a48ec9-ca87-4a6f-8a74-b2918c0afef9",
   "metadata": {},
   "source": [
    "<h3>SVC: kernel='poly', C=6</h3>"
   ]
  },
  {
   "cell_type": "code",
   "execution_count": 290,
   "id": "06a4941e-6af6-4631-bb81-b95dbb64cccb",
   "metadata": {},
   "outputs": [
    {
     "name": "stdout",
     "output_type": "stream",
     "text": [
      "              precision    recall  f1-score   support\n",
      "\n",
      "           0       0.87      0.78      0.82       105\n",
      "           1       0.73      0.84      0.78        74\n",
      "\n",
      "    accuracy                           0.80       179\n",
      "   macro avg       0.80      0.81      0.80       179\n",
      "weighted avg       0.81      0.80      0.81       179\n",
      "\n"
     ]
    },
    {
     "data": {
      "image/png": "[encoded data removed]",
      "text/plain": [
       "<Figure size 640x480 with 2 Axes>"
      ]
     },
     "metadata": {},
     "output_type": "display_data"
    }
   ],
   "source": [
    "model = SVC(kernel='poly', C=6, random_state=42)\n",
    "model.fit(X_svm_train, y_train)\n",
    "y_pred = model.predict(X_svm_test) \n",
    "print(classification_report(y_test, y_pred, zero_division=0))\n",
    "cm = confusion_matrix(y_test, y_pred)\n",
    "cm_display = ConfusionMatrixDisplay(confusion_matrix = cm, display_labels = [0, 1])\n",
    "cm_display.plot()\n",
    "plt.show()"
   ]
  },
  {
   "cell_type": "markdown",
   "id": "4a98fa19-aadb-46f9-b1bd-54d908fb52e7",
   "metadata": {},
   "source": [
    "Wyniki w sumie pokrywają się z naszymi przypuszczeniami."
   ]
  },
  {
   "cell_type": "markdown",
   "id": "bbeb8d60-f30d-4350-b257-839397915c5f",
   "metadata": {},
   "source": [
    "<h1>Drugi model klasyfikacji - RandomForest</h1>"
   ]
  },
  {
   "cell_type": "markdown",
   "id": "22fc1b84-11c9-4056-8563-940b61a9075b",
   "metadata": {},
   "source": [
    "Dla drzew i lasów nie ma potrzeby standaryzacji cech."
   ]
  },
  {
   "cell_type": "markdown",
   "id": "80feeb44-e2f3-4b83-9350-3fbeed03cd05",
   "metadata": {},
   "source": [
    "<h3>Zmieniane hiperparametry: max_depth, min_samples_split</h3>"
   ]
  },
  {
   "cell_type": "code",
   "execution_count": 296,
   "id": "6ab9028e-b600-4cec-bc15-54fb84cc8ea0",
   "metadata": {},
   "outputs": [
    {
     "data": {
      "image/png": "[encoded data removed]",
      "text/plain": [
       "<Figure size 1000x800 with 2 Axes>"
      ]
     },
     "metadata": {},
     "output_type": "display_data"
    }
   ],
   "source": [
    "max_depth = [x for x in range(1,10)]\n",
    "min_samples_split = [x for x in range(2,22,2)]\n",
    "scores = np.zeros((len(max_depth), len(min_samples_split)))\n",
    "\n",
    "for idxd, d in enumerate(max_depth):\n",
    "    for idxs, s in enumerate(min_samples_split):\n",
    "        model = RandomForestClassifier(max_depth=d, min_samples_split=s, random_state=42)\n",
    "        skf = StratifiedKFold(n_splits = 5)\n",
    "        scores[idxd][idxs] = cross_val_score(model, X_train, y_train, cv = skf).mean()\n",
    "\n",
    "plt.figure(figsize=(10, 8))\n",
    "sns.heatmap(scores, annot=True, fmt=\".2f\", cmap='coolwarm',\n",
    "            xticklabels=min_samples_split, yticklabels=max_depth)\n",
    "plt.title('RandomForestClassifier hiperparams testing')\n",
    "plt.show()"
   ]
  },
  {
   "cell_type": "markdown",
   "id": "9ce96b85-e600-48d6-a9d5-b3de7e91af13",
   "metadata": {},
   "source": [
    "Najlepsze wyniki model osiąga dla max_depth = 18  i min_samples_split = 7, więc dla tych hiperparametrów sprawdzimy wyniki modelu dla zbioru testowego."
   ]
  },
  {
   "cell_type": "markdown",
   "id": "8751d070-31a8-4406-92af-72a8fb2c5ffe",
   "metadata": {},
   "source": [
    "<h3>Forest: max_depth=18, min_samples_split=7</h3>"
   ]
  },
  {
   "cell_type": "code",
   "execution_count": 302,
   "id": "30a2be71-c737-44eb-a13d-f22ebf4e8ae9",
   "metadata": {},
   "outputs": [
    {
     "name": "stdout",
     "output_type": "stream",
     "text": [
      "              precision    recall  f1-score   support\n",
      "\n",
      "           0       0.85      0.89      0.87       105\n",
      "           1       0.83      0.77      0.80        74\n",
      "\n",
      "    accuracy                           0.84       179\n",
      "   macro avg       0.84      0.83      0.83       179\n",
      "weighted avg       0.84      0.84      0.84       179\n",
      "\n"
     ]
    },
    {
     "data": {
      "image/png": "[encoded data removed]",
      "text/plain": [
       "<Figure size 640x480 with 2 Axes>"
      ]
     },
     "metadata": {},
     "output_type": "display_data"
    }
   ],
   "source": [
    "model = RandomForestClassifier(max_depth=18, min_samples_split=7, random_state=42)\n",
    "model.fit(X_train, y_train)\n",
    "y_pred = model.predict(X_test) \n",
    "print(classification_report(y_test, y_pred, zero_division=0))\n",
    "cm = confusion_matrix(y_test, y_pred)\n",
    "cm_display = ConfusionMatrixDisplay(confusion_matrix = cm, display_labels = [0, 1])\n",
    "cm_display.plot()\n",
    "plt.show()"
   ]
  },
  {
   "cell_type": "markdown",
   "id": "40c31d9e-9e73-4140-a2d8-2c76dad81c38",
   "metadata": {},
   "source": [
    "Dla porównania sprawdzimy jeszcze model i jakichś niższych parametrach i podobnym wyniku."
   ]
  },
  {
   "cell_type": "markdown",
   "id": "8ce416cd-e8fb-4166-8860-f83ded385de4",
   "metadata": {},
   "source": [
    "<h3>Forest: max_depth=12, min_samples_split=5</h3>"
   ]
  },
  {
   "cell_type": "code",
   "execution_count": 305,
   "id": "a6a7b22c-8c00-42f2-bd5b-61a79c1a2cb2",
   "metadata": {},
   "outputs": [
    {
     "name": "stdout",
     "output_type": "stream",
     "text": [
      "              precision    recall  f1-score   support\n",
      "\n",
      "           0       0.85      0.89      0.87       105\n",
      "           1       0.83      0.77      0.80        74\n",
      "\n",
      "    accuracy                           0.84       179\n",
      "   macro avg       0.84      0.83      0.83       179\n",
      "weighted avg       0.84      0.84      0.84       179\n",
      "\n"
     ]
    },
    {
     "data": {
      "image/png": "[encoded data removed]",
      "text/plain": [
       "<Figure size 640x480 with 2 Axes>"
      ]
     },
     "metadata": {},
     "output_type": "display_data"
    }
   ],
   "source": [
    "model = RandomForestClassifier(max_depth=12, min_samples_split=5, random_state=42)\n",
    "model.fit(X_train, y_train)\n",
    "y_pred = model.predict(X_test) \n",
    "print(classification_report(y_test, y_pred, zero_division=0))\n",
    "cm = confusion_matrix(y_test, y_pred)\n",
    "cm_display = ConfusionMatrixDisplay(confusion_matrix = cm, display_labels = [0, 1])\n",
    "cm_display.plot()\n",
    "plt.show()"
   ]
  },
  {
   "cell_type": "markdown",
   "id": "92f88bcb-4483-45c4-ab58-f46909a4ec0b",
   "metadata": {},
   "source": [
    "Modele dla tych parametrów i tego samego random_state osiągają takie same wyniki."
   ]
  },
  {
   "cell_type": "markdown",
   "id": "c655b35b-dcd7-487d-962e-c56d6edf3ee7",
   "metadata": {},
   "source": [
    "<h1>Podsumowanie</h1>"
   ]
  },
  {
   "cell_type": "markdown",
   "id": "16bebb04-6563-44f0-a323-c84bb8e35a50",
   "metadata": {},
   "source": [
    "1. Oba modele wypadły lepiej od modelu klasyfikującego losowo\n",
    "2. Oba modele mają podobne wyniki metryk dla naszego zbioru danych, jednak RandomForest wypada minimalnie lepiej.\n",
    "3. Model SVM wypada podobnie dla wszystkich testowanych hiperparametrów kernela (linear, poly i rbf)\n",
    "4. Drzewo decyzyjne przy ograniczonych parametrach uzyskuje lepsze wyniki dla zbioru testowego dzięki ograniczeniu dopasowania do danych treningowych"
   ]
  },
  {
   "cell_type": "markdown",
   "id": "dc54c99e-67e3-48cf-9d96-84186ac30c1d",
   "metadata": {},
   "source": [
    "<h1>Wnioski</h1>"
   ]
  },
  {
   "cell_type": "markdown",
   "id": "08862979-0f52-4335-8fa6-840fc6414d8b",
   "metadata": {},
   "source": [
    "1. Hiperparametry mają wpływ na dopasowanie modelu do danych treningowych - w zależności od zbioru danych, modelu i hiperparametrów wpływ ten może być różny\n",
    "2. Różne modele mogą różnie się sprawdzać dla różnych zbiorow danych.\n",
    "3. Na dopasowanie modelu może mieć też wpływ sposób podziału danych na zbiór treningowy i testowy - im mniej danych użyjemy do"
   ]
  }
 ],
 "metadata": {
  "kernelspec": {
   "display_name": "Python 3 (ipykernel)",
   "language": "python",
   "name": "python3"
  },
  "language_info": {
   "codemirror_mode": {
    "name": "ipython",
    "version": 3
   },
   "file_extension": ".py",
   "mimetype": "text/x-python",
   "name": "python",
   "nbconvert_exporter": "python",
   "pygments_lexer": "ipython3",
   "version": "3.10.11"
  }
 },
 "nbformat": 4,
 "nbformat_minor": 5
}

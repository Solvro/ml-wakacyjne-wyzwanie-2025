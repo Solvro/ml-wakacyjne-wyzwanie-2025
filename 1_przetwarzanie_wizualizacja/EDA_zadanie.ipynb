{
  "cells": [
    {
      "cell_type": "code",
      "execution_count": null,
      "metadata": {
        "id": "P9usXunupPxN"
      },
      "outputs": [],
      "source": [
        "from google.colab import drive \n",
        "drive.mount('/content/drive') # remove the cell if colab is not used"
      ]
    },
    {
      "cell_type": "code",
      "execution_count": null,
      "metadata": {
        "id": "e4DEwBru_3iI"
      },
      "outputs": [],
      "source": [
        "import pandas as pd\n",
        "import numpy as np\n",
        "from pathlib import Path\n",
        "base_path = Path() # Pass path to data folder here, e.g. Path('/content/drive/MyDrive/data') if using Google Drive"
      ]
    },
    {
      "cell_type": "markdown",
      "metadata": {
        "id": "ZychhoiongFI"
      },
      "source": [
        "# Analiza i przetwarzanie danych na temat Titanica\n",
        "\n",
        "#### Wyobraź sobie, że pewnego wakacyjnego dnia, będąc na plaży w pełnym słońcu, odbierasz telefon od nieznanego numeru.\n",
        "Robisz to niechętnie — zasłużyłeś/aś przecież na odpoczynek i chcesz mieć ten czas tylko dla siebie. Już masz na końcu języka wymijającą odpowiedź, gdy nagle z drugiej strony słyszysz:\n",
        "„Czy jesteś gotowy, by tego lata rozwikłać jedną z największych zagadek ludzkości?”\n",
        "\n",
        "Jako osoba z natury ciekawa świata i ze świetnym umysłem analitycznym, szybko zapominasz o plaży i wakacjach. Zaintrygowany/a dopytujesz o szczegóły, ale rozmówca nie chce zdradzić zbyt wiele. Wiadomo jedynie, że chodzi o *zatonięcie Titanica w 1914* roku, a celem misji jest ustalenie, które osoby miały szansę przeżyć.\n",
        "\n",
        "**Ty** — jako **renomowany analityk danych** — byłeś/byłaś ich pierwszym wyborem do analizy i oczyszczenia danych. Mimo wątpliwości postanawiasz podjąć się zadania, mając nadzieję, że twoja wiedza może zostać praktycznie wykorzystana w słusznym celu."
      ]
    },
    {
      "cell_type": "markdown",
      "metadata": {
        "id": "k3A1doKAiV-O"
      },
      "source": [
        "\n",
        "#### Twoim celem będzie przeanalizowanie i przetworzenie zbioru danych w taki sposób, by mógł on być użyty do nauki modelu do klasyfikacji każdego pasażera Titanica jako ofiary (0) lub osoby, która przeżyła (1).\n",
        "\n",
        "(Uwaga: w tym zadaniu nie będziesz trenować modeli, ta przyjemność spotka cię w następnych notebookach)\n",
        "\n",
        "Poniżej znajdziesz pytania, które mogą być pomocne w analizie, oraz odwołania do poszczególnych sekcji z notebooka do lekcji:\n",
        "\n",
        "- Czy wszystkie kolumny są istotne w kontekście zadania?\n",
        "- Czy występują brakujące wartości? Jeśli tak, to jak je uzupełnisz? (sekcja #2.1)\n",
        "- Czy typy danych są odpowiednie do znaczenia kolumny? (sekcja #1.3)\n",
        "- Czy dystrybucje danych mają rozkłady normalne, czy asymetryczne? (sekcja #4.1 + wykład)\n",
        "- Która zmienna oznacza predykowaną klasę?\n",
        "- Jaki jest rozkład zmiennej predykowanej względem zmiennych kategorialnych, jak i numerycznych? (sekcja #4.1)\n",
        "- Czy końcowe rozkłady zawierają wartości skrajne? (sekcja #4.2 + wykład)\n",
        "\n",
        "Wymagania:\n",
        "\n",
        "- Zbiór musi być oczyszczony, tj. finalnie nie powinien mieć brakujących wartości (sekcja #2.1)\n",
        "- Zbiór musi zawierać co najmniej dwie dodatkowe kolumny, które mogą wzbogacić informacje zawarte w zbiorze (sekcje #1.5 i #2.2)\n",
        "- Cechy kategorialne powinny być zakodowane, postaraj się dobrać odpowiedni sposób (sekcja #2.3)\n",
        "- Zbadaj, czy występują skrajne wartości (outliery) zarówno dla wartości numerycznych, jak i dla kategorialnych\n",
        "- Każda cecha powinna być zwizualizowana co najmniej raz. Sam(a) zastanów się, czy warto wizualizować cechy parami w celu odkrycia zależności między nimi (sekcja #4.4)\n",
        "- Nie ma ograniczenia na liczbę komórek, ale zastanów się, czy dana wizualizacja/obliczenie jest przydatne w całej analizie, czy po prostu sobie \"egzystuje\" bez żadnych wniosków\n",
        "\n",
        "Zadbaj o czytelność kodu i nazewnictwo zmiennych. Jeśli jakiś wycinek kodu się powtarza, to wyodrębnij go do funkcji. Postaraj się zamieszczać swoje wnioski w postaci komentarza `Markdown`.\n",
        "\n",
        "Poniżej zamieszczamy tabelę z wyjaśnieniem poszczególnych kolumn:\n",
        "\n",
        "| Kolumna      | Opis                                                                            |\n",
        "| ------------ | ------------------------------------------------------------------------------- |\n",
        "| **Survived** | Czy pasażer przeżył (0 = nie, 1 = tak).                                         |\n",
        "| **Pclass**   | Klasa podróży (1 = I klasa, 2 = II klasa, 3 = III klasa).                       |\n",
        "| **Name**     | Imię i nazwisko pasażera.                                                       |\n",
        "| **Sex**      | Płeć pasażera (male = mężczyzna, female = kobieta).                             |\n",
        "| **Age**      | Wiek pasażera w latach.                                                         |\n",
        "| **SibSp**    | Liczba rodzeństwa i małżonków na pokładzie.                                     |\n",
        "| **Parch**    | Liczba rodziców i dzieci na pokładzie.                                          |\n",
        "| **Ticket**   | Numer biletu.                                                                   |\n",
        "| **Fare**     | Cena biletu.                                                                    |\n",
        "| **Cabin**    | Numer kabiny pasażera                                     |\n",
        "| **Embarked** | Port, w którym pasażer wsiadł (C = Cherbourg, Q = Queenstown, S = Southampton). |\n",
        "                                                         |\n"
      ]
    },
    {
      "cell_type": "code",
      "execution_count": null,
      "metadata": {
        "id": "wiDu-lWj_0FK"
      },
      "outputs": [],
      "source": [
        "titanic_df = pd.read_csv(base_path / 'titanic.csv', index_col='PassengerId')"
      ]
    }
  ],
  "metadata": {
    "colab": {
      "provenance": []
    },
    "kernelspec": {
      "display_name": "Python 3",
      "name": "python3"
    },
    "language_info": {
      "name": "python",
      "version": "3.12.11"
    }
  },
  "nbformat": 4,
  "nbformat_minor": 0
}

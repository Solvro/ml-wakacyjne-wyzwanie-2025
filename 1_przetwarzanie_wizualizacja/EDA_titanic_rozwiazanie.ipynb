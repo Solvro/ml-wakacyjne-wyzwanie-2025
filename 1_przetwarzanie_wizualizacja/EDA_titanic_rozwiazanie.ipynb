{
 "cells": [
  {
   "cell_type": "code",
   "execution_count": null,
   "id": "6863e148",
   "metadata": {},
   "outputs": [
    {
     "ename": "",
     "evalue": "",
     "output_type": "error",
     "traceback": [
      "\u001b[1;31mRunning cells with 'Python 3.12.4' requires the ipykernel package.\n",
      "\u001b[1;31m<a href='command:jupyter.createPythonEnvAndSelectController'>Create a Python Environment</a> with the required packages.\n",
      "\u001b[1;31mOr install 'ipykernel' using the command: 'c:/Tools/Python/3.12.4/python.exe -m pip install ipykernel -U --user --force-reinstall'"
     ]
    }
   ],
   "source": [
    "# importy podstawowe\n",
    "import pandas as pd\n",
    "import numpy as np\n",
    "import matplotlib.pyplot as plt\n",
    "import seaborn as sns\n",
    "from pathlib import Path\n",
    "\n",
    "\n",
    "import warnings\n",
    "warnings.filterwarnings('ignore')\n",
    "\n",
    "\n",
    "%matplotlib inline\n",
    "\n",
    "plt.style.use('default')\n",
    "sns.set_palette(\"husl\")"
   ]
  },
  {
   "cell_type": "markdown",
   "id": "b505d124",
   "metadata": {},
   "source": [
    "# Analiza danych Titanic "
   ]
  },
  {
   "cell_type": "markdown",
   "id": "f0a5f4e7",
   "metadata": {},
   "source": [
    "## Krok 1: Wczytanie danych\n"
   ]
  },
  {
   "cell_type": "code",
   "execution_count": null,
   "id": "7fa95a89",
   "metadata": {},
   "outputs": [],
   "source": [
    "# w colabie - wrzuć plik titanic.csv do files\n",
    "# albo użyj tego linku:\n",
    "# df = pd.read_csv('https://raw.githubusercontent.com/datasciencedojo/datasets/master/titanic.csv')\n",
    "\n",
    "# lokalnie:\n",
    "# base_path = Path()\n",
    "# df = pd.read_csv(base_path / 'titanic.csv')\n",
    "\n",
    "# colab:\n",
    "from google.colab import files\n",
    "uploaded = files.upload()  # wybierz titanic.csv\n",
    "df = pd.read_csv('titanic.csv')\n",
    "\n",
    "print(f\"dane: {df.shape}\")\n",
    "df.head()"
   ]
  },
  {
   "cell_type": "code",
   "execution_count": null,
   "id": "985573c2",
   "metadata": {},
   "outputs": [],
   "source": [
    "print(df.dtypes)\n",
    "\n",
    "\n",
    "braki = df.isnull().sum()\n",
    "print(braki)\n",
    "\n",
    "\n",
    "df.describe()"
   ]
  },
  {
   "cell_type": "markdown",
   "id": "2ef41c7e",
   "metadata": {},
   "source": [
    "## Krok 2: Posprzątamy trochę te dane\n",
    "\n",
    "=mamy trochę braków w danych, szczególnie w Age i Cabin.\n"
   ]
  },
  {
   "cell_type": "code",
   "execution_count": null,
   "id": "9ee29320",
   "metadata": {},
   "outputs": [],
   "source": [
    "df_cleaned = df.copy()\n",
    "\n",
    "# procenty braków\n",
    "missing_percent = (df_cleaned.isnull().sum() / len(df_cleaned)) * 100\n",
    "print(missing_percent.round(2))\n",
    "\n",
    "# cabin 77% braków - wywalić\n",
    "# + passengerId, name, ticket - niepotrzebne\n",
    "\n",
    "columns_to_drop = ['PassengerId', 'Name', 'Ticket', 'Cabin']\n",
    "df_cleaned = df_cleaned.drop(columns=columns_to_drop)\n",
    "\n",
    "print(f\"zostało {df_cleaned.shape[1]} kolumn\")\n",
    "df_cleaned.head()"
   ]
  },
  {
   "cell_type": "code",
   "execution_count": null,
   "id": "99c0e5d6",
   "metadata": {},
   "outputs": [],
   "source": [
    "# braki po usunięciu\n",
    "print(df_cleaned.isnull().sum())\n",
    "\n",
    "# age - mediana\n",
    "median_age = df_cleaned['Age'].median()\n",
    "df_cleaned['Age'].fillna(median_age, inplace=True)\n",
    "\n",
    "# embarked - najczęstszy\n",
    "most_common_embarked = df_cleaned['Embarked'].mode()[0]\n",
    "df_cleaned['Embarked'].fillna(most_common_embarked, inplace=True)\n",
    "\n",
    "print(\"\\npo uzupełnieniu:\")\n",
    "print(df_cleaned.isnull().sum())"
   ]
  },
  {
   "cell_type": "markdown",
   "id": "774a43ec",
   "metadata": {},
   "source": [
    "## Krok 3: Eksploracja danych \n",
    "\n",
    "- Jak wyglądają rozkłady różnych zmiennych\n",
    "- Czy są jakieś oczywiste zależności z przeżyciem\n",
    "- Czy są jakieś dziwne wartości \n",
    "\n"
   ]
  },
  {
   "cell_type": "code",
   "execution_count": null,
   "id": "7317a0ae",
   "metadata": {},
   "outputs": [],
   "source": [
    "# podstawowe statystyki\n",
    "print(df_cleaned.describe())\n",
    "\n",
    "print(\"=\"*40)\n",
    "print(df_cleaned.describe(include=['object']))"
   ]
  },
  {
   "cell_type": "code",
   "execution_count": null,
   "id": "1d1b9a52",
   "metadata": {},
   "outputs": [],
   "source": [
    "# ilu przeżyło?\n",
    "plt.figure(figsize=(8, 6))\n",
    "survival_counts = df_cleaned['Survived'].value_counts()\n",
    "plt.pie(survival_counts.values, labels=['Nie przeżył', 'Przeżył'], autopct='%1.1f%%', \n",
    "        colors=['lightcoral', 'lightblue'])\n",
    "plt.title('Przeżycie')\n",
    "plt.show()\n",
    "\n",
    "print(f\"przeżyło: {survival_counts[1]} ({survival_counts[1]/len(df_cleaned)*100:.1f}%)\")\n",
    "print(f\"nie przeżyło: {survival_counts[0]} ({survival_counts[0]/len(df_cleaned)*100:.1f}%)\")"
   ]
  },
  {
   "cell_type": "code",
   "execution_count": null,
   "id": "71495332",
   "metadata": {},
   "outputs": [],
   "source": [
    "# rozkłady\n",
    "fig, axes = plt.subplots(2, 2, figsize=(15, 10))\n",
    "\n",
    "# wiek\n",
    "axes[0, 0].hist(df_cleaned['Age'], bins=30, color='skyblue', alpha=0.7)\n",
    "axes[0, 0].set_title('Wiek')\n",
    "\n",
    "# cena\n",
    "axes[0, 1].hist(df_cleaned['Fare'], bins=30, color='lightgreen', alpha=0.7)\n",
    "axes[0, 1].set_title('Cena biletu')\n",
    "axes[0, 1].set_yscale('log')\n",
    "\n",
    "# klasa\n",
    "class_counts = df_cleaned['Pclass'].value_counts().sort_index()\n",
    "axes[1, 0].bar(class_counts.index, class_counts.values, color=['gold', 'silver', 'brown'])\n",
    "axes[1, 0].set_title('Klasa')\n",
    "\n",
    "# płeć\n",
    "sex_counts = df_cleaned['Sex'].value_counts()\n",
    "axes[1, 1].bar(sex_counts.index, sex_counts.values, color=['lightblue', 'pink'])\n",
    "axes[1, 1].set_title('Płeć')\n",
    "\n",
    "plt.tight_layout()\n",
    "plt.show()"
   ]
  },
  {
   "cell_type": "code",
   "execution_count": null,
   "id": "c92f71ff",
   "metadata": {},
   "outputs": [],
   "source": [
    "# płeć vs przeżycie\n",
    "survival_by_sex = pd.crosstab(df_cleaned['Sex'], df_cleaned['Survived'], margins=True)\n",
    "print(survival_by_sex)\n",
    "\n",
    "female_survival = df_cleaned[df_cleaned['Sex'] == 'female']['Survived'].mean() * 100\n",
    "male_survival = df_cleaned[df_cleaned['Sex'] == 'male']['Survived'].mean() * 100\n",
    "\n",
    "print(f\"kobiety: {female_survival:.1f}%\")\n",
    "print(f\"mężczyźni: {male_survival:.1f}%\")\n",
    "print(\"ogromna różnica!\")"
   ]
  },
  {
   "cell_type": "code",
   "execution_count": null,
   "id": "fdec1b75",
   "metadata": {},
   "outputs": [],
   "source": [
    "# wykresy płeć\n",
    "fig, axes = plt.subplots(1, 2, figsize=(15, 5))\n",
    "\n",
    "survival_by_sex_plot = df_cleaned.groupby(['Sex', 'Survived']).size().unstack()\n",
    "survival_by_sex_plot.plot(kind='bar', ax=axes[0], color=['lightcoral', 'lightblue'])\n",
    "axes[0].set_title('Przeżycie wg płci')\n",
    "axes[0].legend(['Nie', 'Tak'])\n",
    "axes[0].tick_params(axis='x', rotation=0)\n",
    "\n",
    "survival_rates = df_cleaned.groupby('Sex')['Survived'].mean() * 100\n",
    "survival_rates.plot(kind='bar', ax=axes[1], color=['lightblue', 'pink'])\n",
    "axes[1].set_title('% przeżycia')\n",
    "axes[1].tick_params(axis='x', rotation=0)\n",
    "\n",
    "plt.tight_layout()\n",
    "plt.show()"
   ]
  },
  {
   "cell_type": "code",
   "execution_count": null,
   "id": "48b4d814",
   "metadata": {},
   "outputs": [],
   "source": [
    "# klasa vs przeżycie\n",
    "survival_by_class = pd.crosstab(df_cleaned['Pclass'], df_cleaned['Survived'], margins=True)\n",
    "print(survival_by_class)\n",
    "\n",
    "class_survival = df_cleaned.groupby('Pclass')['Survived'].mean() * 100\n",
    "print(f\"1. klasa: {class_survival[1]:.1f}%\")\n",
    "print(f\"2. klasa: {class_survival[2]:.1f}%\")  \n",
    "print(f\"3. klasa: {class_survival[3]:.1f}%\")\n",
    "print(\"im wyższa klasa tym lepiej\")"
   ]
  },
  {
   "cell_type": "code",
   "execution_count": null,
   "id": "3f71abaf",
   "metadata": {},
   "outputs": [],
   "source": [
    "# wiek vs przeżycie\n",
    "plt.figure(figsize=(12, 5))\n",
    "\n",
    "plt.subplot(1, 2, 1)\n",
    "survived_ages = df_cleaned[df_cleaned['Survived'] == 1]['Age']\n",
    "not_survived_ages = df_cleaned[df_cleaned['Survived'] == 0]['Age']\n",
    "\n",
    "plt.hist([not_survived_ages, survived_ages], bins=30, alpha=0.7, \n",
    "         label=['Nie', 'Tak'], color=['lightcoral', 'lightblue'])\n",
    "plt.xlabel('Wiek')\n",
    "plt.title('Wiek vs przeżycie')\n",
    "plt.legend()\n",
    "\n",
    "plt.subplot(1, 2, 2)\n",
    "df_cleaned.boxplot(column='Age', by='Survived', ax=plt.gca())\n",
    "plt.title('Wiek boxplot')\n",
    "\n",
    "plt.tight_layout()\n",
    "plt.show()\n",
    "\n",
    "print(f\"średni wiek przeżyłych: {survived_ages.mean():.1f}\")\n",
    "print(f\"średni wiek nie przeżyłych: {not_survived_ages.mean():.1f}\")\n",
    "print(\"przeżyli trochę młodsi\")"
   ]
  },
  {
   "cell_type": "code",
   "execution_count": null,
   "id": "fd834f93",
   "metadata": {},
   "outputs": [],
   "source": [
    "# outliery\n",
    "fig, axes = plt.subplots(1, 2, figsize=(12, 5))\n",
    "\n",
    "axes[0].boxplot(df_cleaned['Age'])\n",
    "axes[0].set_title('Wiek - outliery?')\n",
    "\n",
    "axes[1].boxplot(df_cleaned['Fare'])\n",
    "axes[1].set_title('Cena - outliery?')\n",
    "\n",
    "plt.tight_layout()\n",
    "plt.show()\n",
    "\n",
    "print(\"najdroższe:\")\n",
    "expensive_tickets = df_cleaned.nlargest(5, 'Fare')[['Survived', 'Pclass', 'Sex', 'Age', 'Fare']]\n",
    "print(expensive_tickets)\n",
    "\n",
    "print(\"najstarsi:\")\n",
    "oldest_passengers = df_cleaned.nlargest(5, 'Age')[['Survived', 'Pclass', 'Sex', 'Age', 'Fare']]\n",
    "print(oldest_passengers)"
   ]
  },
  {
   "cell_type": "markdown",
   "id": "49a83a89",
   "metadata": {},
   "source": [
    "## nowe cechy które mogą być przydatne\n",
    "\n",
    "1. **Rodzina** - może podróżowanie z rodziną wpływało na szanse?\n",
    "2. **Grupy wiekowe** - może lepiej podzielić wiek na kategorie?\n",
    "3. **Czy ktoś był sam** - może samotni mieli inne szanse?\n"
   ]
  },
  {
   "cell_type": "code",
   "execution_count": null,
   "id": "3ed6e2bd",
   "metadata": {},
   "outputs": [],
   "source": [
    "# nowe cechy\n",
    "df_final = df_cleaned.copy()\n",
    "\n",
    "# rozmiar rodziny\n",
    "df_final['FamilySize'] = df_final['SibSp'] + df_final['Parch'] + 1\n",
    "\n",
    "# czy sam\n",
    "df_final['IsAlone'] = (df_final['FamilySize'] == 1).astype(int)\n",
    "\n",
    "# grupy wiekowe\n",
    "df_final['AgeGroup'] = pd.cut(df_final['Age'], \n",
    "                             bins=[0, 12, 18, 35, 60, 100], \n",
    "                             labels=['Dziecko', 'Nastolatek', 'Dorosły', 'ŚrednioWiek', 'Senior'])\n",
    "\n",
    "print(f\"rodzina: {df_final['FamilySize'].min()}-{df_final['FamilySize'].max()}\")\n",
    "print(f\"samotnych: {df_final['IsAlone'].sum()}\")\n",
    "print(df_final['AgeGroup'].value_counts())\n",
    "\n",
    "# czy wpływa na przeżycie?\n",
    "family_survival = df_final.groupby('FamilySize')['Survived'].mean()\n",
    "print(family_survival.round(3))"
   ]
  },
  {
   "cell_type": "code",
   "execution_count": null,
   "id": "f37a2f7f",
   "metadata": {},
   "outputs": [],
   "source": [
    "# wykresy nowych cech\n",
    "fig, axes = plt.subplots(2, 2, figsize=(15, 10))\n",
    "\n",
    "family_survival.plot(kind='bar', ax=axes[0, 0], color='lightgreen')\n",
    "axes[0, 0].set_title('Rodzina vs przeżycie')\n",
    "axes[0, 0].tick_params(axis='x', rotation=0)\n",
    "\n",
    "alone_survival = df_final.groupby('IsAlone')['Survived'].mean()\n",
    "alone_survival.plot(kind='bar', ax=axes[0, 1], color='orange')\n",
    "axes[0, 1].set_title('Samotni vs rodzina')\n",
    "axes[0, 1].tick_params(axis='x', rotation=0)\n",
    "\n",
    "age_group_survival = df_final.groupby('AgeGroup')['Survived'].mean()\n",
    "age_group_survival.plot(kind='bar', ax=axes[1, 0], color='purple')\n",
    "axes[1, 0].set_title('Wiek vs przeżycie')\n",
    "axes[1, 0].tick_params(axis='x', rotation=45)\n",
    "\n",
    "survival_sex_class = df_final.groupby(['Sex', 'Pclass'])['Survived'].mean().unstack()\n",
    "survival_sex_class.plot(kind='bar', ax=axes[1, 1])\n",
    "axes[1, 1].set_title('Płeć + klasa')\n",
    "axes[1, 1].legend(title='Klasa', labels=['1', '2', '3'])\n",
    "axes[1, 1].tick_params(axis='x', rotation=0)\n",
    "\n",
    "plt.tight_layout()\n",
    "plt.show()"
   ]
  },
  {
   "cell_type": "markdown",
   "id": "f5e2b6bd",
   "metadata": {},
   "source": [
    "## Krok 5: Przygotowanie finalnych danych\n",
    "\n",
    "Teraz muszę przygotować dane do dalszej analizy. Muszę zakodować zmienne kategorialyczne żeby algorytmy mogły z nimi pracować."
   ]
  },
  {
   "cell_type": "code",
   "execution_count": null,
   "id": "cb75ef91",
   "metadata": {},
   "outputs": [],
   "source": [
    "# kodowanie\n",
    "\n",
    "# płeć: male=0, female=1\n",
    "df_final['Sex'] = df_final['Sex'].map({'male': 0, 'female': 1})\n",
    "\n",
    "# dummy variables\n",
    "df_final = pd.get_dummies(df_final, columns=['Embarked'], prefix='Embarked')\n",
    "df_final = pd.get_dummies(df_final, columns=['AgeGroup'], prefix='Age')\n",
    "\n",
    "print(f\"kształt: {df_final.shape}\")\n",
    "print(f\"braki: {df_final.isnull().sum().sum()}\")\n",
    "\n",
    "df_final.head()"
   ]
  },
  {
   "cell_type": "code",
   "execution_count": null,
   "id": "bd43f190",
   "metadata": {},
   "outputs": [],
   "source": []
  },
  {
   "cell_type": "markdown",
   "id": "a0b4fecd",
   "metadata": {},
   "source": [
    "## Podsumowanie \n",
    "\n",
    "### Najważniejsze wnioski:\n",
    "\n",
    "1. **Płeć** - kobiety: 74%, mężczyźni: 19%. Zasada \"kobiety i dzieci pierwsze\" działała.\n",
    "\n",
    "2. **Klasa** - 1. klasa: 63%, 2. klasa: 47%, 3. klasa: 24%. Pieniądze miały znaczenie.\n",
    "\n",
    "3. **Wiek** - małe różnice, dzieci trochę lepiej.\n",
    "\n",
    "4. **Rodzina** - samotni gorzej, ale duże rodziny też źle.\n",
    "\n",
    "5. **Kombinacje** - najlepiej: kobiety 1. klasa (97%), najgorzej: mężczyźni 3. klasa (13%).\n",
    "\n",
    "### Dane gotowe:\n",
    "- brak braków\n",
    "- wszystko zakodowane \n",
    "- nowe cechy dodane"
   ]
  }
 ],
 "metadata": {
  "kernelspec": {
   "display_name": "base",
   "language": "python",
   "name": "python3"
  },
  "language_info": {
   "name": "python",
   "version": "3.12.9"
  }
 },
 "nbformat": 4,
 "nbformat_minor": 5
}

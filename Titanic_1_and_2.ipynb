{
 "cells": [
  {
   "cell_type": "markdown",
   "id": "ead64f52",
   "metadata": {},
   "source": [
    "# 1 - Exploracja danych ze zbioru Titanic:  \n",
    "https://drive.google.com/drive/u/1/folders/1KvLpW2Mg2RGeJwAwu-EVkliB1vhVXU_h"
   ]
  },
  {
   "cell_type": "markdown",
   "id": "7eab63e9",
   "metadata": {},
   "source": [
    "## Przygotowanie środowiska"
   ]
  },
  {
   "cell_type": "markdown",
   "id": "41210801",
   "metadata": {},
   "source": [
    "### Importowanie bibliotek"
   ]
  },
  {
   "cell_type": "markdown",
   "id": "390efae1",
   "metadata": {},
   "source": [
    "### Wczytanie danych"
   ]
  },
  {
   "cell_type": "code",
   "execution_count": 5,
   "id": "2d8b5db3",
   "metadata": {},
   "outputs": [],
   "source": [
    "from sklearn.preprocessing import OneHotEncoder,MinMaxScaler\n",
    "import pandas as pd\n",
    "import matplotlib.pyplot as plt\n",
    "import seaborn as sb"
   ]
  },
  {
   "cell_type": "code",
   "execution_count": 6,
   "id": "f09336ee",
   "metadata": {},
   "outputs": [
    {
     "data": {
      "text/html": [
       "<div>\n",
       "<style scoped>\n",
       "    .dataframe tbody tr th:only-of-type {\n",
       "        vertical-align: middle;\n",
       "    }\n",
       "\n",
       "    .dataframe tbody tr th {\n",
       "        vertical-align: top;\n",
       "    }\n",
       "\n",
       "    .dataframe thead th {\n",
       "        text-align: right;\n",
       "    }\n",
       "</style>\n",
       "<table border=\"1\" class=\"dataframe\">\n",
       "  <thead>\n",
       "    <tr style=\"text-align: right;\">\n",
       "      <th></th>\n",
       "      <th>PassengerId</th>\n",
       "      <th>Survived</th>\n",
       "      <th>Pclass</th>\n",
       "      <th>Name</th>\n",
       "      <th>Sex</th>\n",
       "      <th>Age</th>\n",
       "      <th>SibSp</th>\n",
       "      <th>Parch</th>\n",
       "      <th>Ticket</th>\n",
       "      <th>Fare</th>\n",
       "      <th>Cabin</th>\n",
       "      <th>Embarked</th>\n",
       "    </tr>\n",
       "  </thead>\n",
       "  <tbody>\n",
       "    <tr>\n",
       "      <th>0</th>\n",
       "      <td>1</td>\n",
       "      <td>0</td>\n",
       "      <td>3</td>\n",
       "      <td>Braund, Mr. Owen Harris</td>\n",
       "      <td>male</td>\n",
       "      <td>22.0</td>\n",
       "      <td>1</td>\n",
       "      <td>0</td>\n",
       "      <td>A/5 21171</td>\n",
       "      <td>7.2500</td>\n",
       "      <td>NaN</td>\n",
       "      <td>S</td>\n",
       "    </tr>\n",
       "    <tr>\n",
       "      <th>1</th>\n",
       "      <td>2</td>\n",
       "      <td>1</td>\n",
       "      <td>1</td>\n",
       "      <td>Cumings, Mrs. John Bradley (Florence Briggs Th...</td>\n",
       "      <td>female</td>\n",
       "      <td>38.0</td>\n",
       "      <td>1</td>\n",
       "      <td>0</td>\n",
       "      <td>PC 17599</td>\n",
       "      <td>71.2833</td>\n",
       "      <td>C85</td>\n",
       "      <td>C</td>\n",
       "    </tr>\n",
       "    <tr>\n",
       "      <th>2</th>\n",
       "      <td>3</td>\n",
       "      <td>1</td>\n",
       "      <td>3</td>\n",
       "      <td>Heikkinen, Miss. Laina</td>\n",
       "      <td>female</td>\n",
       "      <td>26.0</td>\n",
       "      <td>0</td>\n",
       "      <td>0</td>\n",
       "      <td>STON/O2. 3101282</td>\n",
       "      <td>7.9250</td>\n",
       "      <td>NaN</td>\n",
       "      <td>S</td>\n",
       "    </tr>\n",
       "    <tr>\n",
       "      <th>3</th>\n",
       "      <td>4</td>\n",
       "      <td>1</td>\n",
       "      <td>1</td>\n",
       "      <td>Futrelle, Mrs. Jacques Heath (Lily May Peel)</td>\n",
       "      <td>female</td>\n",
       "      <td>35.0</td>\n",
       "      <td>1</td>\n",
       "      <td>0</td>\n",
       "      <td>113803</td>\n",
       "      <td>53.1000</td>\n",
       "      <td>C123</td>\n",
       "      <td>S</td>\n",
       "    </tr>\n",
       "    <tr>\n",
       "      <th>4</th>\n",
       "      <td>5</td>\n",
       "      <td>0</td>\n",
       "      <td>3</td>\n",
       "      <td>Allen, Mr. William Henry</td>\n",
       "      <td>male</td>\n",
       "      <td>35.0</td>\n",
       "      <td>0</td>\n",
       "      <td>0</td>\n",
       "      <td>373450</td>\n",
       "      <td>8.0500</td>\n",
       "      <td>NaN</td>\n",
       "      <td>S</td>\n",
       "    </tr>\n",
       "    <tr>\n",
       "      <th>5</th>\n",
       "      <td>6</td>\n",
       "      <td>0</td>\n",
       "      <td>3</td>\n",
       "      <td>Moran, Mr. James</td>\n",
       "      <td>male</td>\n",
       "      <td>NaN</td>\n",
       "      <td>0</td>\n",
       "      <td>0</td>\n",
       "      <td>330877</td>\n",
       "      <td>8.4583</td>\n",
       "      <td>NaN</td>\n",
       "      <td>Q</td>\n",
       "    </tr>\n",
       "    <tr>\n",
       "      <th>6</th>\n",
       "      <td>7</td>\n",
       "      <td>0</td>\n",
       "      <td>1</td>\n",
       "      <td>McCarthy, Mr. Timothy J</td>\n",
       "      <td>male</td>\n",
       "      <td>54.0</td>\n",
       "      <td>0</td>\n",
       "      <td>0</td>\n",
       "      <td>17463</td>\n",
       "      <td>51.8625</td>\n",
       "      <td>E46</td>\n",
       "      <td>S</td>\n",
       "    </tr>\n",
       "    <tr>\n",
       "      <th>7</th>\n",
       "      <td>8</td>\n",
       "      <td>0</td>\n",
       "      <td>3</td>\n",
       "      <td>Palsson, Master. Gosta Leonard</td>\n",
       "      <td>male</td>\n",
       "      <td>2.0</td>\n",
       "      <td>3</td>\n",
       "      <td>1</td>\n",
       "      <td>349909</td>\n",
       "      <td>21.0750</td>\n",
       "      <td>NaN</td>\n",
       "      <td>S</td>\n",
       "    </tr>\n",
       "    <tr>\n",
       "      <th>8</th>\n",
       "      <td>9</td>\n",
       "      <td>1</td>\n",
       "      <td>3</td>\n",
       "      <td>Johnson, Mrs. Oscar W (Elisabeth Vilhelmina Berg)</td>\n",
       "      <td>female</td>\n",
       "      <td>27.0</td>\n",
       "      <td>0</td>\n",
       "      <td>2</td>\n",
       "      <td>347742</td>\n",
       "      <td>NaN</td>\n",
       "      <td>NaN</td>\n",
       "      <td>S</td>\n",
       "    </tr>\n",
       "    <tr>\n",
       "      <th>9</th>\n",
       "      <td>10</td>\n",
       "      <td>1</td>\n",
       "      <td>2</td>\n",
       "      <td>Nasser, Mrs. Nicholas (Adele Achem)</td>\n",
       "      <td>female</td>\n",
       "      <td>14.0</td>\n",
       "      <td>1</td>\n",
       "      <td>0</td>\n",
       "      <td>237736</td>\n",
       "      <td>30.0708</td>\n",
       "      <td>NaN</td>\n",
       "      <td>C</td>\n",
       "    </tr>\n",
       "  </tbody>\n",
       "</table>\n",
       "</div>"
      ],
      "text/plain": [
       "   PassengerId  Survived  Pclass  \\\n",
       "0            1         0       3   \n",
       "1            2         1       1   \n",
       "2            3         1       3   \n",
       "3            4         1       1   \n",
       "4            5         0       3   \n",
       "5            6         0       3   \n",
       "6            7         0       1   \n",
       "7            8         0       3   \n",
       "8            9         1       3   \n",
       "9           10         1       2   \n",
       "\n",
       "                                                Name     Sex   Age  SibSp  \\\n",
       "0                            Braund, Mr. Owen Harris    male  22.0      1   \n",
       "1  Cumings, Mrs. John Bradley (Florence Briggs Th...  female  38.0      1   \n",
       "2                             Heikkinen, Miss. Laina  female  26.0      0   \n",
       "3       Futrelle, Mrs. Jacques Heath (Lily May Peel)  female  35.0      1   \n",
       "4                           Allen, Mr. William Henry    male  35.0      0   \n",
       "5                                   Moran, Mr. James    male   NaN      0   \n",
       "6                            McCarthy, Mr. Timothy J    male  54.0      0   \n",
       "7                     Palsson, Master. Gosta Leonard    male   2.0      3   \n",
       "8  Johnson, Mrs. Oscar W (Elisabeth Vilhelmina Berg)  female  27.0      0   \n",
       "9                Nasser, Mrs. Nicholas (Adele Achem)  female  14.0      1   \n",
       "\n",
       "   Parch            Ticket     Fare Cabin Embarked  \n",
       "0      0         A/5 21171   7.2500   NaN        S  \n",
       "1      0          PC 17599  71.2833   C85        C  \n",
       "2      0  STON/O2. 3101282   7.9250   NaN        S  \n",
       "3      0            113803  53.1000  C123        S  \n",
       "4      0            373450   8.0500   NaN        S  \n",
       "5      0            330877   8.4583   NaN        Q  \n",
       "6      0             17463  51.8625   E46        S  \n",
       "7      1            349909  21.0750   NaN        S  \n",
       "8      2            347742      NaN   NaN        S  \n",
       "9      0            237736  30.0708   NaN        C  "
      ]
     },
     "execution_count": 6,
     "metadata": {},
     "output_type": "execute_result"
    }
   ],
   "source": [
    "raw_data = pd.read_csv(\"titanic.csv\")\n",
    "raw_data.head(10)"
   ]
  },
  {
   "cell_type": "markdown",
   "id": "03d46c1b",
   "metadata": {},
   "source": [
    "### Pierwsze zapoznanie się z danymi"
   ]
  },
  {
   "cell_type": "code",
   "execution_count": 7,
   "id": "00908315",
   "metadata": {},
   "outputs": [
    {
     "name": "stdout",
     "output_type": "stream",
     "text": [
      "<class 'pandas.core.frame.DataFrame'>\n",
      "RangeIndex: 891 entries, 0 to 890\n",
      "Data columns (total 12 columns):\n",
      " #   Column       Non-Null Count  Dtype  \n",
      "---  ------       --------------  -----  \n",
      " 0   PassengerId  891 non-null    int64  \n",
      " 1   Survived     891 non-null    int64  \n",
      " 2   Pclass       891 non-null    int64  \n",
      " 3   Name         891 non-null    object \n",
      " 4   Sex          891 non-null    object \n",
      " 5   Age          714 non-null    float64\n",
      " 6   SibSp        891 non-null    int64  \n",
      " 7   Parch        891 non-null    int64  \n",
      " 8   Ticket       891 non-null    object \n",
      " 9   Fare         793 non-null    float64\n",
      " 10  Cabin        204 non-null    object \n",
      " 11  Embarked     889 non-null    object \n",
      "dtypes: float64(2), int64(5), object(5)\n",
      "memory usage: 83.7+ KB\n"
     ]
    }
   ],
   "source": [
    "raw_data.info()"
   ]
  },
  {
   "cell_type": "code",
   "execution_count": 8,
   "id": "877fa05c",
   "metadata": {},
   "outputs": [
    {
     "data": {
      "text/plain": [
       "Pclass\n",
       "3    491\n",
       "1    216\n",
       "2    184\n",
       "Name: count, dtype: int64"
      ]
     },
     "execution_count": 8,
     "metadata": {},
     "output_type": "execute_result"
    }
   ],
   "source": [
    "raw_data['Pclass'].value_counts()"
   ]
  },
  {
   "cell_type": "code",
   "execution_count": 9,
   "id": "327f3abb",
   "metadata": {},
   "outputs": [
    {
     "data": {
      "text/plain": [
       "Parch\n",
       "0    678\n",
       "1    118\n",
       "2     80\n",
       "5      5\n",
       "3      5\n",
       "4      4\n",
       "6      1\n",
       "Name: count, dtype: int64"
      ]
     },
     "execution_count": 9,
     "metadata": {},
     "output_type": "execute_result"
    }
   ],
   "source": [
    "raw_data['Parch'].value_counts()"
   ]
  },
  {
   "cell_type": "markdown",
   "id": "58efb9cb",
   "metadata": {},
   "source": [
    "## Exploracja danych"
   ]
  },
  {
   "cell_type": "markdown",
   "id": "61308fea",
   "metadata": {},
   "source": [
    "### Pozbycie się zbędnych kolumn"
   ]
  },
  {
   "cell_type": "markdown",
   "id": "5b7abd56",
   "metadata": {},
   "source": [
    "Dane muszą zostać przygotowane pod modele uczenia maszynowego w celu klasyfikacji binarnej dotyczącej przeżycia katastrofy.  \n",
    "W związku z tym kolumny takie jak PassengerId','Name','Ticket','Cabin','Embarked' nie powinny mieć wpływu na klasyfikację.  \n",
    "Kolumna 'Survived' jest kolumną docelową, która będzie wykorzystywana w dalszym uczelniu jako etykiety.  "
   ]
  },
  {
   "cell_type": "code",
   "execution_count": 10,
   "id": "23ab394f",
   "metadata": {},
   "outputs": [],
   "source": [
    "target = raw_data['Survived']\n",
    "filtered_columns = raw_data.drop(['PassengerId','Survived','Name','Ticket','Cabin','Embarked'],axis=1)"
   ]
  },
  {
   "cell_type": "code",
   "execution_count": 11,
   "id": "feb76f2e",
   "metadata": {},
   "outputs": [
    {
     "data": {
      "text/html": [
       "<div>\n",
       "<style scoped>\n",
       "    .dataframe tbody tr th:only-of-type {\n",
       "        vertical-align: middle;\n",
       "    }\n",
       "\n",
       "    .dataframe tbody tr th {\n",
       "        vertical-align: top;\n",
       "    }\n",
       "\n",
       "    .dataframe thead th {\n",
       "        text-align: right;\n",
       "    }\n",
       "</style>\n",
       "<table border=\"1\" class=\"dataframe\">\n",
       "  <thead>\n",
       "    <tr style=\"text-align: right;\">\n",
       "      <th></th>\n",
       "      <th>Pclass</th>\n",
       "      <th>Sex</th>\n",
       "      <th>Age</th>\n",
       "      <th>SibSp</th>\n",
       "      <th>Parch</th>\n",
       "      <th>Fare</th>\n",
       "    </tr>\n",
       "  </thead>\n",
       "  <tbody>\n",
       "    <tr>\n",
       "      <th>0</th>\n",
       "      <td>3</td>\n",
       "      <td>male</td>\n",
       "      <td>22.0</td>\n",
       "      <td>1</td>\n",
       "      <td>0</td>\n",
       "      <td>7.2500</td>\n",
       "    </tr>\n",
       "    <tr>\n",
       "      <th>1</th>\n",
       "      <td>1</td>\n",
       "      <td>female</td>\n",
       "      <td>38.0</td>\n",
       "      <td>1</td>\n",
       "      <td>0</td>\n",
       "      <td>71.2833</td>\n",
       "    </tr>\n",
       "    <tr>\n",
       "      <th>2</th>\n",
       "      <td>3</td>\n",
       "      <td>female</td>\n",
       "      <td>26.0</td>\n",
       "      <td>0</td>\n",
       "      <td>0</td>\n",
       "      <td>7.9250</td>\n",
       "    </tr>\n",
       "    <tr>\n",
       "      <th>3</th>\n",
       "      <td>1</td>\n",
       "      <td>female</td>\n",
       "      <td>35.0</td>\n",
       "      <td>1</td>\n",
       "      <td>0</td>\n",
       "      <td>53.1000</td>\n",
       "    </tr>\n",
       "    <tr>\n",
       "      <th>4</th>\n",
       "      <td>3</td>\n",
       "      <td>male</td>\n",
       "      <td>35.0</td>\n",
       "      <td>0</td>\n",
       "      <td>0</td>\n",
       "      <td>8.0500</td>\n",
       "    </tr>\n",
       "  </tbody>\n",
       "</table>\n",
       "</div>"
      ],
      "text/plain": [
       "   Pclass     Sex   Age  SibSp  Parch     Fare\n",
       "0       3    male  22.0      1      0   7.2500\n",
       "1       1  female  38.0      1      0  71.2833\n",
       "2       3  female  26.0      0      0   7.9250\n",
       "3       1  female  35.0      1      0  53.1000\n",
       "4       3    male  35.0      0      0   8.0500"
      ]
     },
     "execution_count": 11,
     "metadata": {},
     "output_type": "execute_result"
    }
   ],
   "source": [
    "filtered_columns.head(5)"
   ]
  },
  {
   "cell_type": "markdown",
   "id": "7ce8eca4",
   "metadata": {},
   "source": [
    "### Eksploracja poszczególnych cech"
   ]
  },
  {
   "cell_type": "markdown",
   "id": "c68a3bd8",
   "metadata": {},
   "source": [
    "Dla ułatwienia dalszej eksploracji lepiej będzie już teraz podzielić zbiór danych na ludzi, którzy nie przeżyli lub przetrwali katastrofę Titanica.  "
   ]
  },
  {
   "cell_type": "code",
   "execution_count": 12,
   "id": "f3fe7960",
   "metadata": {},
   "outputs": [],
   "source": [
    "survived = filtered_columns[target == 1]\n",
    "dead = filtered_columns[target == 0]"
   ]
  },
  {
   "cell_type": "markdown",
   "id": "a02e9220",
   "metadata": {},
   "source": [
    "#### Cecha - Wieku"
   ]
  },
  {
   "cell_type": "markdown",
   "id": "4e5dd480",
   "metadata": {},
   "source": [
    "Cecha posiada wiele wartości brakujących dlatego weźmiemy pod uwagę tylko wiersze z uzupełnioną wartością wieku. "
   ]
  },
  {
   "cell_type": "code",
   "execution_count": 13,
   "id": "c8113f3f",
   "metadata": {},
   "outputs": [],
   "source": [
    "with_age = filtered_columns[filtered_columns['Age'].notna()]"
   ]
  },
  {
   "cell_type": "markdown",
   "id": "5d8f85f9",
   "metadata": {},
   "source": [
    "Histogram dla wieku  \n",
    "\n",
    "Na wykresie widać, że większość osób obecnych na pokładzie było w wieku od 16-36 lat.  \n",
    "Było również dużo dzieci w wieku od 0-5 lat.  \n",
    "(wykres poniżej)"
   ]
  },
  {
   "cell_type": "code",
   "execution_count": 14,
   "id": "52c9336e",
   "metadata": {},
   "outputs": [
    {
     "data": {
      "text/plain": [
       "Text(0.5, 1.0, 'Age histogram')"
      ]
     },
     "execution_count": 14,
     "metadata": {},
     "output_type": "execute_result"
    },
    {
     "data": {
      "image/png": "[encoded data removed]",
      "text/plain": [
       "<Figure size 640x480 with 1 Axes>"
      ]
     },
     "metadata": {},
     "output_type": "display_data"
    }
   ],
   "source": [
    "sb.histplot(with_age['Age'],bins=80,color='darkorange',alpha=0.5,edgecolor='gray')\n",
    "plt.title(\"Age histogram\")"
   ]
  },
  {
   "cell_type": "markdown",
   "id": "ac05d6f9",
   "metadata": {},
   "source": [
    "Stworzyłem rozkłady gęstości dla wieku korzystając z wcześniejszego podziału.  \n",
    "\n",
    "Widoczna jest duża przeżywalność wśród dzieci co może być spowodowane między innymi pierwszeństwem dzieci na szalupy ratunkowe lub rodzicami, którzy je uratowali.  \n",
    "Można też zauważyć, że większośc osób powyżej 60 roku życia zginęło, pewnie przez o wiele gorszą sprawność fizyczną.  \n",
    "Reszta wykresu jest proporcjonalna z ilością osób obecnych na pokładzie w poszczególnym wieku.   \n",
    "(wykres poniżej)"
   ]
  },
  {
   "cell_type": "code",
   "execution_count": 15,
   "id": "89cf738d",
   "metadata": {},
   "outputs": [
    {
     "data": {
      "text/plain": [
       "Text(0.5, 1.0, 'Deceased density')"
      ]
     },
     "execution_count": 15,
     "metadata": {},
     "output_type": "execute_result"
    },
    {
     "data": {
      "image/png": "[encoded data removed]",
      "text/plain": [
       "<Figure size 1400x600 with 2 Axes>"
      ]
     },
     "metadata": {},
     "output_type": "display_data"
    }
   ],
   "source": [
    "fig, ax = plt.subplots(1,2,figsize=(14,6))\n",
    "sb.histplot(survived['Age'],bins=80,color='lightgreen',alpha=0.5,edgecolor='gray',ax=ax[0],stat=\"density\")\n",
    "sb.histplot(dead['Age'],bins=80,color='red',alpha=0.5,edgecolor='gray',ax=ax[1],stat=\"density\")\n",
    "ax[0].set_title(\"Survivous density\")\n",
    "ax[1].set_title(\"Deceased density\")"
   ]
  },
  {
   "cell_type": "markdown",
   "id": "5762033c",
   "metadata": {},
   "source": [
    "#### Cecha -  Płci"
   ]
  },
  {
   "cell_type": "markdown",
   "id": "84dd7a7f",
   "metadata": {},
   "source": [
    "Sprawdzę teraz w jakim stopniu płeć wpływała na przyżywalność.\n",
    "\n",
    "W tym celu stworzyłem wykres kolumnowy przedstawiający ilość osób poszczególnej płci z podziałem na przeżywalność.\n",
    "Widoczna jest duża dystroporcja, pomimo dużej liczności mężczyźni charakteryzowali się kilkukrotnie gorszą przeżywalnością niż kobiety.  \n",
    "Może być to spowodowane pierwszeństwem kobiet do szalup ratunkowych tak jak w przypadku dzieci oraz tym, że raczej mężczyźni próbowali ratować kobiety.  \n",
    "(wykres poniżej)"
   ]
  },
  {
   "cell_type": "code",
   "execution_count": 16,
   "id": "05cc4956",
   "metadata": {},
   "outputs": [
    {
     "data": {
      "text/plain": [
       "Text(0.5, 1.0, 'Sex influence on surviving rate')"
      ]
     },
     "execution_count": 16,
     "metadata": {},
     "output_type": "execute_result"
    },
    {
     "data": {
      "image/png": "[encoded data removed]",
      "text/plain": [
       "<Figure size 640x480 with 1 Axes>"
      ]
     },
     "metadata": {},
     "output_type": "display_data"
    }
   ],
   "source": [
    "sb.histplot(data=filtered_columns,x=\"Sex\",alpha=0.5,hue=target.map(lambda x:\"Survived\" if x == 1 else \"Dead\"),multiple=\"dodge\",shrink=0.5,stat=\"count\",palette={\"Survived\":\"lightgreen\",\"Dead\":\"red\"})\n",
    "plt.title(\"Sex influence on surviving rate\")"
   ]
  },
  {
   "cell_type": "markdown",
   "id": "a1ff80fe",
   "metadata": {},
   "source": [
    "Żeby jeszcze bardziej uwidocznić tą różnicę stworzyłem rozkłady gęstości z podziałem na płeć oraz przeżywalność.  \n",
    "Kobiety cechują się wysoką przeżywalnością w każdym wieku.  \n",
    "Śmiertelność mężczyzn jest proporcjonalna do ich ilości w danej grupie wiekowej za wyjątkiem wieku dziecięcego - spora cześć mężczyzn, która przeżyła była dziećmi  \n",
    "(wykres poniżej)\n"
   ]
  },
  {
   "cell_type": "code",
   "execution_count": 17,
   "id": "f764d702",
   "metadata": {},
   "outputs": [
    {
     "data": {
      "text/plain": [
       "Text(0.5, 1.0, 'Deceased by Sex density')"
      ]
     },
     "execution_count": 17,
     "metadata": {},
     "output_type": "execute_result"
    },
    {
     "data": {
      "image/png": "[encoded data removed]",
      "text/plain": [
       "<Figure size 1400x600 with 2 Axes>"
      ]
     },
     "metadata": {},
     "output_type": "display_data"
    }
   ],
   "source": [
    "fig, ax = plt.subplots(1,2,figsize=(14,6))\n",
    "sb.histplot(survived,x='Age',bins=80,hue='Sex',alpha=0.5,edgecolor='gray',ax=ax[0],stat=\"density\",multiple=\"stack\",palette={\"male\":\"green\",\"female\":\"lightgreen\"})\n",
    "sb.histplot(dead,x='Age',bins=80,hue='Sex',alpha=0.5,edgecolor='gray',ax=ax[1],stat=\"density\",multiple=\"stack\",palette={\"male\":\"orange\",\"female\":\"red\"})\n",
    "ax[0].set_title(\"Survived by Sex density\")\n",
    "ax[1].set_title(\"Deceased by Sex density\")"
   ]
  },
  {
   "cell_type": "markdown",
   "id": "4880b811",
   "metadata": {},
   "source": [
    "#### Cecha - opłata za bilet"
   ]
  },
  {
   "cell_type": "markdown",
   "id": "31729ae0",
   "metadata": {},
   "source": [
    "Opłata za bilet może wywrzeć wpływ na śmiertelność pod względem umiescowienia na statku lub innych przywilejów.  \n",
    "Poniżej stworzyłem wykres przedstawiający histogram ceny biletu z podziałem na przeżywalność.  \n",
    "Ciekawe jest to, że osoby, które wydały sporo na bilet cechują się sporą przeżywalnością. "
   ]
  },
  {
   "cell_type": "code",
   "execution_count": 18,
   "id": "d9d52164",
   "metadata": {},
   "outputs": [
    {
     "data": {
      "text/plain": [
       "Text(0.5, 1.0, 'Fare histogram')"
      ]
     },
     "execution_count": 18,
     "metadata": {},
     "output_type": "execute_result"
    },
    {
     "data": {
      "image/png": "[encoded data removed]",
      "text/plain": [
       "<Figure size 640x480 with 1 Axes>"
      ]
     },
     "metadata": {},
     "output_type": "display_data"
    }
   ],
   "source": [
    "sb.histplot(x=filtered_columns['Fare'],bins=50,hue=target.map(lambda x: \"Survived\" if x == 1 else \"Dead\"),multiple=\"stack\",palette={\"Survived\":\"lightgreen\",\"Dead\":\"red\"},alpha=0.7,edgecolor='gray')\n",
    "plt.title(\"Fare histogram\")"
   ]
  },
  {
   "cell_type": "markdown",
   "id": "66234c55",
   "metadata": {},
   "source": [
    "Jednak może to być spowodowane innymi czynnikami. Żeby się upewnić poniżej znajduje się identyczny wykres tylko z podziałem na płeć.  \n",
    "Wcześniej wykryta duża przeżywalność jest spowodowana tym, że w większośći to kobiety płaciły wysokie stawki za bilet.  "
   ]
  },
  {
   "cell_type": "code",
   "execution_count": 19,
   "id": "c2b817f6",
   "metadata": {},
   "outputs": [
    {
     "data": {
      "text/plain": [
       "Text(0.5, 1.0, 'Fare histogram')"
      ]
     },
     "execution_count": 19,
     "metadata": {},
     "output_type": "execute_result"
    },
    {
     "data": {
      "image/png": "[encoded data removed]",
      "text/plain": [
       "<Figure size 640x480 with 1 Axes>"
      ]
     },
     "metadata": {},
     "output_type": "display_data"
    }
   ],
   "source": [
    "sb.histplot(data=filtered_columns,x=filtered_columns['Fare'],bins=50,hue='Sex',multiple=\"stack\",palette={\"male\":\"lightgreen\",\"female\":\"darkgreen\"},alpha=0.7,edgecolor='gray')\n",
    "plt.title(\"Fare histogram\")"
   ]
  },
  {
   "cell_type": "markdown",
   "id": "8b058446",
   "metadata": {},
   "source": [
    "#### Cecha - Pclass"
   ]
  },
  {
   "cell_type": "markdown",
   "id": "2f8e41d8",
   "metadata": {},
   "source": [
    "Jest to cecha, która mówi o tym w której klasie podróżowała dana osoba.  \n",
    "Może mieć to wpływ na umiejscowienie pasażera w momencie katastrofy.  \n",
    "\n",
    "Poniżej widać to, że kobiety w większości podróżowały klasą 1 i 2, natomiast mężczyźni 3.  "
   ]
  },
  {
   "cell_type": "code",
   "execution_count": 20,
   "id": "cebb2f32",
   "metadata": {},
   "outputs": [
    {
     "data": {
      "text/plain": [
       "Text(0.5, 1.0, 'Pclass count by Sex')"
      ]
     },
     "execution_count": 20,
     "metadata": {},
     "output_type": "execute_result"
    },
    {
     "data": {
      "image/png": "[encoded data removed]",
      "text/plain": [
       "<Figure size 640x480 with 1 Axes>"
      ]
     },
     "metadata": {},
     "output_type": "display_data"
    }
   ],
   "source": [
    "sb.countplot(data=filtered_columns,x='Pclass',hue='Sex',palette={\"male\":\"lightgreen\",\"female\":\"darkgreen\"},edgecolor='gray',alpha=0.8)\n",
    "plt.title(\"Pclass count by Sex\")"
   ]
  },
  {
   "cell_type": "markdown",
   "id": "3291a9ed",
   "metadata": {},
   "source": [
    "Ten sam wykres ale z podziałem na przeżywalność pokazuje, że osoby z pierwszej klasy charakteryzowały się większą przeżywalnością niż osoby w drugiej klasie.  \n",
    "(ilość kobiet i mężczyzn jest w nich podobna, więc można porównać)  \n",
    "\n",
    "W klasie trzeciej śmiertelność z powodu dużej ilości osób w szczególnośći mężczyzn jest wysoka. "
   ]
  },
  {
   "cell_type": "code",
   "execution_count": 21,
   "id": "a8cefd7c",
   "metadata": {},
   "outputs": [
    {
     "data": {
      "text/plain": [
       "Text(0.5, 1.0, 'Pclass count by Sex')"
      ]
     },
     "execution_count": 21,
     "metadata": {},
     "output_type": "execute_result"
    },
    {
     "data": {
      "image/png": "[encoded data removed]",
      "text/plain": [
       "<Figure size 640x480 with 1 Axes>"
      ]
     },
     "metadata": {},
     "output_type": "display_data"
    }
   ],
   "source": [
    "sb.countplot(data=filtered_columns,x='Pclass',hue=target.map(lambda x: \"Survived\" if x == 1 else \"Dead\"),palette={\"Survived\":\"lightgreen\",\"Dead\":\"red\"},alpha=0.6,edgecolor='gray')\n",
    "plt.title(\"Pclass count by Sex\")"
   ]
  },
  {
   "cell_type": "markdown",
   "id": "91bc81f1",
   "metadata": {},
   "source": [
    "#### Cecha - SibSp"
   ]
  },
  {
   "cell_type": "markdown",
   "id": "2cf97e72",
   "metadata": {},
   "source": [
    "Cecha oznacza liczbę rodzeństwa lub małżonków na pokładzie dla poszczególnego pasażera.  \n",
    "\n",
    "Na dwóch poniższych wykresach można zauważyć, że dla osób posiadających wartość SibSp większą od 3 śmiertelność jest bardzo wysoka.  \n",
    "Wpływ na to może mieć to, że znaczna część tych osób jest płci męskiej.  "
   ]
  },
  {
   "cell_type": "code",
   "execution_count": 22,
   "id": "937048dc",
   "metadata": {},
   "outputs": [
    {
     "data": {
      "text/plain": [
       "Text(0.5, 1.0, 'Pclass count by Sex')"
      ]
     },
     "execution_count": 22,
     "metadata": {},
     "output_type": "execute_result"
    },
    {
     "data": {
      "image/png": "[encoded data removed]",
      "text/plain": [
       "<Figure size 640x480 with 1 Axes>"
      ]
     },
     "metadata": {},
     "output_type": "display_data"
    }
   ],
   "source": [
    "sb.countplot(data=filtered_columns,x='SibSp',hue=target.map(lambda x: \"Survived\" if x == 1 else \"Dead\"),palette={\"Survived\":\"lightgreen\",\"Dead\":\"red\"},alpha=0.6,edgecolor='gray')\n",
    "plt.title(\"Pclass count by Sex\")"
   ]
  },
  {
   "cell_type": "code",
   "execution_count": 23,
   "id": "daf89eda",
   "metadata": {},
   "outputs": [
    {
     "data": {
      "text/plain": [
       "Text(0.5, 1.0, 'Pclass count by Sex')"
      ]
     },
     "execution_count": 23,
     "metadata": {},
     "output_type": "execute_result"
    },
    {
     "data": {
      "image/png": "[encoded data removed]",
      "text/plain": [
       "<Figure size 640x480 with 1 Axes>"
      ]
     },
     "metadata": {},
     "output_type": "display_data"
    }
   ],
   "source": [
    "sb.countplot(data=filtered_columns,x='SibSp',hue='Sex',palette={\"male\":\"lightgreen\",\"female\":\"darkgreen\"},edgecolor='gray',alpha=0.8)\n",
    "plt.title(\"Pclass count by Sex\")"
   ]
  },
  {
   "cell_type": "markdown",
   "id": "77952e55",
   "metadata": {},
   "source": [
    "#### Cecha - Parch"
   ]
  },
  {
   "cell_type": "markdown",
   "id": "cb1a32df",
   "metadata": {},
   "source": [
    "Cecha oznacza liczbę rodziców lub dzieci poszczególnego pasażera.  \n",
    "Z ciekawych rzeczy, to z dwóch poniższych wykresów można zobaczyć wysoką śmiertelność osób, które miały wartość Parch wyższą lub równą 3.  \n",
    "\n",
    "Nawet to, że większość tych osób to kobiety nie zmniejsza śmiertelnośći.  \n",
    "Może to być spowodowane tym, że kobiety ratowały swoje dzieci, często poświęcając się lub miały mniejsze szanse dlatego, że musiały się nimi zajmować.  "
   ]
  },
  {
   "cell_type": "code",
   "execution_count": 24,
   "id": "e60b5507",
   "metadata": {},
   "outputs": [
    {
     "data": {
      "text/plain": [
       "Text(0.5, 1.0, 'Pclass count by Sex')"
      ]
     },
     "execution_count": 24,
     "metadata": {},
     "output_type": "execute_result"
    },
    {
     "data": {
      "image/png": "[encoded data removed]",
      "text/plain": [
       "<Figure size 640x480 with 1 Axes>"
      ]
     },
     "metadata": {},
     "output_type": "display_data"
    }
   ],
   "source": [
    "sb.countplot(data=filtered_columns,x='Parch',hue=target.map(lambda x: \"Survived\" if x == 1 else \"Dead\"),palette={\"Survived\":\"lightgreen\",\"Dead\":\"red\"},alpha=0.6,edgecolor='gray')\n",
    "plt.title(\"Pclass count by Sex\")"
   ]
  },
  {
   "cell_type": "code",
   "execution_count": 25,
   "id": "3032db36",
   "metadata": {},
   "outputs": [
    {
     "data": {
      "text/plain": [
       "Text(0.5, 1.0, 'Pclass count by Sex')"
      ]
     },
     "execution_count": 25,
     "metadata": {},
     "output_type": "execute_result"
    },
    {
     "data": {
      "image/png": "[encoded data removed]",
      "text/plain": [
       "<Figure size 640x480 with 1 Axes>"
      ]
     },
     "metadata": {},
     "output_type": "display_data"
    }
   ],
   "source": [
    "sb.countplot(data=filtered_columns,x='Parch',hue='Sex',palette={\"male\":\"lightgreen\",\"female\":\"darkgreen\"},edgecolor='gray',alpha=0.8)\n",
    "plt.title(\"Pclass count by Sex\")"
   ]
  },
  {
   "cell_type": "markdown",
   "id": "625186f4",
   "metadata": {},
   "source": [
    "## Przygotowanie danych"
   ]
  },
  {
   "cell_type": "code",
   "execution_count": 26,
   "id": "b551ee66",
   "metadata": {},
   "outputs": [
    {
     "name": "stdout",
     "output_type": "stream",
     "text": [
      "<class 'pandas.core.frame.DataFrame'>\n",
      "RangeIndex: 891 entries, 0 to 890\n",
      "Data columns (total 6 columns):\n",
      " #   Column  Non-Null Count  Dtype  \n",
      "---  ------  --------------  -----  \n",
      " 0   Pclass  891 non-null    int64  \n",
      " 1   Sex     891 non-null    object \n",
      " 2   Age     714 non-null    float64\n",
      " 3   SibSp   891 non-null    int64  \n",
      " 4   Parch   891 non-null    int64  \n",
      " 5   Fare    793 non-null    float64\n",
      "dtypes: float64(2), int64(3), object(1)\n",
      "memory usage: 41.9+ KB\n"
     ]
    }
   ],
   "source": [
    "filtered_columns.info()"
   ]
  },
  {
   "cell_type": "markdown",
   "id": "cefc05a0",
   "metadata": {},
   "source": [
    "Przygotowanie dantch do modeli uczenia maszynowego zacznę od usunięcia cechy Fare, ponieważ jest ona mocno skorelowana z płcią jak i również klasą (cechą Pclass).  \n",
    "Dodatkowo posiada brakujące wartości.  "
   ]
  },
  {
   "cell_type": "code",
   "execution_count": 44,
   "id": "8533d4e7",
   "metadata": {},
   "outputs": [],
   "source": [
    "final_columns = filtered_columns.drop(['Fare'],axis=1)"
   ]
  },
  {
   "cell_type": "markdown",
   "id": "32190675",
   "metadata": {},
   "source": [
    "Zastosuję kodowanie gorącojedynkowe do płci"
   ]
  },
  {
   "cell_type": "code",
   "execution_count": 45,
   "id": "9129bcd8",
   "metadata": {},
   "outputs": [],
   "source": [
    "encoder = OneHotEncoder()\n",
    "encoded = encoder.fit_transform(filtered_columns[['Sex']])\n",
    "encoder_columns = [x.split(\"_\")[1] for x in encoder.get_feature_names_out()]\n",
    "encoded = pd.DataFrame(encoded.toarray(),columns=encoder_columns)\n",
    "encoded = encoded.drop(['male'],axis=1) # gdy są dwie cechy binarne to bez sensu jest używać dwóch kolumn"
   ]
  },
  {
   "cell_type": "markdown",
   "id": "dc771f24",
   "metadata": {},
   "source": [
    "Zastosuję skalowanie minmax do wieku, ponieważ wartości tej cechy znacząco różnią się od innych pozostałych co może źle wpływać na niektóre modele uczenia maszynowego"
   ]
  },
  {
   "cell_type": "code",
   "execution_count": 46,
   "id": "1576e772",
   "metadata": {},
   "outputs": [],
   "source": [
    "scaler = MinMaxScaler()\n",
    "scaled_age = scaler.fit_transform(filtered_columns[['Age']])\n",
    "scaled_age = pd.DataFrame(scaled_age,columns=scaler.get_feature_names_out())"
   ]
  },
  {
   "cell_type": "markdown",
   "id": "efc95f8c",
   "metadata": {},
   "source": [
    "Łącze wszystko do jednego dataframe i usuwam stare kolumny"
   ]
  },
  {
   "cell_type": "code",
   "execution_count": 47,
   "id": "22d5ec18",
   "metadata": {},
   "outputs": [],
   "source": [
    "final_columns = final_columns.drop(['Sex','Age'],axis=1)\n",
    "final_columns = pd.concat([final_columns,encoded,scaled_age],axis=1)"
   ]
  },
  {
   "cell_type": "markdown",
   "id": "e0ff9bf1",
   "metadata": {},
   "source": [
    "Cecha Age posiada dużo wartości odstających, jednak też jest cechą mającą duży wpływ na śmiertelność.  \n",
    "Dlatego zrobię dwa końcowe zestawy danych. \n",
    "- Pierwszy będzie posiadał wszystkie wiersze, jednak bez atrybutu Age.\n",
    "- Drugi będzie zawierał jedynie te wiersze, gdzie wartość atrybutu Age jest uzupełniona.\n",
    "\n",
    "Brakujące wartości wieku możnaby uzupełniać z rozkładu cechy Age, jednak z powodu małej ilości danych (tylko 891 wierszy) może wpłynąć na wiarygodność klasyfikacji."
   ]
  },
  {
   "cell_type": "markdown",
   "id": "8e911064",
   "metadata": {},
   "source": [
    "Pierwszy zestaw danych z wiekiem: "
   ]
  },
  {
   "cell_type": "code",
   "execution_count": 59,
   "id": "19fef4d2",
   "metadata": {},
   "outputs": [],
   "source": [
    "final_data_with_age = final_columns.dropna()\n",
    "target_with_age = target[final_data_with_age.index].reset_index(drop=True)\n",
    "final_data_with_age = final_data_with_age.reset_index(drop=True)"
   ]
  },
  {
   "cell_type": "markdown",
   "id": "678419c7",
   "metadata": {},
   "source": [
    "Drugi zestaw danych bez wieku: "
   ]
  },
  {
   "cell_type": "code",
   "execution_count": 60,
   "id": "fc6d38c5",
   "metadata": {},
   "outputs": [],
   "source": [
    "final_data_without_age = final_columns.drop(['Age'],axis=1)"
   ]
  },
  {
   "cell_type": "markdown",
   "id": "77ec1f23",
   "metadata": {},
   "source": [
    "## Dane do modeli uczenia maszynowego"
   ]
  },
  {
   "cell_type": "code",
   "execution_count": 61,
   "id": "7871d01a",
   "metadata": {},
   "outputs": [
    {
     "data": {
      "text/html": [
       "<div>\n",
       "<style scoped>\n",
       "    .dataframe tbody tr th:only-of-type {\n",
       "        vertical-align: middle;\n",
       "    }\n",
       "\n",
       "    .dataframe tbody tr th {\n",
       "        vertical-align: top;\n",
       "    }\n",
       "\n",
       "    .dataframe thead th {\n",
       "        text-align: right;\n",
       "    }\n",
       "</style>\n",
       "<table border=\"1\" class=\"dataframe\">\n",
       "  <thead>\n",
       "    <tr style=\"text-align: right;\">\n",
       "      <th></th>\n",
       "      <th>Pclass</th>\n",
       "      <th>SibSp</th>\n",
       "      <th>Parch</th>\n",
       "      <th>female</th>\n",
       "      <th>Age</th>\n",
       "    </tr>\n",
       "  </thead>\n",
       "  <tbody>\n",
       "    <tr>\n",
       "      <th>0</th>\n",
       "      <td>3</td>\n",
       "      <td>1</td>\n",
       "      <td>0</td>\n",
       "      <td>0.0</td>\n",
       "      <td>0.271174</td>\n",
       "    </tr>\n",
       "    <tr>\n",
       "      <th>1</th>\n",
       "      <td>1</td>\n",
       "      <td>1</td>\n",
       "      <td>0</td>\n",
       "      <td>1.0</td>\n",
       "      <td>0.472229</td>\n",
       "    </tr>\n",
       "    <tr>\n",
       "      <th>2</th>\n",
       "      <td>3</td>\n",
       "      <td>0</td>\n",
       "      <td>0</td>\n",
       "      <td>1.0</td>\n",
       "      <td>0.321438</td>\n",
       "    </tr>\n",
       "    <tr>\n",
       "      <th>3</th>\n",
       "      <td>1</td>\n",
       "      <td>1</td>\n",
       "      <td>0</td>\n",
       "      <td>1.0</td>\n",
       "      <td>0.434531</td>\n",
       "    </tr>\n",
       "    <tr>\n",
       "      <th>4</th>\n",
       "      <td>3</td>\n",
       "      <td>0</td>\n",
       "      <td>0</td>\n",
       "      <td>0.0</td>\n",
       "      <td>0.434531</td>\n",
       "    </tr>\n",
       "    <tr>\n",
       "      <th>...</th>\n",
       "      <td>...</td>\n",
       "      <td>...</td>\n",
       "      <td>...</td>\n",
       "      <td>...</td>\n",
       "      <td>...</td>\n",
       "    </tr>\n",
       "    <tr>\n",
       "      <th>709</th>\n",
       "      <td>3</td>\n",
       "      <td>0</td>\n",
       "      <td>5</td>\n",
       "      <td>1.0</td>\n",
       "      <td>0.484795</td>\n",
       "    </tr>\n",
       "    <tr>\n",
       "      <th>710</th>\n",
       "      <td>2</td>\n",
       "      <td>0</td>\n",
       "      <td>0</td>\n",
       "      <td>0.0</td>\n",
       "      <td>0.334004</td>\n",
       "    </tr>\n",
       "    <tr>\n",
       "      <th>711</th>\n",
       "      <td>1</td>\n",
       "      <td>0</td>\n",
       "      <td>0</td>\n",
       "      <td>1.0</td>\n",
       "      <td>0.233476</td>\n",
       "    </tr>\n",
       "    <tr>\n",
       "      <th>712</th>\n",
       "      <td>1</td>\n",
       "      <td>0</td>\n",
       "      <td>0</td>\n",
       "      <td>0.0</td>\n",
       "      <td>0.321438</td>\n",
       "    </tr>\n",
       "    <tr>\n",
       "      <th>713</th>\n",
       "      <td>3</td>\n",
       "      <td>0</td>\n",
       "      <td>0</td>\n",
       "      <td>0.0</td>\n",
       "      <td>0.396833</td>\n",
       "    </tr>\n",
       "  </tbody>\n",
       "</table>\n",
       "<p>714 rows × 5 columns</p>\n",
       "</div>"
      ],
      "text/plain": [
       "     Pclass  SibSp  Parch  female       Age\n",
       "0         3      1      0     0.0  0.271174\n",
       "1         1      1      0     1.0  0.472229\n",
       "2         3      0      0     1.0  0.321438\n",
       "3         1      1      0     1.0  0.434531\n",
       "4         3      0      0     0.0  0.434531\n",
       "..      ...    ...    ...     ...       ...\n",
       "709       3      0      5     1.0  0.484795\n",
       "710       2      0      0     0.0  0.334004\n",
       "711       1      0      0     1.0  0.233476\n",
       "712       1      0      0     0.0  0.321438\n",
       "713       3      0      0     0.0  0.396833\n",
       "\n",
       "[714 rows x 5 columns]"
      ]
     },
     "execution_count": 61,
     "metadata": {},
     "output_type": "execute_result"
    }
   ],
   "source": [
    "final_data_with_age"
   ]
  },
  {
   "cell_type": "code",
   "execution_count": 62,
   "id": "d11525a8",
   "metadata": {},
   "outputs": [
    {
     "data": {
      "text/html": [
       "<div>\n",
       "<style scoped>\n",
       "    .dataframe tbody tr th:only-of-type {\n",
       "        vertical-align: middle;\n",
       "    }\n",
       "\n",
       "    .dataframe tbody tr th {\n",
       "        vertical-align: top;\n",
       "    }\n",
       "\n",
       "    .dataframe thead th {\n",
       "        text-align: right;\n",
       "    }\n",
       "</style>\n",
       "<table border=\"1\" class=\"dataframe\">\n",
       "  <thead>\n",
       "    <tr style=\"text-align: right;\">\n",
       "      <th></th>\n",
       "      <th>Pclass</th>\n",
       "      <th>SibSp</th>\n",
       "      <th>Parch</th>\n",
       "      <th>female</th>\n",
       "    </tr>\n",
       "  </thead>\n",
       "  <tbody>\n",
       "    <tr>\n",
       "      <th>0</th>\n",
       "      <td>3</td>\n",
       "      <td>1</td>\n",
       "      <td>0</td>\n",
       "      <td>0.0</td>\n",
       "    </tr>\n",
       "    <tr>\n",
       "      <th>1</th>\n",
       "      <td>1</td>\n",
       "      <td>1</td>\n",
       "      <td>0</td>\n",
       "      <td>1.0</td>\n",
       "    </tr>\n",
       "    <tr>\n",
       "      <th>2</th>\n",
       "      <td>3</td>\n",
       "      <td>0</td>\n",
       "      <td>0</td>\n",
       "      <td>1.0</td>\n",
       "    </tr>\n",
       "    <tr>\n",
       "      <th>3</th>\n",
       "      <td>1</td>\n",
       "      <td>1</td>\n",
       "      <td>0</td>\n",
       "      <td>1.0</td>\n",
       "    </tr>\n",
       "    <tr>\n",
       "      <th>4</th>\n",
       "      <td>3</td>\n",
       "      <td>0</td>\n",
       "      <td>0</td>\n",
       "      <td>0.0</td>\n",
       "    </tr>\n",
       "    <tr>\n",
       "      <th>...</th>\n",
       "      <td>...</td>\n",
       "      <td>...</td>\n",
       "      <td>...</td>\n",
       "      <td>...</td>\n",
       "    </tr>\n",
       "    <tr>\n",
       "      <th>886</th>\n",
       "      <td>2</td>\n",
       "      <td>0</td>\n",
       "      <td>0</td>\n",
       "      <td>0.0</td>\n",
       "    </tr>\n",
       "    <tr>\n",
       "      <th>887</th>\n",
       "      <td>1</td>\n",
       "      <td>0</td>\n",
       "      <td>0</td>\n",
       "      <td>1.0</td>\n",
       "    </tr>\n",
       "    <tr>\n",
       "      <th>888</th>\n",
       "      <td>3</td>\n",
       "      <td>1</td>\n",
       "      <td>2</td>\n",
       "      <td>1.0</td>\n",
       "    </tr>\n",
       "    <tr>\n",
       "      <th>889</th>\n",
       "      <td>1</td>\n",
       "      <td>0</td>\n",
       "      <td>0</td>\n",
       "      <td>0.0</td>\n",
       "    </tr>\n",
       "    <tr>\n",
       "      <th>890</th>\n",
       "      <td>3</td>\n",
       "      <td>0</td>\n",
       "      <td>0</td>\n",
       "      <td>0.0</td>\n",
       "    </tr>\n",
       "  </tbody>\n",
       "</table>\n",
       "<p>891 rows × 4 columns</p>\n",
       "</div>"
      ],
      "text/plain": [
       "     Pclass  SibSp  Parch  female\n",
       "0         3      1      0     0.0\n",
       "1         1      1      0     1.0\n",
       "2         3      0      0     1.0\n",
       "3         1      1      0     1.0\n",
       "4         3      0      0     0.0\n",
       "..      ...    ...    ...     ...\n",
       "886       2      0      0     0.0\n",
       "887       1      0      0     1.0\n",
       "888       3      1      2     1.0\n",
       "889       1      0      0     0.0\n",
       "890       3      0      0     0.0\n",
       "\n",
       "[891 rows x 4 columns]"
      ]
     },
     "execution_count": 62,
     "metadata": {},
     "output_type": "execute_result"
    }
   ],
   "source": [
    "final_data_without_age"
   ]
  },
  {
   "cell_type": "markdown",
   "id": "48f9f037",
   "metadata": {},
   "source": [
    "# 2 - Klasyfikacja"
   ]
  },
  {
   "cell_type": "markdown",
   "id": "05480e91",
   "metadata": {},
   "source": [
    "## Przygotowanie środowiska"
   ]
  },
  {
   "cell_type": "markdown",
   "id": "0e398eff",
   "metadata": {},
   "source": [
    "### Importowanie bibliotek"
   ]
  },
  {
   "cell_type": "code",
   "execution_count": 173,
   "id": "ce6f42a4",
   "metadata": {},
   "outputs": [],
   "source": [
    "from sklearn.model_selection import train_test_split,GridSearchCV\n",
    "from sklearn.metrics import confusion_matrix, ConfusionMatrixDisplay\n",
    "from sklearn.dummy import DummyClassifier\n",
    "from sklearn.svm import SVC\n",
    "from sklearn.linear_model import LogisticRegression\n",
    "from sklearn.ensemble import RandomForestClassifier\n",
    "from sklearn.cluster import KMeans\n"
   ]
  },
  {
   "cell_type": "markdown",
   "id": "cb003181",
   "metadata": {},
   "source": [
    "### Wczytanie danych"
   ]
  },
  {
   "cell_type": "code",
   "execution_count": 64,
   "id": "026c2047",
   "metadata": {},
   "outputs": [
    {
     "data": {
      "text/html": [
       "<div>\n",
       "<style scoped>\n",
       "    .dataframe tbody tr th:only-of-type {\n",
       "        vertical-align: middle;\n",
       "    }\n",
       "\n",
       "    .dataframe tbody tr th {\n",
       "        vertical-align: top;\n",
       "    }\n",
       "\n",
       "    .dataframe thead th {\n",
       "        text-align: right;\n",
       "    }\n",
       "</style>\n",
       "<table border=\"1\" class=\"dataframe\">\n",
       "  <thead>\n",
       "    <tr style=\"text-align: right;\">\n",
       "      <th></th>\n",
       "      <th>Pclass</th>\n",
       "      <th>SibSp</th>\n",
       "      <th>Parch</th>\n",
       "      <th>female</th>\n",
       "      <th>Age</th>\n",
       "    </tr>\n",
       "  </thead>\n",
       "  <tbody>\n",
       "    <tr>\n",
       "      <th>0</th>\n",
       "      <td>3</td>\n",
       "      <td>1</td>\n",
       "      <td>0</td>\n",
       "      <td>0.0</td>\n",
       "      <td>0.271174</td>\n",
       "    </tr>\n",
       "    <tr>\n",
       "      <th>1</th>\n",
       "      <td>1</td>\n",
       "      <td>1</td>\n",
       "      <td>0</td>\n",
       "      <td>1.0</td>\n",
       "      <td>0.472229</td>\n",
       "    </tr>\n",
       "    <tr>\n",
       "      <th>2</th>\n",
       "      <td>3</td>\n",
       "      <td>0</td>\n",
       "      <td>0</td>\n",
       "      <td>1.0</td>\n",
       "      <td>0.321438</td>\n",
       "    </tr>\n",
       "    <tr>\n",
       "      <th>3</th>\n",
       "      <td>1</td>\n",
       "      <td>1</td>\n",
       "      <td>0</td>\n",
       "      <td>1.0</td>\n",
       "      <td>0.434531</td>\n",
       "    </tr>\n",
       "    <tr>\n",
       "      <th>4</th>\n",
       "      <td>3</td>\n",
       "      <td>0</td>\n",
       "      <td>0</td>\n",
       "      <td>0.0</td>\n",
       "      <td>0.434531</td>\n",
       "    </tr>\n",
       "  </tbody>\n",
       "</table>\n",
       "</div>"
      ],
      "text/plain": [
       "   Pclass  SibSp  Parch  female       Age\n",
       "0       3      1      0     0.0  0.271174\n",
       "1       1      1      0     1.0  0.472229\n",
       "2       3      0      0     1.0  0.321438\n",
       "3       1      1      0     1.0  0.434531\n",
       "4       3      0      0     0.0  0.434531"
      ]
     },
     "execution_count": 64,
     "metadata": {},
     "output_type": "execute_result"
    }
   ],
   "source": [
    "data = final_data_with_age\n",
    "data.head(5)"
   ]
  },
  {
   "cell_type": "markdown",
   "id": "0a559a09",
   "metadata": {},
   "source": [
    "## Dobieranie najlepszego modelu"
   ]
  },
  {
   "cell_type": "markdown",
   "id": "f129dc3a",
   "metadata": {},
   "source": [
    "Dobieram cztery modele, aby sprawdzić jak sobie radzą z klasyfikacją na standardowych parametrach.  \n",
    "Z uwagi na małą ilość danych, wielokrotne powtarzanie treningu wielu modeli nie będzie wymagało wielu zasobów i czasu.  "
   ]
  },
  {
   "cell_type": "markdown",
   "id": "5a96768f",
   "metadata": {},
   "source": [
    "### Definiowanie modeli"
   ]
  },
  {
   "cell_type": "markdown",
   "id": "52e5621d",
   "metadata": {},
   "source": [
    "Aby zwiększośc dokładność regresji logistycznej, parametr max_iter ustawiam na 1000.  \n",
    "Jest to klasyfikacja binarna, więc parametr n_clusters w modelu Kmeans ustawiam na 2.   "
   ]
  },
  {
   "cell_type": "code",
   "execution_count": 68,
   "id": "4f45f70a",
   "metadata": {},
   "outputs": [],
   "source": [
    "models = {\n",
    "    'SVC': SVC(),\n",
    "    'LogisticRegression': LogisticRegression(max_iter=1000),\n",
    "    'RandomForest': RandomForestClassifier(),\n",
    "    'Kmeans' : KMeans(n_clusters=2)\n",
    "}"
   ]
  },
  {
   "cell_type": "markdown",
   "id": "b75afb1b",
   "metadata": {},
   "source": [
    "### Znalezienie dwóch najlepiej sprawdzających się modeli"
   ]
  },
  {
   "cell_type": "markdown",
   "id": "d6f5012c",
   "metadata": {},
   "source": [
    "Za pomocą GridSearch z wbudowaną walidacją krzyżową szukam dwóch modeli, które najlepiej spisują się dla wprowadzonych danych.  \n",
    "Takimi modelami jest model lasów losowych oraz klasyfikator wektorów nośnych.  "
   ]
  },
  {
   "cell_type": "code",
   "execution_count": 86,
   "id": "4aa86805",
   "metadata": {},
   "outputs": [
    {
     "name": "stdout",
     "output_type": "stream",
     "text": [
      "SVC: 0.7997340687481532\n",
      "LogisticRegression: 0.7843593026691618\n",
      "RandomForest: 0.8011622180636264\n",
      "Kmeans: 0.5206638431990545\n"
     ]
    }
   ],
   "source": [
    "results = {}\n",
    "for name, model in models.items():\n",
    "    GS = GridSearchCV(model,param_grid={},cv=5,scoring='accuracy')\n",
    "    GS.fit(data, target_with_age)\n",
    "    results[name] = GS.best_score_\n",
    "    print(f\"{name}: {GS.best_score_}\")"
   ]
  },
  {
   "cell_type": "markdown",
   "id": "47bc74b7",
   "metadata": {},
   "source": [
    "### Porównanie z dummy classifier"
   ]
  },
  {
   "cell_type": "markdown",
   "id": "1a11307a",
   "metadata": {},
   "source": [
    "Powyższe modele znacznie lepiej sobie radzą niż prosty klasyfikator z parametrem 'most_frequent'"
   ]
  },
  {
   "cell_type": "code",
   "execution_count": 93,
   "id": "e0284745",
   "metadata": {},
   "outputs": [
    {
     "name": "stdout",
     "output_type": "stream",
     "text": [
      "DummyClassifier accuracy: 0.5938\n"
     ]
    }
   ],
   "source": [
    "dummy = DummyClassifier(strategy='most_frequent')\n",
    "dummy.fit(data, target_with_age)\n",
    "dummy_score = dummy.score(data, target_with_age)\n",
    "print(f\"DummyClassifier accuracy: {dummy_score:.4f}\")"
   ]
  },
  {
   "cell_type": "markdown",
   "id": "bf0020b8",
   "metadata": {},
   "source": [
    "### Szukanie najlepszych parametrów dla dwóch najlepszych modeli"
   ]
  },
  {
   "cell_type": "markdown",
   "id": "a62490a1",
   "metadata": {},
   "source": [
    "Mam już wybrane dwa najlepsze modele, teraz będą szukał dla nich najlepszych parametrów.  \n",
    "Użyję do tego GridSearchCV.  \n",
    "\n",
    "W klasyfikatorze wektorów nośnych znajdują się zróżnicowane parametry C wpływające na regularyzację,  \n",
    "oraz wartości jądra.  \n",
    "\n",
    "W modelu lasów losowych określone zostały różne maksymalne głębokości lasu, podziału oraz liczbę drzew.  "
   ]
  },
  {
   "cell_type": "code",
   "execution_count": 123,
   "id": "c86efe0b",
   "metadata": {},
   "outputs": [],
   "source": [
    "models_two = {\n",
    "    'SVC': SVC(),\n",
    "    'RandomForest': RandomForestClassifier(),\n",
    "}"
   ]
  },
  {
   "cell_type": "code",
   "execution_count": 124,
   "id": "fab5a4d6",
   "metadata": {},
   "outputs": [],
   "source": [
    "parameters_two = {\n",
    "    'SVC': {\n",
    "        'C':[0.1,1,10,100],\n",
    "        'kernel': ['linear','rbf','poly'],\n",
    "    },\n",
    "    'RandomForest': {\n",
    "        'n_estimators': [25,50,100,200],\n",
    "        'max_depth': [None,5,10,15],\n",
    "        'min_samples_split': [2,5,10]\n",
    "    }\n",
    "}"
   ]
  },
  {
   "cell_type": "code",
   "execution_count": 125,
   "id": "fa87777c",
   "metadata": {},
   "outputs": [
    {
     "name": "stdout",
     "output_type": "stream",
     "text": [
      "SVC: 0.8095932236777308 | {'C': 100, 'kernel': 'rbf'}\n",
      "RandomForest: 0.8235595390524967 | {'max_depth': 10, 'min_samples_split': 5, 'n_estimators': 50}\n"
     ]
    }
   ],
   "source": [
    "results_two = {}\n",
    "for name, models_two in models_two.items():\n",
    "    GS_two = GridSearchCV(models_two,param_grid=parameters_two[name],cv=5,scoring='accuracy')\n",
    "    GS_two.fit(data, target_with_age)\n",
    "    results_two[name] = {\n",
    "        'score': GS_two.best_score_,\n",
    "        'parameters': GS_two.best_params_\n",
    "    }\n",
    "    print(f\"{name}: {GS_two.best_score_} | {GS_two.best_params_}\")"
   ]
  },
  {
   "cell_type": "markdown",
   "id": "d6ad7858",
   "metadata": {},
   "source": [
    "### Najlepszy model"
   ]
  },
  {
   "cell_type": "markdown",
   "id": "95b736bc",
   "metadata": {},
   "source": [
    "Używam metryki dokładności, która w tym przypadku odzwierciedla procentową zgodność predykcji modelu z etykietami.  \n",
    "Wartości te są w miarę wiarygodne i nie występuje tutaj wyciek danych z uwagi na wielokrotne stosowanie walidacji krzyżowej.  \n",
    "\n",
    "Najlepszym okazał się model lasów losowych o parametrach 'max_depth': 10, 'min_samples_split': 5, 'n_estimators': 50"
   ]
  },
  {
   "cell_type": "markdown",
   "id": "2b16fa9d",
   "metadata": {},
   "source": []
  },
  {
   "cell_type": "code",
   "execution_count": 128,
   "id": "b719897e",
   "metadata": {},
   "outputs": [
    {
     "data": {
      "text/plain": [
       "{'score': np.float64(0.8235595390524967),\n",
       " 'parameters': {'max_depth': 10, 'min_samples_split': 5, 'n_estimators': 50}}"
      ]
     },
     "execution_count": 128,
     "metadata": {},
     "output_type": "execute_result"
    }
   ],
   "source": [
    "results_two['RandomForest']"
   ]
  },
  {
   "cell_type": "markdown",
   "id": "15be3d5e",
   "metadata": {},
   "source": [
    "## Trenowanie najlepszego modelu"
   ]
  },
  {
   "cell_type": "markdown",
   "id": "74016749",
   "metadata": {},
   "source": [
    "Po wybraniu najlepiej sprawdzającego się modelu i zestawu jego parametrów rozdzielam zbiór danych na zbiór treningowy i testowy, który będzie obejmował 20% danych.  \n",
    "Następnie model jest trenowany na zbiorze treningowym.  "
   ]
  },
  {
   "cell_type": "code",
   "execution_count": 170,
   "id": "8393b0b2",
   "metadata": {},
   "outputs": [],
   "source": [
    "X_train,X_test,y_train,y_test = train_test_split(data,target_with_age,test_size=0.2)"
   ]
  },
  {
   "cell_type": "code",
   "execution_count": 171,
   "id": "811814f8",
   "metadata": {},
   "outputs": [
    {
     "data": {
      "text/html": [
       "<style>#sk-container-id-14 {\n",
       "  /* Definition of color scheme common for light and dark mode */\n",
       "  --sklearn-color-text: #000;\n",
       "  --sklearn-color-text-muted: #666;\n",
       "  --sklearn-color-line: gray;\n",
       "  /* Definition of color scheme for unfitted estimators */\n",
       "  --sklearn-color-unfitted-level-0: #fff5e6;\n",
       "  --sklearn-color-unfitted-level-1: #f6e4d2;\n",
       "  --sklearn-color-unfitted-level-2: #ffe0b3;\n",
       "  --sklearn-color-unfitted-level-3: chocolate;\n",
       "  /* Definition of color scheme for fitted estimators */\n",
       "  --sklearn-color-fitted-level-0: #f0f8ff;\n",
       "  --sklearn-color-fitted-level-1: #d4ebff;\n",
       "  --sklearn-color-fitted-level-2: #b3dbfd;\n",
       "  --sklearn-color-fitted-level-3: cornflowerblue;\n",
       "\n",
       "  /* Specific color for light theme */\n",
       "  --sklearn-color-text-on-default-background: var(--sg-text-color, var(--theme-code-foreground, var(--jp-content-font-color1, black)));\n",
       "  --sklearn-color-background: var(--sg-background-color, var(--theme-background, var(--jp-layout-color0, white)));\n",
       "  --sklearn-color-border-box: var(--sg-text-color, var(--theme-code-foreground, var(--jp-content-font-color1, black)));\n",
       "  --sklearn-color-icon: #696969;\n",
       "\n",
       "  @media (prefers-color-scheme: dark) {\n",
       "    /* Redefinition of color scheme for dark theme */\n",
       "    --sklearn-color-text-on-default-background: var(--sg-text-color, var(--theme-code-foreground, var(--jp-content-font-color1, white)));\n",
       "    --sklearn-color-background: var(--sg-background-color, var(--theme-background, var(--jp-layout-color0, #111)));\n",
       "    --sklearn-color-border-box: var(--sg-text-color, var(--theme-code-foreground, var(--jp-content-font-color1, white)));\n",
       "    --sklearn-color-icon: #878787;\n",
       "  }\n",
       "}\n",
       "\n",
       "#sk-container-id-14 {\n",
       "  color: var(--sklearn-color-text);\n",
       "}\n",
       "\n",
       "#sk-container-id-14 pre {\n",
       "  padding: 0;\n",
       "}\n",
       "\n",
       "#sk-container-id-14 input.sk-hidden--visually {\n",
       "  border: 0;\n",
       "  clip: rect(1px 1px 1px 1px);\n",
       "  clip: rect(1px, 1px, 1px, 1px);\n",
       "  height: 1px;\n",
       "  margin: -1px;\n",
       "  overflow: hidden;\n",
       "  padding: 0;\n",
       "  position: absolute;\n",
       "  width: 1px;\n",
       "}\n",
       "\n",
       "#sk-container-id-14 div.sk-dashed-wrapped {\n",
       "  border: 1px dashed var(--sklearn-color-line);\n",
       "  margin: 0 0.4em 0.5em 0.4em;\n",
       "  box-sizing: border-box;\n",
       "  padding-bottom: 0.4em;\n",
       "  background-color: var(--sklearn-color-background);\n",
       "}\n",
       "\n",
       "#sk-container-id-14 div.sk-container {\n",
       "  /* jupyter's `normalize.less` sets `[hidden] { display: none; }`\n",
       "     but bootstrap.min.css set `[hidden] { display: none !important; }`\n",
       "     so we also need the `!important` here to be able to override the\n",
       "     default hidden behavior on the sphinx rendered scikit-learn.org.\n",
       "     See: https://github.com/scikit-learn/scikit-learn/issues/21755 */\n",
       "  display: inline-block !important;\n",
       "  position: relative;\n",
       "}\n",
       "\n",
       "#sk-container-id-14 div.sk-text-repr-fallback {\n",
       "  display: none;\n",
       "}\n",
       "\n",
       "div.sk-parallel-item,\n",
       "div.sk-serial,\n",
       "div.sk-item {\n",
       "  /* draw centered vertical line to link estimators */\n",
       "  background-image: linear-gradient(var(--sklearn-color-text-on-default-background), var(--sklearn-color-text-on-default-background));\n",
       "  background-size: 2px 100%;\n",
       "  background-repeat: no-repeat;\n",
       "  background-position: center center;\n",
       "}\n",
       "\n",
       "/* Parallel-specific style estimator block */\n",
       "\n",
       "#sk-container-id-14 div.sk-parallel-item::after {\n",
       "  content: \"\";\n",
       "  width: 100%;\n",
       "  border-bottom: 2px solid var(--sklearn-color-text-on-default-background);\n",
       "  flex-grow: 1;\n",
       "}\n",
       "\n",
       "#sk-container-id-14 div.sk-parallel {\n",
       "  display: flex;\n",
       "  align-items: stretch;\n",
       "  justify-content: center;\n",
       "  background-color: var(--sklearn-color-background);\n",
       "  position: relative;\n",
       "}\n",
       "\n",
       "#sk-container-id-14 div.sk-parallel-item {\n",
       "  display: flex;\n",
       "  flex-direction: column;\n",
       "}\n",
       "\n",
       "#sk-container-id-14 div.sk-parallel-item:first-child::after {\n",
       "  align-self: flex-end;\n",
       "  width: 50%;\n",
       "}\n",
       "\n",
       "#sk-container-id-14 div.sk-parallel-item:last-child::after {\n",
       "  align-self: flex-start;\n",
       "  width: 50%;\n",
       "}\n",
       "\n",
       "#sk-container-id-14 div.sk-parallel-item:only-child::after {\n",
       "  width: 0;\n",
       "}\n",
       "\n",
       "/* Serial-specific style estimator block */\n",
       "\n",
       "#sk-container-id-14 div.sk-serial {\n",
       "  display: flex;\n",
       "  flex-direction: column;\n",
       "  align-items: center;\n",
       "  background-color: var(--sklearn-color-background);\n",
       "  padding-right: 1em;\n",
       "  padding-left: 1em;\n",
       "}\n",
       "\n",
       "\n",
       "/* Toggleable style: style used for estimator/Pipeline/ColumnTransformer box that is\n",
       "clickable and can be expanded/collapsed.\n",
       "- Pipeline and ColumnTransformer use this feature and define the default style\n",
       "- Estimators will overwrite some part of the style using the `sk-estimator` class\n",
       "*/\n",
       "\n",
       "/* Pipeline and ColumnTransformer style (default) */\n",
       "\n",
       "#sk-container-id-14 div.sk-toggleable {\n",
       "  /* Default theme specific background. It is overwritten whether we have a\n",
       "  specific estimator or a Pipeline/ColumnTransformer */\n",
       "  background-color: var(--sklearn-color-background);\n",
       "}\n",
       "\n",
       "/* Toggleable label */\n",
       "#sk-container-id-14 label.sk-toggleable__label {\n",
       "  cursor: pointer;\n",
       "  display: flex;\n",
       "  width: 100%;\n",
       "  margin-bottom: 0;\n",
       "  padding: 0.5em;\n",
       "  box-sizing: border-box;\n",
       "  text-align: center;\n",
       "  align-items: start;\n",
       "  justify-content: space-between;\n",
       "  gap: 0.5em;\n",
       "}\n",
       "\n",
       "#sk-container-id-14 label.sk-toggleable__label .caption {\n",
       "  font-size: 0.6rem;\n",
       "  font-weight: lighter;\n",
       "  color: var(--sklearn-color-text-muted);\n",
       "}\n",
       "\n",
       "#sk-container-id-14 label.sk-toggleable__label-arrow:before {\n",
       "  /* Arrow on the left of the label */\n",
       "  content: \"▸\";\n",
       "  float: left;\n",
       "  margin-right: 0.25em;\n",
       "  color: var(--sklearn-color-icon);\n",
       "}\n",
       "\n",
       "#sk-container-id-14 label.sk-toggleable__label-arrow:hover:before {\n",
       "  color: var(--sklearn-color-text);\n",
       "}\n",
       "\n",
       "/* Toggleable content - dropdown */\n",
       "\n",
       "#sk-container-id-14 div.sk-toggleable__content {\n",
       "  max-height: 0;\n",
       "  max-width: 0;\n",
       "  overflow: hidden;\n",
       "  text-align: left;\n",
       "  /* unfitted */\n",
       "  background-color: var(--sklearn-color-unfitted-level-0);\n",
       "}\n",
       "\n",
       "#sk-container-id-14 div.sk-toggleable__content.fitted {\n",
       "  /* fitted */\n",
       "  background-color: var(--sklearn-color-fitted-level-0);\n",
       "}\n",
       "\n",
       "#sk-container-id-14 div.sk-toggleable__content pre {\n",
       "  margin: 0.2em;\n",
       "  border-radius: 0.25em;\n",
       "  color: var(--sklearn-color-text);\n",
       "  /* unfitted */\n",
       "  background-color: var(--sklearn-color-unfitted-level-0);\n",
       "}\n",
       "\n",
       "#sk-container-id-14 div.sk-toggleable__content.fitted pre {\n",
       "  /* unfitted */\n",
       "  background-color: var(--sklearn-color-fitted-level-0);\n",
       "}\n",
       "\n",
       "#sk-container-id-14 input.sk-toggleable__control:checked~div.sk-toggleable__content {\n",
       "  /* Expand drop-down */\n",
       "  max-height: 200px;\n",
       "  max-width: 100%;\n",
       "  overflow: auto;\n",
       "}\n",
       "\n",
       "#sk-container-id-14 input.sk-toggleable__control:checked~label.sk-toggleable__label-arrow:before {\n",
       "  content: \"▾\";\n",
       "}\n",
       "\n",
       "/* Pipeline/ColumnTransformer-specific style */\n",
       "\n",
       "#sk-container-id-14 div.sk-label input.sk-toggleable__control:checked~label.sk-toggleable__label {\n",
       "  color: var(--sklearn-color-text);\n",
       "  background-color: var(--sklearn-color-unfitted-level-2);\n",
       "}\n",
       "\n",
       "#sk-container-id-14 div.sk-label.fitted input.sk-toggleable__control:checked~label.sk-toggleable__label {\n",
       "  background-color: var(--sklearn-color-fitted-level-2);\n",
       "}\n",
       "\n",
       "/* Estimator-specific style */\n",
       "\n",
       "/* Colorize estimator box */\n",
       "#sk-container-id-14 div.sk-estimator input.sk-toggleable__control:checked~label.sk-toggleable__label {\n",
       "  /* unfitted */\n",
       "  background-color: var(--sklearn-color-unfitted-level-2);\n",
       "}\n",
       "\n",
       "#sk-container-id-14 div.sk-estimator.fitted input.sk-toggleable__control:checked~label.sk-toggleable__label {\n",
       "  /* fitted */\n",
       "  background-color: var(--sklearn-color-fitted-level-2);\n",
       "}\n",
       "\n",
       "#sk-container-id-14 div.sk-label label.sk-toggleable__label,\n",
       "#sk-container-id-14 div.sk-label label {\n",
       "  /* The background is the default theme color */\n",
       "  color: var(--sklearn-color-text-on-default-background);\n",
       "}\n",
       "\n",
       "/* On hover, darken the color of the background */\n",
       "#sk-container-id-14 div.sk-label:hover label.sk-toggleable__label {\n",
       "  color: var(--sklearn-color-text);\n",
       "  background-color: var(--sklearn-color-unfitted-level-2);\n",
       "}\n",
       "\n",
       "/* Label box, darken color on hover, fitted */\n",
       "#sk-container-id-14 div.sk-label.fitted:hover label.sk-toggleable__label.fitted {\n",
       "  color: var(--sklearn-color-text);\n",
       "  background-color: var(--sklearn-color-fitted-level-2);\n",
       "}\n",
       "\n",
       "/* Estimator label */\n",
       "\n",
       "#sk-container-id-14 div.sk-label label {\n",
       "  font-family: monospace;\n",
       "  font-weight: bold;\n",
       "  display: inline-block;\n",
       "  line-height: 1.2em;\n",
       "}\n",
       "\n",
       "#sk-container-id-14 div.sk-label-container {\n",
       "  text-align: center;\n",
       "}\n",
       "\n",
       "/* Estimator-specific */\n",
       "#sk-container-id-14 div.sk-estimator {\n",
       "  font-family: monospace;\n",
       "  border: 1px dotted var(--sklearn-color-border-box);\n",
       "  border-radius: 0.25em;\n",
       "  box-sizing: border-box;\n",
       "  margin-bottom: 0.5em;\n",
       "  /* unfitted */\n",
       "  background-color: var(--sklearn-color-unfitted-level-0);\n",
       "}\n",
       "\n",
       "#sk-container-id-14 div.sk-estimator.fitted {\n",
       "  /* fitted */\n",
       "  background-color: var(--sklearn-color-fitted-level-0);\n",
       "}\n",
       "\n",
       "/* on hover */\n",
       "#sk-container-id-14 div.sk-estimator:hover {\n",
       "  /* unfitted */\n",
       "  background-color: var(--sklearn-color-unfitted-level-2);\n",
       "}\n",
       "\n",
       "#sk-container-id-14 div.sk-estimator.fitted:hover {\n",
       "  /* fitted */\n",
       "  background-color: var(--sklearn-color-fitted-level-2);\n",
       "}\n",
       "\n",
       "/* Specification for estimator info (e.g. \"i\" and \"?\") */\n",
       "\n",
       "/* Common style for \"i\" and \"?\" */\n",
       "\n",
       ".sk-estimator-doc-link,\n",
       "a:link.sk-estimator-doc-link,\n",
       "a:visited.sk-estimator-doc-link {\n",
       "  float: right;\n",
       "  font-size: smaller;\n",
       "  line-height: 1em;\n",
       "  font-family: monospace;\n",
       "  background-color: var(--sklearn-color-background);\n",
       "  border-radius: 1em;\n",
       "  height: 1em;\n",
       "  width: 1em;\n",
       "  text-decoration: none !important;\n",
       "  margin-left: 0.5em;\n",
       "  text-align: center;\n",
       "  /* unfitted */\n",
       "  border: var(--sklearn-color-unfitted-level-1) 1pt solid;\n",
       "  color: var(--sklearn-color-unfitted-level-1);\n",
       "}\n",
       "\n",
       ".sk-estimator-doc-link.fitted,\n",
       "a:link.sk-estimator-doc-link.fitted,\n",
       "a:visited.sk-estimator-doc-link.fitted {\n",
       "  /* fitted */\n",
       "  border: var(--sklearn-color-fitted-level-1) 1pt solid;\n",
       "  color: var(--sklearn-color-fitted-level-1);\n",
       "}\n",
       "\n",
       "/* On hover */\n",
       "div.sk-estimator:hover .sk-estimator-doc-link:hover,\n",
       ".sk-estimator-doc-link:hover,\n",
       "div.sk-label-container:hover .sk-estimator-doc-link:hover,\n",
       ".sk-estimator-doc-link:hover {\n",
       "  /* unfitted */\n",
       "  background-color: var(--sklearn-color-unfitted-level-3);\n",
       "  color: var(--sklearn-color-background);\n",
       "  text-decoration: none;\n",
       "}\n",
       "\n",
       "div.sk-estimator.fitted:hover .sk-estimator-doc-link.fitted:hover,\n",
       ".sk-estimator-doc-link.fitted:hover,\n",
       "div.sk-label-container:hover .sk-estimator-doc-link.fitted:hover,\n",
       ".sk-estimator-doc-link.fitted:hover {\n",
       "  /* fitted */\n",
       "  background-color: var(--sklearn-color-fitted-level-3);\n",
       "  color: var(--sklearn-color-background);\n",
       "  text-decoration: none;\n",
       "}\n",
       "\n",
       "/* Span, style for the box shown on hovering the info icon */\n",
       ".sk-estimator-doc-link span {\n",
       "  display: none;\n",
       "  z-index: 9999;\n",
       "  position: relative;\n",
       "  font-weight: normal;\n",
       "  right: .2ex;\n",
       "  padding: .5ex;\n",
       "  margin: .5ex;\n",
       "  width: min-content;\n",
       "  min-width: 20ex;\n",
       "  max-width: 50ex;\n",
       "  color: var(--sklearn-color-text);\n",
       "  box-shadow: 2pt 2pt 4pt #999;\n",
       "  /* unfitted */\n",
       "  background: var(--sklearn-color-unfitted-level-0);\n",
       "  border: .5pt solid var(--sklearn-color-unfitted-level-3);\n",
       "}\n",
       "\n",
       ".sk-estimator-doc-link.fitted span {\n",
       "  /* fitted */\n",
       "  background: var(--sklearn-color-fitted-level-0);\n",
       "  border: var(--sklearn-color-fitted-level-3);\n",
       "}\n",
       "\n",
       ".sk-estimator-doc-link:hover span {\n",
       "  display: block;\n",
       "}\n",
       "\n",
       "/* \"?\"-specific style due to the `<a>` HTML tag */\n",
       "\n",
       "#sk-container-id-14 a.estimator_doc_link {\n",
       "  float: right;\n",
       "  font-size: 1rem;\n",
       "  line-height: 1em;\n",
       "  font-family: monospace;\n",
       "  background-color: var(--sklearn-color-background);\n",
       "  border-radius: 1rem;\n",
       "  height: 1rem;\n",
       "  width: 1rem;\n",
       "  text-decoration: none;\n",
       "  /* unfitted */\n",
       "  color: var(--sklearn-color-unfitted-level-1);\n",
       "  border: var(--sklearn-color-unfitted-level-1) 1pt solid;\n",
       "}\n",
       "\n",
       "#sk-container-id-14 a.estimator_doc_link.fitted {\n",
       "  /* fitted */\n",
       "  border: var(--sklearn-color-fitted-level-1) 1pt solid;\n",
       "  color: var(--sklearn-color-fitted-level-1);\n",
       "}\n",
       "\n",
       "/* On hover */\n",
       "#sk-container-id-14 a.estimator_doc_link:hover {\n",
       "  /* unfitted */\n",
       "  background-color: var(--sklearn-color-unfitted-level-3);\n",
       "  color: var(--sklearn-color-background);\n",
       "  text-decoration: none;\n",
       "}\n",
       "\n",
       "#sk-container-id-14 a.estimator_doc_link.fitted:hover {\n",
       "  /* fitted */\n",
       "  background-color: var(--sklearn-color-fitted-level-3);\n",
       "}\n",
       "</style><div id=\"sk-container-id-14\" class=\"sk-top-container\"><div class=\"sk-text-repr-fallback\"><pre>RandomForestClassifier(max_depth=10, min_samples_split=5, n_estimators=50)</pre><b>In a Jupyter environment, please rerun this cell to show the HTML representation or trust the notebook. <br />On GitHub, the HTML representation is unable to render, please try loading this page with nbviewer.org.</b></div><div class=\"sk-container\" hidden><div class=\"sk-item\"><div class=\"sk-estimator fitted sk-toggleable\"><input class=\"sk-toggleable__control sk-hidden--visually\" id=\"sk-estimator-id-14\" type=\"checkbox\" checked><label for=\"sk-estimator-id-14\" class=\"sk-toggleable__label fitted sk-toggleable__label-arrow\"><div><div>RandomForestClassifier</div></div><div><a class=\"sk-estimator-doc-link fitted\" rel=\"noreferrer\" target=\"_blank\" href=\"https://scikit-learn.org/1.6/modules/generated/sklearn.ensemble.RandomForestClassifier.html\">?<span>Documentation for RandomForestClassifier</span></a><span class=\"sk-estimator-doc-link fitted\">i<span>Fitted</span></span></div></label><div class=\"sk-toggleable__content fitted\"><pre>RandomForestClassifier(max_depth=10, min_samples_split=5, n_estimators=50)</pre></div> </div></div></div></div>"
      ],
      "text/plain": [
       "RandomForestClassifier(max_depth=10, min_samples_split=5, n_estimators=50)"
      ]
     },
     "execution_count": 171,
     "metadata": {},
     "output_type": "execute_result"
    }
   ],
   "source": [
    "best_model = RandomForestClassifier(max_depth=10,min_samples_split=5,n_estimators=50)\n",
    "best_model.fit(X_train,y_train)"
   ]
  },
  {
   "cell_type": "markdown",
   "id": "dfa3aa23",
   "metadata": {},
   "source": [
    "Dokładność predykcji modelu jest równa ~ 87,4% "
   ]
  },
  {
   "cell_type": "code",
   "execution_count": 172,
   "id": "3fd4bf1f",
   "metadata": {},
   "outputs": [
    {
     "data": {
      "text/plain": [
       "0.8741258741258742"
      ]
     },
     "execution_count": 172,
     "metadata": {},
     "output_type": "execute_result"
    }
   ],
   "source": [
    "best_model.score(X_test,y_test)"
   ]
  },
  {
   "cell_type": "markdown",
   "id": "8b6c909e",
   "metadata": {},
   "source": [
    "Tworzę macierz pomyłek aby zweryfikować, czy model nie jest przeciążony (bias).  \n",
    "Wynika z niej, że model nie ulega przeciążeniu na którąś stronę.  "
   ]
  },
  {
   "cell_type": "code",
   "execution_count": 174,
   "id": "2062e0a6",
   "metadata": {},
   "outputs": [
    {
     "data": {
      "image/png": "[encoded data removed]",
      "text/plain": [
       "<Figure size 640x480 with 2 Axes>"
      ]
     },
     "metadata": {},
     "output_type": "display_data"
    }
   ],
   "source": [
    "best_predictions = best_model.predict(X_test)\n",
    "conf_matrix = confusion_matrix(y_test, best_predictions)\n",
    "display = ConfusionMatrixDisplay(confusion_matrix=conf_matrix)\n",
    "display.plot()\n",
    "plt.show()"
   ]
  }
 ],
 "metadata": {
  "kernelspec": {
   "display_name": ".venv",
   "language": "python",
   "name": "python3"
  },
  "language_info": {
   "codemirror_mode": {
    "name": "ipython",
    "version": 3
   },
   "file_extension": ".py",
   "mimetype": "text/x-python",
   "name": "python",
   "nbconvert_exporter": "python",
   "pygments_lexer": "ipython3",
   "version": "3.12.3"
  }
 },
 "nbformat": 4,
 "nbformat_minor": 5
}

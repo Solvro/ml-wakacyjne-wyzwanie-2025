{
  "nbformat": 4,
  "nbformat_minor": 0,
  "metadata": {
    "colab": {
      "provenance": [],
      "gpuType": "V28"
    },
    "kernelspec": {
      "name": "python3",
      "display_name": "Python 3"
    },
    "language_info": {
      "name": "python"
    },
    "accelerator": "TPU"
  },
  "cells": [
    {
      "cell_type": "markdown",
      "source": [
        "**Import bibliotek + instalacja**"
      ],
      "metadata": {
        "id": "89mchwDIVpWs"
      }
    },
    {
      "cell_type": "code",
      "execution_count": 49,
      "metadata": {
        "id": "aNed_jtomsov",
        "colab": {
          "base_uri": "https://localhost:8080/"
        },
        "outputId": "d0013e29-744e-410a-fe88-279c92b1abb2"
      },
      "outputs": [
        {
          "output_type": "stream",
          "name": "stdout",
          "text": [
            "Drive already mounted at /content/drive/; to attempt to forcibly remount, call drive.mount(\"/content/drive/\", force_remount=True).\n"
          ]
        }
      ],
      "source": [
        "from google.colab import drive\n",
        "drive.mount('/content/drive/')"
      ]
    },
    {
      "cell_type": "code",
      "source": [
        "!pip install langchain sentence-transformers faiss-cpu pypdf transformers torch langchain-community PyPDF2 #instalujemy potrzebne biblioteki"
      ],
      "metadata": {
        "id": "Rn4ZpEHfm6vP",
        "collapsed": true,
        "colab": {
          "base_uri": "https://localhost:8080/"
        },
        "outputId": "0bd527cc-196b-44e4-db49-e209974209b1"
      },
      "execution_count": 50,
      "outputs": [
        {
          "output_type": "stream",
          "name": "stdout",
          "text": [
            "Requirement already satisfied: langchain in /usr/local/lib/python3.12/dist-packages (0.3.27)\n",
            "Requirement already satisfied: sentence-transformers in /usr/local/lib/python3.12/dist-packages (5.1.0)\n",
            "Requirement already satisfied: faiss-cpu in /usr/local/lib/python3.12/dist-packages (1.12.0)\n",
            "Requirement already satisfied: pypdf in /usr/local/lib/python3.12/dist-packages (6.0.0)\n",
            "Requirement already satisfied: transformers in /usr/local/lib/python3.12/dist-packages (4.55.4)\n",
            "Requirement already satisfied: torch in /usr/local/lib/python3.12/dist-packages (2.8.0+cu126)\n",
            "Requirement already satisfied: langchain-community in /usr/local/lib/python3.12/dist-packages (0.3.29)\n",
            "Requirement already satisfied: PyPDF2 in /usr/local/lib/python3.12/dist-packages (3.0.1)\n",
            "Requirement already satisfied: langchain-core<1.0.0,>=0.3.72 in /usr/local/lib/python3.12/dist-packages (from langchain) (0.3.75)\n",
            "Requirement already satisfied: langchain-text-splitters<1.0.0,>=0.3.9 in /usr/local/lib/python3.12/dist-packages (from langchain) (0.3.9)\n",
            "Requirement already satisfied: langsmith>=0.1.17 in /usr/local/lib/python3.12/dist-packages (from langchain) (0.4.16)\n",
            "Requirement already satisfied: pydantic<3.0.0,>=2.7.4 in /usr/local/lib/python3.12/dist-packages (from langchain) (2.11.7)\n",
            "Requirement already satisfied: SQLAlchemy<3,>=1.4 in /usr/local/lib/python3.12/dist-packages (from langchain) (2.0.43)\n",
            "Requirement already satisfied: requests<3,>=2 in /usr/local/lib/python3.12/dist-packages (from langchain) (2.32.5)\n",
            "Requirement already satisfied: PyYAML>=5.3 in /usr/local/lib/python3.12/dist-packages (from langchain) (6.0.2)\n",
            "Requirement already satisfied: tqdm in /usr/local/lib/python3.12/dist-packages (from sentence-transformers) (4.67.1)\n",
            "Requirement already satisfied: scikit-learn in /usr/local/lib/python3.12/dist-packages (from sentence-transformers) (1.6.1)\n",
            "Requirement already satisfied: scipy in /usr/local/lib/python3.12/dist-packages (from sentence-transformers) (1.16.1)\n",
            "Requirement already satisfied: huggingface-hub>=0.20.0 in /usr/local/lib/python3.12/dist-packages (from sentence-transformers) (0.34.4)\n",
            "Requirement already satisfied: Pillow in /usr/local/lib/python3.12/dist-packages (from sentence-transformers) (11.3.0)\n",
            "Requirement already satisfied: typing_extensions>=4.5.0 in /usr/local/lib/python3.12/dist-packages (from sentence-transformers) (4.15.0)\n",
            "Requirement already satisfied: numpy<3.0,>=1.25.0 in /usr/local/lib/python3.12/dist-packages (from faiss-cpu) (2.0.2)\n",
            "Requirement already satisfied: packaging in /usr/local/lib/python3.12/dist-packages (from faiss-cpu) (25.0)\n",
            "Requirement already satisfied: filelock in /usr/local/lib/python3.12/dist-packages (from transformers) (3.19.1)\n",
            "Requirement already satisfied: regex!=2019.12.17 in /usr/local/lib/python3.12/dist-packages (from transformers) (2024.11.6)\n",
            "Requirement already satisfied: tokenizers<0.22,>=0.21 in /usr/local/lib/python3.12/dist-packages (from transformers) (0.21.4)\n",
            "Requirement already satisfied: safetensors>=0.4.3 in /usr/local/lib/python3.12/dist-packages (from transformers) (0.6.2)\n",
            "Requirement already satisfied: setuptools in /usr/local/lib/python3.12/dist-packages (from torch) (75.2.0)\n",
            "Requirement already satisfied: sympy>=1.13.3 in /usr/local/lib/python3.12/dist-packages (from torch) (1.13.3)\n",
            "Requirement already satisfied: networkx in /usr/local/lib/python3.12/dist-packages (from torch) (3.5)\n",
            "Requirement already satisfied: jinja2 in /usr/local/lib/python3.12/dist-packages (from torch) (3.1.6)\n",
            "Requirement already satisfied: fsspec in /usr/local/lib/python3.12/dist-packages (from torch) (2025.3.0)\n",
            "Requirement already satisfied: nvidia-cuda-nvrtc-cu12==12.6.77 in /usr/local/lib/python3.12/dist-packages (from torch) (12.6.77)\n",
            "Requirement already satisfied: nvidia-cuda-runtime-cu12==12.6.77 in /usr/local/lib/python3.12/dist-packages (from torch) (12.6.77)\n",
            "Requirement already satisfied: nvidia-cuda-cupti-cu12==12.6.80 in /usr/local/lib/python3.12/dist-packages (from torch) (12.6.80)\n",
            "Requirement already satisfied: nvidia-cudnn-cu12==9.10.2.21 in /usr/local/lib/python3.12/dist-packages (from torch) (9.10.2.21)\n",
            "Requirement already satisfied: nvidia-cublas-cu12==12.6.4.1 in /usr/local/lib/python3.12/dist-packages (from torch) (12.6.4.1)\n",
            "Requirement already satisfied: nvidia-cufft-cu12==11.3.0.4 in /usr/local/lib/python3.12/dist-packages (from torch) (11.3.0.4)\n",
            "Requirement already satisfied: nvidia-curand-cu12==10.3.7.77 in /usr/local/lib/python3.12/dist-packages (from torch) (10.3.7.77)\n",
            "Requirement already satisfied: nvidia-cusolver-cu12==11.7.1.2 in /usr/local/lib/python3.12/dist-packages (from torch) (11.7.1.2)\n",
            "Requirement already satisfied: nvidia-cusparse-cu12==12.5.4.2 in /usr/local/lib/python3.12/dist-packages (from torch) (12.5.4.2)\n",
            "Requirement already satisfied: nvidia-cusparselt-cu12==0.7.1 in /usr/local/lib/python3.12/dist-packages (from torch) (0.7.1)\n",
            "Requirement already satisfied: nvidia-nccl-cu12==2.27.3 in /usr/local/lib/python3.12/dist-packages (from torch) (2.27.3)\n",
            "Requirement already satisfied: nvidia-nvtx-cu12==12.6.77 in /usr/local/lib/python3.12/dist-packages (from torch) (12.6.77)\n",
            "Requirement already satisfied: nvidia-nvjitlink-cu12==12.6.85 in /usr/local/lib/python3.12/dist-packages (from torch) (12.6.85)\n",
            "Requirement already satisfied: nvidia-cufile-cu12==1.11.1.6 in /usr/local/lib/python3.12/dist-packages (from torch) (1.11.1.6)\n",
            "Requirement already satisfied: triton==3.4.0 in /usr/local/lib/python3.12/dist-packages (from torch) (3.4.0)\n",
            "Requirement already satisfied: aiohttp<4.0.0,>=3.8.3 in /usr/local/lib/python3.12/dist-packages (from langchain-community) (3.12.15)\n",
            "Requirement already satisfied: tenacity!=8.4.0,<10,>=8.1.0 in /usr/local/lib/python3.12/dist-packages (from langchain-community) (8.5.0)\n",
            "Requirement already satisfied: dataclasses-json<0.7,>=0.6.7 in /usr/local/lib/python3.12/dist-packages (from langchain-community) (0.6.7)\n",
            "Requirement already satisfied: pydantic-settings<3.0.0,>=2.10.1 in /usr/local/lib/python3.12/dist-packages (from langchain-community) (2.10.1)\n",
            "Requirement already satisfied: httpx-sse<1.0.0,>=0.4.0 in /usr/local/lib/python3.12/dist-packages (from langchain-community) (0.4.1)\n",
            "Requirement already satisfied: aiohappyeyeballs>=2.5.0 in /usr/local/lib/python3.12/dist-packages (from aiohttp<4.0.0,>=3.8.3->langchain-community) (2.6.1)\n",
            "Requirement already satisfied: aiosignal>=1.4.0 in /usr/local/lib/python3.12/dist-packages (from aiohttp<4.0.0,>=3.8.3->langchain-community) (1.4.0)\n",
            "Requirement already satisfied: attrs>=17.3.0 in /usr/local/lib/python3.12/dist-packages (from aiohttp<4.0.0,>=3.8.3->langchain-community) (25.3.0)\n",
            "Requirement already satisfied: frozenlist>=1.1.1 in /usr/local/lib/python3.12/dist-packages (from aiohttp<4.0.0,>=3.8.3->langchain-community) (1.7.0)\n",
            "Requirement already satisfied: multidict<7.0,>=4.5 in /usr/local/lib/python3.12/dist-packages (from aiohttp<4.0.0,>=3.8.3->langchain-community) (6.6.4)\n",
            "Requirement already satisfied: propcache>=0.2.0 in /usr/local/lib/python3.12/dist-packages (from aiohttp<4.0.0,>=3.8.3->langchain-community) (0.3.2)\n",
            "Requirement already satisfied: yarl<2.0,>=1.17.0 in /usr/local/lib/python3.12/dist-packages (from aiohttp<4.0.0,>=3.8.3->langchain-community) (1.20.1)\n",
            "Requirement already satisfied: marshmallow<4.0.0,>=3.18.0 in /usr/local/lib/python3.12/dist-packages (from dataclasses-json<0.7,>=0.6.7->langchain-community) (3.26.1)\n",
            "Requirement already satisfied: typing-inspect<1,>=0.4.0 in /usr/local/lib/python3.12/dist-packages (from dataclasses-json<0.7,>=0.6.7->langchain-community) (0.9.0)\n",
            "Requirement already satisfied: hf-xet<2.0.0,>=1.1.3 in /usr/local/lib/python3.12/dist-packages (from huggingface-hub>=0.20.0->sentence-transformers) (1.1.8)\n",
            "Requirement already satisfied: jsonpatch<2.0,>=1.33 in /usr/local/lib/python3.12/dist-packages (from langchain-core<1.0.0,>=0.3.72->langchain) (1.33)\n",
            "Requirement already satisfied: httpx<1,>=0.23.0 in /usr/local/lib/python3.12/dist-packages (from langsmith>=0.1.17->langchain) (0.28.1)\n",
            "Requirement already satisfied: orjson>=3.9.14 in /usr/local/lib/python3.12/dist-packages (from langsmith>=0.1.17->langchain) (3.11.2)\n",
            "Requirement already satisfied: requests-toolbelt>=1.0.0 in /usr/local/lib/python3.12/dist-packages (from langsmith>=0.1.17->langchain) (1.0.0)\n",
            "Requirement already satisfied: zstandard>=0.23.0 in /usr/local/lib/python3.12/dist-packages (from langsmith>=0.1.17->langchain) (0.24.0)\n",
            "Requirement already satisfied: annotated-types>=0.6.0 in /usr/local/lib/python3.12/dist-packages (from pydantic<3.0.0,>=2.7.4->langchain) (0.7.0)\n",
            "Requirement already satisfied: pydantic-core==2.33.2 in /usr/local/lib/python3.12/dist-packages (from pydantic<3.0.0,>=2.7.4->langchain) (2.33.2)\n",
            "Requirement already satisfied: typing-inspection>=0.4.0 in /usr/local/lib/python3.12/dist-packages (from pydantic<3.0.0,>=2.7.4->langchain) (0.4.1)\n",
            "Requirement already satisfied: python-dotenv>=0.21.0 in /usr/local/lib/python3.12/dist-packages (from pydantic-settings<3.0.0,>=2.10.1->langchain-community) (1.1.1)\n",
            "Requirement already satisfied: charset_normalizer<4,>=2 in /usr/local/lib/python3.12/dist-packages (from requests<3,>=2->langchain) (3.4.3)\n",
            "Requirement already satisfied: idna<4,>=2.5 in /usr/local/lib/python3.12/dist-packages (from requests<3,>=2->langchain) (3.10)\n",
            "Requirement already satisfied: urllib3<3,>=1.21.1 in /usr/local/lib/python3.12/dist-packages (from requests<3,>=2->langchain) (2.5.0)\n",
            "Requirement already satisfied: certifi>=2017.4.17 in /usr/local/lib/python3.12/dist-packages (from requests<3,>=2->langchain) (2025.8.3)\n",
            "Requirement already satisfied: greenlet>=1 in /usr/local/lib/python3.12/dist-packages (from SQLAlchemy<3,>=1.4->langchain) (3.2.4)\n",
            "Requirement already satisfied: mpmath<1.4,>=1.1.0 in /usr/local/lib/python3.12/dist-packages (from sympy>=1.13.3->torch) (1.3.0)\n",
            "Requirement already satisfied: MarkupSafe>=2.0 in /usr/local/lib/python3.12/dist-packages (from jinja2->torch) (3.0.2)\n",
            "Requirement already satisfied: joblib>=1.2.0 in /usr/local/lib/python3.12/dist-packages (from scikit-learn->sentence-transformers) (1.5.1)\n",
            "Requirement already satisfied: threadpoolctl>=3.1.0 in /usr/local/lib/python3.12/dist-packages (from scikit-learn->sentence-transformers) (3.6.0)\n",
            "Requirement already satisfied: anyio in /usr/local/lib/python3.12/dist-packages (from httpx<1,>=0.23.0->langsmith>=0.1.17->langchain) (4.10.0)\n",
            "Requirement already satisfied: httpcore==1.* in /usr/local/lib/python3.12/dist-packages (from httpx<1,>=0.23.0->langsmith>=0.1.17->langchain) (1.0.9)\n",
            "Requirement already satisfied: h11>=0.16 in /usr/local/lib/python3.12/dist-packages (from httpcore==1.*->httpx<1,>=0.23.0->langsmith>=0.1.17->langchain) (0.16.0)\n",
            "Requirement already satisfied: jsonpointer>=1.9 in /usr/local/lib/python3.12/dist-packages (from jsonpatch<2.0,>=1.33->langchain-core<1.0.0,>=0.3.72->langchain) (3.0.0)\n",
            "Requirement already satisfied: mypy-extensions>=0.3.0 in /usr/local/lib/python3.12/dist-packages (from typing-inspect<1,>=0.4.0->dataclasses-json<0.7,>=0.6.7->langchain-community) (1.1.0)\n",
            "Requirement already satisfied: sniffio>=1.1 in /usr/local/lib/python3.12/dist-packages (from anyio->httpx<1,>=0.23.0->langsmith>=0.1.17->langchain) (1.3.1)\n"
          ]
        }
      ]
    },
    {
      "cell_type": "code",
      "source": [
        "from langchain.document_loaders import PyPDFLoader\n",
        "from langchain.text_splitter import RecursiveCharacterTextSplitter\n",
        "from langchain.embeddings import HuggingFaceEmbeddings\n",
        "from langchain.vectorstores import FAISS\n",
        "from langchain.llms import HuggingFacePipeline\n",
        "from transformers import AutoModelForCausalLM, AutoTokenizer, pipeline, AutoModelForSeq2SeqLM, set_seed\n",
        "from langchain.chains import RetrievalQA\n",
        "from PyPDF2 import PdfReader\n",
        "\n",
        "#Ustawiam seed do powtarzalności wyników\n",
        "set_seed(42)"
      ],
      "metadata": {
        "id": "p0gHJux3nEtB"
      },
      "execution_count": 51,
      "outputs": []
    },
    {
      "cell_type": "markdown",
      "source": [
        "**Podział tekstu**"
      ],
      "metadata": {
        "id": "xMf0unzfvXiP"
      }
    },
    {
      "cell_type": "markdown",
      "source": [
        "Zdecydowałem się na podanie jedynie 3 artykułów (temat: półprzewodniki), spodziewam się że w większości nie będzie mi w stanie odpowiedzieć na wszystkie moje pytania, aczkolwiek jestem ciekaw na co będzie w stanie odpowiedzieć a na co nie.   "
      ],
      "metadata": {
        "id": "1du5jpj0skOZ"
      }
    },
    {
      "cell_type": "code",
      "source": [
        "# Lista PDF-ów\n",
        "pdf_files = [\n",
        "    \"/content/drive/MyDrive/Semiconductors_History_and_Applications.pdf\",\n",
        "    \"/content/drive/MyDrive/Defect_modeling_in_semiconductors_the_role_of_firs.pdf\",\n",
        "    \"/content/drive/MyDrive/Optimization_of_Thermal_Stress_in_High-Power_Semic.pdf\"\n",
        "]\n",
        "\n",
        "all_docs = []\n",
        "\n",
        "# Pętla przetwarzania PDF-ów\n",
        "for file_path in pdf_files:\n",
        "    loader = PyPDFLoader(file_path)\n",
        "    pages = loader.load()\n",
        "\n",
        "    text_splitter = RecursiveCharacterTextSplitter(\n",
        "        # Podział tekstu\n",
        "        chunk_size=500,\n",
        "        chunk_overlap=200,\n",
        "        length_function=len,\n",
        "        separators=[\"\\n\\n\", \"\\n\", \" \", \"\"]\n",
        "    )\n",
        "\n",
        "    docs = text_splitter.split_documents(pages)\n",
        "    all_docs.extend(docs)\n",
        "\n",
        "print(f\"Załadowano {len(all_docs)} fragmentów z {len(pdf_files)} artykułów\")\n"
      ],
      "metadata": {
        "id": "2KiqkpFNt6D-",
        "collapsed": true,
        "colab": {
          "base_uri": "https://localhost:8080/"
        },
        "outputId": "69982a02-1821-400f-af57-08035d48c369"
      },
      "execution_count": 52,
      "outputs": [
        {
          "output_type": "stream",
          "name": "stdout",
          "text": [
            "Załadowano 695 fragmentów z 3 artykułów\n"
          ]
        }
      ]
    },
    {
      "cell_type": "markdown",
      "source": [
        "Dobrany model embeddingowy: \"sentence-transformers/multi-qa-mpnet-base-dot-v1\"\n",
        "Czytając z dokumentacji służy do wyszukiwania semantycznego, co z kolei powinno być dobrym wyborem modelu do tzw. asystenta Q&A."
      ],
      "metadata": {
        "id": "gUNJUtq7Yudj"
      }
    },
    {
      "cell_type": "code",
      "source": [
        "# Nowy model embeddingów\n",
        "model_name_embed = \"sentence-transformers/multi-qa-mpnet-base-dot-v1\"  #\"sentence-transformers/all-mpnet-base-v2\"\n",
        "embeddings = HuggingFaceEmbeddings(model_name=model_name_embed)\n",
        "\n",
        "# FAISS\n",
        "db = FAISS.from_documents(all_docs, embeddings)\n",
        "\n",
        "# Zapis lokalny\n",
        "db.save_local(\"faiss_index_mpnet\")"
      ],
      "metadata": {
        "id": "UkAeAG5evatv"
      },
      "execution_count": 53,
      "outputs": []
    },
    {
      "cell_type": "markdown",
      "source": [
        "**Sprawdzenie semantyczne**"
      ],
      "metadata": {
        "id": "rIg1r2MyzY0n"
      }
    },
    {
      "cell_type": "markdown",
      "source": [
        "Sprawdzam jak model zareaguję na dane zapytanie, w postaci fragmentów wziętych z artykułów."
      ],
      "metadata": {
        "id": "imEaP-QHV_Xz"
      }
    },
    {
      "cell_type": "code",
      "source": [
        "query = \"What is a semiconductor?\"\n",
        "# Top 5 z 20 wybranych (Podobne informacje)\n",
        "similar_docs = db.similarity_search(query, k=5, fetch_k = 20)\n",
        "for doc in similar_docs:\n",
        "    print(doc.page_content[:500] + \"...\\n---\")"
      ],
      "metadata": {
        "id": "w0XVKXAozbvW",
        "colab": {
          "base_uri": "https://localhost:8080/"
        },
        "outputId": "64df2baa-597c-4673-98bb-542fd1ed89dd"
      },
      "execution_count": 54,
      "outputs": [
        {
          "output_type": "stream",
          "name": "stdout",
          "text": [
            "Semiconductors: History and Applications\n",
            "DOI: http://dx.doi.org/10.5772/intechopen.1008474\n",
            "17\n",
            "References\n",
            "[1] Fu Y , Fu Y . Semiconductor materials. \n",
            "In: Physical Models of Semiconductor \n",
            "Quantum Devices. Dordrecht, \n",
            "Netherlands: Springer; 2014. pp. 1-66. \n",
            "DOI: 10.1007/978-94-007-7174-1\n",
            "[2] Busch G. Early history of the physics \n",
            "and chemistry of semiconductors-\n",
            "from doubts to fact in a hundred years. \n",
            "European Journal of Physics. 1989;10:254\n",
            "[3] Pearson GL, Brattain WH. History of...\n",
            "---\n",
            "15\n",
            "Semiconductors: History and Applications\n",
            "DOI: http://dx.doi.org/10.5772/intechopen.1008474\n",
            "has led to a transformative shift in product design, establishing a substantial market \n",
            "for semiconductors at the beginning of the twenty-first century [10].\n",
            "Today, the outstanding characteristics of semiconductor nanomaterials have \n",
            "sparked significant anticipation and excitement in a broad variety of sophisticated \n",
            "technologies, including nanoelectronics, imaging devices, sensors, nonlinear and...\n",
            "---\n",
            "Semiconductors: History and Applications\n",
            "DOI: http://dx.doi.org/10.5772/intechopen.1008474\n",
            "21\n",
            "[60] Shaheen A, Zia W , Anwar MS. Band \n",
            "Structure and Electrical Conductivity in \n",
            "Semiconductors. Lahore, Pakistan: LUMS \n",
            "School of Science and Engineering; 2011\n",
            "[61] Hosseinpour M, Abdoos H. \n",
            "Manufacturing of Nanocomposites via \n",
            "powder injection Molding: Focusing \n",
            "on thermal management systems - a \n",
            "review . Journal of Manufacturing \n",
            "Science and Engineering. 2020;143:1-40. \n",
            "DOI: 10.1115/1.4048454...\n",
            "---\n",
            "materials. In: Microelectronics. England: \n",
            "CRC Press; 2018. p. 1\n",
            "[7] Shockley W . The theory of p-n \n",
            "junctions in semiconductors and \n",
            "p-n junction transistors. Bell System \n",
            "Technical Journal. 1949;28:435-489\n",
            "[8] Morin FJ. Semiconductors. Digest of \n",
            "Literature on Dielectrics. Washington, \n",
            "DC, USA: IEEE; 1949. pp. 58-71. [14 April \n",
            "2016]\n",
            "[9] Yu P . Fundamentals of \n",
            "Semiconductors. Berlin: Springer; 2005\n",
            "[10] Hossain N, Mobarak MH, \n",
            "Mimona MA, Islam MA, Hossain A, \n",
            "Zohura FT , et al. Advances and...\n",
            "---\n",
            "Semiconductors: History and Applications\n",
            "DOI: http://dx.doi.org/10.5772/intechopen.1008474\n",
            "19\n",
            "bulk samples. Journal of Magnetism and \n",
            "Magnetic Materials. 2015;373:86-89\n",
            "[31] Wu Y , Li K, Yang Y , Song W , \n",
            "Ma Z, Chen H, et al. Investigation of \n",
            "Fe-substituted in BaZr0. 8Y0. 2O3-δ \n",
            "proton conducting oxides as cathode \n",
            "materials for protonic ceramics fuel \n",
            "cells. Journal of Alloys and Compounds. \n",
            "2020;814:152220\n",
            "[32] Soni S, Vats VS, Kumar S, Dalela B, \n",
            "Mishra M, Meena RS, et al. Structural,...\n",
            "---\n"
          ]
        }
      ]
    },
    {
      "cell_type": "markdown",
      "source": [
        "Model nie był w stanie podać mi poprawnej definicji półprzewodnika, zamiast tego znajdywał fragmenty najprawdopodobniej tytułowe w których były podobne wpisy, nie jest to wynik zadowolujący, więc spróbuję inne podejście. Będę przeszukiwać znowuż to samo pytanie ale wymuszę żeby podawał nowe informację na jego temat."
      ],
      "metadata": {
        "id": "ae8NfNX5WMAq"
      }
    },
    {
      "cell_type": "code",
      "source": [
        "# Top 5 z 20 wybranych (Różne informacje)\n",
        "diffr_docs = db.max_marginal_relevance_search(query, k=5, fetch_k=20)\n",
        "for doc in diffr_docs:\n",
        "    print(doc.page_content[:500] + \"...\\n---\")"
      ],
      "metadata": {
        "id": "tmCO6nMqwnPY",
        "colab": {
          "base_uri": "https://localhost:8080/"
        },
        "outputId": "7bce2185-9a3f-4496-9996-1223e2cac61f"
      },
      "execution_count": 55,
      "outputs": [
        {
          "output_type": "stream",
          "name": "stdout",
          "text": [
            "Semiconductors: History and Applications\n",
            "DOI: http://dx.doi.org/10.5772/intechopen.1008474\n",
            "17\n",
            "References\n",
            "[1] Fu Y , Fu Y . Semiconductor materials. \n",
            "In: Physical Models of Semiconductor \n",
            "Quantum Devices. Dordrecht, \n",
            "Netherlands: Springer; 2014. pp. 1-66. \n",
            "DOI: 10.1007/978-94-007-7174-1\n",
            "[2] Busch G. Early history of the physics \n",
            "and chemistry of semiconductors-\n",
            "from doubts to fact in a hundred years. \n",
            "European Journal of Physics. 1989;10:254\n",
            "[3] Pearson GL, Brattain WH. History of...\n",
            "---\n",
            "1.1 Definition, characteristics\n",
            "The term semiconductor is composed of two words: semi and conductor. Semi \n",
            "means imperfect while conductive refers to something that can conduct electricity. \n",
            "In this regard, semiconductors are materials with properties between conductors and \n",
            "insulators that have the capability of conducting electric current.\n",
            "The temperature dependency of semiconductor conductivity is one of their most...\n",
            "---\n",
            "materials used in this process. The resulting products are printed circuit boards, \n",
            "integrated circuits (ICs), IC packages, and different types of commercial electronic \n",
            "devices and systems, such as TVs, computers, smartphones, cameras, and so on. The \n",
            "procedures that are used in the production of semiconductors include oxidation, \n",
            "diffusion, etching, planarization, ion implantation, photolithography, and crystal...\n",
            "---\n",
            "of processing, storing, sensing, and moving data or signals. They play an important \n",
            "role in all industries and human existence. In this regard, considerable research and \n",
            "development into new semiconductor materials with improved characteristics for \n",
            "various applications is ongoing.\n",
            "2.  Semiconductor’ s categories\n",
            "2.1 Chemical composition classification\n",
            "So far, semiconductors have been categorized from different points of view ....\n",
            "---\n",
            "9\n",
            "Semiconductors: History and Applications\n",
            "DOI: http://dx.doi.org/10.5772/intechopen.1008474\n",
            "applied electric field E across the substance to the drift velocity of electrons. In the \n",
            "intrinsic semiconductors, \n",
            "en  is equal to hn . According to Eq. (1),\n",
            " ( )σ µµ= +ee e hnq   (2)\n",
            " ( )= −−exp( / ,e c CfBn N E E kT  (3)\n",
            " ( )νν= −−exp( / ,h fBn N E E kT  (4)\n",
            "where,\n",
            " \n",
            "( )\n",
            "3/22/2 2,c eBN m kT ∗= π ħ  (5)\n",
            " ( )\n",
            "3/22\n",
            "v /22 hBN m kT ∗= π ħ  (6)...\n",
            "---\n"
          ]
        }
      ]
    },
    {
      "cell_type": "markdown",
      "source": [
        "\n",
        "\n",
        "*   Widoczne jest, że pojawiła się definicja półprzewodnika (w sekcji: 1.1 Definition [...]) a zatem model jest w stanie zlokalizować gdzie może być odpowiedź.  \n",
        "*   Dodatkowo widać że model nie radzi sobie ze wzorami matematycznymi (a zatem najprawdopodobniej nie radzi sobie z LaTeX-em), co raczej wymagałoby zastosowanie dodatkowej bilioteki.\n",
        "\n"
      ],
      "metadata": {
        "id": "wha22332xlzY"
      }
    },
    {
      "cell_type": "markdown",
      "source": [
        "Zatem pozostanę na retriver-rze jako \"MMR\"."
      ],
      "metadata": {
        "id": "wUq9JlWTVa1j"
      }
    },
    {
      "cell_type": "markdown",
      "source": [
        "**Utworzenie modelu**"
      ],
      "metadata": {
        "id": "vNn5oYA0QdQ8"
      }
    },
    {
      "cell_type": "markdown",
      "source": [
        "Model przeze mnie dobrany do sprawdzenia: \"google/flan-t5-base\". Czytając dokumentację w sekcji \"Uses\" również był określony jako model do odpowiadania na pytania."
      ],
      "metadata": {
        "id": "dNYXQiagakgK"
      }
    },
    {
      "cell_type": "code",
      "source": [
        "model_name_qa = \"google/flan-t5-base\"\n",
        "model = AutoModelForSeq2SeqLM.from_pretrained(model_name_qa)\n",
        "tokenizer = AutoTokenizer.from_pretrained(model_name_qa)\n",
        "\n",
        "pipe = pipeline(\n",
        "    \"text2text-generation\",\n",
        "    model=model,\n",
        "    tokenizer=tokenizer,\n",
        "    max_length=100, # Niekiedy wiadomości modelu były za długie, dlatego ustawiam limit\n",
        "    truncation=True,\n",
        "    device=-1\n",
        ")\n",
        "\n",
        "llm = HuggingFacePipeline(pipeline=pipe)\n",
        "qa_chain = RetrievalQA.from_chain_type(\n",
        "    llm=llm,\n",
        "    chain_type=\"stuff\",\n",
        "    retriever=db.as_retriever()\n",
        ")\n",
        "result = qa_chain.run(\"Define a semiconductor\")\n",
        "print(f\"AI Assistant: {result}\")\n"
      ],
      "metadata": {
        "id": "Hd6sJUQ2QwXk",
        "colab": {
          "base_uri": "https://localhost:8080/"
        },
        "outputId": "4259c57c-efb7-49d9-f57d-bd3f6e367cd3"
      },
      "execution_count": 71,
      "outputs": [
        {
          "output_type": "stream",
          "name": "stderr",
          "text": [
            "Device set to use cpu\n"
          ]
        },
        {
          "output_type": "stream",
          "name": "stdout",
          "text": [
            "AI Assistant: The term semiconductor is composed of two words: semi and conductor. Semi means imperfect while conductive refers to something that can conduct electricity. In this regard, semiconductors are materials with properties between conductors and insulators that have the capability of conducting electric current. The temperature dependency of semiconductor conductivity is one of their most Semiconductors: History and Applications DOI: http://dx.doi.org/10.5772/intechopen.1008474\n"
          ]
        }
      ]
    },
    {
      "cell_type": "markdown",
      "source": [
        "\n",
        "**Cykl Q&A**"
      ],
      "metadata": {
        "id": "QUhHAlDrqGSh"
      }
    },
    {
      "cell_type": "code",
      "source": [
        "print(\"Ready! (type: 'q' to exit!)\\n\")\n",
        "\n",
        "while True:\n",
        "    query = input(\"You: \")\n",
        "    if query.lower() in [\"q\"]:\n",
        "        print(\"End Q&A\")\n",
        "        break\n",
        "\n",
        "    result = qa_chain.invoke(query)\n",
        "    print(f\"AI: {result['result']}\\n\")\n"
      ],
      "metadata": {
        "colab": {
          "base_uri": "https://localhost:8080/"
        },
        "id": "hs9ujA5BqrfJ",
        "outputId": "5c00bc99-7226-48f3-a851-d1d71f091247"
      },
      "execution_count": 72,
      "outputs": [
        {
          "output_type": "stream",
          "name": "stdout",
          "text": [
            "Ready! (type: 'q' to exit!)\n",
            "\n",
            "You: Define semiconductor\n",
            "AI: The term semiconductor is composed of two words: semi and conductor. Semi means imperfect while conductive refers to something that can conduct electricity. In this regard, semiconductors are materials with properties between conductors and insulators that have the capability of conducting electric current. The temperature dependency of semiconductor conductivity is one of their most Semiconductors: History and Applications DOI: http://dx.doi.org/10.5772/intechopen.1008474\n",
            "\n",
            "You: What is a semiconductor\n",
            "AI: Semiconductors are materials with properties between conductors and insulators that have the capability of conducting electric current.\n",
            "\n",
            "You: What is semiconductor?\n",
            "AI: Wu Y , Li Y . Semiconductors. In: Physical Models of Semiconductor Quantum Devices. Dordrecht, Netherlands: Springer; 2014. pp. 1-66. DOI: 10.1007/978-94-007-7174-1 [2] Busch G. Early history of the physics and chemistry of semiconductors- from doubts to fact in a hundred years. European Journal of Physics. 1989;10\n",
            "\n",
            "You: What is conductor\n",
            "AI: Something that can conduct electricity\n",
            "\n",
            "You: Define conductor\n",
            "AI: The term semiconductor is composed of two words: semi and conductor. Semi means imperfect while conductive refers to something that can conduct electricity. In this regard, semiconductors are materials with properties between conductors and insulators that have the capability of conducting electric current. The temperature dependency of semiconductor conductivity is one of their most occur at distinct “K” points. 3.4 Electrical conductivity In 1914, Johann Koenigsberger categorized solid-state materials based on\n",
            "\n",
            "You: What defects can be present in semiconductors\n",
            "AI: Vacancies, interstitials, substitutional defects, and defect complexes\n",
            "\n",
            "You: What defects are in materials overall\n",
            "AI: Native and extrinsic point defects are integral to material properties, impacting performance in a wide range of semiconductor applications such as solar absorption, light emission, catalysis, and quantum technology. With advances in computing Point defects in semiconductors dictate their electronic and optical properties. Vacancies, interstitials, substitutional defects, and defect complexes can form in the semiconductor lattice and significantly impact its performance in applications such as solar absorption,\n",
            "\n",
            "You: Can you say something nice\n",
            "AI: Homm H, Morooka E V , Jäger M O, T odorovi c M and Rin\n",
            "\n",
            "You: What is 9 + 10\n",
            "AI: Y1 = 40.79313 + 39.31667R  31.43333H + 6.2B + 48RH  8.875RB +1.875HB  93.66667R2 + 33.83333H2  7.47917B2 (8) Y2 = 21.83994 + 46.72333R  56.43417H + 10.79625B + 97.3RH  1\n",
            "\n",
            "You: q\n",
            "End Q&A\n"
          ]
        }
      ]
    },
    {
      "cell_type": "markdown",
      "source": [
        "Przechodząc po kolei po pytaniach zadawanych przeze mnie:\n",
        "\n",
        " \"moje_pytanie\" -> wnioski z wygenerowanej odpowidzi\n",
        "\n",
        "*   \"Define semiconductor\" -> Generalny opis półprzewodnika, z dodatkowymi informacjami, spodziewam się że ponieważ model był wytrenowany żeby odpowiadać na polecenia \"Explain\", \"Define\" itp. i dlatego też próbuję przedstawić dogłębny opis pojęcia (gdzie i tak ostatecznie nie był w stanie tego zrobić, najprawdopodobniej przez to jak został podzielony tekst dla niego).\n",
        "*   \"What is semiconductor\" -> Poprawna odpowiedź!\n",
        "*   \"What is semiconductor?\" -> Zaskakująca odpowiedź najprawdopodobniej \"?\" zupełnie zmienił embedding przez co model nie odpowiedział zgodnie z oczekiwaniem, dodatkowo wydaję mi się że dana odpowiedź wygenerowała się przez to że podobny tytuł publikacji mógł tam wystąpić.\n",
        "*   \"What is conductor\" -> Poprawna odpowiedź!\n",
        "*   \"Define conductor\" -> Przez dogłębną analizę myli pojęcia \"conductor\" i \"semiconductor\", również ze względu na brak danych dla modelu.\n",
        "*   \"What defects can be present in semiconductors\" -> Poprawna odpowiedź!\n",
        "*   \"What defects are in materials overall\" -> Nie dostał danych na ten temat a więc wymienia co ma.\n",
        "*   \"Can you say something nice\" -> Losowa odpowiedź.\n",
        "*   \"What is 9 + 10\" -> Nie wie jak liczyć :(\n",
        "\n",
        "\n",
        "\n",
        "\n",
        "\n",
        "\n",
        "\n",
        "\n",
        "\n",
        "\n"
      ],
      "metadata": {
        "id": "CfXFA5X8gQdZ"
      }
    },
    {
      "cell_type": "markdown",
      "source": [
        "**Wnioski**"
      ],
      "metadata": {
        "id": "36xdA4OlgLz6"
      }
    },
    {
      "cell_type": "markdown",
      "source": [
        "Budując jakiegokolwiek \"asystenta AI\" liczy się z bardzo dużą ilością parametrów, w głównej mierze wydaję mi się że dane władowane do przeanalizowania ich podział oraz embeddingi mają jeden z największych wpływów co by również potwierdzało niekiedy dziwne odpowiedzi oraz banalną niewiedzę mojego \"asystenta\".\n",
        "\n",
        "Poza tym to zauważyłem że każda odpowiedź którą generował \"asystent\" najczęściej brała sam tekst z artykułów, natomiast spodziewam się że jest to spowodowane konkretnym doborem modelu.\n",
        "\n",
        "Dodatkowo wydaję mi się ważnym parametrem czas pracy który szedł na iterację testowania, w przypadku użycia \"GPU\" nie ma z tym w głównej mierze problemu (większość kodu robiła się w kilka sekund), co z kolei nie można powiedzieć na temat \"CPU\" (większośc operacji trwały niejakie minuty a nawet dłużej!)."
      ],
      "metadata": {
        "id": "4s1DnMUYkU9i"
      }
    }
  ]
}
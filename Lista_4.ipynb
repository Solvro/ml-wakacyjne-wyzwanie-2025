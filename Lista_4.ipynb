{
  "nbformat": 4,
  "nbformat_minor": 0,
  "metadata": {
    "colab": {
      "provenance": []
    },
    "kernelspec": {
      "name": "python3",
      "display_name": "Python 3"
    },
    "language_info": {
      "name": "python"
    }
  },
  "cells": [
    {
      "cell_type": "markdown",
      "source": [
        "# Lista 4: Q&A"
      ],
      "metadata": {
        "id": "v1gLFedISTqS"
      }
    },
    {
      "cell_type": "markdown",
      "source": [
        "Pobierando:"
      ],
      "metadata": {
        "id": "t8-_xbuWSaZV"
      }
    },
    {
      "cell_type": "code",
      "execution_count": null,
      "metadata": {
        "id": "Huz8ipofBj0Q"
      },
      "outputs": [],
      "source": [
        "!pip install langchain sentence-transformers faiss-cpu pypdf transformers torch langchain-community"
      ]
    },
    {
      "cell_type": "code",
      "source": [
        "!pip install pypdfium2"
      ],
      "metadata": {
        "id": "zyaM7QBADreH"
      },
      "execution_count": null,
      "outputs": []
    },
    {
      "cell_type": "code",
      "source": [
        "from langchain.text_splitter import RecursiveCharacterTextSplitter\n",
        "from langchain.embeddings import HuggingFaceBgeEmbeddings\n",
        "from langchain.vectorstores import FAISS\n",
        "from langchain import PromptTemplate\n",
        "from transformers import pipeline\n",
        "from transformers import AutoModelForSeq2SeqLM, AutoTokenizer, pipeline\n",
        "from langchain.chains import RetrievalQA\n",
        "from langchain.llms import HuggingFacePipeline\n"
      ],
      "metadata": {
        "id": "HjSYyDeAB34J"
      },
      "execution_count": 46,
      "outputs": []
    },
    {
      "cell_type": "code",
      "source": [
        "from langchain.document_loaders import PyPDFium2Loader"
      ],
      "metadata": {
        "id": "plpJ8WXNDJCS"
      },
      "execution_count": 14,
      "outputs": []
    },
    {
      "cell_type": "code",
      "source": [
        "from google.colab import drive\n",
        "drive.mount('/content/drive')"
      ],
      "metadata": {
        "colab": {
          "base_uri": "https://localhost:8080/"
        },
        "id": "3jmX0LmNCJLO",
        "outputId": "7d06db65-e293-4729-fced-8e1313cebf3e"
      },
      "execution_count": 3,
      "outputs": [
        {
          "output_type": "stream",
          "name": "stdout",
          "text": [
            "Mounted at /content/drive\n"
          ]
        }
      ]
    },
    {
      "cell_type": "markdown",
      "source": [
        "## Ładowanie artykułów"
      ],
      "metadata": {
        "id": "zb2psisEVlUH"
      }
    },
    {
      "cell_type": "markdown",
      "source": [
        "Tworzymy funkcję do ładowania pdfów. Wybrałem 4 artykuły o wpływie AI na edukację. Artykuły te są w folderze na dysku. Pobieramy je, dzielimy na chunki po 300 znaków gdzie 100 jest z sąsiedniego chunka dla zachowania kontekstu"
      ],
      "metadata": {
        "id": "hYYK5yvrT__1"
      }
    },
    {
      "cell_type": "code",
      "source": [
        "def load_pdf(article,size,overlap):\n",
        "    loader = PyPDFium2Loader(article)\n",
        "    pages = loader.load()\n",
        "\n",
        "    text_splitter = RecursiveCharacterTextSplitter(\n",
        "        chunk_size=size,               # maksymalny rozmiar chunk'a\n",
        "        chunk_overlap=overlap,    # ile znaków nakłada się na sąsiednie chunki, żeby nie zgubić kontekstu\n",
        "        length_function=len,\n",
        "        separators=[\"\\n\\n\", \"\\n\", \" \", \"\"]\n",
        "    )\n",
        "\n",
        "    docs = text_splitter.split_documents(pages)\n",
        "    return docs\n",
        "\n",
        "\n",
        "drive = \"/content/drive/MyDrive/ml\"\n",
        "\n",
        "# Pobieramy wszystkie pliki PDF w folderze\n",
        "articles = [os.path.join(drive, f) for f in os.listdir(drive)]\n",
        "\n",
        "docs = []\n",
        "for i in articles:\n",
        "    doc = load_pdf(i, 300, 100)\n",
        "    docs.extend(doc)\n",
        "\n",
        "# nie będę pokazywać całości bo jest tego sporo ale tak to wygląda\n",
        "for i, doc in enumerate(docs[100:105]):\n",
        "    print(f\"[{ i }] {doc}\\n\")\n"
      ],
      "metadata": {
        "colab": {
          "base_uri": "https://localhost:8080/"
        },
        "id": "ddFY74yfCSlr",
        "outputId": "8442231d-3fc2-45e5-957f-40c7a073aab4"
      },
      "execution_count": 20,
      "outputs": [
        {
          "output_type": "stream",
          "name": "stdout",
          "text": [
            "[0] page_content='teaching jobs is a priority, and via automated assistants or other tools, AI may provide teachers \n",
            "greater support. AI may also enable teachers to extend the support they offer to individual \n",
            "students when they run out of time. Developing resources that are responsive to the knowledge' metadata={'producer': '', 'creator': 'Microsoft Word', 'creationdate': '2023-05-02T18:36:15+00:00', 'title': 'Artificial Intelligence and the Future of Teaching and Learning (PDF)', 'author': 'U.S. Department of Education', 'subject': '', 'keywords': '', 'moddate': '2023-05-22T15:08:44-04:00', 'source': '/content/drive/MyDrive/ml/ai-report.pdf', 'total_pages': 71, 'page': 5}\n",
            "\n",
            "[1] page_content='students when they run out of time. Developing resources that are responsive to the knowledge \n",
            "and experiences students bring to their learning—their community and cultural assets—is a \n",
            "priority, and AI may enable greater customizability of curricular resources to meet local needs.' metadata={'producer': '', 'creator': 'Microsoft Word', 'creationdate': '2023-05-02T18:36:15+00:00', 'title': 'Artificial Intelligence and the Future of Teaching and Learning (PDF)', 'author': 'U.S. Department of Education', 'subject': '', 'keywords': '', 'moddate': '2023-05-22T15:08:44-04:00', 'source': '/content/drive/MyDrive/ml/ai-report.pdf', 'total_pages': 71, 'page': 5}\n",
            "\n",
            "[2] page_content='3\n",
            "As seen in voice assistants, mapping tools, shopping recommendations, essay-writing capabilities, \n",
            "and other familiar applications, AI may enhance educational services. \n",
            "Second, urgency and importance arise through awareness of system-level risks and anxiety about' metadata={'producer': '', 'creator': 'Microsoft Word', 'creationdate': '2023-05-02T18:36:15+00:00', 'title': 'Artificial Intelligence and the Future of Teaching and Learning (PDF)', 'author': 'U.S. Department of Education', 'subject': '', 'keywords': '', 'moddate': '2023-05-22T15:08:44-04:00', 'source': '/content/drive/MyDrive/ml/ai-report.pdf', 'total_pages': 71, 'page': 6}\n",
            "\n",
            "[3] page_content='Second, urgency and importance arise through awareness of system-level risks and anxiety about \n",
            "potential future risks. For example, students may become subject to greater surveillance. Some \n",
            "teachers worry that they may be replaced—to the contrary, the Department firmly rejects the' metadata={'producer': '', 'creator': 'Microsoft Word', 'creationdate': '2023-05-02T18:36:15+00:00', 'title': 'Artificial Intelligence and the Future of Teaching and Learning (PDF)', 'author': 'U.S. Department of Education', 'subject': '', 'keywords': '', 'moddate': '2023-05-22T15:08:44-04:00', 'source': '/content/drive/MyDrive/ml/ai-report.pdf', 'total_pages': 71, 'page': 6}\n",
            "\n",
            "[4] page_content='teachers worry that they may be replaced—to the contrary, the Department firmly rejects the \n",
            "idea that AI could replace teachers. Examples of discrimination from algorithmic bias are on the \n",
            "public’s mind, such as a voice recognition system that doesn’t work as well with regional dialects,' metadata={'producer': '', 'creator': 'Microsoft Word', 'creationdate': '2023-05-02T18:36:15+00:00', 'title': 'Artificial Intelligence and the Future of Teaching and Learning (PDF)', 'author': 'U.S. Department of Education', 'subject': '', 'keywords': '', 'moddate': '2023-05-22T15:08:44-04:00', 'source': '/content/drive/MyDrive/ml/ai-report.pdf', 'total_pages': 71, 'page': 6}\n",
            "\n"
          ]
        }
      ]
    },
    {
      "cell_type": "markdown",
      "source": [
        "## Tworzenie embeddingu i bazy danych:"
      ],
      "metadata": {
        "id": "n7XHbq4NVeC5"
      }
    },
    {
      "cell_type": "markdown",
      "source": [
        "Ze strony hugging face podanej przy zadaniu znalazłem model do embedingu \"sentence-transformers/all-MiniLM-L6-v2\" którego zamierzam użyć. Naszym modelem językowym będzie \"google/flan-t5-base\" od googla"
      ],
      "metadata": {
        "id": "-0cuINsEUaZS"
      }
    },
    {
      "cell_type": "code",
      "source": [
        "# tak jak w cheat sheet'cie\n",
        "embeddings = HuggingFaceBgeEmbeddings(model_name=\"sentence-transformers/all-MiniLM-L6-v2\")\n",
        "database = FAISS.from_documents(docs, embeddings)\n",
        "database.save_local(\"baza danych lista 4\")\n",
        "database = FAISS.load_local(\"baza danych lista 4\", embeddings, allow_dangerous_deserialization=True)"
      ],
      "metadata": {
        "id": "mHEVRLLHENIQ"
      },
      "execution_count": null,
      "outputs": []
    },
    {
      "cell_type": "markdown",
      "source": [
        "## Model:"
      ],
      "metadata": {
        "id": "dxZ7my0SViSk"
      }
    },
    {
      "cell_type": "markdown",
      "source": [
        "Od razu do modelu zaimplementowałem pokazywanie źródeł oraz pozbyłem się cyberpsychozy dodatkowym promptem."
      ],
      "metadata": {
        "id": "hB4jPt-WVZdC"
      }
    },
    {
      "cell_type": "code",
      "source": [
        "model_name = \"google/flan-t5-base\"\n",
        "model = AutoModelForSeq2SeqLM.from_pretrained(model_name)\n",
        "tokenizer = AutoTokenizer.from_pretrained(model_name)\n",
        "\n",
        "pipe = pipeline(\n",
        "    \"text2text-generation\",\n",
        "    model=model,\n",
        "    tokenizer=tokenizer,\n",
        "    do_sample=False       # deterministyczne odpowiedzi\n",
        ")\n",
        "\n",
        "llm = HuggingFacePipeline(pipeline=pipe)\n",
        "\n",
        "# robimy promt który zredukuje cyberpsychozę. mówi on modelowi aby nie bajerował tylko od razu pisał że nie wie\n",
        "template = \"\"\"Answer the question ONLY based on the context provided.\n",
        "If the answer is not in the context, respond with: \"I don't know\".\n",
        "\n",
        "\n",
        "Contextt:\n",
        "{context}\n",
        "\n",
        "Question: {question}\n",
        "\n",
        "Answer:\"\"\"\n",
        "\n",
        "prompt = PromptTemplate(\n",
        "    input_variables=[\"context\", \"question\"],\n",
        "    template=template\n",
        ")\n",
        "\n",
        "qa = RetrievalQA.from_chain_type(\n",
        "    llm=llm,\n",
        "    chain_type=\"stuff\",\n",
        "    retriever=database.as_retriever(),\n",
        "    chain_type_kwargs={\"prompt\": prompt},\n",
        "    return_source_documents=True\n",
        ")\n",
        "\n",
        "while not end:\n",
        "    q = str(input(\"Ask a question: \"))\n",
        "    if q.lower() != \"exit\":\n",
        "        print(f\"User: {q}\")\n",
        "\n",
        "        result = qa({\"query\": q})\n",
        "\n",
        "        print(f\"Answer: {result['result']}\\n\")\n",
        "\n",
        "        # jeżeli istnieje źródło (a istnieje bo inaczej jest i dont know) to je pokazujemy pod odpowiedzią\n",
        "        if result['result'] != \"I don't know\":\n",
        "          print(\"Sources (fragments from documents):\")\n",
        "          for doc in result['source_documents']:\n",
        "              # dla zachowania przejrzystości dam tylko początek\n",
        "              snippet = doc.page_content[:200].replace(\"\\n\", \" \")\n",
        "              print(f\"- {snippet}...\")\n",
        "        print(\"\\n----------------\\n\")\n",
        "\n",
        "    else:\n",
        "        end = True"
      ],
      "metadata": {
        "colab": {
          "base_uri": "https://localhost:8080/"
        },
        "id": "W8Rpew98FJ9k",
        "outputId": "0b38cf78-c158-4d95-ae82-3ce8367217b9"
      },
      "execution_count": 45,
      "outputs": [
        {
          "output_type": "stream",
          "name": "stderr",
          "text": [
            "Device set to use cpu\n"
          ]
        },
        {
          "name": "stdout",
          "output_type": "stream",
          "text": [
            "Ask a question: In wchich fields AI can support teachers\n",
            "User: In wchich fields AI can support teachers\n",
            "Answer: AI assistants to reduce routine teaching burdens; AI that provides teachers with recommendations teacher to a facilitator\n",
            "\n",
            "Sources (fragments from documents):\n",
            "- people choose the teaching profession and ensure they can do the work that matters. This  section discusses examples of AI supporting teachers and teaching including these concepts: AI  assistants to ...\n",
            "- teacher to a facilitator (Holmes and Tuomi, 2022). Teachers can integrate AI lessons as supplementary materials to  assist weak students and provide hands-on experiences in the form of human interacti...\n",
            "- teaching jobs is a priority, and via automated assistants or other tools, AI may provide teachers  greater support. AI may also enable teachers to extend the support they offer to individual  students...\n",
            "- argued that there are some subtle challenges related to the use of AI in the education field.  6. Conclusion The conceptual paper discusses the role of AI in the education field. Our review of previou...\n",
            "\n",
            "----------------\n",
            "\n",
            "Ask a question: What are the risks of using AI in education\n",
            "User: What are the risks of using AI in education\n",
            "Answer: transparency, fairness, privacy, morality, and removal of bias\n",
            "\n",
            "Sources (fragments from documents):\n",
            "- We are heartened to see intensifying discussions throughout the educational ecosystem about  the role of AI. We see progress that we can build upon occurring, as constituents discuss these  three type...\n",
            "- education is related to ethics. The ethical issues that can arise while using AI in education are the issues of transparency, fairness, privacy, morality, and removal of bias (Garrett, Beard, and Fies...\n",
            "- notice and explanation, and provide a recourse to humans when problems arise. The  people most affected by the use of AI in education must be part of the development of  the AI model, system, or tool,...\n",
            "- its presence in education and society, and determine its role and value in their own lives and  careers. We discuss risks across each section in this report. Here, it is important for students to  bec...\n",
            "\n",
            "----------------\n",
            "\n",
            "Ask a question: who is makajler\n",
            "User: who is makajler\n",
            "Answer: I don't know\n",
            "\n",
            "\n",
            "----------------\n",
            "\n",
            "Ask a question: exit\n"
          ]
        }
      ]
    },
    {
      "cell_type": "markdown",
      "source": [
        "Odpowiedzi w miarę logiczne, wydaję mi się że model odpowiada poprawnie, przytoczone fragmenty źródeł też by się zgadzały. zgodnie z założeniami model nie wie o istnieniu człowieka wielu talentów (a szkoda)"
      ],
      "metadata": {
        "id": "LTBWK-sYWCG9"
      }
    }
  ]
}
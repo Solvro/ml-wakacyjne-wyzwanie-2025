{
 "cells": [
  {
   "cell_type": "markdown",
   "id": "396fcd54",
   "metadata": {},
   "source": [
    "# Test\n",
    "\n",
    "This is a test code"
   ]
  }
 ],
 "metadata": {
  "language_info": {
   "name": "python"
  }
 },
 "nbformat": 4,
 "nbformat_minor": 5
}

{
  "cells": [
    {
      "cell_type": "code",
      "execution_count": 2,
      "metadata": {
        "id": "F_stIEd42YVV"
      },
      "outputs": [],
      "source": [
        "import torch\n",
        "import numpy as np\n",
        "import matplotlib.pyplot as plt\n",
        "import torch.nn as nn\n",
        "import torch.optim as optim\n",
        "from torch.utils.data import Dataset, DataLoader"
      ]
    },
    {
      "cell_type": "markdown",
      "metadata": {
        "id": "SiXGzMmw-kM4"
      },
      "source": [
        "### Sieci Neuronowe\n"
      ]
    },
    {
      "cell_type": "markdown",
      "metadata": {
        "id": "HZE4eVcR_XV2"
      },
      "source": [
        "Celem tego notebooka będzie przedstawienie najwazniejszych funkcji Pytorcha, które przydadzą się wam zarówno do wykonania zadania jak i do pracy z tą biblioteką w przyszłości. </br>\n",
        "Pytorch to open-sourcowa biblioteka Pythonowa która na początku funkcjonowała jako wewnętrzne narzędzie firmy Meta, którą postanowiono upublicznić w celu rozpromowania i ułatwienia researchu nad uczeniem głębokim (oraz żeby zrobić konkurencje dla Google'owego TensorFlow).\n",
        "\n",
        "\n",
        "\n",
        "Ekosystem PyTorcha składa się z kilku modułów:\n",
        "\n",
        "\n",
        "*   `torch` – podstawowe operacje na tensorach.\n",
        "*   `torch.nn` – moduły do budowy sieci neuronowych.\n",
        "*   `torch.optim` – algorytmy optymalizacji.\n",
        "*   `torch.utils.data` – efektywne ładowanie i przetwarzanie danych.\n",
        "*   `torchvision` - narzędzia do widzenia komputerowego\n",
        "\n",
        "Oraz kilka innych elementów jak PyTorch lightning ułatwiających tworzenie wszelkiego rodzaji algorytmów sztucznej inteligencji. </br> </br>\n",
        "Absolutna podstawą pracy w PyTorchu są tensory - odpowiedniki `np.array` z NumPy, przechowujące dane. Największą zaletą tensorów jest możliwość wykonywania obliczeń na nich na GPU, dlaczego jest to takie użyteczne? Pokażemy to w późniejszej części notatnika jeśli ktoś nie pamięta z wykładu 🙂\n",
        "\n",
        "\n",
        "\n",
        "\n",
        "\n"
      ]
    },
    {
      "cell_type": "markdown",
      "metadata": {
        "id": "NM52HO-Y-pwU"
      },
      "source": [
        "## 0. Wstęp - PyTorch"
      ]
    },
    {
      "cell_type": "markdown",
      "metadata": {
        "id": "VKwjyDqnIn16"
      },
      "source": [
        "Najprościej myśleć o tensorach jako o macierzach o dowolnej ilości wymiarów.\n",
        "\n",
        "\n",
        "*   Tensor 0-wymiarowy - skalar\n",
        "*   Tensor 1-wymiarowy - wektor\n",
        "*   Tensor 2-wymiarowy - macierz\n",
        "*   Tensor 3-lub-więcej-wymiarowy - nie znam nazwy ale najczęściej takie tensory reprezentują zdjęcia (wysokość, szerokość, kanały RGB) lub inne wielowymiarowe dane\n",
        "\n",
        "\n"
      ]
    },
    {
      "cell_type": "code",
      "execution_count": 3,
      "metadata": {
        "id": "MXwjxAnQ4bRg"
      },
      "outputs": [
        {
          "name": "stdout",
          "output_type": "stream",
          "text": [
            "tensor(1) \n",
            " tensor([1, 2, 3]) \n",
            " tensor([[1, 2],\n",
            "        [3, 4]])\n"
          ]
        }
      ],
      "source": [
        "# przykłady tensorów\n",
        "skalar = torch.tensor(1)\n",
        "\n",
        "wektor = torch.tensor([1,2,3])\n",
        "\n",
        "macierz = torch.tensor([[1,2],[3,4]])\n",
        "\n",
        "print(skalar,'\\n', wektor,'\\n', macierz)"
      ]
    },
    {
      "cell_type": "markdown",
      "metadata": {
        "id": "TRSpyRP7KczG"
      },
      "source": [
        "Tensory możemy tworzyć na wiele sposobów, przerzucając je z array od NumPy, wypełniając macierze zerami czy jedynkami (w zalezności od potrzeby), czy przydzielajac losowe wartości. Indeksowanie tensorów jest analogiczne do tego jak działa ono w NumPy."
      ]
    },
    {
      "cell_type": "code",
      "execution_count": 4,
      "metadata": {
        "id": "m2aZvZm-K83a"
      },
      "outputs": [
        {
          "name": "stdout",
          "output_type": "stream",
          "text": [
            "tensor([[0., 0., 0.],\n",
            "        [0., 0., 0.]]) \n",
            " tensor([[1., 1., 1.],\n",
            "        [1., 1., 1.]]) \n",
            " tensor([[0.4417, 0.3712, 0.0859],\n",
            "        [0.5266, 0.8354, 0.1315]])\n"
          ]
        }
      ],
      "source": [
        "#Przykładowy array\n",
        "dane = [[1,2],[3,4]]\n",
        "x_dane = np.array(dane)\n",
        "\n",
        "#Zmiana na tensory\n",
        "x_tensor = torch.from_numpy(x_dane)\n",
        "\n",
        "#Tworzenie sztucznych macierzy\n",
        "zera = torch.zeros(2,3)\n",
        "jedynki = torch.ones(2,3)\n",
        "losowe_liczby = torch.rand(2,3)\n",
        "\n",
        "print(zera,'\\n', jedynki, '\\n',losowe_liczby)"
      ]
    },
    {
      "cell_type": "code",
      "execution_count": 5,
      "metadata": {
        "id": "Mz0TiNJONwCq"
      },
      "outputs": [
        {
          "data": {
            "text/plain": [
              "torch.Size([2, 3])"
            ]
          },
          "execution_count": 5,
          "metadata": {},
          "output_type": "execute_result"
        }
      ],
      "source": [
        "losowe_liczby.shape"
      ]
    },
    {
      "cell_type": "code",
      "execution_count": 6,
      "metadata": {
        "id": "cZxKLYrAMVNQ"
      },
      "outputs": [
        {
          "name": "stderr",
          "output_type": "stream",
          "text": [
            "/home/fidok/.pyenv/versions/mnist-env/lib/python3.12/site-packages/torch/cuda/__init__.py:283: UserWarning: \n",
            "    Found GPU0 NVIDIA GeForce GTX 1060 6GB which is of cuda capability 6.1.\n",
            "    Minimum and Maximum cuda capability supported by this version of PyTorch is\n",
            "    (7.0) - (12.0)\n",
            "    \n",
            "  warnings.warn(\n",
            "/home/fidok/.pyenv/versions/mnist-env/lib/python3.12/site-packages/torch/cuda/__init__.py:304: UserWarning: \n",
            "    Please install PyTorch with a following CUDA\n",
            "    configurations:  12.6 following instructions at\n",
            "    https://pytorch.org/get-started/locally/\n",
            "    \n",
            "  warnings.warn(matched_cuda_warn.format(matched_arches))\n",
            "/home/fidok/.pyenv/versions/mnist-env/lib/python3.12/site-packages/torch/cuda/__init__.py:326: UserWarning: \n",
            "NVIDIA GeForce GTX 1060 6GB with CUDA capability sm_61 is not compatible with the current PyTorch installation.\n",
            "The current PyTorch install supports CUDA capabilities sm_70 sm_75 sm_80 sm_86 sm_90 sm_100 sm_120.\n",
            "If you want to use the NVIDIA GeForce GTX 1060 6GB GPU with PyTorch, please check the instructions at https://pytorch.org/get-started/locally/\n",
            "\n",
            "  warnings.warn(\n"
          ]
        }
      ],
      "source": [
        "if torch.cuda.is_available():\n",
        "    x_tensor = x_tensor.to('cuda')\n"
      ]
    },
    {
      "cell_type": "code",
      "execution_count": 7,
      "metadata": {
        "id": "qSbusKc9N50B"
      },
      "outputs": [
        {
          "name": "stdout",
          "output_type": "stream",
          "text": [
            "tensor([81.])\n",
            "tensor([-10.])\n"
          ]
        }
      ],
      "source": [
        "a = torch.tensor([3.0], requires_grad=True)\n",
        "b = torch.tensor([5.0], requires_grad=True)\n",
        "Q = 3 * a**3 - b**2\n",
        "Q.backward()  # oblicza gradienty\n",
        "print(a.grad) # dQ/da\n",
        "print(b.grad) # dQ/db\n"
      ]
    },
    {
      "cell_type": "markdown",
      "metadata": {
        "id": "24d786c9"
      },
      "source": [
        "### Indeksowanie i Wycinanie Tensorów\n",
        "\n",
        "Podobnie jak w NumPy, możemy używać indeksowania i wycinania do dostępu do elementów lub podzbiorów tensorów."
      ]
    },
    {
      "cell_type": "code",
      "execution_count": 8,
      "metadata": {
        "id": "4e41bf1a"
      },
      "outputs": [
        {
          "name": "stdout",
          "output_type": "stream",
          "text": [
            "Pojedynczy element: 1\n",
            "\n",
            "Wycięcie wiersza: tensor([4, 5, 6])\n",
            "\n",
            "Wycięcie kolumny: tensor([3, 6, 9])\n",
            "\n",
            "Wycięcie podzbioru:\n",
            " tensor([[2, 3],\n",
            "        [5, 6]])\n",
            "\n"
          ]
        }
      ],
      "source": [
        "tensor = torch.tensor([[1, 2, 3], [4, 5, 6], [7, 8, 9]])\n",
        "\n",
        "# Dostęp do pojedynczego elementu\n",
        "print(f\"Pojedynczy element: {tensor[0, 0]}\\n\")\n",
        "\n",
        "# Wycięcie wiersza\n",
        "print(f\"Wycięcie wiersza: {tensor[1, :]}\\n\")\n",
        "\n",
        "# Wycięcie kolumny\n",
        "print(f\"Wycięcie kolumny: {tensor[:, 2]}\\n\")\n",
        "\n",
        "# Wycięcie podzbioru\n",
        "print(f\"Wycięcie podzbioru:\\n {tensor[0:2, 1:3]}\\n\")"
      ]
    },
    {
      "cell_type": "markdown",
      "metadata": {
        "id": "ed0c7ee1"
      },
      "source": [
        "### Zmiana Kształtu Tensorów (Reshaping/Viewing)\n",
        "\n",
        "Często potrzebujemy zmienić kształt tensora bez zmiany jego danych. Możemy to zrobić za pomocą metod `reshape` lub `view`. Metoda `view` działa tylko wtedy, gdy tensor jest ciągły w pamięci."
      ]
    },
    {
      "cell_type": "code",
      "execution_count": 9,
      "metadata": {
        "id": "6a51b8e0"
      },
      "outputs": [
        {
          "name": "stdout",
          "output_type": "stream",
          "text": [
            "Oryginalny tensor:\n",
            " tensor([[0, 1, 2],\n",
            "        [3, 4, 5],\n",
            "        [6, 7, 8]])\n",
            "\n",
            "Tensor zmieniony na wektor: tensor([0, 1, 2, 3, 4, 5, 6, 7, 8])\n",
            "\n",
            "Tensor o nowym kształcie:\n",
            " tensor([[0],\n",
            "        [1],\n",
            "        [2],\n",
            "        [3],\n",
            "        [4],\n",
            "        [5],\n",
            "        [6],\n",
            "        [7],\n",
            "        [8]])\n",
            "\n",
            "Widok tensora: tensor([0, 1, 2, 3, 4, 5, 6, 7, 8])\n",
            "\n"
          ]
        }
      ],
      "source": [
        "tensor = torch.arange(9).reshape(3, 3)\n",
        "print(f\"Oryginalny tensor:\\n {tensor}\\n\")\n",
        "\n",
        "# Zmiana kształtu na wektor\n",
        "wektor_tensor = tensor.reshape(-1)\n",
        "print(f\"Tensor zmieniony na wektor: {wektor_tensor}\\n\")\n",
        "\n",
        "# Zmiana kształtu na inny rozmiar\n",
        "nowy_ksztalt_tensor = tensor.reshape(9, 1)\n",
        "print(f\"Tensor o nowym kształcie:\\n {nowy_ksztalt_tensor}\\n\")\n",
        "\n",
        "# Użycie .view() (jeśli możliwe)\n",
        "widok_tensor = tensor.view(9)\n",
        "print(f\"Widok tensora: {widok_tensor}\\n\")"
      ]
    },
    {
      "cell_type": "markdown",
      "metadata": {
        "id": "04029e7b"
      },
      "source": [
        "### Łączenie (Concatenating) i Stackowanie (Stacking) Tensorów\n",
        "\n",
        "Tensory można łączyć wzdłuż istniejącego wymiaru za pomocą `torch.cat` lub tworzyć nowy wymiar za pomocą `torch.stack`."
      ]
    },
    {
      "cell_type": "code",
      "execution_count": 10,
      "metadata": {
        "id": "39d0b70c"
      },
      "outputs": [
        {
          "name": "stdout",
          "output_type": "stream",
          "text": [
            "Łączenie wzdłuż wierszy:\n",
            " tensor([[1, 2],\n",
            "        [3, 4],\n",
            "        [5, 6],\n",
            "        [7, 8]])\n",
            "\n",
            "Łączenie wzdłuż kolumn:\n",
            " tensor([[1, 2, 5, 6],\n",
            "        [3, 4, 7, 8]])\n",
            "\n",
            "Stackowanie:\n",
            " tensor([[[1, 2],\n",
            "         [3, 4]],\n",
            "\n",
            "        [[5, 6],\n",
            "         [7, 8]]])\n",
            "\n",
            "Stackowanie wzdłuż wymiaru 1:\n",
            " tensor([[[1, 2],\n",
            "         [5, 6]],\n",
            "\n",
            "        [[3, 4],\n",
            "         [7, 8]]])\n",
            "\n"
          ]
        }
      ],
      "source": [
        "tensor1 = torch.tensor([[1, 2], [3, 4]])\n",
        "tensor2 = torch.tensor([[5, 6], [7, 8]])\n",
        "\n",
        "# Łączenie wzdłuż wierszy (wymiar 0)\n",
        "concatenated_rows = torch.cat([tensor1, tensor2], dim=0)\n",
        "print(f\"Łączenie wzdłuż wierszy:\\n {concatenated_rows}\\n\")\n",
        "\n",
        "# Łączenie wzdłuż kolumn (wymiar 1)\n",
        "concatenated_cols = torch.cat([tensor1, tensor2], dim=1)\n",
        "print(f\"Łączenie wzdłuż kolumn:\\n {concatenated_cols}\\n\")\n",
        "\n",
        "# Stackowanie (tworzy nowy wymiar na początku domyślnie)\n",
        "stacked_tensors = torch.stack([tensor1, tensor2])\n",
        "print(f\"Stackowanie:\\n {stacked_tensors}\\n\")\n",
        "\n",
        "# Stackowanie wzdłuż innego wymiaru\n",
        "stacked_tensors_dim1 = torch.stack([tensor1, tensor2], dim=1)\n",
        "print(f\"Stackowanie wzdłuż wymiaru 1:\\n {stacked_tensors_dim1}\\n\")"
      ]
    },
    {
      "cell_type": "markdown",
      "metadata": {
        "id": "bfKp2cdl-wJd"
      },
      "source": [
        "## 1. Sieci Neuronowe"
      ]
    },
    {
      "cell_type": "markdown",
      "metadata": {
        "id": "Vso4vstZLuMX"
      },
      "source": [
        "Moduł `torch.nn` jest podstawowym narzędziem w PyTorchu do budowania i trenowania sieci neuronowych. Zamiast implementować każdy element sieci od podstaw, `torch.nn` dostarcza bogaty zestaw gotowych bloków konstrukcyjnych (ang. building blocks). Moduł ten jest kluczowy, ponieważ zawiera definicje standardowych warstw neuronowych (takich jak warstwy liniowe, konwolucyjne), funkcji aktywacji (np. ReLU, Sigmoid), funkcji straty (np. MSELoss, CrossEntropyLoss) oraz narzędzia do zarządzania parametrami modelu i gradientami. Umożliwia to szybsze i bardziej efektywne tworzenie złożonych architektur sieci neuronowych."
      ]
    },
    {
      "cell_type": "markdown",
      "metadata": {
        "id": "SC9iubO1L7Q1"
      },
      "source": [
        "### Warstwy\n",
        "\n",
        "Moduł `torch.nn` oferuje wiele predefiniowanych warstw, które stanowią podstawowe elementy budulcowe sieci neuronowych. Dwie z najczęściej używanych warstw to `Linear` i `Conv2d`.\n",
        "\n",
        "Warstwa `Linear` (nazywana również warstwą w pełni połączoną lub gęstą) wykonuje transformację liniową danych wejściowych: $y = xA^T + b$. Jest powszechnie używana w końcowych warstwach sieci do mapowania cech na wyniki klasyfikacji lub regresji, a także jako warstwa ukryta w prostszych sieciach.\n",
        "\n",
        "Warstwa `Conv2d` (warstwa konwolucyjna 2D) jest fundamentalna w sieciach neuronowych do przetwarzania danych o strukturze siatki, takich jak obrazy. Wykonuje operację splotu, ucząc się filtrów, które wykrywają wzorce przestrzenne w danych wejściowych (np. krawędzie, tekstury). Jest kluczowa w większości nowoczesnych architektur do widzenia komputerowego."
      ]
    },
    {
      "cell_type": "code",
      "execution_count": 11,
      "metadata": {
        "id": "7db7c12b"
      },
      "outputs": [
        {
          "name": "stdout",
          "output_type": "stream",
          "text": [
            "Kształt tensora wejściowego dla warstwy Linear: torch.Size([64, 10])\n",
            "Kształt tensora wyjściowego z warstwy Linear: torch.Size([64, 5])\n"
          ]
        }
      ],
      "source": [
        "# Przykład użycia warstwy Linear\n",
        "input_features = 10\n",
        "output_features = 5\n",
        "batch_size = 64\n",
        "\n",
        "# Tworzenie przykładowego tensora wejściowego (partia x cechy wejściowe)\n",
        "linear_input = torch.randn(batch_size, input_features)\n",
        "\n",
        "# Definiowanie warstwy Linear\n",
        "linear_layer = torch.nn.Linear(input_features, output_features)\n",
        "\n",
        "# Przepuszczenie tensora przez warstwę\n",
        "linear_output = linear_layer(linear_input)\n",
        "\n",
        "print(f\"Kształt tensora wejściowego dla warstwy Linear: {linear_input.shape}\")\n",
        "print(f\"Kształt tensora wyjściowego z warstwy Linear: {linear_output.shape}\")"
      ]
    },
    {
      "cell_type": "markdown",
      "metadata": {
        "id": "1b169195"
      },
      "source": [
        "### Funkcje aktywacji (activation functions)\n",
        "\n",
        "\n",
        "Funkcje aktywacji odgrywają kluczową rolę w sieciach neuronowych, wprowadzając nieliniowość do modelu. Bez funkcji aktywacji, sieć neuronowa składająca się z wielu warstw liniowych byłaby równoważna pojedynczej warstwie liniowej, co znacznie ograniczyłoby jej zdolność do modelowania złożonych zależności w danych.\n",
        "\n",
        "Popularne funkcje aktywacji to:\n",
        "\n",
        "*   **ReLU (Rectified Linear Unit):** $f(x) = \\max(0, x)$. Jest to najczęściej używana funkcja aktywacji ze względu na swoją prostotę i efektywność obliczeniową. Pomaga w rozwiązywaniu problemu zanikających gradientów.\n",
        "*   **Sigmoid:** $f(x) = \\frac{1}{1 + e^{-x}}$. Funkcja Sigmoid kompresuje wartości wejściowe do zakresu (0, 1). Była popularna w przeszłości, ale obecnie jest rzadziej używana w ukrytych warstwach ze względu na problem zanikających gradientów dla dużych lub małych wartości wejściowych. Często używana w warstwie wyjściowej do zadań klasyfikacji binarnej.\n",
        "*   **Softmax:** Stosowana głównie w warstwie wyjściowej do zadań klasyfikacji wieloklasowej. Przekształca wektor wartości rzeczywistych na rozkład prawdopodobieństwa, gdzie suma wszystkich elementów wynosi 1.\n"
      ]
    },
    {
      "cell_type": "code",
      "execution_count": 12,
      "metadata": {
        "id": "50a47d86"
      },
      "outputs": [
        {
          "name": "stdout",
          "output_type": "stream",
          "text": [
            "Tensor wejściowy: tensor([-2., -1.,  0.,  1.,  2.])\n",
            "Wynik po ReLU: tensor([0., 0., 0., 1., 2.])\n",
            "Wynik po Sigmoid: tensor([0.1192, 0.2689, 0.5000, 0.7311, 0.8808])\n",
            "Wynik po Softmax: tensor([0.0117, 0.0317, 0.0861, 0.2341, 0.6364])\n",
            "\n",
            "Tensor wejściowy 2D:\n",
            " tensor([[-1.,  0.,  1.],\n",
            "        [ 0.,  1.,  2.]])\n",
            "Wynik po Softmax (dim=1):\n",
            " tensor([[0.0900, 0.2447, 0.6652],\n",
            "        [0.0900, 0.2447, 0.6652]])\n"
          ]
        }
      ],
      "source": [
        "import torch.nn.functional as F\n",
        "\n",
        "# Przykładowy tensor wejściowy\n",
        "input_tensor = torch.tensor([-2.0, -1.0, 0.0, 1.0, 2.0])\n",
        "\n",
        "# Użycie funkcji aktywacji\n",
        "relu_output = F.relu(input_tensor)\n",
        "sigmoid_output = torch.sigmoid(input_tensor) # Można też użyć torch.nn.functional.sigmoid\n",
        "softmax_output = F.softmax(input_tensor, dim=0) # dim=0 ponieważ tensor jest 1D\n",
        "\n",
        "print(f\"Tensor wejściowy: {input_tensor}\")\n",
        "print(f\"Wynik po ReLU: {relu_output}\")\n",
        "print(f\"Wynik po Sigmoid: {sigmoid_output}\")\n",
        "print(f\"Wynik po Softmax: {softmax_output}\")\n",
        "\n",
        "# Przykład Softmax na tensorze 2D (np. wyniki z warstwy liniowej dla partii danych)\n",
        "input_2d = torch.tensor([[-1.0, 0.0, 1.0], [0.0, 1.0, 2.0]])\n",
        "softmax_output_2d = F.softmax(input_2d, dim=1) # dim=1 dla każdej próbki w partii\n",
        "\n",
        "print(f\"\\nTensor wejściowy 2D:\\n {input_2d}\")\n",
        "print(f\"Wynik po Softmax (dim=1):\\n {softmax_output_2d}\")"
      ]
    },
    {
      "cell_type": "markdown",
      "metadata": {
        "id": "70079424"
      },
      "source": [
        "### Funkcje straty (loss functions)\n",
        "\n",
        "Funkcje straty są kluczowym elementem procesu treningu sieci neuronowych. Mierzą one różnicę między przewidywaniami modelu a rzeczywistymi wartościami docelowymi. Celem treningu jest minimalizacja tej funkcji straty, co oznacza, że model uczy się generować przewidywania coraz bliższe rzeczywistym wartościom.\n",
        "\n",
        "W zależności od rodzaju zadania (np. regresja, klasyfikacja), stosuje się różne funkcje straty:\n",
        "\n",
        "*   **MSE (Mean Squared Error):** Stosowana głównie w zadaniach **regresji**. Oblicza średni kwadrat różnicy między przewidywanymi wartościami a wartościami rzeczywistymi. Im mniejsza wartość MSE, tym lepsze dopasowanie modelu do danych. Wzór: $L = \\frac{1}{N} \\sum_{i=1}^{N} (y_i - \\hat{y}_i)^2$, gdzie $y_i$ to wartość rzeczywista, a $\\hat{y}_i$ to wartość przewidywana.\n",
        "*   **CrossEntropyLoss:** Stosowana głównie w zadaniach **klasyfikacji**, zwłaszcza wieloklasowej. Mierzy różnicę między rozkładem prawdopodobieństwa przewidywanym przez model a rzeczywistym rozkładem (reprezentowanym przez etykietę klasy). W PyTorchu `CrossEntropyLoss` jest wygodną kombinacją funkcji Softmax (która przekształca surowe wyniki modelu - logity - na prawdopodobieństwa) i Negative Log Likelihood Loss. Oczekuje logitów jako wejścia i etykiet klas (indeksów) jako celu.\n"
      ]
    },
    {
      "cell_type": "code",
      "execution_count": 13,
      "metadata": {
        "id": "c65a03a9"
      },
      "outputs": [
        {
          "name": "stdout",
          "output_type": "stream",
          "text": [
            "Przewidywane wartości: tensor([1.5000, 2.3000, 3.1000, 4.9000, 5.2000])\n",
            "Rzeczywiste wartości: tensor([1.0000, 2.5000, 3.0000, 5.0000, 5.5000])\n",
            "Wartość straty MSE: 0.08000002801418304\n"
          ]
        }
      ],
      "source": [
        "\n",
        "# Przykład użycia MSELoss (dla regresji)\n",
        "\n",
        "# Przykładowe przewidywane wartości (np. wyjście modelu regresyjnego)\n",
        "predictions = torch.tensor([1.5, 2.3, 3.1, 4.9, 5.2])\n",
        "\n",
        "# Przykładowe rzeczywiste wartości (np. prawdziwe wartości docelowe)\n",
        "targets = torch.tensor([1.0, 2.5, 3.0, 5.0, 5.5])\n",
        "\n",
        "# Definiowanie funkcji straty MSE\n",
        "mse_loss = nn.MSELoss()\n",
        "\n",
        "# Obliczanie straty\n",
        "loss = mse_loss(predictions, targets)\n",
        "\n",
        "print(f\"Przewidywane wartości: {predictions}\")\n",
        "print(f\"Rzeczywiste wartości: {targets}\")\n",
        "print(f\"Wartość straty MSE: {loss.item()}\")"
      ]
    },
    {
      "cell_type": "code",
      "execution_count": 14,
      "metadata": {
        "id": "061ba518"
      },
      "outputs": [
        {
          "name": "stdout",
          "output_type": "stream",
          "text": [
            "Logity (wyjście modelu):\n",
            "tensor([[-0.1000,  0.5000, -0.3000],\n",
            "        [ 1.2000, -0.8000,  0.1000],\n",
            "        [-0.5000, -0.2000,  1.0000]])\n",
            "Etykiety klas:\n",
            "tensor([1, 0, 2])\n",
            "Wartość straty Cross Entropy: 0.499269962310791\n"
          ]
        }
      ],
      "source": [
        "\n",
        "# Przykład użycia CrossEntropyLoss (dla klasyfikacji)\n",
        "\n",
        "# Przykładowe logity (surowe wyjście sieci neuronowej przed funkcją Softmax)\n",
        "# Wymiary: partia x liczba klas\n",
        "logits = torch.tensor([[-0.1, 0.5, -0.3], [1.2, -0.8, 0.1], [-0.5, -0.2, 1.0]])\n",
        "\n",
        "# Przykładowe etykiety klas (indeksy prawdziwych klas dla każdej próbki w partii)\n",
        "# Wymiary: partia\n",
        "# Etykiety powinny być torch.long\n",
        "labels = torch.tensor([1, 0, 2], dtype=torch.long)\n",
        "\n",
        "# Definiowanie funkcji straty Cross Entropy\n",
        "ce_loss = nn.CrossEntropyLoss()\n",
        "\n",
        "# Obliczanie straty\n",
        "loss = ce_loss(logits, labels)\n",
        "\n",
        "print(f\"Logity (wyjście modelu):\")\n",
        "print(logits)\n",
        "print(f\"Etykiety klas:\")\n",
        "print(labels)\n",
        "print(f\"Wartość straty Cross Entropy: {loss.item()}\")"
      ]
    },
    {
      "cell_type": "markdown",
      "metadata": {
        "id": "e52816bc"
      },
      "source": [
        "### Budowa prostej sieci\n",
        "\n",
        "W PyTorchu, standardowym sposobem definiowania własnych architektur sieci neuronowych jest dziedziczenie po klasie bazowej `torch.nn.Module`. Klasa ta zapewnia funkcjonalność potrzebną do śledzenia parametrów modelu (wag i biasów), zarządzania nimi na różnych urządzeniach (CPU/GPU) oraz automatycznego obliczania gradientów podczas wstecznej propagacji.\n",
        "\n",
        "Aby zbudować własną sieć neuronową, należy:\n",
        "\n",
        "1.  **Zdefiniować klasę**, która dziedziczy po `torch.nn.Module`.\n",
        "2.  W metodzie `__init__` (konstruktorze klasy), **zdefiniować warstwy i inne komponenty** (np. funkcje aktywacji, choć często są one używane bezpośrednio w metodzie `forward`), które będą używane w sieci. Należy zarejestrować te warstwy jako atrybuty klasy, aby `torch.nn.Module` mógł poprawnie zarządzać ich parametrami.\n",
        "3.  W metodzie `forward`, **zdefiniować przepływ danych** przez sieć. Metoda ta przyjmuje tensor wejściowy i zwraca tensor wyjściowy po przepuszczeniu go przez zdefiniowane warstwy i funkcje aktywacji w odpowiedniej kolejności. To właśnie w tej metodzie realizowana jest logika obliczeniowa sieci.\n",
        "\n",
        "Poniżej przedstawiamy przykład prostej sieci neuronowej składającej się z kilku warstw liniowych i funkcji aktywacji ReLU.\n"
      ]
    },
    {
      "cell_type": "code",
      "execution_count": 42,
      "metadata": {
        "id": "0b98dd24"
      },
      "outputs": [
        {
          "name": "stdout",
          "output_type": "stream",
          "text": [
            "Kształt wejściowego tensora: torch.Size([64, 10])\n",
            "Kształt wyjściowego tensora z sieci: torch.Size([64, 5])\n"
          ]
        }
      ],
      "source": [
        "# 1. Zdefiniuj prostą klasę sieci neuronowej\n",
        "class SimpleNN(nn.Module):\n",
        "    # 2. Zdefiniuj warstwy i funkcje aktywacji w __init__\n",
        "    def __init__(self, input_size, hidden_size, output_size):\n",
        "        super(SimpleNN, self).__init__()\n",
        "        self.fc1 = nn.Linear(input_size, hidden_size) # Pierwsza warstwa liniowa\n",
        "        self.relu = nn.ReLU()                       # Funkcja aktywacji ReLU\n",
        "        self.fc2 = nn.Linear(hidden_size, output_size) # Druga warstwa liniowa\n",
        "\n",
        "    # 3. Zaimplementuj przepływ danych w forward\n",
        "    def forward(self, x):\n",
        "        x = self.fc1(x)    # Przepuść dane przez pierwszą warstwę liniową\n",
        "        x = self.relu(x)   # Zastosuj funkcję aktywacji ReLU\n",
        "        x = self.fc2(x)    # Przepuść dane przez drugą warstwę liniową\n",
        "        return x\n",
        "\n",
        "# 4. Utwórz instancję zdefiniowanej klasy sieci neuronowej\n",
        "input_dim = 10\n",
        "hidden_dim = 20\n",
        "output_dim = 5\n",
        "model = SimpleNN(input_dim, hidden_dim, output_dim)\n",
        "\n",
        "# 5. Stwórz przykładowy tensor wejściowy\n",
        "# Przykład: partia 64 próbek, każda z 10 cechami\n",
        "sample_input = torch.randn(64, input_dim)\n",
        "\n",
        "# 6. Przepuść przykładowy tensor wejściowy przez zdefiniowaną sieć neuronową\n",
        "output_tensor = model(sample_input) # Wywołanie instancji klasy uruchamia metodę forward\n",
        "\n",
        "# 7. Wypisz kształt tensora wyjściowego\n",
        "print(f\"Kształt wejściowego tensora: {sample_input.shape}\")\n",
        "print(f\"Kształt wyjściowego tensora z sieci: {output_tensor.shape}\")\n"
      ]
    },
    {
      "cell_type": "markdown",
      "metadata": {
        "id": "35e5510e"
      },
      "source": [
        "### Trening modelu (podstawy)\n",
        "\n",
        "Trening sieci neuronowej w PyTorchu zazwyczaj obejmuje następujące podstawowe kroki, wykonywane iteracyjnie dla każdej partii danych:\n",
        "\n",
        "1.  **Forward pass:** W tym kroku dane wejściowe są przepuszczane przez sieć neuronową, aby wygenerować przewidywania modelu (wyjście). Obliczenia przepływają od warstwy wejściowej do warstwy wyjściowej.\n",
        "2.  **Loss calculation:** Po uzyskaniu przewidywań, obliczana jest wartość funkcji straty (np. `MSELoss` dla regresji, `CrossEntropyLoss` dla klasyfikacji). Funkcja straty kwantyfikuje, jak bardzo przewidywania modelu różnią się od rzeczywistych etykiet docelowych.\n",
        "3.  **Backward pass:** To kluczowy krok, w którym PyTorch oblicza gradienty funkcji straty względem wszystkich parametrów modelu (wag i biasów). Dzieje się to dzięki mechanizmowi automatycznego różniczkowania PyTorcha. Wywołanie metody `.backward()` na tensorze reprezentującym wartość funkcji straty inicjuje ten proces. Gradienty wskazują kierunek i siłę, w jakiej należy zmienić parametry, aby zminimalizować stratę.\n",
        "4.  **Optimizer step:** Na koniec, wybrany algorytm optymalizacji (np. SGD, Adam) wykorzystuje obliczone gradienty do aktualizacji parametrów modelu. Celem optymalizatora jest znalezienie zbioru parametrów, który minimalizuje funkcję straty na danych treningowych. Metoda `optimizer.step()` wykonuje tę aktualizację.\n",
        "\n",
        "Rola optymalizatora i metody `.backward()` jest fundamentalna. Metoda `.backward()` dostarcza niezbędnych informacji (gradientów) o tym, jak zmienić parametry, podczas gdy optymalizator wykorzystuje te informacje do faktycznej modyfikacji parametrów w celu stopniowego poprawiania wydajności modelu."
      ]
    },
    {
      "cell_type": "markdown",
      "metadata": {
        "id": "67036f97"
      },
      "source": [
        "### Tworzenie datasetów i dataloaderów\n",
        "\n",
        "Efektywne ładowanie i przetwarzanie danych jest kluczowe podczas trenowania modeli uczenia głębokiego, zwłaszcza przy dużych zbiorach danych. PyTorch dostarcza dwa podstawowe narzędzia do tego celu: `torch.utils.data.Dataset` i `torch.utils.data.DataLoader`.\n",
        "\n",
        "### Klasa `Dataset`\n",
        "\n",
        "Klasa `Dataset` reprezentuje zbiór danych. Własna klasa `Dataset` powinna dziedziczyć po `torch.utils.data.Dataset` i implementować dwie kluczowe metody:\n",
        "\n",
        "*   `__len__(self)`: Powinna zwracać całkowity rozmiar zbioru danych.\n",
        "*   `__getitem__(self, idx)`: Powinna zwracać pojedynczą próbkę danych (np. para cechy-etykieta) dla danego indeksu `idx`.\n",
        "\n",
        "Implementując te dwie metody, tworzymy obiekt, który można indeksować jak listę (`dataset[i]`) i który zna swój rozmiar (`len(dataset)`). Klasa `Dataset` odpowiada za logikę pobierania pojedynczych próbek danych z ich źródła (np. pliki na dysku, baza danych).\n",
        "\n",
        "### Klasa `DataLoader`\n",
        "\n",
        "Klasa `DataLoader` jest iteratorem, który opakowuje obiekt `Dataset` i zapewnia wygodny sposób na dostęp do danych w partiach (mini-batchach). Automatyzuje takie procesy jak:\n",
        "\n",
        "*   **Partiowanie (Batching):** Grupowanie pojedynczych próbek w partie.\n",
        "*   **Mieszanie (Shuffling):** Opcjonalne mieszanie danych w każdej epoce, co jest ważne dla stabilności treningu.\n",
        "*   **Równoległe ładowanie (Parallel loading):** Ładowanie danych w wielu procesach roboczych, aby przyspieszyć proces I/O i zapobiec wąskiemu gardłu w treningu.\n",
        "\n",
        "Kluczowe argumenty `DataLoader` to:\n",
        "\n",
        "*   `dataset`: Obiekt klasy `Dataset`, z którego będą pobierane dane.\n",
        "*   `batch_size`: Liczba próbek w każdej partii.\n",
        "*   `shuffle`: Jeśli `True`, dane będą mieszane w każdej epoce.\n",
        "\n",
        "### Customowa funkcja `collate_fn`\n",
        "\n",
        "Domyślnie `DataLoader` próbuje automatycznie łączyć próbki w partię. Działa to dobrze, gdy próbki mają identyczny kształt (np. obrazy o tym samym rozmiarze). Jednak w przypadku danych o różnych rozmiarach (np. sekwencje tekstowe o różnej długości, grafy o różnej liczbie węzłów), standardowy mechanizm łączenia może zawieść.\n",
        "\n",
        "W takich sytuacjach można zdefiniować własną funkcję `collate_fn` i przekazać ją do `DataLoader`. Ta funkcja przyjmuje listę próbek zwróconych przez `dataset.__getitem__` dla danej partii i jest odpowiedzialna za ich odpowiednie przetworzenie i połączenie w jeden lub więcej tensorów, które będą reprezentować partię danych. Przykładowo, `collate_fn` może dodawać wypełnienie (padding) do sekwencji o różnej długości, aby miały ten sam rozmiar przed połączeniem w tensor.\n"
      ]
    },
    {
      "cell_type": "code",
      "execution_count": 16,
      "metadata": {
        "id": "9fedc52f"
      },
      "outputs": [
        {
          "name": "stdout",
          "output_type": "stream",
          "text": [
            "Rozmiar zbioru danych: 6\n",
            "Pierwsza próbka: (tensor([1., 2.]), tensor(0))\n",
            "Trzecia próbka: (tensor([5., 6.]), tensor(0))\n"
          ]
        }
      ],
      "source": [
        "\n",
        "\n",
        "class SimpleCustomDataset(Dataset):\n",
        "    def __init__(self, data, labels):\n",
        "        # Sprawdzenie, czy długości danych i etykiet są zgodne\n",
        "        if len(data) != len(labels):\n",
        "            raise ValueError(\"Data and labels must have the same length\")\n",
        "        self.data = data\n",
        "        self.labels = labels\n",
        "\n",
        "    def __len__(self):\n",
        "        # Zwraca całkowity rozmiar zbioru danych\n",
        "        return len(self.data)\n",
        "\n",
        "    def __getitem__(self, idx):\n",
        "        # Zwraca pojedynczą próbkę danych i jej etykietę dla danego indeksu\n",
        "        # Zakładamy, że dane i etykiety są już tensorami lub listami, które można łatwo przekonwertować\n",
        "        sample = self.data[idx]\n",
        "        label = self.labels[idx]\n",
        "        # Konwersja na tensory PyTorch (jeśli nie są już tensorami)\n",
        "        if not isinstance(sample, torch.Tensor):\n",
        "            sample = torch.tensor(sample, dtype=torch.float32)\n",
        "        if not isinstance(label, torch.Tensor):\n",
        "            label = torch.tensor(label, dtype=torch.long) # Etykiety klas zazwyczaj są typu long\n",
        "\n",
        "        return sample, label\n",
        "\n",
        "# Przykładowe dane i etykiety\n",
        "sample_data = [[1.0, 2.0], [3.0, 4.0], [5.0, 6.0], [7.0, 8.0], [9.0, 10.0], [11.0, 12.0]]\n",
        "sample_labels = [0, 1, 0, 1, 0, 1]\n",
        "\n",
        "# Utworzenie instancji customowej klasy Dataset\n",
        "custom_dataset = SimpleCustomDataset(sample_data, sample_labels)\n",
        "\n",
        "# Demonstracja dostępu do elementów i rozmiaru\n",
        "print(f\"Rozmiar zbioru danych: {len(custom_dataset)}\")\n",
        "print(f\"Pierwsza próbka: {custom_dataset[0]}\")\n",
        "print(f\"Trzecia próbka: {custom_dataset[2]}\")\n"
      ]
    },
    {
      "cell_type": "code",
      "execution_count": 17,
      "metadata": {
        "id": "b930c03e"
      },
      "outputs": [
        {
          "name": "stdout",
          "output_type": "stream",
          "text": [
            "\n",
            "Demonstracja iteracji po DataLoaderze z batch_size=2:\n",
            "Numer partii: 1\n",
            "Kształt partii danych: torch.Size([2, 2])\n",
            "Kształt partii etykiet: torch.Size([2])\n",
            "Przykładowa partia danych:\n",
            "tensor([[ 9., 10.],\n",
            "        [ 5.,  6.]])\n",
            "Przykładowa partia etykiet:\n",
            "tensor([0, 0])\n",
            "Numer partii: 2\n",
            "Kształt partii danych: torch.Size([2, 2])\n",
            "Kształt partii etykiet: torch.Size([2])\n",
            "Przykładowa partia danych:\n",
            "tensor([[1., 2.],\n",
            "        [3., 4.]])\n",
            "Przykładowa partia etykiet:\n",
            "tensor([0, 1])\n",
            "Numer partii: 3\n",
            "Kształt partii danych: torch.Size([2, 2])\n",
            "Kształt partii etykiet: torch.Size([2])\n",
            "Przykładowa partia danych:\n",
            "tensor([[11., 12.],\n",
            "        [ 7.,  8.]])\n",
            "Przykładowa partia etykiet:\n",
            "tensor([1, 1])\n"
          ]
        }
      ],
      "source": [
        "# Użycie DataLoader z customowym zbiorem danych\n",
        "batch_size = 2\n",
        "dataloader = DataLoader(custom_dataset, batch_size=batch_size, shuffle=True)\n",
        "\n",
        "print(f\"\\nDemonstracja iteracji po DataLoaderze z batch_size={batch_size}:\")\n",
        "# Iteracja po DataLoaderze\n",
        "for i, (batch_samples, batch_labels) in enumerate(dataloader):\n",
        "    print(f\"Numer partii: {i+1}\")\n",
        "    print(f\"Kształt partii danych: {batch_samples.shape}\")\n",
        "    print(f\"Kształt partii etykiet: {batch_labels.shape}\")\n",
        "    print(f\"Przykładowa partia danych:\\n{batch_samples}\")\n",
        "    print(f\"Przykładowa partia etykiet:\\n{batch_labels}\")\n",
        "    if i == 2: # Wypiszmy tylko kilka partii dla przykładu\n",
        "        break\n"
      ]
    },
    {
      "cell_type": "code",
      "execution_count": 18,
      "metadata": {
        "id": "fd94e27d"
      },
      "outputs": [
        {
          "name": "stdout",
          "output_type": "stream",
          "text": [
            "Zdefiniowano customową funkcję collate_fn.\n"
          ]
        }
      ],
      "source": [
        "def custom_collate(batch):\n",
        "    \"\"\"\n",
        "    Custom collate function to demonstrate combining samples into a batch.\n",
        "    This function simply stacks the tensors for data and labels.\n",
        "    In a real-world scenario, this would handle variable-sized data (e.g., padding).\n",
        "\n",
        "    Args:\n",
        "        batch (list): A list of samples returned by the Dataset's __getitem__.\n",
        "                      Each sample is a tuple (data, label).\n",
        "\n",
        "    Returns:\n",
        "        tuple: A tuple containing stacked data tensors and stacked label tensors.\n",
        "               (batch_data, batch_labels)\n",
        "    \"\"\"\n",
        "    # batch is a list of tuples: [(sample1, label1), (sample2, label2), ...]\n",
        "    # Separate data and labels into two lists\n",
        "    data_list = [item[0] for item in batch]\n",
        "    label_list = [item[1] for item in batch]\n",
        "\n",
        "    # Stack the tensors along a new dimension (usually the batch dimension)\n",
        "    # torch.stack creates a new dimension at dim=0 by default\n",
        "    batch_data = torch.stack(data_list)\n",
        "    batch_labels = torch.stack(label_list)\n",
        "\n",
        "    return batch_data, batch_labels\n",
        "\n",
        "print(\"Zdefiniowano customową funkcję collate_fn.\")\n"
      ]
    },
    {
      "cell_type": "code",
      "execution_count": 19,
      "metadata": {
        "id": "0VuqrWPhK2qI"
      },
      "outputs": [
        {
          "name": "stdout",
          "output_type": "stream",
          "text": [
            "\n",
            "Demonstracja iteracji po DataLoaderze z customową funkcją collate_fn i batch_size=3:\n",
            "Numer partii: 1\n",
            "Kształt partii danych: torch.Size([3, 2])\n",
            "Kształt partii etykiet: torch.Size([3])\n",
            "Przykładowa partia danych:\n",
            "tensor([[1., 2.],\n",
            "        [3., 4.],\n",
            "        [5., 6.]])\n",
            "Przykładowa partia etykiet:\n",
            "tensor([0, 1, 0])\n",
            "Numer partii: 2\n",
            "Kształt partii danych: torch.Size([3, 2])\n",
            "Kształt partii etykiet: torch.Size([3])\n",
            "Przykładowa partia danych:\n",
            "tensor([[ 7.,  8.],\n",
            "        [ 9., 10.],\n",
            "        [11., 12.]])\n",
            "Przykładowa partia etykiet:\n",
            "tensor([1, 0, 1])\n"
          ]
        }
      ],
      "source": [
        "# Użycie DataLoader z customową funkcją collate_fn\n",
        "batch_size = 3 # Użyjmy innego rozmiaru partii\n",
        "dataloader_with_collate = DataLoader(custom_dataset, batch_size=batch_size, shuffle=False, collate_fn=custom_collate) # shuffle=False dla powtarzalności\n",
        "\n",
        "print(f\"\\nDemonstracja iteracji po DataLoaderze z customową funkcją collate_fn i batch_size={batch_size}:\")\n",
        "# Iteracja po DataLoaderze z custom collate_fn\n",
        "for i, (batch_samples, batch_labels) in enumerate(dataloader_with_collate):\n",
        "    print(f\"Numer partii: {i+1}\")\n",
        "    print(f\"Kształt partii danych: {batch_samples.shape}\")\n",
        "    print(f\"Kształt partii etykiet: {batch_labels.shape}\")\n",
        "    print(f\"Przykładowa partia danych:\\n{batch_samples}\")\n",
        "    print(f\"Przykładowa partia etykiet:\\n{batch_labels}\")\n",
        "    if i == 1: # Wypiszmy tylko kilka partii dla przykładu\n",
        "        break"
      ]
    },
    {
      "cell_type": "markdown",
      "metadata": {
        "id": "878921e2"
      },
      "source": [
        "### Zapisywanie i wczytywanie modeli\n",
        "\n",
        "\n",
        "Po wytrenowaniu modelu neuronowego, kluczowe jest możliwość jego zapisania na dysku, aby można go było później wczytać i ponownie użyć (np. do wnioskowania na nowych danych, dalszego treningu lub udostępnienia innym). PyTorch oferuje elastyczne mechanizmy do zapisywania i wczytywania modeli.\n",
        "\n",
        "Istnieją dwie główne metody zapisywania modeli w PyTorchu:\n",
        "\n",
        "1.  **Zapisywanie samego słownika stanu (state_dict):** Jest to zalecana metoda. `state_dict` to słownik Pythonowy, który mapuje każdą warstwę na jej tensory parametrów (wagi i bias). Zapisując tylko `state_dict`, zapisujemy tylko *nauczone parametry* modelu, a nie całą jego architekturę. Aby wczytać model w ten sposób, musimy najpierw zdefiniować (lub mieć dostęp do) klasy modelu z identyczną architekturą, a następnie wczytać do niej `state_dict`.\n",
        "2.  **Zapisywanie całego modelu:** Ta metoda zapisuje całą architekturę modelu *wraz* z jego parametrami. Choć może wydawać się wygodniejsza, ma wady, takie jak sztywność (trudniej modyfikować model po wczytaniu) i potencjalne problemy z kompatybilnością między różnymi wersjami PyTorcha lub jeśli kod definiujący model nie jest dostępny. Z tego powodu zazwyczaj preferuje się zapisywanie i wczytywanie samego `state_dict`.\n",
        "\n",
        "Poniżej pokażemy, jak zapisać i wczytać model, koncentrując się na zalecanej metodzie z użyciem `state_dict`."
      ]
    },
    {
      "cell_type": "code",
      "execution_count": 20,
      "metadata": {
        "id": "dab890ae"
      },
      "outputs": [
        {
          "name": "stdout",
          "output_type": "stream",
          "text": [
            "Model state dictionary saved to: simple_nn_state_dict.pth\n",
            "File exists: True\n"
          ]
        }
      ],
      "source": [
        "import torch\n",
        "import torch.nn as nn\n",
        "import os # Import os to manage file paths\n",
        "\n",
        "\n",
        "class SimpleNN(nn.Module):\n",
        "    def __init__(self, input_size, hidden_size, output_size):\n",
        "        super(SimpleNN, self).__init__()\n",
        "        self.fc1 = nn.Linear(input_size, hidden_size)\n",
        "        self.relu = nn.ReLU()\n",
        "        self.fc2 = nn.Linear(hidden_size, output_size)\n",
        "\n",
        "    def forward(self, x):\n",
        "        x = self.fc1(x)\n",
        "        x = self.relu(x)\n",
        "        x = self.fc2(x)\n",
        "        return x\n",
        "\n",
        "input_dim = 10\n",
        "hidden_dim = 20\n",
        "output_dim = 5\n",
        "model_to_save = SimpleNN(input_dim, hidden_dim, output_dim)\n",
        "\n",
        "# Define the path to save the state dictionary\n",
        "model_save_path = 'simple_nn_state_dict.pth'\n",
        "\n",
        "# Save the state dictionary\n",
        "torch.save(model_to_save.state_dict(), model_save_path)\n",
        "\n",
        "print(f\"Model state dictionary saved to: {model_save_path}\")\n",
        "print(f\"File exists: {os.path.exists(model_save_path)}\")"
      ]
    },
    {
      "cell_type": "code",
      "execution_count": 21,
      "metadata": {
        "id": "3db19018"
      },
      "outputs": [
        {
          "name": "stdout",
          "output_type": "stream",
          "text": [
            "Model state dictionary loaded from: simple_nn_state_dict.pth\n",
            "Model is ready for use.\n"
          ]
        }
      ],
      "source": [
        "# Create a new instance of the model with the same architecture\n",
        "model_to_load = SimpleNN(input_dim, hidden_dim, output_dim)\n",
        "\n",
        "# Define the path to the saved state dictionary\n",
        "model_load_path = 'simple_nn_state_dict.pth'\n",
        "\n",
        "# Load the state dictionary\n",
        "state_dict = torch.load(model_load_path)\n",
        "\n",
        "# Load the state dictionary into the new model instance\n",
        "model_to_load.load_state_dict(state_dict)\n",
        "\n",
        "# Set the model to evaluation mode (important if you are going to use it for inference)\n",
        "model_to_load.eval()\n",
        "\n",
        "print(f\"Model state dictionary loaded from: {model_load_path}\")\n",
        "print(\"Model is ready for use.\")\n",
        "\n",
        "# Optional: Verify weights (e.g., compare weights of the first layer)\n",
        "# print(\"Weights of the first layer after loading:\")\n",
        "# print(model_to_load.fc1.weight)"
      ]
    },
    {
      "cell_type": "markdown",
      "metadata": {
        "id": "SHEWikIshzY6"
      },
      "source": [
        "Choć zalecaną metodą jest zapisywanie i wczytywanie tylko słownika stanu (`state_dict`), PyTorch umożliwia również zapisanie całego obiektu modelu, który zawiera zarówno architekturę, jak i nauczone parametry. Robi się to po prostu przekazując cały obiekt modelu do funkcji `torch.save()`.\n",
        "\n",
        "```python\n",
        "# Przykład zapisania całego modelu\n",
        "# model_to_save to instancja naszej klasy SimpleNN\n",
        "torch.save(model_to_save, 'simple_nn_full_model.pth')\n",
        "print(\"Cały model zapisany do: simple_nn_full_model.pth\")\n",
        "```\n",
        "\n",
        "Aby wczytać cały model, używamy funkcji `torch.load()`:\n",
        "\n",
        "```python\n",
        "# Przykład wczytania całego modelu\n",
        "loaded_full_model = torch.load('simple_nn_full_model.pth')\n",
        "loaded_full_model.eval() # Ustawienie modelu w tryb ewaluacji\n",
        "print(\"Cały model wczytany.\")\n",
        "print(loaded_full_model) # Wydrukuje architekturę modelu\n",
        "```\n",
        "\n",
        "**Dlaczego zazwyczaj preferujemy zapisywanie `state_dict`?**\n",
        "\n",
        "1.  **Elastyczność:** Zapisanie tylko `state_dict` pozwala na większą elastyczność. Możesz wczytać parametry do modelu o zmodyfikowanej architekturze (np. dodałeś warstwę, zmieniłeś rozmiar warstwy, ale reszta jest taka sama), o ile klucze w `state_dict` pasują do nazw parametrów w nowym modelu. W przypadku zapisania całego modelu, wczytanie wymaga dokładnego odtworzenia oryginalnego kodu klasy modelu.\n",
        "2.  **Jawność:** Zapisanie `state_dict` zmusza do jawnego zdefiniowania architektury modelu przed wczytaniem parametrów. Ułatwia to zrozumienie, co dokładnie jest ładowane.\n",
        "3.  **Rozmiar pliku:** Plik z samym `state_dict` jest zazwyczaj mniejszy, ponieważ nie zawiera kodu definiującego architekturę modelu.\n",
        "4.  **Kompatybilność:** Zapisanie całego modelu jest bardziej podatne na problemy z kompatybilnością między różnymi wersjami PyTorcha lub jeśli struktura katalogów/nazwy plików kodu modelu ulegną zmianie.\n",
        "\n",
        "Zapisywanie całego modelu jest wygodne do zapisania modeli na potrzeby wnioskowania w prostych skryptach, gdzie kod modelu jest łatwo dostępny i niezmienny. Jednak dla bardziej złożonych projektów, trenowania rozłożonego na wiele sesji lub gdy planuje się modyfikacje architektur, zapisywanie `state_dict` jest bezpieczniejszą i bardziej elastyczną opcją.\n"
      ]
    },
    {
      "cell_type": "code",
      "execution_count": 22,
      "metadata": {
        "id": "8f641f9c"
      },
      "outputs": [
        {
          "name": "stdout",
          "output_type": "stream",
          "text": [
            "Entire model saved to: simple_nn_full_model.pth\n",
            "File exists: True\n"
          ]
        }
      ],
      "source": [
        "# Demonstrate saving the entire model\n",
        "full_model_save_path = 'simple_nn_full_model.pth'\n",
        "torch.save(model_to_save, full_model_save_path) # Use the previously created model_to_save instance\n",
        "\n",
        "print(f\"Entire model saved to: {full_model_save_path}\")\n",
        "print(f\"File exists: {os.path.exists(full_model_save_path)}\")"
      ]
    },
    {
      "cell_type": "code",
      "execution_count": 23,
      "metadata": {
        "id": "IVOOO6cGLJs1"
      },
      "outputs": [
        {
          "name": "stdout",
          "output_type": "stream",
          "text": [
            "Entire model loaded from: simple_nn_full_model.pth\n",
            "Loaded model architecture:\n",
            "SimpleNN(\n",
            "  (fc1): Linear(in_features=10, out_features=20, bias=True)\n",
            "  (relu): ReLU()\n",
            "  (fc2): Linear(in_features=20, out_features=5, bias=True)\n",
            ")\n"
          ]
        }
      ],
      "source": [
        "# Demonstrate loading the entire model with weights_only=False\n",
        "full_model_load_path = 'simple_nn_full_model.pth'\n",
        "loaded_full_model = torch.load(full_model_load_path, weights_only=False)\n",
        "\n",
        "# Set the loaded model to evaluation mode\n",
        "loaded_full_model.eval()\n",
        "\n",
        "print(f\"Entire model loaded from: {full_model_load_path}\")\n",
        "print(\"Loaded model architecture:\")\n",
        "print(loaded_full_model)"
      ]
    },
    {
      "cell_type": "markdown",
      "metadata": {
        "id": "k9C-ujrjGHXk"
      },
      "source": [
        "## 2. Wizja komputerowa"
      ]
    },
    {
      "cell_type": "markdown",
      "metadata": {
        "id": "zW51EUFKG7FW"
      },
      "source": [
        "### cuda setup"
      ]
    },
    {
      "cell_type": "code",
      "execution_count": 46,
      "metadata": {
        "id": "0-edWSMaG84w"
      },
      "outputs": [],
      "source": [
        "import torch\n",
        "import torch.nn as nn\n",
        "import torch.nn.functional as F\n",
        "from torch.utils.data import DataLoader, random_split\n",
        "from torchvision import datasets, transforms\n",
        "import matplotlib.pyplot as plt\n",
        "import numpy as np\n",
        "from sklearn.metrics import confusion_matrix, classification_report\n",
        "import itertools\n",
        "import time\n",
        "import os\n",
        "import random\n",
        "\n",
        "SEED = 42 # he he 42\n",
        "torch.manual_seed(SEED)\n",
        "np.random.seed(SEED)\n",
        "random.seed(SEED)\n",
        "torch.backends.cudnn.deterministic = True\n",
        "torch.backends.cudnn.benchmark = False\n",
        "\n",
        "#tu zależnie od resource jakie macie na collabie - darmowe jest CPU, ale można sobie dokupić zasoby obliczeniowe\n",
        "device = torch.device(\"cpu\")\n"
      ]
    },
    {
      "cell_type": "markdown",
      "metadata": {
        "id": "kIJgKpjqHbdZ"
      },
      "source": [
        "### pobieranie danych i dataloadery"
      ]
    },
    {
      "cell_type": "code",
      "execution_count": 47,
      "metadata": {
        "id": "bMTee68VHdy3"
      },
      "outputs": [
        {
          "name": "stderr",
          "output_type": "stream",
          "text": [
            "100%|██████████| 9.91M/9.91M [00:01<00:00, 6.83MB/s]\n",
            "100%|██████████| 28.9k/28.9k [00:00<00:00, 256kB/s]\n",
            "100%|██████████| 1.65M/1.65M [00:00<00:00, 2.34MB/s]\n",
            "100%|██████████| 4.54k/4.54k [00:00<00:00, 3.95MB/s]\n"
          ]
        },
        {
          "data": {
            "text/plain": [
              "(55000, 5000, 10000)"
            ]
          },
          "execution_count": 47,
          "metadata": {},
          "output_type": "execute_result"
        }
      ],
      "source": [
        "# transformacje: tensory + normalizacja (średnia/odchylenie MNIST)\n",
        "transform = transforms.Compose([\n",
        "    transforms.ToTensor(),\n",
        "    transforms.Normalize((0.1307,), (0.3081,))\n",
        "])\n",
        "\n",
        "# pobranie danych (zapisze do folderu ./data)\n",
        "data_root = \"./data\"\n",
        "train_full = datasets.MNIST(root=data_root, train=True, download=True, transform=transform)\n",
        "test_ds    = datasets.MNIST(root=data_root, train=False, download=True, transform=transform)\n",
        "\n",
        "# podział danych na train/val\n",
        "val_size = 5000\n",
        "train_size = len(train_full) - val_size\n",
        "train_ds, val_ds = random_split(train_full, [train_size, val_size], generator=torch.Generator().manual_seed(SEED))\n",
        "\n",
        "BATCH_SIZE = 128 # można zmienić na mniejszy - jeśli nie będzie działać (out of memory error), to TRZEBA zmienić na mniejszy (16,32,64)\n",
        "train_loader = DataLoader(train_ds, batch_size=BATCH_SIZE, shuffle=True, num_workers=2, pin_memory=True)\n",
        "val_loader   = DataLoader(val_ds, batch_size=BATCH_SIZE, shuffle=False, num_workers=2, pin_memory=True)\n",
        "test_loader  = DataLoader(test_ds, batch_size=BATCH_SIZE, shuffle=False, num_workers=2, pin_memory=True)\n",
        "\n",
        "len(train_ds), len(val_ds), len(test_ds)"
      ]
    },
    {
      "cell_type": "markdown",
      "metadata": {
        "id": "0NX7vxU6Hzk9"
      },
      "source": [
        "### podgląd obrazów i etykiet"
      ]
    },
    {
      "cell_type": "code",
      "execution_count": 26,
      "metadata": {
        "id": "2adTZB9FHyT5"
      },
      "outputs": [
        {
          "data": {
            "image/png": "[encoded data removed]",
            "text/plain": [
              "<Figure size 1000x600 with 8 Axes>"
            ]
          },
          "metadata": {},
          "output_type": "display_data"
        }
      ],
      "source": [
        "images, labels = next(iter(train_loader))\n",
        "images = images[:8]\n",
        "labels = labels[:8]\n",
        "\n",
        "fig, axes = plt.subplots(1, len(images), figsize=(10, 6))\n",
        "for ax, img, lab in zip(axes, images, labels):\n",
        "    ax.imshow(img.squeeze().numpy(), cmap=\"gray\")\n",
        "    ax.set_title(f\"Label: {lab.item()}\")\n",
        "    ax.axis(\"off\")\n",
        "plt.show()"
      ]
    },
    {
      "cell_type": "markdown",
      "metadata": {
        "id": "KU6Jh70AGrg0"
      },
      "source": [
        "### prosty CNN"
      ]
    },
    {
      "cell_type": "code",
      "execution_count": 45,
      "metadata": {
        "id": "Ve6rvlFBGpxD"
      },
      "outputs": [],
      "source": [
        "class SimpleCNN(nn.Module):\n",
        "    def __init__(self, num_classes=10):\n",
        "        super().__init__()\n",
        "        # przypomnijcie sobie co każda warstwa robi i po co ona jest.\n",
        "        # tu uwaga przy zmianach cyferek - przypomnijcie sobie matematyczne obliczenie. Musi się zgadzać pomiędzy warstwami.\n",
        "        self.conv1 = nn.Conv2d(1, 32, kernel_size=3, padding=1)\n",
        "        self.conv2 = nn.Conv2d(32, 64, kernel_size=3, padding=1)\n",
        "        self.pool  = nn.MaxPool2d(2, 2)\n",
        "        # eksperymentujcie z wartościami\n",
        "        self.dropout = nn.Dropout(0.25)\n",
        "        self.fc1  = nn.Linear(64 * 7 * 7, 128)\n",
        "        self.fc2  = nn.Linear(128, num_classes)\n",
        "\n",
        "    def forward(self, x):\n",
        "      # przypomnij sobie czym jest f. aktywacji ReLU\n",
        "        x = self.pool(F.relu(self.conv1(x)))\n",
        "        x = self.pool(F.relu(self.conv2(x)))\n",
        "        x = self.dropout(x)\n",
        "        x = x.view(x.size(0), -1)\n",
        "        x = F.relu(self.fc1(x))\n",
        "        x = self.dropout(x)\n",
        "        x = self.fc2(x)\n",
        "        return x\n",
        "\n",
        "model = SimpleCNN().to(device)"
      ]
    },
    {
      "cell_type": "markdown",
      "metadata": {
        "id": "TZeTdh78G1K2"
      },
      "source": [
        "### pętla uczenia z walidacją"
      ]
    },
    {
      "cell_type": "code",
      "execution_count": 49,
      "metadata": {
        "id": "j73uHbLcG4OY"
      },
      "outputs": [
        {
          "name": "stdout",
          "output_type": "stream",
          "text": [
            "Ep 01/5 | train loss 0.0539 acc 0.9828 | val loss 0.0465 acc 0.9864\n",
            "Ep 02/5 | train loss 0.0410 acc 0.9867 | val loss 0.0379 acc 0.9890\n",
            "Ep 03/5 | train loss 0.0329 acc 0.9894 | val loss 0.0316 acc 0.9906\n",
            "Ep 04/5 | train loss 0.0314 acc 0.9899 | val loss 0.0298 acc 0.9902\n",
            "Ep 05/5 | train loss 0.0259 acc 0.9916 | val loss 0.0290 acc 0.9900\n",
            "Czas treningu: 223.3s\n"
          ]
        }
      ],
      "source": [
        "from torch.optim import Adam\n",
        "# jak puścicie tą komórkę i długo się będzie kręcić bez żadnego wyniku na dole to JEST TO NORMALNE\n",
        "# nie stresujemy się tylko czekamy....\n",
        "\n",
        "EPOCHS = 5\n",
        "lr = 1e-3\n",
        "optimizer = Adam(model.parameters(), lr=lr) # kim jest Adam?\n",
        "# czym jest cross entropy?\n",
        "criterion = nn.CrossEntropyLoss()\n",
        "\n",
        "def run_epoch(loader, train: bool):\n",
        "  # jak epochy wpływają na wynik?\n",
        "    epoch_loss, correct, total = 0.0, 0, 0\n",
        "    if train:\n",
        "        model.train()\n",
        "    else:\n",
        "        model.eval()\n",
        "    for xb, yb in loader:\n",
        "        xb, yb = xb.to(device, non_blocking=True), yb.to(device, non_blocking=True)\n",
        "        if train:\n",
        "            optimizer.zero_grad()\n",
        "        with torch.set_grad_enabled(train):\n",
        "            logits = model(xb)\n",
        "            loss = criterion(logits, yb)\n",
        "            if train:\n",
        "                loss.backward()\n",
        "                optimizer.step()\n",
        "        epoch_loss += loss.item() * xb.size(0)\n",
        "        preds = logits.argmax(1)\n",
        "        correct += (preds == yb).sum().item()\n",
        "        total += yb.size(0)\n",
        "    return epoch_loss / total, correct / total\n",
        "\n",
        "history = {\"train_loss\": [], \"train_acc\": [], \"val_loss\": [], \"val_acc\": []}\n",
        "start = time.time()\n",
        "for epoch in range(1, EPOCHS+1):\n",
        "    tr_loss, tr_acc = run_epoch(train_loader, train=True)\n",
        "    va_loss, va_acc = run_epoch(val_loader, train=False)\n",
        "    history[\"train_loss\"].append(tr_loss); history[\"train_acc\"].append(tr_acc)\n",
        "    history[\"val_loss\"].append(va_loss);   history[\"val_acc\"].append(va_acc)\n",
        "    print(f\"Ep {epoch:02d}/{EPOCHS} | train loss {tr_loss:.4f} acc {tr_acc:.4f} | val loss {va_loss:.4f} acc {va_acc:.4f}\")\n",
        "print(f\"Czas treningu: {time.time()-start:.1f}s\")\n"
      ]
    },
    {
      "cell_type": "markdown",
      "metadata": {
        "id": "vXycT9cGH4CX"
      },
      "source": [
        "### monitorowanie przebiegu uczenia"
      ]
    },
    {
      "cell_type": "code",
      "execution_count": 50,
      "metadata": {
        "id": "Z_LoJjziH9tb"
      },
      "outputs": [
        {
          "data": {
            "image/png": "[encoded data removed]",
            "text/plain": [
              "<Figure size 600x600 with 1 Axes>"
            ]
          },
          "metadata": {},
          "output_type": "display_data"
        },
        {
          "data": {
            "image/png": "[encoded data removed]",
            "text/plain": [
              "<Figure size 600x400 with 1 Axes>"
            ]
          },
          "metadata": {},
          "output_type": "display_data"
        }
      ],
      "source": [
        "plt.figure(figsize=(6,6))\n",
        "plt.plot(history[\"train_loss\"], label=\"train loss\")\n",
        "plt.plot(history[\"val_loss\"], label=\"val loss\")\n",
        "plt.xlabel(\"Epoka\")\n",
        "plt.ylabel(\"Strata\")\n",
        "plt.legend()\n",
        "plt.show()\n",
        "\n",
        "plt.figure(figsize=(6,4))\n",
        "plt.plot(history[\"train_acc\"], label=\"train acc\")\n",
        "plt.plot(history[\"val_acc\"], label=\"val acc\")\n",
        "plt.xlabel(\"Epoka\")\n",
        "plt.ylabel(\"Accuracy\")\n",
        "plt.legend()\n",
        "plt.show()"
      ]
    },
    {
      "cell_type": "markdown",
      "metadata": {
        "id": "aKOw5C2tH-pc"
      },
      "source": [
        "### ewaluacja"
      ]
    },
    {
      "cell_type": "code",
      "execution_count": 51,
      "metadata": {
        "id": "XEH5ybAbIA6G"
      },
      "outputs": [
        {
          "name": "stdout",
          "output_type": "stream",
          "text": [
            "Test accuracy: 0.9925\n"
          ]
        },
        {
          "data": {
            "image/png": "[encoded data removed]",
            "text/plain": [
              "<Figure size 600x600 with 2 Axes>"
            ]
          },
          "metadata": {},
          "output_type": "display_data"
        },
        {
          "name": "stdout",
          "output_type": "stream",
          "text": [
            "              precision    recall  f1-score   support\n",
            "\n",
            "           0     0.9849    0.9990    0.9919       980\n",
            "           1     0.9956    0.9991    0.9974      1135\n",
            "           2     0.9932    0.9922    0.9927      1032\n",
            "           3     0.9911    0.9960    0.9936      1010\n",
            "           4     0.9929    0.9980    0.9954       982\n",
            "           5     0.9921    0.9843    0.9882       892\n",
            "           6     0.9968    0.9875    0.9921       958\n",
            "           7     0.9874    0.9912    0.9893      1028\n",
            "           8     0.9959    0.9918    0.9938       974\n",
            "           9     0.9950    0.9841    0.9895      1009\n",
            "\n",
            "    accuracy                         0.9925     10000\n",
            "   macro avg     0.9925    0.9923    0.9924     10000\n",
            "weighted avg     0.9925    0.9925    0.9925     10000\n",
            "\n"
          ]
        }
      ],
      "source": [
        "# na teście\n",
        "# spróbujcie dopisać jakąś własną wizualizację wyników\n",
        "model.eval()\n",
        "all_preds, all_targets = [], []\n",
        "with torch.no_grad():\n",
        "    for xb, yb in test_loader:\n",
        "        xb = xb.to(device, non_blocking=True)\n",
        "        logits = model(xb)\n",
        "        preds = logits.argmax(1).cpu().numpy()\n",
        "        all_preds.append(preds)\n",
        "        all_targets.append(yb.numpy())\n",
        "\n",
        "y_pred = np.concatenate(all_preds)\n",
        "y_true = np.concatenate(all_targets)\n",
        "\n",
        "test_acc = (y_pred == y_true).mean()\n",
        "print(f\"Test accuracy: {test_acc:.4f}\")\n",
        "\n",
        "\n",
        "cm = confusion_matrix(y_true, y_pred)\n",
        "plt.figure(figsize=(6,6))\n",
        "plt.imshow(cm, interpolation='nearest')\n",
        "plt.title(\"Confusion Matrix (MNIST)\")\n",
        "plt.colorbar()\n",
        "tick_marks = np.arange(10)\n",
        "plt.xticks(tick_marks, tick_marks)\n",
        "plt.yticks(tick_marks, tick_marks)\n",
        "\n",
        "thresh = cm.max() / 2.0\n",
        "for i, j in itertools.product(range(cm.shape[0]), range(cm.shape[1])):\n",
        "    plt.text(j, i, format(cm[i, j], 'd'),\n",
        "             horizontalalignment=\"center\",\n",
        "             color=\"white\" if cm[i, j] > thresh else \"black\")\n",
        "\n",
        "plt.ylabel('Prawdziwa klasa')\n",
        "plt.xlabel('Predykcja')\n",
        "plt.tight_layout()\n",
        "plt.show()\n",
        "\n",
        "print(classification_report(y_true, y_pred, digits=4))"
      ]
    },
    {
      "cell_type": "markdown",
      "metadata": {
        "id": "lyKEiLaJIGZ1"
      },
      "source": [
        "### wizualizacje predykcji"
      ]
    },
    {
      "cell_type": "code",
      "execution_count": 52,
      "metadata": {
        "id": "WdX4eBB4IILh"
      },
      "outputs": [
        {
          "data": {
            "image/png": "[encoded data removed]",
            "text/plain": [
              "<Figure size 1200x250 with 8 Axes>"
            ]
          },
          "metadata": {},
          "output_type": "display_data"
        }
      ],
      "source": [
        "model.eval()\n",
        "images, labels = next(iter(test_loader))\n",
        "images, labels = images[:8], labels[:8]\n",
        "with torch.no_grad():\n",
        "    logits = model(images.to(device))\n",
        "preds = logits.argmax(1).cpu()\n",
        "\n",
        "fig, axes = plt.subplots(1, len(images), figsize=(12, 2.5))\n",
        "for ax, img, y, p in zip(axes, images, labels, preds):\n",
        "    ax.imshow(img.squeeze().numpy(), cmap=\"gray\")\n",
        "    ax.set_title(f\"y={y.item()} / p={int(p)}\")\n",
        "    ax.axis(\"off\")\n",
        "plt.show()"
      ]
    },
    {
      "cell_type": "markdown",
      "metadata": {
        "id": "eEPXq8JQIJHj"
      },
      "source": [
        "### zapis i ładowanie modelu"
      ]
    },
    {
      "cell_type": "code",
      "execution_count": 53,
      "metadata": {
        "id": "Ny89TwLMIMyJ"
      },
      "outputs": [
        {
          "name": "stdout",
          "output_type": "stream",
          "text": [
            "Model zapisany do: /home/fidok/Projects/WakacyjneWyzwanieSOLVRO_ML/ml-wakacyjne-wyzwanie-2025/3_nn&cv/mnist_cnn.pt\n"
          ]
        }
      ],
      "source": [
        "save_path = \"mnist_cnn.pt\"\n",
        "torch.save(model.state_dict(), save_path)\n",
        "print(f\"Model zapisany do: {os.path.abspath(save_path)}\")\n",
        "\n",
        "# do ładowania odkomentuj poniższe:\n",
        "# Ładowanie:\n",
        "# model = SimpleCNN().to(device)\n",
        "# model.load_state_dict(torch.load(save_path, map_location=device))\n",
        "# model.eval()"
      ]
    },
    {
      "cell_type": "markdown",
      "metadata": {
        "id": "LQfhPeWyHYoc"
      },
      "source": []
    }
  ],
  "metadata": {
    "colab": {
      "provenance": []
    },
    "kernelspec": {
      "display_name": "mnist-env",
      "language": "python",
      "name": "python3"
    },
    "language_info": {
      "codemirror_mode": {
        "name": "ipython",
        "version": 3
      },
      "file_extension": ".py",
      "mimetype": "text/x-python",
      "name": "python",
      "nbconvert_exporter": "python",
      "pygments_lexer": "ipython3",
      "version": "3.12.6"
    }
  },
  "nbformat": 4,
  "nbformat_minor": 0
}

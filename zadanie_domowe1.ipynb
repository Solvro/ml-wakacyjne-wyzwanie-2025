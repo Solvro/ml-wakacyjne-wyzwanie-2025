{
 "cells": [
  {
   "cell_type": "code",
   "execution_count": 161,
   "id": "feb09707",
   "metadata": {},
   "outputs": [],
   "source": [
    "import pandas as pd\n",
    "import numpy as np\n",
    "import matplotlib.pyplot as plt"
   ]
  },
  {
   "cell_type": "code",
   "execution_count": 162,
   "id": "b5d672de",
   "metadata": {},
   "outputs": [],
   "source": [
    "titanic_data = pd.read_csv('titanic.csv')"
   ]
  },
  {
   "cell_type": "code",
   "execution_count": 163,
   "id": "68e9e1cc",
   "metadata": {},
   "outputs": [
    {
     "data": {
      "text/html": [
       "<div>\n",
       "<style scoped>\n",
       "    .dataframe tbody tr th:only-of-type {\n",
       "        vertical-align: middle;\n",
       "    }\n",
       "\n",
       "    .dataframe tbody tr th {\n",
       "        vertical-align: top;\n",
       "    }\n",
       "\n",
       "    .dataframe thead th {\n",
       "        text-align: right;\n",
       "    }\n",
       "</style>\n",
       "<table border=\"1\" class=\"dataframe\">\n",
       "  <thead>\n",
       "    <tr style=\"text-align: right;\">\n",
       "      <th></th>\n",
       "      <th>PassengerId</th>\n",
       "      <th>Survived</th>\n",
       "      <th>Pclass</th>\n",
       "      <th>Name</th>\n",
       "      <th>Sex</th>\n",
       "      <th>Age</th>\n",
       "      <th>SibSp</th>\n",
       "      <th>Parch</th>\n",
       "      <th>Ticket</th>\n",
       "      <th>Fare</th>\n",
       "      <th>Cabin</th>\n",
       "      <th>Embarked</th>\n",
       "    </tr>\n",
       "  </thead>\n",
       "  <tbody>\n",
       "    <tr>\n",
       "      <th>0</th>\n",
       "      <td>1</td>\n",
       "      <td>0</td>\n",
       "      <td>3</td>\n",
       "      <td>Braund, Mr. Owen Harris</td>\n",
       "      <td>male</td>\n",
       "      <td>22.0</td>\n",
       "      <td>1</td>\n",
       "      <td>0</td>\n",
       "      <td>A/5 21171</td>\n",
       "      <td>7.2500</td>\n",
       "      <td>NaN</td>\n",
       "      <td>S</td>\n",
       "    </tr>\n",
       "    <tr>\n",
       "      <th>1</th>\n",
       "      <td>2</td>\n",
       "      <td>1</td>\n",
       "      <td>1</td>\n",
       "      <td>Cumings, Mrs. John Bradley (Florence Briggs Th...</td>\n",
       "      <td>female</td>\n",
       "      <td>38.0</td>\n",
       "      <td>1</td>\n",
       "      <td>0</td>\n",
       "      <td>PC 17599</td>\n",
       "      <td>71.2833</td>\n",
       "      <td>C85</td>\n",
       "      <td>C</td>\n",
       "    </tr>\n",
       "    <tr>\n",
       "      <th>2</th>\n",
       "      <td>3</td>\n",
       "      <td>1</td>\n",
       "      <td>3</td>\n",
       "      <td>Heikkinen, Miss. Laina</td>\n",
       "      <td>female</td>\n",
       "      <td>26.0</td>\n",
       "      <td>0</td>\n",
       "      <td>0</td>\n",
       "      <td>STON/O2. 3101282</td>\n",
       "      <td>7.9250</td>\n",
       "      <td>NaN</td>\n",
       "      <td>S</td>\n",
       "    </tr>\n",
       "    <tr>\n",
       "      <th>3</th>\n",
       "      <td>4</td>\n",
       "      <td>1</td>\n",
       "      <td>1</td>\n",
       "      <td>Futrelle, Mrs. Jacques Heath (Lily May Peel)</td>\n",
       "      <td>female</td>\n",
       "      <td>35.0</td>\n",
       "      <td>1</td>\n",
       "      <td>0</td>\n",
       "      <td>113803</td>\n",
       "      <td>53.1000</td>\n",
       "      <td>C123</td>\n",
       "      <td>S</td>\n",
       "    </tr>\n",
       "    <tr>\n",
       "      <th>4</th>\n",
       "      <td>5</td>\n",
       "      <td>0</td>\n",
       "      <td>3</td>\n",
       "      <td>Allen, Mr. William Henry</td>\n",
       "      <td>male</td>\n",
       "      <td>35.0</td>\n",
       "      <td>0</td>\n",
       "      <td>0</td>\n",
       "      <td>373450</td>\n",
       "      <td>8.0500</td>\n",
       "      <td>NaN</td>\n",
       "      <td>S</td>\n",
       "    </tr>\n",
       "  </tbody>\n",
       "</table>\n",
       "</div>"
      ],
      "text/plain": [
       "   PassengerId  Survived  Pclass  \\\n",
       "0            1         0       3   \n",
       "1            2         1       1   \n",
       "2            3         1       3   \n",
       "3            4         1       1   \n",
       "4            5         0       3   \n",
       "\n",
       "                                                Name     Sex   Age  SibSp  \\\n",
       "0                            Braund, Mr. Owen Harris    male  22.0      1   \n",
       "1  Cumings, Mrs. John Bradley (Florence Briggs Th...  female  38.0      1   \n",
       "2                             Heikkinen, Miss. Laina  female  26.0      0   \n",
       "3       Futrelle, Mrs. Jacques Heath (Lily May Peel)  female  35.0      1   \n",
       "4                           Allen, Mr. William Henry    male  35.0      0   \n",
       "\n",
       "   Parch            Ticket     Fare Cabin Embarked  \n",
       "0      0         A/5 21171   7.2500   NaN        S  \n",
       "1      0          PC 17599  71.2833   C85        C  \n",
       "2      0  STON/O2. 3101282   7.9250   NaN        S  \n",
       "3      0            113803  53.1000  C123        S  \n",
       "4      0            373450   8.0500   NaN        S  "
      ]
     },
     "execution_count": 163,
     "metadata": {},
     "output_type": "execute_result"
    }
   ],
   "source": [
    "titanic_data.head()"
   ]
  },
  {
   "cell_type": "markdown",
   "id": "780c7f65",
   "metadata": {},
   "source": [
    "Zacznijmy od tego, że kolumny takie jak : imię, nazwa biletu są zupełnie niepotrzebne - imię nie wpływa na przeżywalność podobnie jak nazwa biletu. Cena bilety jest bezpośrednio związana z klasą pasażera oraz numerem kabiny, dlatego tych dwóch rzeczy również się możemy pozbyć"
   ]
  },
  {
   "cell_type": "code",
   "execution_count": 164,
   "id": "cca99c73",
   "metadata": {},
   "outputs": [],
   "source": [
    "titanic_data = titanic_data.drop(['Name', 'Ticket', 'Cabin', 'Fare'], axis=1)\n"
   ]
  },
  {
   "cell_type": "markdown",
   "id": "fc4890ab",
   "metadata": {},
   "source": [
    "Zamienię 'male' i 'female' na binarną klasyfikację"
   ]
  },
  {
   "cell_type": "code",
   "execution_count": 165,
   "id": "01ad9904",
   "metadata": {},
   "outputs": [],
   "source": [
    "titanic_data['Sex'] = titanic_data['Sex'].map({'female': 0, 'male': 1})"
   ]
  },
  {
   "cell_type": "markdown",
   "id": "942243b4",
   "metadata": {},
   "source": [
    "Sprawdzanie brakujących danych"
   ]
  },
  {
   "cell_type": "code",
   "execution_count": 166,
   "id": "ceb1d33f",
   "metadata": {},
   "outputs": [],
   "source": [
    "def get_percentage_missing(df, axis):\n",
    "  missing_rows = df.isna().sum(axis=axis)\n",
    "  missing_rows_perc = np.round(missing_rows / df.shape[axis] * 100, 2)\n",
    "  return missing_rows_perc[missing_rows_perc > 0]"
   ]
  },
  {
   "cell_type": "code",
   "execution_count": 167,
   "id": "e607d4d0",
   "metadata": {},
   "outputs": [
    {
     "data": {
      "text/plain": [
       "Age         19.87\n",
       "Embarked     0.22\n",
       "dtype: float64"
      ]
     },
     "execution_count": 167,
     "metadata": {},
     "output_type": "execute_result"
    }
   ],
   "source": [
    "missing_cols_mi = get_percentage_missing(titanic_data, axis=0)\n",
    "missing_cols_mi"
   ]
  },
  {
   "cell_type": "markdown",
   "id": "11649991",
   "metadata": {},
   "source": [
    "Zauważyłem, że dużo wierszów z wiekiem jest nieuzupelnionych"
   ]
  },
  {
   "cell_type": "code",
   "execution_count": 168,
   "id": "835463f4",
   "metadata": {},
   "outputs": [
    {
     "data": {
      "text/plain": [
       "PassengerId    889\n",
       "Survived         0\n",
       "Pclass           3\n",
       "Sex              0\n",
       "Age            NaN\n",
       "SibSp            1\n",
       "Parch            2\n",
       "Embarked         S\n",
       "Name: 888, dtype: object"
      ]
     },
     "execution_count": 168,
     "metadata": {},
     "output_type": "execute_result"
    }
   ],
   "source": [
    "titanic_data.loc[888]"
   ]
  },
  {
   "cell_type": "markdown",
   "id": "c61f2d67",
   "metadata": {},
   "source": [
    "Wyświetliłem przykładowy wiersz z NaN w wieku"
   ]
  },
  {
   "cell_type": "markdown",
   "id": "5a3a02c8",
   "metadata": {},
   "source": [
    "Mam teorię - jeżeli ludzie przeżyli katastrofę, to napewno ktoś ich potem wypytał o wiek, w takim razie braki w tych danych powinny świadczyć o śmierci pasażera. Sprawdźmy to dokładnie"
   ]
  },
  {
   "cell_type": "code",
   "execution_count": 169,
   "id": "8a5687d1",
   "metadata": {},
   "outputs": [
    {
     "name": "stdout",
     "output_type": "stream",
     "text": [
      "Bez wieku - razem: 177\n",
      "Bez wieku - zginęli: 125\n",
      "Bez wieku - przeżyli: 52\n"
     ]
    }
   ],
   "source": [
    "no_age_total = titanic_data['Age'].isna().sum() \n",
    "no_age_died = titanic_data[(titanic_data['Age'].isna()) & (titanic_data['Survived']==0)].shape[0]\n",
    "no_age_survived = titanic_data[(titanic_data['Age'].isna()) & (titanic_data['Survived']==1)].shape[0] \n",
    "\n",
    "print(f\"Bez wieku - razem: {no_age_total}\")\n",
    "print(f\"Bez wieku - zginęli: {no_age_died}\") \n",
    "print(f\"Bez wieku - przeżyli: {no_age_survived}\")"
   ]
  },
  {
   "cell_type": "markdown",
   "id": "120eb7f9",
   "metadata": {},
   "source": [
    "Widzimy, że nasza teoria, w części się sprawdza, zwizualizujmy sobie te danę, aby zobaczyć co robić dalej"
   ]
  },
  {
   "cell_type": "code",
   "execution_count": 170,
   "id": "09b19a8c",
   "metadata": {},
   "outputs": [
    {
     "data": {
      "image/png": "[encoded data removed]",
      "text/plain": [
       "<Figure size 640x480 with 1 Axes>"
      ]
     },
     "metadata": {},
     "output_type": "display_data"
    }
   ],
   "source": [
    "age_counts = titanic_data['Age'].value_counts().sort_index()\n",
    "\n",
    "plt.plot(age_counts.index, age_counts.values)\n",
    "plt.xlabel('Age')\n",
    "plt.ylabel('Count')\n",
    "plt.show()"
   ]
  },
  {
   "cell_type": "markdown",
   "id": "c701a4ab",
   "metadata": {},
   "source": [
    "Wykres jest asymetryczny - mając to na uwadzę, kusi, aby uzupełnić brakujące wartości medianą wieku, ale to nie było by dobre rozwiązanie, wrocę do tego później"
   ]
  },
  {
   "cell_type": "markdown",
   "id": "ce7ae39d",
   "metadata": {},
   "source": [
    "Dane dla róznych miejsc wsiadania"
   ]
  },
  {
   "cell_type": "code",
   "execution_count": 171,
   "id": "5fbd723a",
   "metadata": {},
   "outputs": [],
   "source": [
    "C_data = titanic_data[titanic_data['Embarked']=='C']\n",
    "S_data = titanic_data[titanic_data['Embarked']=='S']\n",
    "Q_data = titanic_data[titanic_data['Embarked']=='Q']"
   ]
  },
  {
   "cell_type": "code",
   "execution_count": 172,
   "id": "c48980e9",
   "metadata": {},
   "outputs": [
    {
     "data": {
      "text/plain": [
       "<matplotlib.legend.Legend at 0x1e57c1c0e00>"
      ]
     },
     "execution_count": 172,
     "metadata": {},
     "output_type": "execute_result"
    },
    {
     "data": {
      "image/png": "[encoded data removed]",
      "text/plain": [
       "<Figure size 2000x1500 with 1 Axes>"
      ]
     },
     "metadata": {},
     "output_type": "display_data"
    }
   ],
   "source": [
    "plt.figure(figsize=(20, 15))\n",
    "plt.subplot(2, 3, 2)\n",
    "    \n",
    "# Przygotowanie danych\n",
    "ports = ['C', 'S', 'Q']\n",
    "zmarli = [len(C_data) - C_data['Survived'].sum(),\n",
    "        len(S_data) - S_data['Survived'].sum(), \n",
    "        len(Q_data) - Q_data['Survived'].sum()]\n",
    "ocalali = [C_data['Survived'].sum(),\n",
    "        S_data['Survived'].sum(),\n",
    "        Q_data['Survived'].sum()]\n",
    "\n",
    "x = np.arange(len(ports))\n",
    "width = 0.35\n",
    "\n",
    "plt.bar(x - width/2, zmarli, width, label='Zmarli', color='red', alpha=0.7)\n",
    "plt.bar(x + width/2, ocalali, width, label='Ocalali', color='green', alpha=0.7)\n",
    "\n",
    "plt.title('Przezywalność na podstawie portów startowych pasażerów')\n",
    "plt.xlabel('Port wsiadania')\n",
    "plt.ylabel('Liczba pasażerów')\n",
    "plt.xticks(x, ['Cherbourg (C)', 'Southampton (S)', 'Queenstown (Q)'])\n",
    "plt.legend()"
   ]
  },
  {
   "cell_type": "code",
   "execution_count": 173,
   "id": "27bcd55c",
   "metadata": {},
   "outputs": [
    {
     "data": {
      "text/plain": [
       "<matplotlib.legend.Legend at 0x1e57c7023f0>"
      ]
     },
     "execution_count": 173,
     "metadata": {},
     "output_type": "execute_result"
    },
    {
     "data": {
      "image/png": "[encoded data removed]",
      "text/plain": [
       "<Figure size 2000x1500 with 1 Axes>"
      ]
     },
     "metadata": {},
     "output_type": "display_data"
    }
   ],
   "source": [
    "plt.figure(figsize=(20, 15))\n",
    "plt.subplot(2, 3, 2)\n",
    "\n",
    "# Przygotowanie danych dla każdej klasy\n",
    "class1_data = titanic_data[titanic_data['Pclass'] == 1]\n",
    "class2_data = titanic_data[titanic_data['Pclass'] == 2]\n",
    "class3_data = titanic_data[titanic_data['Pclass'] == 3]\n",
    "\n",
    "# Przygotowanie danych\n",
    "classes = ['1', '2', '3']\n",
    "zmarli = [len(class1_data) - class1_data['Survived'].sum(),\n",
    "          len(class2_data) - class2_data['Survived'].sum(), \n",
    "          len(class3_data) - class3_data['Survived'].sum()]\n",
    "ocalali = [class1_data['Survived'].sum(),\n",
    "           class2_data['Survived'].sum(),\n",
    "           class3_data['Survived'].sum()]\n",
    "\n",
    "x = np.arange(len(classes))\n",
    "width = 0.35\n",
    "\n",
    "plt.bar(x - width/2, zmarli, width, label='Zmarli', color='red', alpha=0.7)\n",
    "plt.bar(x + width/2, ocalali, width, label='Ocalali', color='green', alpha=0.7)\n",
    "\n",
    "plt.title('Przeżywalność na podstawie klasy pasażerów')\n",
    "plt.xlabel('Klasa pasażera')\n",
    "plt.ylabel('Liczba pasażerów')\n",
    "plt.xticks(x, ['Pierwsza (1)', 'Druga (2)', 'Trzecia (3)'])\n",
    "plt.legend()"
   ]
  },
  {
   "cell_type": "code",
   "execution_count": 174,
   "id": "1bd285de",
   "metadata": {},
   "outputs": [
    {
     "data": {
      "text/plain": [
       "<matplotlib.legend.Legend at 0x1e57c24a030>"
      ]
     },
     "execution_count": 174,
     "metadata": {},
     "output_type": "execute_result"
    },
    {
     "data": {
      "image/png": "[encoded data removed]",
      "text/plain": [
       "<Figure size 2000x1500 with 1 Axes>"
      ]
     },
     "metadata": {},
     "output_type": "display_data"
    }
   ],
   "source": [
    "plt.figure(figsize=(20, 15))\n",
    "plt.subplot(2, 3, 2)\n",
    "\n",
    "female_data = titanic_data[titanic_data['Sex'] == 0]\n",
    "male_data = titanic_data[titanic_data['Sex'] == 1]\n",
    "\n",
    "# Przygotowanie danych\n",
    "classes = ['1', '2']\n",
    "zmarli = [len(female_data) - female_data['Survived'].sum(),\n",
    "          len(male_data) - male_data['Survived'].sum()]\n",
    "ocalali = [female_data['Survived'].sum(),\n",
    "           male_data['Survived'].sum()]\n",
    "\n",
    "x = np.arange(len(classes))\n",
    "width = 0.35\n",
    "\n",
    "plt.bar(x - width/2, zmarli, width, label='Zmarli', color='red', alpha=0.7)\n",
    "plt.bar(x + width/2, ocalali, width, label='Ocalali', color='green', alpha=0.7)\n",
    "\n",
    "plt.title('Przeżywalność na podstawie płci pasażerów')\n",
    "plt.xlabel('Płeć pasażera')\n",
    "plt.ylabel('Liczba pasażerów')\n",
    "plt.xticks(x, ['Kobiety', 'Męzczyźni'])\n",
    "plt.legend()"
   ]
  },
  {
   "cell_type": "markdown",
   "id": "3f963a4e",
   "metadata": {},
   "source": [
    "Uzupełniam wiek na podstawie mediany w grupach"
   ]
  },
  {
   "cell_type": "code",
   "execution_count": 175,
   "id": "ae8aa523",
   "metadata": {},
   "outputs": [],
   "source": [
    "titanic_data['Age'] = titanic_data.groupby(['Pclass', 'Sex'])['Age'].transform(\n",
    "    lambda x: x.fillna(x.median())\n",
    ")"
   ]
  },
  {
   "cell_type": "code",
   "execution_count": 176,
   "id": "67feace4",
   "metadata": {},
   "outputs": [
    {
     "data": {
      "text/html": [
       "<div>\n",
       "<style scoped>\n",
       "    .dataframe tbody tr th:only-of-type {\n",
       "        vertical-align: middle;\n",
       "    }\n",
       "\n",
       "    .dataframe tbody tr th {\n",
       "        vertical-align: top;\n",
       "    }\n",
       "\n",
       "    .dataframe thead th {\n",
       "        text-align: right;\n",
       "    }\n",
       "</style>\n",
       "<table border=\"1\" class=\"dataframe\">\n",
       "  <thead>\n",
       "    <tr style=\"text-align: right;\">\n",
       "      <th></th>\n",
       "      <th>PassengerId</th>\n",
       "      <th>Survived</th>\n",
       "      <th>Pclass</th>\n",
       "      <th>Sex</th>\n",
       "      <th>Age</th>\n",
       "      <th>SibSp</th>\n",
       "      <th>Parch</th>\n",
       "      <th>Embarked</th>\n",
       "    </tr>\n",
       "  </thead>\n",
       "  <tbody>\n",
       "    <tr>\n",
       "      <th>0</th>\n",
       "      <td>1</td>\n",
       "      <td>0</td>\n",
       "      <td>3</td>\n",
       "      <td>1</td>\n",
       "      <td>22.0</td>\n",
       "      <td>1</td>\n",
       "      <td>0</td>\n",
       "      <td>S</td>\n",
       "    </tr>\n",
       "    <tr>\n",
       "      <th>1</th>\n",
       "      <td>2</td>\n",
       "      <td>1</td>\n",
       "      <td>1</td>\n",
       "      <td>0</td>\n",
       "      <td>38.0</td>\n",
       "      <td>1</td>\n",
       "      <td>0</td>\n",
       "      <td>C</td>\n",
       "    </tr>\n",
       "    <tr>\n",
       "      <th>2</th>\n",
       "      <td>3</td>\n",
       "      <td>1</td>\n",
       "      <td>3</td>\n",
       "      <td>0</td>\n",
       "      <td>26.0</td>\n",
       "      <td>0</td>\n",
       "      <td>0</td>\n",
       "      <td>S</td>\n",
       "    </tr>\n",
       "    <tr>\n",
       "      <th>3</th>\n",
       "      <td>4</td>\n",
       "      <td>1</td>\n",
       "      <td>1</td>\n",
       "      <td>0</td>\n",
       "      <td>35.0</td>\n",
       "      <td>1</td>\n",
       "      <td>0</td>\n",
       "      <td>S</td>\n",
       "    </tr>\n",
       "    <tr>\n",
       "      <th>4</th>\n",
       "      <td>5</td>\n",
       "      <td>0</td>\n",
       "      <td>3</td>\n",
       "      <td>1</td>\n",
       "      <td>35.0</td>\n",
       "      <td>0</td>\n",
       "      <td>0</td>\n",
       "      <td>S</td>\n",
       "    </tr>\n",
       "    <tr>\n",
       "      <th>...</th>\n",
       "      <td>...</td>\n",
       "      <td>...</td>\n",
       "      <td>...</td>\n",
       "      <td>...</td>\n",
       "      <td>...</td>\n",
       "      <td>...</td>\n",
       "      <td>...</td>\n",
       "      <td>...</td>\n",
       "    </tr>\n",
       "    <tr>\n",
       "      <th>886</th>\n",
       "      <td>887</td>\n",
       "      <td>0</td>\n",
       "      <td>2</td>\n",
       "      <td>1</td>\n",
       "      <td>27.0</td>\n",
       "      <td>0</td>\n",
       "      <td>0</td>\n",
       "      <td>S</td>\n",
       "    </tr>\n",
       "    <tr>\n",
       "      <th>887</th>\n",
       "      <td>888</td>\n",
       "      <td>1</td>\n",
       "      <td>1</td>\n",
       "      <td>0</td>\n",
       "      <td>19.0</td>\n",
       "      <td>0</td>\n",
       "      <td>0</td>\n",
       "      <td>S</td>\n",
       "    </tr>\n",
       "    <tr>\n",
       "      <th>888</th>\n",
       "      <td>889</td>\n",
       "      <td>0</td>\n",
       "      <td>3</td>\n",
       "      <td>0</td>\n",
       "      <td>21.5</td>\n",
       "      <td>1</td>\n",
       "      <td>2</td>\n",
       "      <td>S</td>\n",
       "    </tr>\n",
       "    <tr>\n",
       "      <th>889</th>\n",
       "      <td>890</td>\n",
       "      <td>1</td>\n",
       "      <td>1</td>\n",
       "      <td>1</td>\n",
       "      <td>26.0</td>\n",
       "      <td>0</td>\n",
       "      <td>0</td>\n",
       "      <td>C</td>\n",
       "    </tr>\n",
       "    <tr>\n",
       "      <th>890</th>\n",
       "      <td>891</td>\n",
       "      <td>0</td>\n",
       "      <td>3</td>\n",
       "      <td>1</td>\n",
       "      <td>32.0</td>\n",
       "      <td>0</td>\n",
       "      <td>0</td>\n",
       "      <td>Q</td>\n",
       "    </tr>\n",
       "  </tbody>\n",
       "</table>\n",
       "<p>891 rows × 8 columns</p>\n",
       "</div>"
      ],
      "text/plain": [
       "     PassengerId  Survived  Pclass  Sex   Age  SibSp  Parch Embarked\n",
       "0              1         0       3    1  22.0      1      0        S\n",
       "1              2         1       1    0  38.0      1      0        C\n",
       "2              3         1       3    0  26.0      0      0        S\n",
       "3              4         1       1    0  35.0      1      0        S\n",
       "4              5         0       3    1  35.0      0      0        S\n",
       "..           ...       ...     ...  ...   ...    ...    ...      ...\n",
       "886          887         0       2    1  27.0      0      0        S\n",
       "887          888         1       1    0  19.0      0      0        S\n",
       "888          889         0       3    0  21.5      1      2        S\n",
       "889          890         1       1    1  26.0      0      0        C\n",
       "890          891         0       3    1  32.0      0      0        Q\n",
       "\n",
       "[891 rows x 8 columns]"
      ]
     },
     "execution_count": 176,
     "metadata": {},
     "output_type": "execute_result"
    }
   ],
   "source": [
    "titanic_data"
   ]
  },
  {
   "cell_type": "code",
   "execution_count": 177,
   "id": "9cde72b0",
   "metadata": {},
   "outputs": [
    {
     "data": {
      "text/plain": [
       "Embarked    0.22\n",
       "dtype: float64"
      ]
     },
     "execution_count": 177,
     "metadata": {},
     "output_type": "execute_result"
    }
   ],
   "source": [
    "missing_cols_mi = get_percentage_missing(titanic_data, axis=0)\n",
    "missing_cols_mi"
   ]
  },
  {
   "cell_type": "markdown",
   "id": "7f36859f",
   "metadata": {},
   "source": [
    "Jest to bardzo nie wielki wynik, dlaego po prostu uzupłenię te wartości najczęściej wystepujym elemetnem"
   ]
  },
  {
   "cell_type": "code",
   "execution_count": 178,
   "id": "dc1b1746",
   "metadata": {},
   "outputs": [],
   "source": [
    "titanic_data['Embarked'] = titanic_data['Embarked'].fillna(titanic_data['Embarked'].mode()[0])"
   ]
  },
  {
   "cell_type": "code",
   "execution_count": 179,
   "id": "57be433e",
   "metadata": {},
   "outputs": [
    {
     "data": {
      "text/plain": [
       "Series([], dtype: float64)"
      ]
     },
     "execution_count": 179,
     "metadata": {},
     "output_type": "execute_result"
    }
   ],
   "source": [
    "missing_cols_mi = get_percentage_missing(titanic_data, axis=0)\n",
    "missing_cols_mi"
   ]
  },
  {
   "cell_type": "code",
   "execution_count": 180,
   "id": "0aa0d840",
   "metadata": {},
   "outputs": [],
   "source": [
    "titanic_data['Embarked'] = titanic_data['Embarked'].map({'S': 0, 'C': 1, 'Q': 2})"
   ]
  },
  {
   "cell_type": "markdown",
   "id": "7fd7dcb5",
   "metadata": {},
   "source": [
    "Dodanie nowych cech związanych z rodziną"
   ]
  },
  {
   "cell_type": "code",
   "execution_count": 181,
   "id": "8e86a034",
   "metadata": {},
   "outputs": [],
   "source": [
    "titanic_data['FamilySize'] = titanic_data['SibSp'] + titanic_data['Parch'] + 1\n",
    "titanic_data['IsAlone'] = (titanic_data['FamilySize'] == 1).astype(int)"
   ]
  },
  {
   "cell_type": "markdown",
   "id": "a9a0be3e",
   "metadata": {},
   "source": [
    "Są to istotne sprawy - ktoś bez rodziny może skupić się na ratowaniu tylko siebie nawzajem"
   ]
  },
  {
   "cell_type": "code",
   "execution_count": 182,
   "id": "b3815bd4",
   "metadata": {},
   "outputs": [
    {
     "data": {
      "text/plain": [
       "<matplotlib.legend.Legend at 0x1e57cab1f70>"
      ]
     },
     "execution_count": 182,
     "metadata": {},
     "output_type": "execute_result"
    },
    {
     "data": {
      "image/png": "[encoded data removed]",
      "text/plain": [
       "<Figure size 2000x1500 with 1 Axes>"
      ]
     },
     "metadata": {},
     "output_type": "display_data"
    }
   ],
   "source": [
    "plt.figure(figsize=(20, 15))\n",
    "plt.subplot(2, 3, 2)\n",
    "\n",
    "family_sizes = sorted(titanic_data['FamilySize'].unique())\n",
    "zmarli = []\n",
    "ocalali = []\n",
    "\n",
    "for size in family_sizes:\n",
    "    family_data = titanic_data[titanic_data['FamilySize'] == size]\n",
    "    zmarli.append(len(family_data) - family_data['Survived'].sum())\n",
    "    ocalali.append(family_data['Survived'].sum())\n",
    "\n",
    "x = np.arange(len(family_sizes))\n",
    "width = 0.35\n",
    "\n",
    "plt.bar(x - width/2, zmarli, width, label='Zmarli', color='red', alpha=0.7)\n",
    "plt.bar(x + width/2, ocalali, width, label='Ocalali', color='green', alpha=0.7)\n",
    "\n",
    "plt.title('Przeżywalność na podstawie rozmiaru rodziny')\n",
    "plt.xlabel('Rozmiar rodziny (liczba członków)')\n",
    "plt.ylabel('Liczba pasażerów')\n",
    "plt.xticks(x, family_sizes)\n",
    "plt.legend()"
   ]
  },
  {
   "cell_type": "code",
   "execution_count": 183,
   "id": "b86b60e7",
   "metadata": {},
   "outputs": [],
   "source": [
    "titanic_data = titanic_data.drop(['PassengerId','SibSp', 'Parch'], axis=1)"
   ]
  },
  {
   "cell_type": "code",
   "execution_count": 184,
   "id": "53e4b437",
   "metadata": {},
   "outputs": [
    {
     "data": {
      "text/html": [
       "<div>\n",
       "<style scoped>\n",
       "    .dataframe tbody tr th:only-of-type {\n",
       "        vertical-align: middle;\n",
       "    }\n",
       "\n",
       "    .dataframe tbody tr th {\n",
       "        vertical-align: top;\n",
       "    }\n",
       "\n",
       "    .dataframe thead th {\n",
       "        text-align: right;\n",
       "    }\n",
       "</style>\n",
       "<table border=\"1\" class=\"dataframe\">\n",
       "  <thead>\n",
       "    <tr style=\"text-align: right;\">\n",
       "      <th></th>\n",
       "      <th>Survived</th>\n",
       "      <th>Pclass</th>\n",
       "      <th>Sex</th>\n",
       "      <th>Age</th>\n",
       "      <th>Embarked</th>\n",
       "      <th>FamilySize</th>\n",
       "      <th>IsAlone</th>\n",
       "    </tr>\n",
       "  </thead>\n",
       "  <tbody>\n",
       "    <tr>\n",
       "      <th>0</th>\n",
       "      <td>0</td>\n",
       "      <td>3</td>\n",
       "      <td>1</td>\n",
       "      <td>22.0</td>\n",
       "      <td>0</td>\n",
       "      <td>2</td>\n",
       "      <td>0</td>\n",
       "    </tr>\n",
       "    <tr>\n",
       "      <th>1</th>\n",
       "      <td>1</td>\n",
       "      <td>1</td>\n",
       "      <td>0</td>\n",
       "      <td>38.0</td>\n",
       "      <td>1</td>\n",
       "      <td>2</td>\n",
       "      <td>0</td>\n",
       "    </tr>\n",
       "    <tr>\n",
       "      <th>2</th>\n",
       "      <td>1</td>\n",
       "      <td>3</td>\n",
       "      <td>0</td>\n",
       "      <td>26.0</td>\n",
       "      <td>0</td>\n",
       "      <td>1</td>\n",
       "      <td>1</td>\n",
       "    </tr>\n",
       "    <tr>\n",
       "      <th>3</th>\n",
       "      <td>1</td>\n",
       "      <td>1</td>\n",
       "      <td>0</td>\n",
       "      <td>35.0</td>\n",
       "      <td>0</td>\n",
       "      <td>2</td>\n",
       "      <td>0</td>\n",
       "    </tr>\n",
       "    <tr>\n",
       "      <th>4</th>\n",
       "      <td>0</td>\n",
       "      <td>3</td>\n",
       "      <td>1</td>\n",
       "      <td>35.0</td>\n",
       "      <td>0</td>\n",
       "      <td>1</td>\n",
       "      <td>1</td>\n",
       "    </tr>\n",
       "    <tr>\n",
       "      <th>...</th>\n",
       "      <td>...</td>\n",
       "      <td>...</td>\n",
       "      <td>...</td>\n",
       "      <td>...</td>\n",
       "      <td>...</td>\n",
       "      <td>...</td>\n",
       "      <td>...</td>\n",
       "    </tr>\n",
       "    <tr>\n",
       "      <th>886</th>\n",
       "      <td>0</td>\n",
       "      <td>2</td>\n",
       "      <td>1</td>\n",
       "      <td>27.0</td>\n",
       "      <td>0</td>\n",
       "      <td>1</td>\n",
       "      <td>1</td>\n",
       "    </tr>\n",
       "    <tr>\n",
       "      <th>887</th>\n",
       "      <td>1</td>\n",
       "      <td>1</td>\n",
       "      <td>0</td>\n",
       "      <td>19.0</td>\n",
       "      <td>0</td>\n",
       "      <td>1</td>\n",
       "      <td>1</td>\n",
       "    </tr>\n",
       "    <tr>\n",
       "      <th>888</th>\n",
       "      <td>0</td>\n",
       "      <td>3</td>\n",
       "      <td>0</td>\n",
       "      <td>21.5</td>\n",
       "      <td>0</td>\n",
       "      <td>4</td>\n",
       "      <td>0</td>\n",
       "    </tr>\n",
       "    <tr>\n",
       "      <th>889</th>\n",
       "      <td>1</td>\n",
       "      <td>1</td>\n",
       "      <td>1</td>\n",
       "      <td>26.0</td>\n",
       "      <td>1</td>\n",
       "      <td>1</td>\n",
       "      <td>1</td>\n",
       "    </tr>\n",
       "    <tr>\n",
       "      <th>890</th>\n",
       "      <td>0</td>\n",
       "      <td>3</td>\n",
       "      <td>1</td>\n",
       "      <td>32.0</td>\n",
       "      <td>2</td>\n",
       "      <td>1</td>\n",
       "      <td>1</td>\n",
       "    </tr>\n",
       "  </tbody>\n",
       "</table>\n",
       "<p>891 rows × 7 columns</p>\n",
       "</div>"
      ],
      "text/plain": [
       "     Survived  Pclass  Sex   Age  Embarked  FamilySize  IsAlone\n",
       "0           0       3    1  22.0         0           2        0\n",
       "1           1       1    0  38.0         1           2        0\n",
       "2           1       3    0  26.0         0           1        1\n",
       "3           1       1    0  35.0         0           2        0\n",
       "4           0       3    1  35.0         0           1        1\n",
       "..        ...     ...  ...   ...       ...         ...      ...\n",
       "886         0       2    1  27.0         0           1        1\n",
       "887         1       1    0  19.0         0           1        1\n",
       "888         0       3    0  21.5         0           4        0\n",
       "889         1       1    1  26.0         1           1        1\n",
       "890         0       3    1  32.0         2           1        1\n",
       "\n",
       "[891 rows x 7 columns]"
      ]
     },
     "execution_count": 184,
     "metadata": {},
     "output_type": "execute_result"
    }
   ],
   "source": [
    "titanic_data"
   ]
  },
  {
   "cell_type": "markdown",
   "id": "f6bccb92",
   "metadata": {},
   "source": [
    "Dane są przygotowanie do treneowania - nie ma zadnych brakującyh wartości i wszystkie wartości są numeryczne"
   ]
  }
 ],
 "metadata": {
  "kernelspec": {
   "display_name": "Python 3",
   "language": "python",
   "name": "python3"
  },
  "language_info": {
   "codemirror_mode": {
    "name": "ipython",
    "version": 3
   },
   "file_extension": ".py",
   "mimetype": "text/x-python",
   "name": "python",
   "nbconvert_exporter": "python",
   "pygments_lexer": "ipython3",
   "version": "3.12.8"
  }
 },
 "nbformat": 4,
 "nbformat_minor": 5
}
